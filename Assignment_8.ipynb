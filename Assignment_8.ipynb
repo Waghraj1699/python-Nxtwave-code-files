{
  "nbformat": 4,
  "nbformat_minor": 0,
  "metadata": {
    "colab": {
      "provenance": []
    },
    "kernelspec": {
      "name": "python3",
      "display_name": "Python 3"
    },
    "language_info": {
      "name": "python"
    }
  },
  "cells": [
    {
      "cell_type": "code",
      "execution_count": 9,
      "metadata": {
        "colab": {
          "base_uri": "https://localhost:8080/"
        },
        "id": "0GavrcoyljsN",
        "outputId": "19d2a374-96c2-41f5-e2b2-0a46d9f765d1"
      },
      "outputs": [
        {
          "output_type": "stream",
          "name": "stdout",
          "text": [
            "5\n",
            "3\n",
            "1 1 1 \n",
            "2 2 2 \n",
            "3 3 3 \n",
            "4 4 4 \n",
            "5 5 5 \n"
          ]
        }
      ],
      "source": [
        "# Rectangle - 3\n",
        "\n",
        "m = int(input())\n",
        "n = int(input())\n",
        "\n",
        "for i in range(1 , m + 1):\n",
        "    row = str(i) + \" \"\n",
        "    print(row * n)"
      ]
    },
    {
      "cell_type": "code",
      "source": [
        "# print from 0 to N\n",
        "\n",
        "n = int(input())\n",
        "\n",
        "for i in range(0 , n + 1):\n",
        "    print(i)"
      ],
      "metadata": {
        "colab": {
          "base_uri": "https://localhost:8080/"
        },
        "id": "5fby47d2l4D1",
        "outputId": "81bce7ae-cebc-4aba-e20d-10e67e99ec55"
      },
      "execution_count": 8,
      "outputs": [
        {
          "output_type": "stream",
          "name": "stdout",
          "text": [
            "5\n",
            "0\n",
            "1\n",
            "2\n",
            "3\n",
            "4\n",
            "5\n"
          ]
        }
      ]
    },
    {
      "cell_type": "code",
      "source": [
        "# Avg of N Inputs\n",
        "\n",
        "n = int(input())\n",
        "\n",
        "sum = 0\n",
        "for i in range(n):\n",
        "    m = int(input())\n",
        "    sum = sum + m\n",
        "\n",
        "avg = sum / n\n",
        "print(avg)"
      ],
      "metadata": {
        "colab": {
          "base_uri": "https://localhost:8080/"
        },
        "id": "UCtvnecAl-dH",
        "outputId": "d9e18936-ad5d-4a3e-ac69-0da04bf5c7dc"
      },
      "execution_count": 7,
      "outputs": [
        {
          "output_type": "stream",
          "name": "stdout",
          "text": [
            "1\n",
            "2\n",
            "2.0\n"
          ]
        }
      ]
    },
    {
      "cell_type": "code",
      "source": [
        "# Right angled Triangle - 4\n",
        "\n",
        "n = int(input())\n",
        "\n",
        "for i in range(2):\n",
        "    for j in range(1 , n + 1):\n",
        "        row = \"* \"\n",
        "        print(row * j)\n",
        ""
      ],
      "metadata": {
        "colab": {
          "base_uri": "https://localhost:8080/"
        },
        "id": "LRpbkmI3mCTQ",
        "outputId": "7063c42a-9314-49d1-d274-93f04edb00f3"
      },
      "execution_count": 6,
      "outputs": [
        {
          "output_type": "stream",
          "name": "stdout",
          "text": [
            "5\n",
            "* \n",
            "* * \n",
            "* * * \n",
            "* * * * \n",
            "* * * * * \n",
            "* \n",
            "* * \n",
            "* * * \n",
            "* * * * \n",
            "* * * * * \n"
          ]
        }
      ]
    },
    {
      "cell_type": "code",
      "source": [
        "# Product of the numbers from M to N\n",
        "\n",
        "m = int(input())\n",
        "n = int(input())\n",
        "product = 1\n",
        "for i in range(m , n + 1):\n",
        "    product = product * i\n",
        "\n",
        "print(product)"
      ],
      "metadata": {
        "colab": {
          "base_uri": "https://localhost:8080/"
        },
        "id": "Y9mMeTWdmH2t",
        "outputId": "816ef6f2-00b7-4495-faa4-528a04063e8b"
      },
      "execution_count": 5,
      "outputs": [
        {
          "output_type": "stream",
          "name": "stdout",
          "text": [
            "5\n",
            "7\n",
            "210\n"
          ]
        }
      ]
    },
    {
      "cell_type": "code",
      "source": [
        "# Sum of N squares\n",
        "\n",
        "n = int(input())\n",
        "\n",
        "sum = 0\n",
        "\n",
        "for i in range(1 , n + 1):\n",
        "    sum = sum + (i ** 2)\n",
        "\n",
        "print(sum)"
      ],
      "metadata": {
        "colab": {
          "base_uri": "https://localhost:8080/"
        },
        "id": "N2mQgh1HmMxP",
        "outputId": "4c429cf5-d2fd-4b79-fae8-7cf2dc7fea59"
      },
      "execution_count": 4,
      "outputs": [
        {
          "output_type": "stream",
          "name": "stdout",
          "text": [
            "5\n",
            "55\n"
          ]
        }
      ]
    },
    {
      "cell_type": "code",
      "source": [
        "# Print Integers - 3\n",
        "\n",
        "n = int(input())\n",
        "\n",
        "for i in range(1 , n + 1):\n",
        "    j = n + 1 - i\n",
        "    print(j)"
      ],
      "metadata": {
        "colab": {
          "base_uri": "https://localhost:8080/"
        },
        "id": "SqOYObz5mQ26",
        "outputId": "846f0995-f282-4aba-fc8d-c00c2df1bf95"
      },
      "execution_count": 3,
      "outputs": [
        {
          "output_type": "stream",
          "name": "stdout",
          "text": [
            "5\n",
            "5\n",
            "4\n",
            "3\n",
            "2\n",
            "1\n"
          ]
        }
      ]
    },
    {
      "cell_type": "code",
      "source": [
        "# Solid Rectangle - 2\n",
        "\n",
        "m = int(input())\n",
        "n = int(input())\n",
        "\n",
        "for i in range(1 , m + 1):\n",
        "    print(\"+ \" * n)"
      ],
      "metadata": {
        "colab": {
          "base_uri": "https://localhost:8080/"
        },
        "id": "Qck6NrMzmUeT",
        "outputId": "ab9c04d8-f0fa-4938-cd31-7cd6fad2a650"
      },
      "execution_count": 2,
      "outputs": [
        {
          "output_type": "stream",
          "name": "stdout",
          "text": [
            "5\n",
            "4\n",
            "+ + + + \n",
            "+ + + + \n",
            "+ + + + \n",
            "+ + + + \n",
            "+ + + + \n"
          ]
        }
      ]
    },
    {
      "cell_type": "code",
      "source": [
        "# Solid right angled triangle - 2\n",
        "\n",
        "n = int(input())\n",
        "\n",
        "for j in range(2):\n",
        "    for i in range(1 , n + 1):\n",
        "        row = \"* \"\n",
        "        print(row * i)"
      ],
      "metadata": {
        "colab": {
          "base_uri": "https://localhost:8080/"
        },
        "id": "-TsteL46mZ4_",
        "outputId": "6b809846-92cb-4560-bc4a-d3af9ca3875b"
      },
      "execution_count": 1,
      "outputs": [
        {
          "output_type": "stream",
          "name": "stdout",
          "text": [
            "5\n",
            "* \n",
            "* * \n",
            "* * * \n",
            "* * * * \n",
            "* * * * * \n",
            "* \n",
            "* * \n",
            "* * * \n",
            "* * * * \n",
            "* * * * * \n"
          ]
        }
      ]
    }
  ]
}