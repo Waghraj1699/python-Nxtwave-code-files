{
  "nbformat": 4,
  "nbformat_minor": 0,
  "metadata": {
    "colab": {
      "provenance": []
    },
    "kernelspec": {
      "name": "python3",
      "display_name": "Python 3"
    },
    "language_info": {
      "name": "python"
    }
  },
  "cells": [
    {
      "cell_type": "code",
      "execution_count": 1,
      "metadata": {
        "colab": {
          "base_uri": "https://localhost:8080/"
        },
        "id": "WBZ-Bp_EcTZ3",
        "outputId": "1d303824-5078-4fe1-988c-49c15b6469b6"
      },
      "outputs": [
        {
          "output_type": "stream",
          "name": "stdout",
          "text": [
            "5\n",
            "    * \n",
            "   * * \n",
            "  *   * \n",
            " *     * \n",
            "* * * * * \n"
          ]
        }
      ],
      "source": [
        "# Hollow Pyramid\n",
        "\n",
        "n = int(input())\n",
        "\n",
        "for i in range(1 , n + 1):\n",
        "    if (i==1):\n",
        "        row = (\" \") * (n - i) + (\"* \")\n",
        "    elif (i==n):\n",
        "        row = (\"* \") * n\n",
        "    else:\n",
        "        left_spaces = (\" \") * (n - i)\n",
        "        hollo_spaces = (\" \") * (2 * (i - 2))\n",
        "        row = left_spaces + (\"* \") + hollo_spaces + (\"* \")\n",
        "    print(row)"
      ]
    },
    {
      "cell_type": "code",
      "source": [
        "# Hollow Right angled Triangle - 4\n",
        "\n",
        "n = int(input())\n",
        "\n",
        "for i in range(1 , n + 1):\n",
        "    if (i==1):\n",
        "        row = (\"# \") * n\n",
        "    elif(i==n):\n",
        "        row = (\"+ \")\n",
        "    else:\n",
        "        hollo_spaces = (\" \") * (2 * (n - i) - 1)\n",
        "        row = (\"+\") + hollo_spaces + (\"+\")\n",
        "    print(row)"
      ],
      "metadata": {
        "colab": {
          "base_uri": "https://localhost:8080/"
        },
        "id": "sVUDbvT7ck1U",
        "outputId": "389fff32-8c47-41c3-d36f-d0e7fd92fd9a"
      },
      "execution_count": 2,
      "outputs": [
        {
          "output_type": "stream",
          "name": "stdout",
          "text": [
            "5\n",
            "# # # # # \n",
            "+     +\n",
            "+   +\n",
            "+ +\n",
            "+ \n"
          ]
        }
      ]
    },
    {
      "cell_type": "code",
      "source": [
        "# Hollow pyramid - 2\n",
        "\n",
        "n = int(input())\n",
        "\n",
        "for i in range(1, n + 1):\n",
        "    if(i==1):\n",
        "        row = (str(i))\n",
        "    else:\n",
        "        hollow = (\" \") * (2*i - 3)\n",
        "        row = (str(i)) + hollow + (str(i))\n",
        "    print(row)\n",
        "\n",
        "for j in range(1, n):\n",
        "    if (j== n - 1):\n",
        "        row = str(1)\n",
        "    else:\n",
        "        spaces = (\" \") * (2*(n-j) - 3)\n",
        "        row = (str(n-j)) + spaces + (str(n-j))\n",
        "    print(row)"
      ],
      "metadata": {
        "colab": {
          "base_uri": "https://localhost:8080/"
        },
        "id": "LelNXOJscyeH",
        "outputId": "ab315da9-b3ed-4aed-a205-868aa165c3ff"
      },
      "execution_count": 3,
      "outputs": [
        {
          "output_type": "stream",
          "name": "stdout",
          "text": [
            "5\n",
            "1\n",
            "2 2\n",
            "3   3\n",
            "4     4\n",
            "5       5\n",
            "4     4\n",
            "3   3\n",
            "2 2\n",
            "1\n"
          ]
        }
      ]
    },
    {
      "cell_type": "code",
      "source": [
        "# Hollow Right angled triangle - 3\n",
        "\n",
        "n = int(input())\n",
        "\n",
        "for i in range(1, n + 1):\n",
        "    if (i==1):\n",
        "        row = (\"* \") * n\n",
        "    elif (i==n):\n",
        "        row = (\"* \")\n",
        "    else:\n",
        "        spaces = (\" \") * (2*(n - i - 1))\n",
        "        row = (\"* \") + spaces + (\"* \")\n",
        "    print(row)"
      ],
      "metadata": {
        "colab": {
          "base_uri": "https://localhost:8080/"
        },
        "id": "ECdOGqPPdBK6",
        "outputId": "7db36625-1670-49d5-dbfd-9b0d3be7f8f1"
      },
      "execution_count": 4,
      "outputs": [
        {
          "output_type": "stream",
          "name": "stdout",
          "text": [
            "5\n",
            "* * * * * \n",
            "*     * \n",
            "*   * \n",
            "* * \n",
            "* \n"
          ]
        }
      ]
    },
    {
      "cell_type": "code",
      "source": [
        "# Hollow Right angled triangle - 5\n",
        "\n",
        "n = int(input())\n",
        "\n",
        "for i in range(1 , n + 1):\n",
        "    if(i==1):\n",
        "        row = (\" \")* (2*(n - i)) + (\"* \")\n",
        "    elif (i==n):\n",
        "        row = (\"* \") * n\n",
        "    else:\n",
        "        left_spaces = (\" \") * (2*(n - i))\n",
        "        hollow_spaces = (\" \") * (2*(i - 2))\n",
        "        row =left_spaces + (\"* \") + hollow_spaces + (\"* \")\n",
        "    print(row)"
      ],
      "metadata": {
        "colab": {
          "base_uri": "https://localhost:8080/"
        },
        "id": "56N-gccNdIai",
        "outputId": "447bff8f-55a0-43e2-cd44-981260cdf1a1"
      },
      "execution_count": 5,
      "outputs": [
        {
          "output_type": "stream",
          "name": "stdout",
          "text": [
            "5\n",
            "        * \n",
            "      * * \n",
            "    *   * \n",
            "  *     * \n",
            "* * * * * \n"
          ]
        }
      ]
    },
    {
      "cell_type": "code",
      "source": [
        "# Hollow right angled triangle - 6\n",
        "\n",
        "n = int(input())\n",
        "\n",
        "for i in range(1 , n + 1):\n",
        "    if(i==1):\n",
        "        row = (\"* \") * n\n",
        "    elif(i==n):\n",
        "        left_spaces = (\" \") * (2 * (i - 1))\n",
        "        row =left_spaces + (\"* \")\n",
        "    else:\n",
        "        left_spaces = (\" \") * (2*(i - 1))\n",
        "        hollow_spaces = (\" \") * (2*(n - i) - 1)\n",
        "        row = left_spaces + (\"*\") + hollow_spaces + (\"*\")\n",
        "    print(row)"
      ],
      "metadata": {
        "colab": {
          "base_uri": "https://localhost:8080/"
        },
        "id": "NccCJgmCdZQl",
        "outputId": "d1f1fa28-101b-4798-88b4-7011a4012e9e"
      },
      "execution_count": 6,
      "outputs": [
        {
          "output_type": "stream",
          "name": "stdout",
          "text": [
            "5\n",
            "* * * * * \n",
            "  *     *\n",
            "    *   *\n",
            "      * *\n",
            "        * \n"
          ]
        }
      ]
    },
    {
      "cell_type": "code",
      "source": [
        "# Inverted pyramid\n",
        "\n",
        "n = int(input())\n",
        "\n",
        "for i in range(1 , n + 1):\n",
        "    if (i==1):\n",
        "        row = (\"* \") * n\n",
        "    elif (i==n):\n",
        "        left_spaces = (\" \") * (i - 1)\n",
        "        row = left_spaces + (\"* \")\n",
        "    else:\n",
        "        left_spaces = (\" \") * (i - 1)\n",
        "        hollow_spaces = (\" \") * (2*(n - i) - 1)\n",
        "        row = left_spaces + (\"*\") + hollow_spaces + (\"*\")\n",
        "    print(row)"
      ],
      "metadata": {
        "colab": {
          "base_uri": "https://localhost:8080/"
        },
        "id": "2A0wZnG1djnT",
        "outputId": "e57ac85c-4634-4c47-e63e-9ef724900fc4"
      },
      "execution_count": 7,
      "outputs": [
        {
          "output_type": "stream",
          "name": "stdout",
          "text": [
            "5\n",
            "* * * * * \n",
            " *     *\n",
            "  *   *\n",
            "   * *\n",
            "    * \n"
          ]
        }
      ]
    },
    {
      "cell_type": "code",
      "source": [
        "# Hollow Diamond\n",
        "\n",
        "n = int(input())\n",
        "\n",
        "for i in range(1 , n + 1):\n",
        "    if(i==1):\n",
        "        left_spaces = (\" \") * (n - i)\n",
        "        row = left_spaces + (\"* \")\n",
        "    else:\n",
        "        left_spaces = (\" \") * (n - i)\n",
        "        hollo_spaces = (\" \") * (2*i - 3)\n",
        "        row = left_spaces + (\"*\") + hollo_spaces + (\"*\")\n",
        "    print(row)\n",
        "\n",
        "for i in range(1, n):\n",
        "    if(i==n-1):\n",
        "        left_spaces = (\" \") * (n - 1)\n",
        "        row = left_spaces + (\"*\")\n",
        "    else:\n",
        "        left_spaces = (\" \") * i\n",
        "        hollo_spaces = (\" \") * (2*(n - i) - 3)\n",
        "        row = left_spaces + (\"*\") + hollo_spaces + (\"*\")\n",
        "    print(row)"
      ],
      "metadata": {
        "colab": {
          "base_uri": "https://localhost:8080/"
        },
        "id": "wCIz1jk_d1Wc",
        "outputId": "23efd5b0-c790-470c-c14c-f8fdfdedc08b"
      },
      "execution_count": 8,
      "outputs": [
        {
          "output_type": "stream",
          "name": "stdout",
          "text": [
            "5\n",
            "    * \n",
            "   * *\n",
            "  *   *\n",
            " *     *\n",
            "*       *\n",
            " *     *\n",
            "  *   *\n",
            "   * *\n",
            "    *\n"
          ]
        }
      ]
    }
  ]
}