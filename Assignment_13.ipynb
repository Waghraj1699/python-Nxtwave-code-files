{
  "nbformat": 4,
  "nbformat_minor": 0,
  "metadata": {
    "colab": {
      "provenance": []
    },
    "kernelspec": {
      "name": "python3",
      "display_name": "Python 3"
    },
    "language_info": {
      "name": "python"
    }
  },
  "cells": [
    {
      "cell_type": "markdown",
      "source": [
        "# Pythagoras Triplets"
      ],
      "metadata": {
        "id": "UNMMy_rzXCUX"
      }
    },
    {
      "cell_type": "code",
      "execution_count": 8,
      "metadata": {
        "colab": {
          "base_uri": "https://localhost:8080/"
        },
        "id": "iCQFpLDvW3wq",
        "outputId": "ef5d20a4-9986-47bc-8af9-811f31371c18"
      },
      "outputs": [
        {
          "output_type": "stream",
          "name": "stdout",
          "text": [
            "5\n",
            "1\n"
          ]
        }
      ],
      "source": [
        "n = int(input())\n",
        "count = 0\n",
        "\n",
        "for i in range(1 , n + 1):\n",
        "    for j in range(i + 1 , n + 1):\n",
        "        for k in range(j + 1, n + 1):\n",
        "            if (i**2) + (j**2) == (k**2):\n",
        "                count = count + 1\n",
        "print(count)"
      ]
    },
    {
      "cell_type": "markdown",
      "source": [
        "# Number in Inverted Right Angled Triangle - 3"
      ],
      "metadata": {
        "id": "wmfxmZilXGaX"
      }
    },
    {
      "cell_type": "code",
      "source": [
        "s = int(input())\n",
        "n = int(input())\n",
        "k = 0\n",
        "for i in range(1 , n + 1):\n",
        "    k = k + i\n",
        "\n",
        "s = k + s - 1\n",
        "for i in range(1 , n + 1):\n",
        "    for j in range(1 , n + 2 - i):\n",
        "        print(s,end=\" \")\n",
        "        s = s - 1\n",
        "    print()"
      ],
      "metadata": {
        "colab": {
          "base_uri": "https://localhost:8080/"
        },
        "id": "APUMJ5uNXQ5p",
        "outputId": "797d06f1-a502-42f6-c0e2-8a4da55a28b1"
      },
      "execution_count": 7,
      "outputs": [
        {
          "output_type": "stream",
          "name": "stdout",
          "text": [
            "5\n",
            "5\n",
            "19 18 17 16 15 \n",
            "14 13 12 11 \n",
            "10 9 8 \n",
            "7 6 \n",
            "5 \n"
          ]
        }
      ]
    },
    {
      "cell_type": "markdown",
      "source": [
        "# Numbers in Inverted Pyramid"
      ],
      "metadata": {
        "id": "D09q7dOnXSGs"
      }
    },
    {
      "cell_type": "code",
      "source": [
        "n = int(input())\n",
        "\n",
        "for i in range(1 , n + 1 ):\n",
        "    spaces = (\" \") * (i - 1)\n",
        "    print(spaces,end=\"\")\n",
        "    for j in range(1 , n + 2 - i):\n",
        "        print(j,end=\" \")\n",
        "    print()"
      ],
      "metadata": {
        "colab": {
          "base_uri": "https://localhost:8080/"
        },
        "id": "KmjqGyTKXWqy",
        "outputId": "fd1fc220-97b8-4b83-bcba-7c8a6aa13f88"
      },
      "execution_count": 6,
      "outputs": [
        {
          "output_type": "stream",
          "name": "stdout",
          "text": [
            "5\n",
            "1 2 3 4 5 \n",
            " 1 2 3 4 \n",
            "  1 2 3 \n",
            "   1 2 \n",
            "    1 \n"
          ]
        }
      ]
    },
    {
      "cell_type": "markdown",
      "source": [
        "# Number Diamond"
      ],
      "metadata": {
        "id": "17yzCf06XXmp"
      }
    },
    {
      "cell_type": "code",
      "source": [
        "n = int(input())\n",
        "\n",
        "for i in range(1 , n + 1):\n",
        "    spaces = (\" \") * (n - i)\n",
        "    print(spaces,end= \"\")\n",
        "    for j in range(1 , i + 1):\n",
        "        print(j,end=\" \")\n",
        "    print()\n",
        "for i in range(1 , n):\n",
        "    spaces = (\" \") * (i)\n",
        "    print(spaces,end=\"\")\n",
        "    for j in range(1,n + 1 - i):\n",
        "        print(j,end=\" \")\n",
        "    print()"
      ],
      "metadata": {
        "colab": {
          "base_uri": "https://localhost:8080/"
        },
        "id": "iDBuRLFkXbdQ",
        "outputId": "1a83c982-428d-40ce-f3f9-e6c85fd4635e"
      },
      "execution_count": 5,
      "outputs": [
        {
          "output_type": "stream",
          "name": "stdout",
          "text": [
            "5\n",
            "    1 \n",
            "   1 2 \n",
            "  1 2 3 \n",
            " 1 2 3 4 \n",
            "1 2 3 4 5 \n",
            " 1 2 3 4 \n",
            "  1 2 3 \n",
            "   1 2 \n",
            "    1 \n"
          ]
        }
      ]
    },
    {
      "cell_type": "markdown",
      "source": [
        "# Indivisible Numbers"
      ],
      "metadata": {
        "id": "9nmL-uEnXeRa"
      }
    },
    {
      "cell_type": "code",
      "source": [
        "n = int(input())\n",
        "count = 0\n",
        "\n",
        "for i in range(1, n + 1):\n",
        "    is_divisible = False\n",
        "    for j in range(2 , 11):\n",
        "        if i % j == 0:\n",
        "            is_divisible = True\n",
        "    if not is_divisible:\n",
        "        count = count + 1\n",
        "print(count)"
      ],
      "metadata": {
        "colab": {
          "base_uri": "https://localhost:8080/"
        },
        "id": "VhUL5qobXgq2",
        "outputId": "2d06a40a-816a-4ea1-e7c3-84ff3f77b973"
      },
      "execution_count": 4,
      "outputs": [
        {
          "output_type": "stream",
          "name": "stdout",
          "text": [
            "11\n",
            "2\n"
          ]
        }
      ]
    },
    {
      "cell_type": "markdown",
      "source": [
        "# Composite Numbers in the Range"
      ],
      "metadata": {
        "id": "lotF_DPeXhex"
      }
    },
    {
      "cell_type": "code",
      "source": [
        "m = int(input())\n",
        "n = int(input())\n",
        "\n",
        "for i in range(m , n + 1):\n",
        "    factors = 0\n",
        "    for j in range(1,n + 1):\n",
        "        if i % j == 0:\n",
        "            factors = factors + 1\n",
        "    if factors > 2:\n",
        "        print(i)"
      ],
      "metadata": {
        "colab": {
          "base_uri": "https://localhost:8080/"
        },
        "id": "lZf69Y6cXl4J",
        "outputId": "fced4e8e-28ff-40d5-a3c2-f5a3251ddc2d"
      },
      "execution_count": 3,
      "outputs": [
        {
          "output_type": "stream",
          "name": "stdout",
          "text": [
            "2\n",
            "9\n",
            "4\n",
            "6\n",
            "8\n",
            "9\n"
          ]
        }
      ]
    },
    {
      "cell_type": "markdown",
      "source": [
        "# Armstrong numbers between two intervals"
      ],
      "metadata": {
        "id": "8Kh7LxbFXmbp"
      }
    },
    {
      "cell_type": "code",
      "source": [
        "m = int(input())\n",
        "n = int(input())\n",
        "\n",
        "armstrong = False\n",
        "for i in range(m , n + 1):\n",
        "    sum = 0\n",
        "    power = len(str(i))\n",
        "    for j in str(i):\n",
        "        sum = sum + int(j)**power\n",
        "    if sum == i:\n",
        "        print(i,end=\" \")\n",
        "        armstrong = True\n",
        "if not armstrong:\n",
        "    print(\"-1\")\n"
      ],
      "metadata": {
        "colab": {
          "base_uri": "https://localhost:8080/"
        },
        "id": "AUS64AQlXsUK",
        "outputId": "9f416883-b015-4749-a3f4-8b7ecc2fc918"
      },
      "execution_count": 2,
      "outputs": [
        {
          "output_type": "stream",
          "name": "stdout",
          "text": [
            "150\n",
            "200\n",
            "153 "
          ]
        }
      ]
    },
    {
      "cell_type": "markdown",
      "source": [
        "# Half Pyramid - 4"
      ],
      "metadata": {
        "id": "t5BGKFl-Xs-A"
      }
    },
    {
      "cell_type": "code",
      "source": [
        "k = int(input())\n",
        "n = int(input())\n",
        "s = 0\n",
        "for i in range(1 , n + 1):\n",
        "    s = s + i\n",
        "s = k + s - 1\n",
        "for i in range(1 , n + 1):\n",
        "    for j in range(1 , i + 1):\n",
        "        print(s,end=\" \")\n",
        "        s = s - 1\n",
        "    print()"
      ],
      "metadata": {
        "colab": {
          "base_uri": "https://localhost:8080/"
        },
        "id": "aPnK9JpzXwrV",
        "outputId": "86776219-8d99-4dfb-8a02-07c634a5cba9"
      },
      "execution_count": 1,
      "outputs": [
        {
          "output_type": "stream",
          "name": "stdout",
          "text": [
            "10\n",
            "5\n",
            "24 \n",
            "23 22 \n",
            "21 20 19 \n",
            "18 17 16 15 \n",
            "14 13 12 11 10 \n"
          ]
        }
      ]
    }
  ]
}