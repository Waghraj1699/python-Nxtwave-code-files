{
  "nbformat": 4,
  "nbformat_minor": 0,
  "metadata": {
    "colab": {
      "provenance": []
    },
    "kernelspec": {
      "name": "python3",
      "display_name": "Python 3"
    },
    "language_info": {
      "name": "python"
    }
  },
  "cells": [
    {
      "cell_type": "markdown",
      "source": [
        "# Swap Elements in List"
      ],
      "metadata": {
        "id": "MrgEGSuvPCAs"
      }
    },
    {
      "cell_type": "code",
      "execution_count": 5,
      "metadata": {
        "colab": {
          "base_uri": "https://localhost:8080/"
        },
        "id": "4_u8M-fAOvXR",
        "outputId": "7f6bbdb5-1939-4b08-f64b-635fec5d766c"
      },
      "outputs": [
        {
          "output_type": "stream",
          "name": "stdout",
          "text": [
            "2\n",
            "6\n",
            "[1, 'two', 'four', 5.09, 'Three', -558, 9, -93.7, 'six']\n"
          ]
        }
      ],
      "source": [
        "L = [1, \"two\", 9, 5.09, \"Three\", -558, \"four\", -93.7, \"six\"]\n",
        "\n",
        "#Write your code here\n",
        "i1 = int(input())\n",
        "i2 = int(input())\n",
        "\n",
        "a = L[i1]\n",
        "b = L[i2]\n",
        "\n",
        "L[i1] = b\n",
        "L[i2] = a\n",
        "print(L)"
      ]
    },
    {
      "cell_type": "markdown",
      "source": [
        "# List Indexing 3"
      ],
      "metadata": {
        "id": "OL8eH6NrPIpo"
      }
    },
    {
      "cell_type": "code",
      "source": [
        "n = int(input())\n",
        "t = int(input())\n",
        "L = []\n",
        "for i in range(1 , n + 1):\n",
        "    m = int(input())\n",
        "    L += [m]\n",
        "\n",
        "for i in range(1 , t + 1):\n",
        "    ki = int(input())\n",
        "    print(L[ki])\n",
        ""
      ],
      "metadata": {
        "colab": {
          "base_uri": "https://localhost:8080/"
        },
        "id": "K4sSPVHTPMae",
        "outputId": "31cd48e6-b151-4208-8d9b-758642b32e31"
      },
      "execution_count": 4,
      "outputs": [
        {
          "output_type": "stream",
          "name": "stdout",
          "text": [
            "4\n",
            "2\n",
            "1\n",
            "2\n",
            "3\n",
            "4\n",
            "0\n",
            "1\n",
            "3\n",
            "4\n"
          ]
        }
      ]
    },
    {
      "cell_type": "markdown",
      "source": [
        "# First and Last Elements of Lists"
      ],
      "metadata": {
        "id": "Gb5J2FTAPNXC"
      }
    },
    {
      "cell_type": "code",
      "source": [
        "n = int(input())\n",
        "L =[]\n",
        "for i in range(1 , n + 1):\n",
        "    m = int(input())\n",
        "    L += [m]\n",
        "\n",
        "length = len(L)\n",
        "a = L[:2]\n",
        "b = L[length - 2:]\n",
        "\n",
        "print(a + b)\n",
        ""
      ],
      "metadata": {
        "colab": {
          "base_uri": "https://localhost:8080/"
        },
        "id": "81wzdD1gPTrZ",
        "outputId": "a357b107-8628-4b20-f554-31dbd7085fe4"
      },
      "execution_count": 3,
      "outputs": [
        {
          "output_type": "stream",
          "name": "stdout",
          "text": [
            "6\n",
            "1\n",
            "2\n",
            "3\n",
            "4\n",
            "5\n",
            "6\n",
            "[1, 2, 5, 6]\n"
          ]
        }
      ]
    },
    {
      "cell_type": "markdown",
      "source": [
        "# Divisible by 5"
      ],
      "metadata": {
        "id": "66MzRqUqPUT0"
      }
    },
    {
      "cell_type": "code",
      "source": [
        "n = int(input())\n",
        "L = []\n",
        "\n",
        "for i in range(1 , n + 1):\n",
        "    m = int(input())\n",
        "    if m % 5 == 0:\n",
        "        L += [m]\n",
        "\n",
        "print(L)"
      ],
      "metadata": {
        "colab": {
          "base_uri": "https://localhost:8080/"
        },
        "id": "akiox1p2PZpW",
        "outputId": "372a106a-d63e-48d9-d28d-c021064a4d1e"
      },
      "execution_count": 1,
      "outputs": [
        {
          "output_type": "stream",
          "name": "stdout",
          "text": [
            "3\n",
            "10\n",
            "7\n",
            "35\n",
            "[10, 35]\n"
          ]
        }
      ]
    }
  ]
}