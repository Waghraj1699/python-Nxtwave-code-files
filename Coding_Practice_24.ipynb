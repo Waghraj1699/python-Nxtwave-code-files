{
  "nbformat": 4,
  "nbformat_minor": 0,
  "metadata": {
    "colab": {
      "provenance": []
    },
    "kernelspec": {
      "name": "python3",
      "display_name": "Python 3"
    },
    "language_info": {
      "name": "python"
    }
  },
  "cells": [
    {
      "cell_type": "markdown",
      "source": [
        "# Extract Digits"
      ],
      "metadata": {
        "id": "bWuvcp_cAcYq"
      }
    },
    {
      "cell_type": "code",
      "execution_count": 1,
      "metadata": {
        "id": "4sFxcZBvPIOL",
        "colab": {
          "base_uri": "https://localhost:8080/"
        },
        "outputId": "8f72c93f-1735-420c-9f7f-489f125b32ca"
      },
      "outputs": [
        {
          "output_type": "stream",
          "name": "stdout",
          "text": [
            "C0d1n8\n",
            "9\n",
            "0\n",
            "8\n"
          ]
        }
      ],
      "source": [
        "def get_digits(str_1):\n",
        "    number = []\n",
        "    for i in str_1:\n",
        "        if i.isdigit():\n",
        "            number += [int(i)]\n",
        "    return number\n",
        "\n",
        "str_1 = input()\n",
        "digits = get_digits(str_1)\n",
        "print(sum(digits))\n",
        "print(min(digits))\n",
        "print(max(digits))\n"
      ]
    },
    {
      "cell_type": "markdown",
      "source": [
        "# Sort and Square the list"
      ],
      "metadata": {
        "id": "szCIaHroF20S"
      }
    },
    {
      "cell_type": "code",
      "source": [
        "list_a = input().split(\",\")\n",
        "list_x = []\n",
        "\n",
        "for num in list_a:\n",
        "    list_x += [int(num)**2]\n",
        "\n",
        "print(sorted(list_x))\n"
      ],
      "metadata": {
        "colab": {
          "base_uri": "https://localhost:8080/"
        },
        "id": "0fFcXzqoGBus",
        "outputId": "0d6f314c-baae-4f9c-9e00-851912d4e8f2"
      },
      "execution_count": 2,
      "outputs": [
        {
          "output_type": "stream",
          "name": "stdout",
          "text": [
            "2,4,1,3,5\n",
            "[1, 4, 9, 16, 25]\n"
          ]
        }
      ]
    },
    {
      "cell_type": "markdown",
      "source": [
        "# Largest Sum of Five Element"
      ],
      "metadata": {
        "id": "srRJdzxbGwue"
      }
    },
    {
      "cell_type": "code",
      "source": [
        "str_1 = input().split(\",\")\n",
        "list_of_numbers = []\n",
        "for i in str_1:\n",
        "    list_of_numbers += [int(i)]\n",
        "list_of_numbers = sorted(list_of_numbers,reverse = True)\n",
        "print(sum(list_of_numbers[0:5]))"
      ],
      "metadata": {
        "colab": {
          "base_uri": "https://localhost:8080/"
        },
        "id": "BtuOR4_vGwFS",
        "outputId": "f9283fed-3a16-40dc-bb0f-7b697bf12b52"
      },
      "execution_count": 3,
      "outputs": [
        {
          "output_type": "stream",
          "name": "stdout",
          "text": [
            "70,43,3,89,65,27,64,75\n",
            "363\n"
          ]
        }
      ]
    },
    {
      "cell_type": "markdown",
      "source": [
        "# Sort numbers in list - 2\n"
      ],
      "metadata": {
        "id": "P63RdaPQJea7"
      }
    },
    {
      "cell_type": "code",
      "source": [
        "str_1 = input().split(\",\")\n",
        "list_of_numbers = []\n",
        "for i in str_1:\n",
        "    list_of_numbers += [int(i)]\n",
        "\n",
        "print(sorted(list_of_numbers,reverse = True))"
      ],
      "metadata": {
        "colab": {
          "base_uri": "https://localhost:8080/"
        },
        "id": "xT7EWHrpJdz3",
        "outputId": "a5c412f6-d9eb-4596-85fc-49e63cb6f670"
      },
      "execution_count": 4,
      "outputs": [
        {
          "output_type": "stream",
          "name": "stdout",
          "text": [
            "16,25,1,5\n",
            "[25, 16, 5, 1]\n"
          ]
        }
      ]
    },
    {
      "cell_type": "markdown",
      "source": [
        "# Kth Largest Number in the list"
      ],
      "metadata": {
        "id": "fmzyq0JYJ5ur"
      }
    },
    {
      "cell_type": "code",
      "source": [
        "str_1 = input().split(\",\")\n",
        "k = int(input())\n",
        "list_of_numbers = []\n",
        "for i in str_1:\n",
        "    list_of_numbers += [int(i)]\n",
        "list_of_numbers = sorted(list_of_numbers,reverse = True)\n",
        "print(list_of_numbers[k - 1])"
      ],
      "metadata": {
        "colab": {
          "base_uri": "https://localhost:8080/"
        },
        "id": "a7lN5sAbJ86X",
        "outputId": "2c72981f-647d-421b-a837-26c17d9fb7e2"
      },
      "execution_count": 5,
      "outputs": [
        {
          "output_type": "stream",
          "name": "stdout",
          "text": [
            "2,3,-1,5\n",
            "2\n",
            "3\n"
          ]
        }
      ]
    },
    {
      "cell_type": "markdown",
      "source": [
        "# Smallest Number in the list"
      ],
      "metadata": {
        "id": "SLDuYrrRLouD"
      }
    },
    {
      "cell_type": "code",
      "source": [
        "str_1 = input().split(\",\")\n",
        "list_of_num = []\n",
        "for i in str_1:\n",
        "    list_of_num += [int(i)]\n",
        "print(min(list_of_num))"
      ],
      "metadata": {
        "colab": {
          "base_uri": "https://localhost:8080/"
        },
        "id": "yqrVbUtsNe2e",
        "outputId": "0dcc99b3-4bf9-4f9f-c365-1698b3fb8970"
      },
      "execution_count": 6,
      "outputs": [
        {
          "output_type": "stream",
          "name": "stdout",
          "text": [
            "35,25,45,64\n",
            "25\n"
          ]
        }
      ]
    },
    {
      "cell_type": "markdown",
      "source": [
        "# Second largest number in the list"
      ],
      "metadata": {
        "id": "smUloLwfNqMp"
      }
    },
    {
      "cell_type": "code",
      "source": [
        "str_1 = input().split(\",\")\n",
        "list_of_num = []\n",
        "for i in str_1:\n",
        "    list_of_num += [int(i)]\n",
        "list_of_num = sorted(list_of_num,reverse = True)\n",
        "print(list_of_num[1])"
      ],
      "metadata": {
        "colab": {
          "base_uri": "https://localhost:8080/"
        },
        "id": "yain9YOnPMhy",
        "outputId": "3896b3de-758b-4f75-9bcc-be143fb2afe5"
      },
      "execution_count": 7,
      "outputs": [
        {
          "output_type": "stream",
          "name": "stdout",
          "text": [
            "13,12,3,25\n",
            "13\n"
          ]
        }
      ]
    },
    {
      "cell_type": "markdown",
      "source": [
        "# Largest element in the list"
      ],
      "metadata": {
        "id": "Cq-uUp_SPRqu"
      }
    },
    {
      "cell_type": "code",
      "source": [
        "str_1 = input().split(\",\")\n",
        "list_of_num = []\n",
        "for i in str_1:\n",
        "    list_of_num += [int(i)]\n",
        "print(max(list_of_num))"
      ],
      "metadata": {
        "colab": {
          "base_uri": "https://localhost:8080/"
        },
        "id": "j-lBAyALQ8n0",
        "outputId": "f38be610-3a2d-400f-be09-949dc8c3b3dd"
      },
      "execution_count": 8,
      "outputs": [
        {
          "output_type": "stream",
          "name": "stdout",
          "text": [
            "2,3,-1,5\n",
            "5\n"
          ]
        }
      ]
    },
    {
      "cell_type": "markdown",
      "source": [
        "# Sum of numbers in list"
      ],
      "metadata": {
        "id": "IIvnOVQpRO9e"
      }
    },
    {
      "cell_type": "code",
      "source": [
        "str_1 = input().split()\n",
        "list_of_num = []\n",
        "for i in str_1:\n",
        "    list_of_num += [int(i)]\n",
        "print(sum(list_of_num))"
      ],
      "metadata": {
        "colab": {
          "base_uri": "https://localhost:8080/"
        },
        "id": "dv0xK-PuSbwh",
        "outputId": "3c4153d2-6c87-405a-e245-7c772cdc7f3b"
      },
      "execution_count": 9,
      "outputs": [
        {
          "output_type": "stream",
          "name": "stdout",
          "text": [
            "3 4 7 8\n",
            "22\n"
          ]
        }
      ]
    },
    {
      "cell_type": "markdown",
      "source": [
        "# Largest number in the list - 3"
      ],
      "metadata": {
        "id": "CuWV7u2HSu3C"
      }
    },
    {
      "cell_type": "code",
      "source": [
        "str_1 = input().split(\",\")\n",
        "k = int(input())\n",
        "list_of_num = []\n",
        "for i in str_1:\n",
        "    list_of_num += [int(i)]\n",
        "print(max(list_of_num[k:]))"
      ],
      "metadata": {
        "colab": {
          "base_uri": "https://localhost:8080/"
        },
        "id": "VQzipwwBTBMR",
        "outputId": "e8e9fa22-e331-4f5f-912b-ded1012f6f75"
      },
      "execution_count": 10,
      "outputs": [
        {
          "output_type": "stream",
          "name": "stdout",
          "text": [
            "94,39,63,41,56,80,74\n",
            "2\n",
            "80\n"
          ]
        }
      ]
    },
    {
      "cell_type": "markdown",
      "source": [
        "# Sort numbers in list"
      ],
      "metadata": {
        "id": "QS3wbrH-T901"
      }
    },
    {
      "cell_type": "code",
      "source": [
        "str_1 = input().split(\",\")\n",
        "list_of_num = []\n",
        "for i in str_1:\n",
        "    list_of_num += [int(i)]\n",
        "print(sorted(list_of_num))"
      ],
      "metadata": {
        "colab": {
          "base_uri": "https://localhost:8080/"
        },
        "id": "OfFl-ELPUQJs",
        "outputId": "c00a9859-fab2-4c06-99ee-ea6fa5047d41"
      },
      "execution_count": 11,
      "outputs": [
        {
          "output_type": "stream",
          "name": "stdout",
          "text": [
            "7,10,5,1\n",
            "[1, 5, 7, 10]\n"
          ]
        }
      ]
    },
    {
      "cell_type": "markdown",
      "source": [
        "# Difference Between Largest ans Smallest Number"
      ],
      "metadata": {
        "id": "WvKwyy-XUgSf"
      }
    },
    {
      "cell_type": "code",
      "source": [
        "str_1 = input().split(\",\")\n",
        "list_of_num = []\n",
        "for i in str_1:\n",
        "    list_of_num += [int(i)]\n",
        "a = max(list_of_num)\n",
        "b = min(list_of_num)\n",
        "print(a-b)"
      ],
      "metadata": {
        "colab": {
          "base_uri": "https://localhost:8080/"
        },
        "id": "BNICLryBU1xT",
        "outputId": "4bf83365-7e02-4ea9-d259-bfeb8701bc3e"
      },
      "execution_count": 12,
      "outputs": [
        {
          "output_type": "stream",
          "name": "stdout",
          "text": [
            "2,3,-1,5\n",
            "6\n"
          ]
        }
      ]
    }
  ]
}