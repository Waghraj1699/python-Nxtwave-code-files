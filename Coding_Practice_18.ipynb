{
  "nbformat": 4,
  "nbformat_minor": 0,
  "metadata": {
    "colab": {
      "provenance": []
    },
    "kernelspec": {
      "name": "python3",
      "display_name": "Python 3"
    },
    "language_info": {
      "name": "python"
    }
  },
  "cells": [
    {
      "cell_type": "markdown",
      "source": [
        "# Rounding Inputs"
      ],
      "metadata": {
        "id": "3huO46BRdfmX"
      }
    },
    {
      "cell_type": "code",
      "execution_count": 1,
      "metadata": {
        "colab": {
          "base_uri": "https://localhost:8080/"
        },
        "id": "2u9moqPwdSZu",
        "outputId": "99e5b734-1c0a-4655-db6b-9e567e405353"
      },
      "outputs": [
        {
          "output_type": "stream",
          "name": "stdout",
          "text": [
            "3\n",
            "3.2154\n",
            "3.22\n",
            "2.1245\n",
            "2.12\n",
            "3.84527\n",
            "3.85\n"
          ]
        }
      ],
      "source": [
        "n = int(input())\n",
        "\n",
        "for i in range(1 , n + 1):\n",
        "    m = float(input())\n",
        "    print(round(m,2))"
      ]
    },
    {
      "cell_type": "markdown",
      "source": [
        "# Average of numbers from M to N"
      ],
      "metadata": {
        "id": "YHdjo9UCduwf"
      }
    },
    {
      "cell_type": "code",
      "source": [
        "m = int(input())\n",
        "n = int(input())\n",
        "\n",
        "sum = 0\n",
        "count = 0\n",
        "\n",
        "for i in range(m , n + 1):\n",
        "    sum += i\n",
        "    count += 1\n",
        "\n",
        "print(sum)\n",
        "avg = sum / count\n",
        "print(avg)"
      ],
      "metadata": {
        "colab": {
          "base_uri": "https://localhost:8080/"
        },
        "id": "2GN3D2f3d31K",
        "outputId": "8c822c43-9ece-4e7e-e8c9-cebc425b22b0"
      },
      "execution_count": 2,
      "outputs": [
        {
          "output_type": "stream",
          "name": "stdout",
          "text": [
            "5\n",
            "10\n",
            "45\n",
            "7.5\n"
          ]
        }
      ]
    },
    {
      "cell_type": "markdown",
      "source": [
        "# Sum of N inputs\n"
      ],
      "metadata": {
        "id": "oJglUzInd-MA"
      }
    },
    {
      "cell_type": "code",
      "source": [
        "n = int(input())\n",
        "s = float(input())\n",
        "sum = 0\n",
        "\n",
        "for i in range(1 , n + 1):\n",
        "    m = float(input())\n",
        "    sum += m\n",
        "\n",
        "if round(sum,3) == s:\n",
        "    print(\"True\")\n",
        "else:\n",
        "    print(\"False\")"
      ],
      "metadata": {
        "colab": {
          "base_uri": "https://localhost:8080/"
        },
        "id": "sg_J1A_XeHkL",
        "outputId": "28a245e4-37f7-430c-ac5c-5683382ca126"
      },
      "execution_count": 3,
      "outputs": [
        {
          "output_type": "stream",
          "name": "stdout",
          "text": [
            "3\n",
            "11.087\n",
            "2.156\n",
            "3.1415\n",
            "5.7894\n",
            "True\n"
          ]
        }
      ]
    },
    {
      "cell_type": "markdown",
      "source": [
        "# Sum of N terms in series - 2"
      ],
      "metadata": {
        "id": "qBLiUzlqeU_e"
      }
    },
    {
      "cell_type": "code",
      "source": [
        "x = float(input())\n",
        "n = int(input())\n",
        "sum = 0\n",
        "\n",
        "for i in range(1 , n + 1):\n",
        "    sum += x ** i\n",
        "\n",
        "print(round(sum,4))"
      ],
      "metadata": {
        "colab": {
          "base_uri": "https://localhost:8080/"
        },
        "id": "rZiyqtKled7W",
        "outputId": "8cde7a02-6262-4a96-9d32-e9437fe21784"
      },
      "execution_count": 4,
      "outputs": [
        {
          "output_type": "stream",
          "name": "stdout",
          "text": [
            "2.14\n",
            "6\n",
            "178.4211\n"
          ]
        }
      ]
    },
    {
      "cell_type": "markdown",
      "source": [
        "# Time Conversion"
      ],
      "metadata": {
        "id": "sj_cqv4deoYj"
      }
    },
    {
      "cell_type": "code",
      "source": [
        "t = input()\n",
        "\n",
        "if t.endswith(\"M\"):\n",
        "    t = int(t[:len(t)-1])\n",
        "    hours = (t / 60)\n",
        "    h = str(round(hours,2)) + \"H\"\n",
        "    print(h)\n",
        "elif t.endswith(\"S\"):\n",
        "    t = int(t[:len(t)-1])\n",
        "    sec = (t / 3600)\n",
        "    s = str(round(sec,2)) + \"H\"\n",
        "    print(s)"
      ],
      "metadata": {
        "colab": {
          "base_uri": "https://localhost:8080/"
        },
        "id": "hrYRLqLEexCf",
        "outputId": "b6dd4594-eddc-42c6-d382-a7361360464f"
      },
      "execution_count": 5,
      "outputs": [
        {
          "output_type": "stream",
          "name": "stdout",
          "text": [
            "80M\n",
            "1.33H\n"
          ]
        }
      ]
    },
    {
      "cell_type": "markdown",
      "source": [
        "# Hollow Diamond - 2"
      ],
      "metadata": {
        "id": "lBVvh9H6e1Zx"
      }
    },
    {
      "cell_type": "code",
      "source": [
        "n = int(input())\n",
        "alpha = 65\n",
        "\n",
        "for i in range(1 , n + 1):\n",
        "    if (i==1):\n",
        "        left_spaces = (\" \") * (n - i)\n",
        "        row = left_spaces + chr(alpha)\n",
        "        alpha += 1\n",
        "        print(row)\n",
        "    else:\n",
        "        left_spaces = (\" \") * (n - i)\n",
        "        middle_spaces = (\" \") * ((2*i) - 3)\n",
        "        row = left_spaces + chr(alpha) + middle_spaces + chr(alpha)\n",
        "        alpha += 1\n",
        "        print(row)\n",
        "alpha -= 1\n",
        "for i in range(1 , n):\n",
        "    if (i== n - 1):\n",
        "        alpha -= 1\n",
        "        left_spaces = (\" \") * i\n",
        "        row = left_spaces + chr(alpha)\n",
        "        print(row)\n",
        "    else:\n",
        "        alpha -= 1\n",
        "        left_spaces = (\" \") * i\n",
        "        middle_spaces = (\" \") * (2*(n - i) - 3)\n",
        "        row = left_spaces + chr(alpha) + middle_spaces + chr(alpha)\n",
        "        print(row)"
      ],
      "metadata": {
        "colab": {
          "base_uri": "https://localhost:8080/"
        },
        "id": "N21LIrZke-gr",
        "outputId": "584e1292-88c5-43b9-c8fb-63b9b480cb56"
      },
      "execution_count": 6,
      "outputs": [
        {
          "output_type": "stream",
          "name": "stdout",
          "text": [
            "10\n",
            "         A\n",
            "        B B\n",
            "       C   C\n",
            "      D     D\n",
            "     E       E\n",
            "    F         F\n",
            "   G           G\n",
            "  H             H\n",
            " I               I\n",
            "J                 J\n",
            " I               I\n",
            "  H             H\n",
            "   G           G\n",
            "    F         F\n",
            "     E       E\n",
            "      D     D\n",
            "       C   C\n",
            "        B B\n",
            "         A\n"
          ]
        }
      ]
    },
    {
      "cell_type": "markdown",
      "source": [
        "# Diamond - 3"
      ],
      "metadata": {
        "id": "2Sd0iLrGfGIk"
      }
    },
    {
      "cell_type": "code",
      "source": [
        "n = int(input())\n",
        "\n",
        "for i in range(1 , n + 1):\n",
        "    dots = (\". \") * (n - i)\n",
        "    zeros = (\"0 \") * (2*i - 1)\n",
        "    row = dots + zeros + dots\n",
        "    print(row)\n",
        "\n",
        "for i in range(1 , n):\n",
        "    dots = (\". \") * (i)\n",
        "    zeros = (\"0 \") * (2*(n - i) - 1)\n",
        "    row = dots + zeros + dots\n",
        "    print(row)\n",
        "\n",
        ""
      ],
      "metadata": {
        "colab": {
          "base_uri": "https://localhost:8080/"
        },
        "id": "Y0g1VGfhfPjo",
        "outputId": "84fc44cc-e139-47fa-9f7f-592cde5291ed"
      },
      "execution_count": 7,
      "outputs": [
        {
          "output_type": "stream",
          "name": "stdout",
          "text": [
            "5\n",
            ". . . . 0 . . . . \n",
            ". . . 0 0 0 . . . \n",
            ". . 0 0 0 0 0 . . \n",
            ". 0 0 0 0 0 0 0 . \n",
            "0 0 0 0 0 0 0 0 0 \n",
            ". 0 0 0 0 0 0 0 . \n",
            ". . 0 0 0 0 0 . . \n",
            ". . . 0 0 0 . . . \n",
            ". . . . 0 . . . . \n"
          ]
        }
      ]
    },
    {
      "cell_type": "markdown",
      "source": [
        "# M shape with* - 3"
      ],
      "metadata": {
        "id": "Isb1MoBmfVG3"
      }
    },
    {
      "cell_type": "code",
      "source": [
        "n = int(input())\n",
        "\n",
        "for i in range(1 , n + 1):\n",
        "    dots = (\". \") * (n - i)\n",
        "    middle_zeros  = (\"0 \") * ((2*(i - 1)) + 1)\n",
        "    middle_dots = (\". \") * (2*(n-i))\n",
        "    row = dots + middle_zeros + middle_dots + middle_zeros + dots\n",
        "    print(row)"
      ],
      "metadata": {
        "colab": {
          "base_uri": "https://localhost:8080/"
        },
        "id": "rJt9a-T1feRL",
        "outputId": "348c57a4-db3b-49b3-81a5-701495bd242f"
      },
      "execution_count": 8,
      "outputs": [
        {
          "output_type": "stream",
          "name": "stdout",
          "text": [
            "5\n",
            ". . . . 0 . . . . . . . . 0 . . . . \n",
            ". . . 0 0 0 . . . . . . 0 0 0 . . . \n",
            ". . 0 0 0 0 0 . . . . 0 0 0 0 0 . . \n",
            ". 0 0 0 0 0 0 0 . . 0 0 0 0 0 0 0 . \n",
            "0 0 0 0 0 0 0 0 0 0 0 0 0 0 0 0 0 0 \n"
          ]
        }
      ]
    },
    {
      "cell_type": "markdown",
      "source": [
        "# Alphabets in Hollow M shape"
      ],
      "metadata": {
        "id": "e3sxR5fTfm4N"
      }
    },
    {
      "cell_type": "code",
      "source": [
        "n = int(input())\n",
        "alpha = 65\n",
        "for i in range(1 , n + 1):\n",
        "    if (i==1):\n",
        "        left_spaces = (\" \") * (n - i)\n",
        "        middle_spaces = (\" \") * (2*(n - i)) + \" \"\n",
        "        row = left_spaces + chr(alpha) + middle_spaces + chr(alpha)\n",
        "        print(row)\n",
        "        alpha += 1\n",
        "    else:\n",
        "        left_spaces = (\" \") * (n - i)\n",
        "        middle_spaces = (\" \") * (2*(n - i)) + \" \"\n",
        "        hollow = (\" \") * (2*i - 3)\n",
        "        row = left_spaces + chr(alpha) + hollow + chr(alpha) + middle_spaces + chr(alpha) + hollow + chr(alpha)\n",
        "        print(row)\n",
        "        alpha += 1\n",
        ""
      ],
      "metadata": {
        "colab": {
          "base_uri": "https://localhost:8080/"
        },
        "id": "DP__onUqfus9",
        "outputId": "a525db41-a5b8-4ed6-9c95-f03439033efb"
      },
      "execution_count": 9,
      "outputs": [
        {
          "output_type": "stream",
          "name": "stdout",
          "text": [
            "5\n",
            "    A         A\n",
            "   B B       B B\n",
            "  C   C     C   C\n",
            " D     D   D     D\n",
            "E       E E       E\n"
          ]
        }
      ]
    },
    {
      "cell_type": "markdown",
      "source": [
        "# Hollow Diamond - 3"
      ],
      "metadata": {
        "id": "I76ZmEqLf2OO"
      }
    },
    {
      "cell_type": "code",
      "source": [
        "n = int(input())\n",
        "\n",
        "for i in range(1 , n + 1):\n",
        "    stars = (\"* \") * (n + 1 - i)\n",
        "    hollow_spaces = (\"  \") * (2*(i - 1))\n",
        "    row = stars + hollow_spaces + stars\n",
        "    print(row)\n",
        "for i in range(1 , n + 1):\n",
        "    stars = (\"* \") * (i)\n",
        "    hollow_spaces = (\"  \") * (2*(n - i))\n",
        "    row = stars + hollow_spaces + stars\n",
        "    print(row)"
      ],
      "metadata": {
        "colab": {
          "base_uri": "https://localhost:8080/"
        },
        "id": "ldd57td6gAGB",
        "outputId": "9fb2d53e-2aa6-47f5-9782-1d502695af5d"
      },
      "execution_count": 10,
      "outputs": [
        {
          "output_type": "stream",
          "name": "stdout",
          "text": [
            "8\n",
            "* * * * * * * * * * * * * * * * \n",
            "* * * * * * *     * * * * * * * \n",
            "* * * * * *         * * * * * * \n",
            "* * * * *             * * * * * \n",
            "* * * *                 * * * * \n",
            "* * *                     * * * \n",
            "* *                         * * \n",
            "*                             * \n",
            "*                             * \n",
            "* *                         * * \n",
            "* * *                     * * * \n",
            "* * * *                 * * * * \n",
            "* * * * *             * * * * * \n",
            "* * * * * *         * * * * * * \n",
            "* * * * * * *     * * * * * * * \n",
            "* * * * * * * * * * * * * * * * \n"
          ]
        }
      ]
    }
  ]
}