{
  "nbformat": 4,
  "nbformat_minor": 0,
  "metadata": {
    "colab": {
      "provenance": []
    },
    "kernelspec": {
      "name": "python3",
      "display_name": "Python 3"
    },
    "language_info": {
      "name": "python"
    }
  },
  "cells": [
    {
      "cell_type": "markdown",
      "source": [
        "# Secret Message - 1"
      ],
      "metadata": {
        "id": "lhRrhrGGWWOM"
      }
    },
    {
      "cell_type": "code",
      "execution_count": 5,
      "metadata": {
        "colab": {
          "base_uri": "https://localhost:8080/"
        },
        "id": "JoCUOGoPWPYH",
        "outputId": "d19c07dd-2917-4f0b-d524-695069d11a80"
      },
      "outputs": [
        {
          "output_type": "stream",
          "name": "stdout",
          "text": [
            "python learning\n",
            "kbgslm ovzimrmt\n"
          ]
        }
      ],
      "source": [
        "input_string = input()\n",
        "input_string = input_string.lower()\n",
        "alpha_dict = {}\n",
        "count = 1\n",
        "for i in range(97,123):\n",
        "    char = chr(i)\n",
        "    mirror_char = chr(123 - count)\n",
        "    count += 1\n",
        "    alpha_dict[char] = mirror_char\n",
        "result = \"\"\n",
        "for i in input_string:\n",
        "    if i in alpha_dict:\n",
        "        result += alpha_dict[i]\n",
        "    if i == \" \":\n",
        "        result += \" \"\n",
        "print(result)\n",
        "\n",
        ""
      ]
    },
    {
      "cell_type": "markdown",
      "source": [
        "# Secret Message - 2"
      ],
      "metadata": {
        "id": "0su6MZ2mWdLU"
      }
    },
    {
      "cell_type": "code",
      "source": [
        "def secret_message(input_string):\n",
        "    alpha_dict = {}\n",
        "    count = 1\n",
        "    for i in range(97,123):\n",
        "        char = chr(i)\n",
        "        alpha_dict[char] = count\n",
        "        count += 1\n",
        "    result = \"\"\n",
        "    for i in input_string:\n",
        "        if i in alpha_dict:\n",
        "            result += str(alpha_dict[i]) + \"-\"\n",
        "        if i == \" \":\n",
        "            result += \" \"\n",
        "    x = result.split()\n",
        "    y = \"\"\n",
        "    for i in x:\n",
        "        y += i.strip(\"-\") + \" \"\n",
        "    print(y)\n",
        "\n",
        "input_string = input()\n",
        "input_string = input_string.lower()\n",
        "\n",
        "secret_message(input_string)"
      ],
      "metadata": {
        "colab": {
          "base_uri": "https://localhost:8080/"
        },
        "id": "fmK8NvOCWey0",
        "outputId": "3fab4a38-4ff8-4704-d951-65e7c375bfef"
      },
      "execution_count": 4,
      "outputs": [
        {
          "output_type": "stream",
          "name": "stdout",
          "text": [
            "Foundations\n",
            "6-15-21-14-4-1-20-9-15-14-19 \n"
          ]
        }
      ]
    },
    {
      "cell_type": "markdown",
      "source": [
        "# Weekends"
      ],
      "metadata": {
        "id": "CTXCt1tEWfdi"
      }
    },
    {
      "cell_type": "code",
      "source": [
        "from datetime import datetime,timedelta\n",
        "d1 = input()\n",
        "d2 = input()\n",
        "start_date = datetime.strptime(d1,\"%d %b %Y\")\n",
        "end_date = datetime.strptime(d2,\"%d %b %Y\")\n",
        "\n",
        "saturdays = 0\n",
        "sundays = 0\n",
        "all_dates = []\n",
        "for i in range((end_date - start_date).days + 1):\n",
        "    all_dates.append(start_date + timedelta(days = i))\n",
        "\n",
        "for date in all_dates:\n",
        "    if date.weekday() == 5:\n",
        "        saturdays += 1\n",
        "    if date.weekday() == 6:\n",
        "        sundays += 1\n",
        "\n",
        "print(\"Saturday: \"+str(saturdays))\n",
        "print(\"Sunday: \"+str(sundays))"
      ],
      "metadata": {
        "colab": {
          "base_uri": "https://localhost:8080/"
        },
        "id": "CvkliBlOWiUt",
        "outputId": "568eb5bd-544b-4200-e0cc-3ab727670d2d"
      },
      "execution_count": 3,
      "outputs": [
        {
          "output_type": "stream",
          "name": "stdout",
          "text": [
            "25 Jan 2021\n",
            "14 Feb 2021\n",
            "Saturday: 3\n",
            "Sunday: 3\n"
          ]
        }
      ]
    },
    {
      "cell_type": "markdown",
      "source": [
        "# New Year Countdown"
      ],
      "metadata": {
        "id": "ODSnIGFDWjO0"
      }
    },
    {
      "cell_type": "code",
      "source": [
        "from datetime import datetime,timedelta\n",
        "\n",
        "input_string = input()\n",
        "\n",
        "date_obj = datetime.strptime(input_string,\"%b %d %Y %I:%M %p\")\n",
        "new_year_time = datetime(date_obj.year + 1,1,1)\n",
        "\n",
        "duration = new_year_time - date_obj\n",
        "total_hours = duration // timedelta(hours=1)\n",
        "total_minutes = (duration % timedelta(hours=1)) // timedelta(minutes=1)\n",
        "\n",
        "print(\"{} hours {} minutes\".format(total_hours,total_minutes))\n"
      ],
      "metadata": {
        "colab": {
          "base_uri": "https://localhost:8080/"
        },
        "id": "8ezPdtqQWmim",
        "outputId": "f8283e6a-ca01-4828-f34d-d872f4886aef"
      },
      "execution_count": 2,
      "outputs": [
        {
          "output_type": "stream",
          "name": "stdout",
          "text": [
            "Dec 30 2020 02:43 PM\n",
            "33 hours 17 minutes\n"
          ]
        }
      ]
    },
    {
      "cell_type": "markdown",
      "source": [
        "# Smallest missing number"
      ],
      "metadata": {
        "id": "iS8sxUBVWqDc"
      }
    },
    {
      "cell_type": "code",
      "source": [
        "nums = list(map(int,input().split()))\n",
        "i = 1\n",
        "while True:\n",
        "    if i not in nums:\n",
        "        print(i)\n",
        "        break\n",
        "    i += 1"
      ],
      "metadata": {
        "colab": {
          "base_uri": "https://localhost:8080/"
        },
        "id": "s3M_Cyu0Wudg",
        "outputId": "da0d9071-1c59-4feb-b9cc-6c5506f29e8b"
      },
      "execution_count": 1,
      "outputs": [
        {
          "output_type": "stream",
          "name": "stdout",
          "text": [
            "3 1 2 5 3 7 7\n",
            "4\n"
          ]
        }
      ]
    }
  ]
}