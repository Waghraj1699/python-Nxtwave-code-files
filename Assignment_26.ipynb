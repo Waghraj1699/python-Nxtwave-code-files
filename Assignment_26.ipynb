{
  "nbformat": 4,
  "nbformat_minor": 0,
  "metadata": {
    "colab": {
      "provenance": []
    },
    "kernelspec": {
      "name": "python3",
      "display_name": "Python 3"
    },
    "language_info": {
      "name": "python"
    }
  },
  "cells": [
    {
      "cell_type": "markdown",
      "source": [
        "# Even Odd"
      ],
      "metadata": {
        "id": "R4c5zMBQ8Qg3"
      }
    },
    {
      "cell_type": "code",
      "execution_count": 1,
      "metadata": {
        "colab": {
          "base_uri": "https://localhost:8080/"
        },
        "id": "uDm0M38q7Jln",
        "outputId": "56e7e41c-31e5-4cab-d4e1-e89bc7febae1"
      },
      "outputs": [
        {
          "output_type": "stream",
          "name": "stdout",
          "text": [
            "3 8 5 7 1 6\n",
            "[6, 8]\n",
            "[1, 3, 5, 7]\n"
          ]
        }
      ],
      "source": [
        "str_1 = input().split()\n",
        "even = []\n",
        "odd = []\n",
        "\n",
        "for i in  str_1 :\n",
        "    if int(i)%2==0:\n",
        "        even.append(int(i))\n",
        "    else:\n",
        "        odd.append(int(i))\n",
        "\n",
        "even.sort()\n",
        "odd.sort()\n",
        "print(even)\n",
        "print(odd)"
      ]
    },
    {
      "cell_type": "markdown",
      "source": [
        "# Extend the list - 2"
      ],
      "metadata": {
        "id": "J40xWGoG8c7J"
      }
    },
    {
      "cell_type": "code",
      "source": [
        "n = int(input())\n",
        "result = []\n",
        "\n",
        "for i in range(n):\n",
        "    list_input = input().split()\n",
        "    result.extend(list_input)\n",
        "result.sort()\n",
        "print(result)"
      ],
      "metadata": {
        "colab": {
          "base_uri": "https://localhost:8080/"
        },
        "id": "Gvz7bJdN8gPc",
        "outputId": "bb3c4d38-12f3-495e-ccc1-afdd8f4d8e7c"
      },
      "execution_count": 2,
      "outputs": [
        {
          "output_type": "stream",
          "name": "stdout",
          "text": [
            "4\n",
            "123\n",
            "6 6 5 4 5\n",
            "1 2.3 abs\n",
            "waghraj\n",
            "['1', '123', '2.3', '4', '5', '5', '6', '6', 'abs', 'waghraj']\n"
          ]
        }
      ]
    },
    {
      "cell_type": "markdown",
      "source": [
        "# Merge the lists"
      ],
      "metadata": {
        "id": "dwlN9hdu8g6H"
      }
    },
    {
      "cell_type": "code",
      "source": [
        "list_a = input().split()\n",
        "list_b = input().split()\n",
        "\n",
        "for i in range(len(list_b)):\n",
        "    list_a.insert(2*i+1,list_b[i])\n",
        "\n",
        "print(list_a)"
      ],
      "metadata": {
        "colab": {
          "base_uri": "https://localhost:8080/"
        },
        "id": "-QNsSUc88mX8",
        "outputId": "df7bc002-054c-4341-c420-cac89cf19821"
      },
      "execution_count": 5,
      "outputs": [
        {
          "output_type": "stream",
          "name": "stdout",
          "text": [
            "apple mango jackfruit\n",
            "kiwi grapes peach\n",
            "['apple', 'kiwi', 'mango', 'grapes', 'jackfruit', 'peach']\n"
          ]
        }
      ]
    },
    {
      "cell_type": "markdown",
      "source": [
        "# Lists of words\n"
      ],
      "metadata": {
        "id": "_XWDlMmj8nRM"
      }
    },
    {
      "cell_type": "code",
      "source": [
        "str_1 = input().split()\n",
        "result = []\n",
        "for i in str_1:\n",
        "    if not(i.startswith(\"a\")):\n",
        "        result.append(i)\n",
        "\n",
        "print(result)"
      ],
      "metadata": {
        "colab": {
          "base_uri": "https://localhost:8080/"
        },
        "id": "X5UByOS_8sSC",
        "outputId": "9945c719-9dfc-4974-d13c-5fa869059702"
      },
      "execution_count": 3,
      "outputs": [
        {
          "output_type": "stream",
          "name": "stdout",
          "text": [
            "The favorite dish of all ages was apple pie\n",
            "['The', 'favorite', 'dish', 'of', 'was', 'pie']\n"
          ]
        }
      ]
    },
    {
      "cell_type": "markdown",
      "source": [
        "# Count the Occurances - 2"
      ],
      "metadata": {
        "id": "mcwyUMFb8s50"
      }
    },
    {
      "cell_type": "code",
      "source": [
        "str_1 = input().split()\n",
        "result = []\n",
        "for i in str_1:\n",
        "    if str_1.count(i)%2 != 0 and int(i) not in result:\n",
        "        result.append(int(i))\n",
        "result.sort()\n",
        "print(result)\n",
        ""
      ],
      "metadata": {
        "colab": {
          "base_uri": "https://localhost:8080/"
        },
        "id": "KCiO1cD68xYy",
        "outputId": "b551f04f-5c3b-47e3-9d69-49d297584678"
      },
      "execution_count": 4,
      "outputs": [
        {
          "output_type": "stream",
          "name": "stdout",
          "text": [
            "1 10 1 3 3 3\n",
            "[3, 10]\n"
          ]
        }
      ]
    }
  ]
}