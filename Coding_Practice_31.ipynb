{
  "nbformat": 4,
  "nbformat_minor": 0,
  "metadata": {
    "colab": {
      "provenance": []
    },
    "kernelspec": {
      "name": "python3",
      "display_name": "Python 3"
    },
    "language_info": {
      "name": "python"
    }
  },
  "cells": [
    {
      "cell_type": "markdown",
      "source": [
        "# Add a Key"
      ],
      "metadata": {
        "id": "mxcyNJdJ-WCd"
      }
    },
    {
      "cell_type": "code",
      "execution_count": 1,
      "metadata": {
        "id": "w82pzTBSX0Et",
        "colab": {
          "base_uri": "https://localhost:8080/"
        },
        "outputId": "093eb246-810d-469a-8d13-4d6cbb17c241"
      },
      "outputs": [
        {
          "output_type": "stream",
          "name": "stdout",
          "text": [
            "Ramesh Cricket\n",
            "{'Ram': 'Cricket', 'Naresh': 'Football', 'Vani': 'Tennis', 'Rahim': 'Cricket', 'Ramesh': 'Cricket'}\n"
          ]
        }
      ],
      "source": [
        "students_dict = {\n",
        "    \"Ram\": \"Cricket\",\n",
        "    \"Naresh\": \"Football\",\n",
        "    \"Vani\": \"Tennis\",\n",
        "    \"Rahim\": \"Cricket\"\n",
        "}\n",
        "\n",
        "key_value = input().split()\n",
        "key = key_value[0]\n",
        "value = key_value[1]\n",
        "students_dict[str(key)] = value\n",
        "print(students_dict)\n"
      ]
    },
    {
      "cell_type": "markdown",
      "source": [
        "# Update value of a key"
      ],
      "metadata": {
        "id": "2rWVneM6_aZu"
      }
    },
    {
      "cell_type": "code",
      "source": [
        "students_dict = {\n",
        "    \"Ram\": \"Cricket\",\n",
        "    \"Naresh\": \"Football\",\n",
        "    \"Vani\": \"Tennis\",\n",
        "    \"Rahim\": \"Cricket\",\n",
        "    \"Deepak\": \"Boxing\"\n",
        "}\n",
        "\n",
        "key_value = input().split()\n",
        "key = key_value[0]\n",
        "value = key_value[1]\n",
        "students_dict[str(key)] = value\n",
        "print(students_dict)\n"
      ],
      "metadata": {
        "colab": {
          "base_uri": "https://localhost:8080/"
        },
        "id": "UwQW9cMR_eeE",
        "outputId": "7e745415-3c36-44db-bc1c-1761099c423c"
      },
      "execution_count": 2,
      "outputs": [
        {
          "output_type": "stream",
          "name": "stdout",
          "text": [
            "Rahim Hockey\n",
            "{'Ram': 'Cricket', 'Naresh': 'Football', 'Vani': 'Tennis', 'Rahim': 'Hockey', 'Deepak': 'Boxing'}\n"
          ]
        }
      ]
    },
    {
      "cell_type": "markdown",
      "source": [
        "# Remove a key"
      ],
      "metadata": {
        "id": "lxxdYWMS_fRm"
      }
    },
    {
      "cell_type": "code",
      "source": [
        "students_dict = {\n",
        "    \"Ram\": \"Cricket\",\n",
        "    \"Naresh\": \"Football\",\n",
        "    \"Vani\": \"Tennis\",\n",
        "    \"Rahim\": \"Cricket\",\n",
        "    \"Deepak\": \"Boxing\"\n",
        "}\n",
        "\n",
        "key = input()\n",
        "if key in students_dict:\n",
        "    del students_dict[key]\n",
        "\n",
        "print(students_dict)\n"
      ],
      "metadata": {
        "colab": {
          "base_uri": "https://localhost:8080/"
        },
        "id": "KDpm7n33_jPZ",
        "outputId": "4441e731-2bd4-4534-8fc7-a6164a85f1fd"
      },
      "execution_count": 3,
      "outputs": [
        {
          "output_type": "stream",
          "name": "stdout",
          "text": [
            "Vani\n",
            "{'Ram': 'Cricket', 'Naresh': 'Football', 'Rahim': 'Cricket', 'Deepak': 'Boxing'}\n"
          ]
        }
      ]
    },
    {
      "cell_type": "markdown",
      "source": [
        "# Sports Data"
      ],
      "metadata": {
        "id": "zBcdZHX3_oa1"
      }
    },
    {
      "cell_type": "code",
      "source": [
        "students_dict = {\n",
        "    \"Ram\": \"Cricket\",\n",
        "    \"Naresh\": \"Football\",\n",
        "    \"Vani\": \"Tennis\",\n",
        "    \"Rahim\": \"Cricket\"\n",
        "}\n",
        "\n",
        "n = int(input())\n",
        "for i in range(n):\n",
        "    key_value = input().split()\n",
        "    key = key_value[0]\n",
        "    value = key_value[1]\n",
        "    students_dict[str(key)] = value\n",
        "print(students_dict)\n"
      ],
      "metadata": {
        "colab": {
          "base_uri": "https://localhost:8080/"
        },
        "id": "fet42zxK_r-_",
        "outputId": "9b6b6f03-0a2a-4081-9a1f-5fa86edd7987"
      },
      "execution_count": 4,
      "outputs": [
        {
          "output_type": "stream",
          "name": "stdout",
          "text": [
            "3\n",
            "Gopal Hockey\n",
            "Jyothi Cricket\n",
            "Akhil Football\n",
            "{'Ram': 'Cricket', 'Naresh': 'Football', 'Vani': 'Tennis', 'Rahim': 'Cricket', 'Gopal': 'Hockey', 'Jyothi': 'Cricket', 'Akhil': 'Football'}\n"
          ]
        }
      ]
    },
    {
      "cell_type": "markdown",
      "source": [
        "# Squares"
      ],
      "metadata": {
        "id": "tAALLdbA_src"
      }
    },
    {
      "cell_type": "code",
      "source": [
        "n = int(input())\n",
        "dict_sq = {}\n",
        "for i in range(1,n+1):\n",
        "    dict_sq[i] = i**2\n",
        "print(dict_sq)"
      ],
      "metadata": {
        "colab": {
          "base_uri": "https://localhost:8080/"
        },
        "id": "dTahKThk_vuP",
        "outputId": "c778cdd8-498a-4d33-c92c-c0d1a68697bc"
      },
      "execution_count": 5,
      "outputs": [
        {
          "output_type": "stream",
          "name": "stdout",
          "text": [
            "3\n",
            "{1: 1, 2: 4, 3: 9}\n"
          ]
        }
      ]
    },
    {
      "cell_type": "markdown",
      "source": [
        "# Remove N keys"
      ],
      "metadata": {
        "id": "tEJkOqB4_w7K"
      }
    },
    {
      "cell_type": "code",
      "source": [
        "alphabets = {\n",
        "    'a': 97,\n",
        "    'b': 98,\n",
        "    'c': 99,\n",
        "    'd': 100,\n",
        "    'e': 101,\n",
        "    'f': 102,\n",
        "    'g': 103,\n",
        "    'h': 104,\n",
        "}\n",
        "\n",
        "keys = input().split()\n",
        "for i in keys:\n",
        "    if i in alphabets:\n",
        "        del alphabets[i]\n",
        "print(alphabets)\n"
      ],
      "metadata": {
        "colab": {
          "base_uri": "https://localhost:8080/"
        },
        "id": "f8LXsrd2_0Oq",
        "outputId": "f01fd0b9-9629-4e58-d550-932fb2c1af0b"
      },
      "execution_count": 6,
      "outputs": [
        {
          "output_type": "stream",
          "name": "stdout",
          "text": [
            "a d g\n",
            "{'b': 98, 'c': 99, 'e': 101, 'f': 102, 'h': 104}\n"
          ]
        }
      ]
    },
    {
      "cell_type": "markdown",
      "source": [
        "# Student ID map"
      ],
      "metadata": {
        "id": "0ZT8IpX8_1iI"
      }
    },
    {
      "cell_type": "code",
      "source": [
        "names = input().split(\",\")\n",
        "ids = input().split(\",\")\n",
        "dict_info = {}\n",
        "for i in range(len(ids)):\n",
        "    dict_info[str(names[i])] = str(ids[i])\n",
        "\n",
        "stu_details = dict_info.items()\n",
        "stu_details = sorted(stu_details)\n",
        "for i,j in stu_details:\n",
        "    print(i,j)"
      ],
      "metadata": {
        "colab": {
          "base_uri": "https://localhost:8080/"
        },
        "id": "78crXm7w_5Dw",
        "outputId": "a8f6c15a-0efb-4ce7-9b44-54083e3c154c"
      },
      "execution_count": 7,
      "outputs": [
        {
          "output_type": "stream",
          "name": "stdout",
          "text": [
            "Anand,Ramesh,Kiran\n",
            "ID102,ID101,ID100\n",
            "Anand ID102\n",
            "Kiran ID100\n",
            "Ramesh ID101\n"
          ]
        }
      ]
    },
    {
      "cell_type": "markdown",
      "source": [
        "# Rename Key"
      ],
      "metadata": {
        "id": "OVrbXPEI_7K0"
      }
    },
    {
      "cell_type": "code",
      "source": [
        "fruits = {\n",
        "    \"apples\": 10,\n",
        "    \"bananas\": 20,\n",
        "    \"mangoes\": 15,\n",
        "    \"oranges\": 200,\n",
        "    \"watermelons\": 50\n",
        "}\n",
        "\n",
        "key = input()\n",
        "new_key = input()\n",
        "\n",
        "fruits_list = list(fruits.items())\n",
        "fruits_list_copy = fruits_list.copy()\n",
        "for i in range(len(fruits_list)):\n",
        "    if fruits_list[i][0] == key:\n",
        "        update = (new_key , fruits_list[i][1])\n",
        "        fruits_list_copy[i] = update\n",
        "print(fruits_list_copy)\n"
      ],
      "metadata": {
        "colab": {
          "base_uri": "https://localhost:8080/"
        },
        "id": "6hxXXBRG_9xf",
        "outputId": "f6299e2d-0b18-41fc-abe3-4ebbd9ec1a0f"
      },
      "execution_count": 8,
      "outputs": [
        {
          "output_type": "stream",
          "name": "stdout",
          "text": [
            "apples\n",
            "pomegranates\n",
            "[('pomegranates', 10), ('bananas', 20), ('mangoes', 15), ('oranges', 200), ('watermelons', 50)]\n"
          ]
        }
      ]
    },
    {
      "cell_type": "markdown",
      "source": [
        "# Combine Two Dictionaries"
      ],
      "metadata": {
        "id": "NXKz1KSi_-o5"
      }
    },
    {
      "cell_type": "code",
      "source": [
        "def convert_to_int(num):\n",
        "    num_list = []\n",
        "    for i in num:\n",
        "        num_list.append(int(i))\n",
        "    return num_list\n",
        "\n",
        "def convert_key_value_to_dict(keys,values):\n",
        "    dict_a = {}\n",
        "    for i in range(len(keys)):\n",
        "        dict_a[str(keys[i])] = values[i]\n",
        "    return dict_a\n",
        "\n",
        "\n",
        "dict_a_keys = input().split()\n",
        "dict_a_values = input().split()\n",
        "dict_b_keys = input().split()\n",
        "dict_b_values = input().split()\n",
        "\n",
        "dict_a_values = convert_to_int(dict_a_values)\n",
        "dict_b_values = convert_to_int(dict_b_values)\n",
        "\n",
        "student_1 = convert_key_value_to_dict(dict_a_keys,dict_a_values)\n",
        "student_2 = convert_key_value_to_dict(dict_b_keys,dict_b_values)\n",
        "\n",
        "student_1.update(student_2)\n",
        "student = list(student_1.items())\n",
        "student = sorted(student)\n",
        "print(student)\n",
        "\n"
      ],
      "metadata": {
        "colab": {
          "base_uri": "https://localhost:8080/"
        },
        "id": "0DxLg8wBACzX",
        "outputId": "23989396-daae-4b87-91b8-8043110661f5"
      },
      "execution_count": 9,
      "outputs": [
        {
          "output_type": "stream",
          "name": "stdout",
          "text": [
            "Akhil Ram Raju Mohan\n",
            "1 10 15 18\n",
            "Gopal Krishna Vani Ram\n",
            "21 22 19 20\n",
            "[('Akhil', 1), ('Gopal', 21), ('Krishna', 22), ('Mohan', 18), ('Raju', 15), ('Ram', 20), ('Vani', 19)]\n"
          ]
        }
      ]
    },
    {
      "cell_type": "markdown",
      "source": [
        "# consecutive sum triangle"
      ],
      "metadata": {
        "id": "KHBq1cgzAD1C"
      }
    },
    {
      "cell_type": "code",
      "source": [
        "def convert_to_int(num):\n",
        "    num_list = []\n",
        "    for i in num:\n",
        "        num_list.append(int(i))\n",
        "    return num_list\n",
        "\n",
        "def con_sum(numbers):\n",
        "    list_a = []\n",
        "    for i in range(len(numbers) - 1):\n",
        "        sum_of_num = numbers[i] + numbers[i + 1]\n",
        "        list_a.append(sum_of_num)\n",
        "    numbers = list_a\n",
        "    return list_a\n",
        "\n",
        "int_list = input().split(\",\")\n",
        "int_list = convert_to_int(int_list)\n",
        "print(int_list)\n",
        "\n",
        "while len(int_list) > 1:\n",
        "    con_sum_list = con_sum(int_list)\n",
        "    print(con_sum_list)\n",
        "    int_list = con_sum_list\n"
      ],
      "metadata": {
        "colab": {
          "base_uri": "https://localhost:8080/"
        },
        "id": "AEexZ_VUAKna",
        "outputId": "bd126398-511b-4673-d67e-672e9638388d"
      },
      "execution_count": 10,
      "outputs": [
        {
          "output_type": "stream",
          "name": "stdout",
          "text": [
            "3,5,7,9\n",
            "[3, 5, 7, 9]\n",
            "[8, 12, 16]\n",
            "[20, 28]\n",
            "[48]\n"
          ]
        }
      ]
    },
    {
      "cell_type": "markdown",
      "source": [
        "# Grouping scores"
      ],
      "metadata": {
        "id": "kcQNZPJ8APJj"
      }
    },
    {
      "cell_type": "code",
      "source": [
        "def get_score(group_score):\n",
        "    dict_a = {}\n",
        "    for item in group_score:\n",
        "        pair = item.split(\":\")\n",
        "        key, value = pair[0],int(pair[1])\n",
        "        if key in dict_a:\n",
        "            score = dict_a[key]\n",
        "            dict_a[key] = score + value\n",
        "        else:\n",
        "            dict_a[key] = value\n",
        "    return dict_a\n",
        "\n",
        "\n",
        "group_score = input().split(\",\")\n",
        "score = get_score(group_score)\n",
        "score = score.items()\n",
        "score = sorted(score)\n",
        "print(score)"
      ],
      "metadata": {
        "colab": {
          "base_uri": "https://localhost:8080/"
        },
        "id": "-JY7Osy1ATOa",
        "outputId": "c52eeb66-2cdf-4aed-f49d-2ebf6037e6fa"
      },
      "execution_count": 11,
      "outputs": [
        {
          "output_type": "stream",
          "name": "stdout",
          "text": [
            "r:1,b:2,r:3\n",
            "[('b', 2), ('r', 4)]\n"
          ]
        }
      ]
    }
  ]
}