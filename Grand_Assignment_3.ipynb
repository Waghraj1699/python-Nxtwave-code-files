{
  "nbformat": 4,
  "nbformat_minor": 0,
  "metadata": {
    "colab": {
      "provenance": []
    },
    "kernelspec": {
      "name": "python3",
      "display_name": "Python 3"
    },
    "language_info": {
      "name": "python"
    }
  },
  "cells": [
    {
      "cell_type": "markdown",
      "source": [
        "# Prefix and Suffix"
      ],
      "metadata": {
        "id": "cDyw6McN0lnc"
      }
    },
    {
      "cell_type": "code",
      "execution_count": null,
      "metadata": {
        "id": "AIqx-abHXmDn",
        "colab": {
          "base_uri": "https://localhost:8080/"
        },
        "outputId": "affbac38-6de8-4c98-e229-c9d90c5311a9"
      },
      "outputs": [
        {
          "output_type": "stream",
          "name": "stdout",
          "text": [
            "ramisgood\n",
            "goodforall\n",
            "good\n"
          ]
        }
      ],
      "source": [
        "str_1 = input()\n",
        "str_2 = input()\n",
        "\n",
        "check = \"\"\n",
        "for i in str_2:\n",
        "    if not(str_1.endswith(check) and check != \"\"):\n",
        "        check += i\n",
        "\n",
        "if str_1.endswith(check) == str_2.startswith(check):\n",
        "    print(check)\n",
        "else:\n",
        "    print(\"No overlapping\")"
      ]
    },
    {
      "cell_type": "markdown",
      "source": [
        "# Remove Words"
      ],
      "metadata": {
        "id": "xp3BddAp4oRo"
      }
    },
    {
      "cell_type": "code",
      "source": [
        "str_a = input()\n",
        "k = int(input())\n",
        "\n",
        "list_of_words = str_a.split()\n",
        "result = \"\"\n",
        "\n",
        "for i in list_of_words:\n",
        "    if len(i) != k :\n",
        "        result += i + \" \"\n",
        "\n",
        "print(result)"
      ],
      "metadata": {
        "colab": {
          "base_uri": "https://localhost:8080/"
        },
        "id": "R_XpSZvL4qT1",
        "outputId": "3df3f846-ff09-4727-c1c1-e35f503db838"
      },
      "execution_count": null,
      "outputs": [
        {
          "output_type": "stream",
          "name": "stdout",
          "text": [
            "Tea is good for you\n",
            "3\n",
            "is good \n"
          ]
        }
      ]
    },
    {
      "cell_type": "markdown",
      "source": [
        "# Shift Numbers\n"
      ],
      "metadata": {
        "id": "-ryZG4lD4wHa"
      }
    },
    {
      "cell_type": "code",
      "source": [
        "str_a = input()\n",
        "\n",
        "char = \"\"\n",
        "num = \"\"\n",
        "\n",
        "for i in str_a:\n",
        "    if i.isdigit():\n",
        "        num += i\n",
        "    elif i.isalpha():\n",
        "        char += i\n",
        "result = char + num\n",
        "\n",
        "print(result)"
      ],
      "metadata": {
        "colab": {
          "base_uri": "https://localhost:8080/"
        },
        "id": "XNBI5Em98dLH",
        "outputId": "fc7fbf9b-b51f-4486-cac8-1dd0e40a3cc4"
      },
      "execution_count": null,
      "outputs": [
        {
          "output_type": "stream",
          "name": "stdout",
          "text": [
            "1good23morning456\n",
            "goodmorning123456\n"
          ]
        }
      ]
    },
    {
      "cell_type": "markdown",
      "source": [
        "# Anti Diagonals\n"
      ],
      "metadata": {
        "id": "LwDpBkN4Grqb"
      }
    },
    {
      "cell_type": "code",
      "source": [
        "def get_anti_diagonals(matrix,m,n):\n",
        "    for col in range(n):\n",
        "        anti_diagonal = []\n",
        "        for row in range(m):\n",
        "            k = col - row\n",
        "            if k >= 0 and k <= col:\n",
        "                anti_diagonal.append(matrix[row][k])\n",
        "        for item in anti_diagonal:\n",
        "            print(item,end=\" \")\n",
        "        print()\n",
        "\n",
        "    for row in range(1,m):\n",
        "        anti_diagonal = []\n",
        "        for col in range(n):\n",
        "            k = row + col\n",
        "            if k < m and col >= 0:\n",
        "                anti_diagonal.append(matrix[k][n - col - 1])\n",
        "        for item in anti_diagonal:\n",
        "            print(item,end=\" \")\n",
        "        print()\n",
        "\n",
        "def convert_to_int(num):\n",
        "    num_list = []\n",
        "    for i in num:\n",
        "        num_list.append(int(i))\n",
        "    return num_list\n",
        "\n",
        "m , n = input().split()\n",
        "m , n = int(m) , int(n)\n",
        "num_list = []\n",
        "\n",
        "for i in range(m):\n",
        "    list_a = input().split()\n",
        "    list_a = convert_to_int(list_a)\n",
        "    num_list.append(list_a)\n",
        "\n",
        "get_anti_diagonals(num_list,m,n)\n",
        "\n"
      ],
      "metadata": {
        "id": "rOJBD7zeGu5U",
        "colab": {
          "base_uri": "https://localhost:8080/"
        },
        "outputId": "5461218d-e1bd-4a12-d59d-ab2dcf8caad6"
      },
      "execution_count": 2,
      "outputs": [
        {
          "output_type": "stream",
          "name": "stdout",
          "text": [
            "2 3\n",
            "1 5 5\n",
            "2 7 8\n",
            "1 \n",
            "5 2 \n",
            "5 7 \n",
            "8 \n"
          ]
        }
      ]
    },
    {
      "cell_type": "markdown",
      "source": [
        "# Word count"
      ],
      "metadata": {
        "id": "r6zsUQH7GwjQ"
      }
    },
    {
      "cell_type": "code",
      "source": [
        "str_a = input()\n",
        "str_a = str_a.split()\n",
        "str_a_list = str_a\n",
        "list_of_words = []\n",
        "\n",
        "for i in str_a:\n",
        "    word = i.strip(\", \")\n",
        "    if word != \"\" and word not in list_of_words:\n",
        "        list_of_words.append(word)\n",
        "\n",
        "for i in list_of_words:\n",
        "    count = str_a_list.count(i)\n",
        "    msg = \"{}: {}\".format(i,count)\n",
        "    print(msg)\n"
      ],
      "metadata": {
        "colab": {
          "base_uri": "https://localhost:8080/"
        },
        "id": "Do_lE7SnGz47",
        "outputId": "a4661bb5-b3eb-4763-c028-1a7ebc2c07c1"
      },
      "execution_count": null,
      "outputs": [
        {
          "output_type": "stream",
          "name": "stdout",
          "text": [
            "Hello world welcome to python world\n",
            "Hello: 1\n",
            "world: 2\n",
            "welcome: 1\n",
            "to: 1\n",
            "python: 1\n"
          ]
        }
      ]
    },
    {
      "cell_type": "markdown",
      "source": [
        "# Word count - 2"
      ],
      "metadata": {
        "id": "lhjqmxUqG3oA"
      }
    },
    {
      "cell_type": "code",
      "source": [
        "str_a = input()\n",
        "str_a = str_a.split()\n",
        "set_a = set(str_a)\n",
        "\n",
        "dict_a = {}\n",
        "\n",
        "for i in set_a:\n",
        "    dict_a[i] = str_a.count(i)\n",
        "\n",
        "dict_items = dict_a.items()\n",
        "sorted_list = sorted(dict_items)\n",
        "for i,j in sorted_list:\n",
        "    print(\"{}: {}\".format(i,j))\n"
      ],
      "metadata": {
        "colab": {
          "base_uri": "https://localhost:8080/"
        },
        "id": "PO8JpEzmG56A",
        "outputId": "d645ef5c-d3ea-40af-debc-0f80230a7cf9"
      },
      "execution_count": null,
      "outputs": [
        {
          "output_type": "stream",
          "name": "stdout",
          "text": [
            "Hello world welcome to python world\n",
            "Hello: 1\n",
            "python: 1\n",
            "to: 1\n",
            "welcome: 1\n",
            "world: 2\n"
          ]
        }
      ]
    },
    {
      "cell_type": "markdown",
      "source": [
        "# Simple Calculator - 2"
      ],
      "metadata": {
        "id": "G3TLIXG_G66d"
      }
    },
    {
      "cell_type": "code",
      "source": [
        "str_a = input()\n",
        "str_a = str_a.split()\n",
        "a = int(str_a[0])\n",
        "b = int(str_a[2])\n",
        "operator = str_a[1]\n",
        "\n",
        "if operator == \"+\":\n",
        "    print(a+b)\n",
        "elif operator == \"-\":\n",
        "    print(a-b)\n",
        "elif operator == \"*\":\n",
        "    print(a*b)\n",
        "elif operator == \"/\":\n",
        "    print(a / b)\n",
        "elif operator == \"%\":\n",
        "    print(a % b)"
      ],
      "metadata": {
        "colab": {
          "base_uri": "https://localhost:8080/"
        },
        "id": "kjz2LotbHCva",
        "outputId": "3ded77b2-08e7-4ae9-bf32-9ca4be000e96"
      },
      "execution_count": null,
      "outputs": [
        {
          "output_type": "stream",
          "name": "stdout",
          "text": [
            "5 - 3\n",
            "2\n"
          ]
        }
      ]
    },
    {
      "cell_type": "markdown",
      "source": [
        "# Tic Tac Toe Game"
      ],
      "metadata": {
        "id": "Wo-wHvfXHQrF"
      }
    },
    {
      "cell_type": "code",
      "source": [
        "def check_winner(list_a):\n",
        "    for i in range(3):\n",
        "        if (list_a[0][i] == list_a[1][i] == list_a[2][i] == \"O\") or (list_a[i][0] == list_a[i][1] == list_a[i][2] == \"O\") or (list_a[0][0] == list_a[1][1] == list_a[2][2] == \"O\") or (list_a[0][2] == list_a[1][1] == list_a[2][0] == \"O\"):\n",
        "            return \"Abhinav Wins\"\n",
        "        elif (list_a[0][i] == list_a[1][i] == list_a[2][i] == \"X\") or (list_a[i][0] == list_a[i][1] == list_a[i][2] == \"X\") or (list_a[0][0] == list_a[1][1] == list_a[2][2] == \"X\") or (list_a[0][2] == list_a[1][1] == list_a[2][0] == \"X\"):\n",
        "            return \"Anjali Wins\"\n",
        "\n",
        "    return \"Tie\"\n",
        "\n",
        "list_a = []\n",
        "for i in range(3):\n",
        "    m = input().split()\n",
        "    list_a.append(m)\n",
        "\n",
        "result = check_winner(list_a)\n",
        "print(result)\n",
        ""
      ],
      "metadata": {
        "id": "QTR6FvwqHbHw",
        "colab": {
          "base_uri": "https://localhost:8080/"
        },
        "outputId": "923ebe60-d883-464b-f997-b41a9f5af3a5"
      },
      "execution_count": 1,
      "outputs": [
        {
          "output_type": "stream",
          "name": "stdout",
          "text": [
            "O O X\n",
            "X X O\n",
            "X O O\n",
            "Anjali Wins\n"
          ]
        }
      ]
    }
  ]
}