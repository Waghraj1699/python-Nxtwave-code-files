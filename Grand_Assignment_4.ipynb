{
  "nbformat": 4,
  "nbformat_minor": 0,
  "metadata": {
    "colab": {
      "provenance": []
    },
    "kernelspec": {
      "name": "python3",
      "display_name": "Python 3"
    },
    "language_info": {
      "name": "python"
    }
  },
  "cells": [
    {
      "cell_type": "markdown",
      "source": [
        "# String Roration"
      ],
      "metadata": {
        "id": "AzYpiylWjeUp"
      }
    },
    {
      "cell_type": "code",
      "execution_count": 6,
      "metadata": {
        "id": "dB8PrXlfSfLU",
        "colab": {
          "base_uri": "https://localhost:8080/"
        },
        "outputId": "c5eee99d-d0dd-4c19-d1f5-17dfb7561f70"
      },
      "outputs": [
        {
          "output_type": "stream",
          "name": "stdout",
          "text": [
            "python \n",
            "onpyth\n",
            "No Match\n"
          ]
        }
      ],
      "source": [
        "def get_count(str_1,str_2):\n",
        "    if len(str_1) != len(str_2) or (str_1 == str_2.lower()):\n",
        "        return \"No Match\"\n",
        "    for i in range(len(str_2)):\n",
        "        rotated_string = str_2[i:] + str_2[:i]\n",
        "        if rotated_string == str_1:\n",
        "            return i\n",
        "\n",
        "str_1 = input()\n",
        "str_2 = input()\n",
        "result = get_count(str_1,str_2)\n",
        "print(result)\n",
        "\n",
        ""
      ]
    },
    {
      "cell_type": "markdown",
      "source": [
        "# Ordered Matrix"
      ],
      "metadata": {
        "id": "s1cMveRVjk8E"
      }
    },
    {
      "cell_type": "code",
      "source": [
        "def convert_to_int(num):\n",
        "    num_list = []\n",
        "    for i in num:\n",
        "        num_list.append(int(i))\n",
        "    return num_list\n",
        "\n",
        "def get_matrix(num_list):\n",
        "    matrix = []\n",
        "    for i in range(len(num_list)):\n",
        "        for j in range(len(num_list[i])):\n",
        "            matrix.append(num_list[i][j])\n",
        "    matrix.sort()\n",
        "    m = len(num_list)\n",
        "    n = len(num_list[0])\n",
        "    index = 0\n",
        "    for i in range(m):\n",
        "        row = \"\"\n",
        "        for j in range(n):\n",
        "            row += str(matrix[index]) + \" \"\n",
        "            index += 1\n",
        "        print(row)\n",
        "\n",
        "m,n = input().split()\n",
        "m,n = int(m),int(n)\n",
        "num_list = []\n",
        "for i in range(m):\n",
        "    list_a = input().split()\n",
        "    list_a = convert_to_int(list_a)\n",
        "    num_list.append(list_a)\n",
        "\n",
        "get_matrix(num_list)\n",
        "\n",
        ""
      ],
      "metadata": {
        "colab": {
          "base_uri": "https://localhost:8080/"
        },
        "id": "55IkMKh-0DbS",
        "outputId": "6a85b6e5-3fc0-412b-8c6b-58298a0c73cc"
      },
      "execution_count": 7,
      "outputs": [
        {
          "output_type": "stream",
          "name": "stdout",
          "text": [
            "3 3\n",
            "1 20 3\n",
            "30 10 2\n",
            "5 11 15\n",
            "1 2 3 \n",
            "5 10 11 \n",
            "15 20 30 \n"
          ]
        }
      ]
    },
    {
      "cell_type": "markdown",
      "source": [
        "# First perfect Square"
      ],
      "metadata": {
        "id": "r02KUn9z0EaJ"
      }
    },
    {
      "cell_type": "code",
      "source": [
        "def get_perfect_square(a,b):\n",
        "    for i in range(a , b + 1):\n",
        "        if (i ** 0.5) == int(i ** 0.5):\n",
        "            return i\n",
        "    return \"No Perfect Square\"\n",
        "\n",
        "a = int(input())\n",
        "b = int(input())\n",
        "\n",
        "result = get_perfect_square(a,b)\n",
        "print(result)\n"
      ],
      "metadata": {
        "id": "e4v9KabG0Ipb"
      },
      "execution_count": null,
      "outputs": []
    },
    {
      "cell_type": "markdown",
      "source": [
        "# Numbers in String - 1"
      ],
      "metadata": {
        "id": "oCr9xl360Jj2"
      }
    },
    {
      "cell_type": "code",
      "source": [
        "str_a = input()\n",
        "list_a = []\n",
        "\n",
        "for i in str_a:\n",
        "    if i.isdigit():\n",
        "        list_a.append(int(i))\n",
        "\n",
        "sum_of_number = sum(list_a)\n",
        "avg = sum_of_number / len(list_a)\n",
        "print(sum_of_number)\n",
        "print(round(avg,2))"
      ],
      "metadata": {
        "colab": {
          "base_uri": "https://localhost:8080/"
        },
        "id": "Uy4r39D50NmI",
        "outputId": "17814743-544c-4118-916f-5e7eae1c33cf"
      },
      "execution_count": 4,
      "outputs": [
        {
          "output_type": "stream",
          "name": "stdout",
          "text": [
            "I am 25 years and 10 months old\n",
            "8\n",
            "2.0\n"
          ]
        }
      ]
    },
    {
      "cell_type": "markdown",
      "source": [
        "# Numbers in string - 2"
      ],
      "metadata": {
        "id": "rFgxzhO_0OPf"
      }
    },
    {
      "cell_type": "code",
      "source": [
        "str_a = input().split()\n",
        "list_a = []\n",
        "for i in str_a:\n",
        "    if i.isdigit():\n",
        "        list_a.append(int(i))\n",
        "    else:\n",
        "        num = \"\"\n",
        "        for j in i:\n",
        "            if j.isdigit():\n",
        "                num += j\n",
        "            else:\n",
        "                if num:\n",
        "                    list_a.append(int(num))\n",
        "                    num = \"\"\n",
        "        if num:\n",
        "            list_a.append(int(num))\n",
        "sum_of_number = sum(list_a)\n",
        "avg_of_number = sum_of_number / len(list_a)\n",
        "avg_of_number = round(avg_of_number,2)\n",
        "\n",
        "print(sum_of_number)\n",
        "print(avg_of_number)"
      ],
      "metadata": {
        "colab": {
          "base_uri": "https://localhost:8080/"
        },
        "id": "tntEf30z0RDg",
        "outputId": "a30634c0-75c3-4245-fd98-6309a7e4b360"
      },
      "execution_count": 8,
      "outputs": [
        {
          "output_type": "stream",
          "name": "stdout",
          "text": [
            "I am 25 years and 10 months old\n",
            "35\n",
            "17.5\n"
          ]
        }
      ]
    }
  ]
}