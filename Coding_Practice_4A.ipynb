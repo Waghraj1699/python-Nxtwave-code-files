{
  "nbformat": 4,
  "nbformat_minor": 0,
  "metadata": {
    "colab": {
      "provenance": []
    },
    "kernelspec": {
      "name": "python3",
      "display_name": "Python 3"
    },
    "language_info": {
      "name": "python"
    }
  },
  "cells": [
    {
      "cell_type": "code",
      "execution_count": 12,
      "metadata": {
        "colab": {
          "base_uri": "https://localhost:8080/"
        },
        "id": "glz4DCI1CCg-",
        "outputId": "827d03cd-7019-4c39-b335-8dee82455ece"
      },
      "outputs": [
        {
          "output_type": "stream",
          "name": "stdout",
          "text": [
            "5\n",
            "10\n",
            "5\n"
          ]
        }
      ],
      "source": [
        "# find the remainder\n",
        "\n",
        "a = int(input())\n",
        "b = int(input())\n",
        "\n",
        "remainder = a % b\n",
        "\n",
        "print(remainder)"
      ]
    },
    {
      "cell_type": "code",
      "source": [
        "# divisible by 7\n",
        "\n",
        "number = int(input())\n",
        "\n",
        "is_divisible_by_7 = (number % 7 == 0)\n",
        "\n",
        "if is_divisible_by_7:\n",
        "    print(\"Divisible by Seven\")\n",
        "else:\n",
        "    print(\"Not Divisible by Seven\")"
      ],
      "metadata": {
        "colab": {
          "base_uri": "https://localhost:8080/"
        },
        "id": "4MC74FeDCt7e",
        "outputId": "98a75d7c-ab04-49e6-84e9-c5da79f0dcbf"
      },
      "execution_count": 11,
      "outputs": [
        {
          "output_type": "stream",
          "name": "stdout",
          "text": [
            "7\n",
            "Divisible by Seven\n"
          ]
        }
      ]
    },
    {
      "cell_type": "code",
      "source": [
        "# Quotient and remainder\n",
        "\n",
        "a = int(input())\n",
        "b = int(input())\n",
        "\n",
        "quotient = int(a / b)\n",
        "remainder = a % b\n",
        "\n",
        "print(quotient)\n",
        "print(remainder)"
      ],
      "metadata": {
        "colab": {
          "base_uri": "https://localhost:8080/"
        },
        "id": "urVPOYzxCxI3",
        "outputId": "af1490fb-da39-4ac7-a654-18bb53f3e94c"
      },
      "execution_count": 10,
      "outputs": [
        {
          "output_type": "stream",
          "name": "stdout",
          "text": [
            "5\n",
            "8\n",
            "0\n",
            "5\n"
          ]
        }
      ]
    },
    {
      "cell_type": "code",
      "source": [
        "# Even or odd\n",
        "\n",
        "number = int(input())\n",
        "\n",
        "if number % 2 == 0:\n",
        "    print(\"Even\")\n",
        "else:\n",
        "    print(\"Odd\")"
      ],
      "metadata": {
        "colab": {
          "base_uri": "https://localhost:8080/"
        },
        "id": "sN8yl3ujC0Wj",
        "outputId": "6c5576dc-0de4-45b1-f6ba-8d3d5ec670c4"
      },
      "execution_count": 9,
      "outputs": [
        {
          "output_type": "stream",
          "name": "stdout",
          "text": [
            "5\n",
            "Odd\n"
          ]
        }
      ]
    },
    {
      "cell_type": "code",
      "source": [
        "# greatest among remainders\n",
        "\n",
        "number = int(input())\n",
        "\n",
        "remainder_when_divided_4 = number % 4\n",
        "remainder_when_divided_5 = number % 5\n",
        "\n",
        "greatest_remainder = remainder_when_divided_4 > remainder_when_divided_5\n",
        "\n",
        "if greatest_remainder:\n",
        "    print(remainder_when_divided_4)\n",
        "else:\n",
        "    print(remainder_when_divided_5)"
      ],
      "metadata": {
        "colab": {
          "base_uri": "https://localhost:8080/"
        },
        "id": "sW90uHXtC21Z",
        "outputId": "978f40bb-982e-4ea3-abd7-635bb74abf21"
      },
      "execution_count": 8,
      "outputs": [
        {
          "output_type": "stream",
          "name": "stdout",
          "text": [
            "12\n",
            "2\n"
          ]
        }
      ]
    },
    {
      "cell_type": "code",
      "source": [
        "# special eleven\n",
        "\n",
        "number = int(input())\n",
        "\n",
        "check_remainder_0_or_1 = (number % 11 == 0) or (number % 11 == 1)\n",
        "\n",
        "if check_remainder_0_or_1:\n",
        "    print(\"Special Eleven\")\n",
        "else:\n",
        "    print(\"Normal Number\")"
      ],
      "metadata": {
        "colab": {
          "base_uri": "https://localhost:8080/"
        },
        "id": "7KlVuhHJC7n-",
        "outputId": "7586c5ba-d440-48ee-de89-157e95304285"
      },
      "execution_count": 7,
      "outputs": [
        {
          "output_type": "stream",
          "name": "stdout",
          "text": [
            "22\n",
            "Special Eleven\n"
          ]
        }
      ]
    },
    {
      "cell_type": "code",
      "source": [
        "# 2 digits divisible by number\n",
        "\n",
        "number = int(input())\n",
        "N = str(number)\n",
        "\n",
        "first_digit = int(N[0])\n",
        "second_digit = int(N[1])\n",
        "\n",
        "is_divisible_by_first_digit = (number % first_digit == 0)\n",
        "is_divisible_by_second_digit = (number % second_digit == 0)\n",
        "\n",
        "condition = is_divisible_by_first_digit and is_divisible_by_second_digit\n",
        "\n",
        "if condition:\n",
        "    print(number * 2)\n",
        "else:\n",
        "    print(number)"
      ],
      "metadata": {
        "colab": {
          "base_uri": "https://localhost:8080/"
        },
        "id": "D-TWwkfPDCPB",
        "outputId": "12f8f848-2336-4a1e-83d4-d3f035c64d89"
      },
      "execution_count": 6,
      "outputs": [
        {
          "output_type": "stream",
          "name": "stdout",
          "text": [
            "15\n",
            "30\n"
          ]
        }
      ]
    },
    {
      "cell_type": "code",
      "source": [
        "# lucky number - 2\n",
        "\n",
        "number = int(input())\n",
        "\n",
        "N = str(number)\n",
        "first_digit = int(N[0])\n",
        "second_digit = int(N[1])\n",
        "\n",
        "x = (number % 9 == 0)\n",
        "y = (first_digit == 9) or (second_digit == 9)\n",
        "\n",
        "if x or y:\n",
        "    print(\"Lucky Number\")\n",
        "else:\n",
        "    print(\"Unlucky Number\")"
      ],
      "metadata": {
        "colab": {
          "base_uri": "https://localhost:8080/"
        },
        "id": "-XYzajyGDMyH",
        "outputId": "21c761b0-b93d-4265-e0a2-82aa2991a20b"
      },
      "execution_count": 5,
      "outputs": [
        {
          "output_type": "stream",
          "name": "stdout",
          "text": [
            "18\n",
            "Lucky Number\n"
          ]
        }
      ]
    },
    {
      "cell_type": "code",
      "source": [
        "# special string\n",
        "\n",
        "string = input()\n",
        "\n",
        "first_three_characters = string[0:3]\n",
        "number = int(string[3:])\n",
        "\n",
        "x = first_three_characters == \"NXT\"\n",
        "y = (number % 2 == 0) or (number % 7 == 0)\n",
        "\n",
        "if x and y:\n",
        "    print(\"Special String\")\n",
        "else:\n",
        "    print(\"Not a Special String\")"
      ],
      "metadata": {
        "colab": {
          "base_uri": "https://localhost:8080/"
        },
        "id": "ojYmLPhQDQWf",
        "outputId": "641f5718-f6d3-493f-faeb-52776ad6b19a"
      },
      "execution_count": 4,
      "outputs": [
        {
          "output_type": "stream",
          "name": "stdout",
          "text": [
            "NXT1234\n",
            "Special String\n"
          ]
        }
      ]
    },
    {
      "cell_type": "code",
      "source": [
        "# pair of numbers - 2\n",
        "\n",
        "a = int(input())\n",
        "b = int(input())\n",
        "\n",
        "x = (a % 3 == 0) and (b % 3 == 0)\n",
        "y = (a % 12 == 0) or (b % 12 == 0)\n",
        "\n",
        "if x and y:\n",
        "    print(\"Pair\")\n",
        "else:\n",
        "    print(\"Not a Pair\")"
      ],
      "metadata": {
        "colab": {
          "base_uri": "https://localhost:8080/"
        },
        "id": "4MyxQOzpDTfv",
        "outputId": "4545fe95-2bca-4a0d-a52d-8bac0c90003a"
      },
      "execution_count": 3,
      "outputs": [
        {
          "output_type": "stream",
          "name": "stdout",
          "text": [
            "15\n",
            "240\n",
            "Pair\n"
          ]
        }
      ]
    },
    {
      "cell_type": "code",
      "source": [
        "# lucky number - 3\n",
        "\n",
        "a = int(input())\n",
        "\n",
        "if a%6 == 0:\n",
        "    print(\"Number is divisible by 6\")\n",
        "if a%3 == 0 and a%6 != 0:\n",
        "    print(\"Number is divisible by 3\")\n",
        "if a%2 == 0 and a%6 != 0:\n",
        "    print(\"Number is divisible by 2\")\n",
        "if a%2 != 0 and a%3 != 0:\n",
        "    print(\"Number is not divisible by 2, 3 or 6\")"
      ],
      "metadata": {
        "colab": {
          "base_uri": "https://localhost:8080/"
        },
        "id": "8vxnhiBYDWpy",
        "outputId": "79c1b7ca-0173-4a13-f5d3-c265e63705f7"
      },
      "execution_count": 2,
      "outputs": [
        {
          "output_type": "stream",
          "name": "stdout",
          "text": [
            "126\n",
            "Number is divisible by 6\n"
          ]
        }
      ]
    },
    {
      "cell_type": "code",
      "source": [
        "# special number\n",
        "\n",
        "number = int(input())\n",
        "\n",
        "digits = str(number)\n",
        "\n",
        "first_digit = int(digits[0])\n",
        "second_digit = int(digits[1])\n",
        "\n",
        "x = (first_digit + second_digit) == 7\n",
        "y = (first_digit == 7) or (second_digit == 7)\n",
        "z = (number % 7) == 0\n",
        "\n",
        "if x or y or z:\n",
        "    print(\"Special Number\")\n",
        "else:\n",
        "    print(\"Normal Number\")"
      ],
      "metadata": {
        "colab": {
          "base_uri": "https://localhost:8080/"
        },
        "id": "5QGfKcBjDbNI",
        "outputId": "2d4cc6ee-f5f9-43d1-96d8-421234f6f751"
      },
      "execution_count": 1,
      "outputs": [
        {
          "output_type": "stream",
          "name": "stdout",
          "text": [
            "67\n",
            "Special Number\n"
          ]
        }
      ]
    }
  ]
}