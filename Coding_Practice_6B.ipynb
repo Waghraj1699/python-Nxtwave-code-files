{
  "nbformat": 4,
  "nbformat_minor": 0,
  "metadata": {
    "colab": {
      "provenance": []
    },
    "kernelspec": {
      "name": "python3",
      "display_name": "Python 3"
    },
    "language_info": {
      "name": "python"
    }
  },
  "cells": [
    {
      "cell_type": "code",
      "execution_count": 1,
      "metadata": {
        "colab": {
          "base_uri": "https://localhost:8080/"
        },
        "id": "ljXhXYYb1tyZ",
        "outputId": "7d4998b9-a781-463c-c73d-b1a413eedca7"
      },
      "outputs": [
        {
          "output_type": "stream",
          "name": "stdout",
          "text": [
            "5\n",
            "Group A\n"
          ]
        }
      ],
      "source": [
        "# Find the group\n",
        "\n",
        "n = int(input())\n",
        "\n",
        "is_group_a = (n == 1) or (n == 3) or (n == 5) or (n == 7) or (n == 9)\n",
        "is_group_b = (n == 2) or (n == 4) or (n == 6) or (n == 8) or (n == 10)\n",
        "\n",
        "if is_group_a:\n",
        "    print(\"Group A\")\n",
        "elif is_group_b:\n",
        "    print(\"Group B\")"
      ]
    },
    {
      "cell_type": "code",
      "source": [
        "# Find the group - 2\n",
        "\n",
        "n = int(input())\n",
        "\n",
        "if n % 6 == 1:\n",
        "    print(\"Group 1\")\n",
        "elif n % 6 == 2:\n",
        "    print(\"Group 2\")\n",
        "elif n % 6 == 3:\n",
        "    print(\"Group 3\")\n",
        "elif n % 6 == 4:\n",
        "    print(\"Group 4\")\n",
        "elif n % 6 == 5:\n",
        "    print(\"Group 5\")\n",
        "elif n % 6 == 0:\n",
        "    print(\"Group 6\")"
      ],
      "metadata": {
        "colab": {
          "base_uri": "https://localhost:8080/"
        },
        "id": "WQ7nUrnV13sU",
        "outputId": "246efec2-8a45-4a80-ce0a-8fe8ecb02cee"
      },
      "execution_count": 2,
      "outputs": [
        {
          "output_type": "stream",
          "name": "stdout",
          "text": [
            "5\n",
            "Group 5\n"
          ]
        }
      ]
    },
    {
      "cell_type": "code",
      "source": [
        "# denominations\n",
        "\n",
        "n = int(input())\n",
        "\n",
        "five = int(n / 5)\n",
        "one = n % 5\n",
        "\n",
        "print(\"5:\" + str(five))\n",
        "print(\"1:\" + str(one))"
      ],
      "metadata": {
        "colab": {
          "base_uri": "https://localhost:8080/"
        },
        "id": "UcH_DARf168v",
        "outputId": "a0686132-3333-45c6-e5e9-8187324d444d"
      },
      "execution_count": 3,
      "outputs": [
        {
          "output_type": "stream",
          "name": "stdout",
          "text": [
            "125\n",
            "5:25\n",
            "1:0\n"
          ]
        }
      ]
    },
    {
      "cell_type": "code",
      "source": [
        "# denominations - 2\n",
        "\n",
        "a = int(input())\n",
        "\n",
        "hundred = int(a / 100)\n",
        "rem_amount = a - (hundred * 100)\n",
        "fifty = int(rem_amount / 50)\n",
        "rem_amount = rem_amount - (fifty * 50)\n",
        "ten = int(rem_amount / 10)\n",
        "rem_amount = rem_amount - (ten * 10)\n",
        "one = int(rem_amount / 1)\n",
        "\n",
        "print(\"100:\" + str(hundred))\n",
        "print(\"50:\" + str(fifty))\n",
        "print(\"10:\" + str(ten))\n",
        "print(\"1:\" + str(one))\n"
      ],
      "metadata": {
        "colab": {
          "base_uri": "https://localhost:8080/"
        },
        "id": "qu2zlhA52BBH",
        "outputId": "8944e6b2-8c5d-44bb-c6d5-25739737139f"
      },
      "execution_count": 5,
      "outputs": [
        {
          "output_type": "stream",
          "name": "stdout",
          "text": [
            "745896\n",
            "100:7458\n",
            "50:1\n",
            "10:4\n",
            "1:6\n"
          ]
        }
      ]
    },
    {
      "cell_type": "code",
      "source": [
        "# denominations - 3\n",
        "\n",
        "amount = int(input())\n",
        "\n",
        "five_hundred = int(amount / 500)\n",
        "remaining_amount = amount - (five_hundred * 500)\n",
        "fifty = int(remaining_amount / 50)\n",
        "remaining_amount = remaining_amount - (fifty * 50)\n",
        "ten = int(remaining_amount / 10)\n",
        "remaining_amount = remaining_amount - (ten * 10)\n",
        "one = remaining_amount\n",
        "\n",
        "print(\"500: \" + str(five_hundred) + \" \" + \"50: \" + str(fifty) + \" \" + \"10: \" + str(ten) + \" \" + \"1: \" + str(one))"
      ],
      "metadata": {
        "colab": {
          "base_uri": "https://localhost:8080/"
        },
        "id": "Ny6SUf_42CTi",
        "outputId": "3d594d73-905f-4ad1-cad5-dddde218476a"
      },
      "execution_count": 4,
      "outputs": [
        {
          "output_type": "stream",
          "name": "stdout",
          "text": [
            "8475\n",
            "500: 16 50: 9 10: 2 1: 5\n"
          ]
        }
      ]
    }
  ]
}