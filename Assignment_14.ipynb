{
  "nbformat": 4,
  "nbformat_minor": 0,
  "metadata": {
    "colab": {
      "provenance": []
    },
    "kernelspec": {
      "name": "python3",
      "display_name": "Python 3"
    },
    "language_info": {
      "name": "python"
    }
  },
  "cells": [
    {
      "cell_type": "markdown",
      "source": [
        "# Numbers in Inverted Right Angled Triangle - 4"
      ],
      "metadata": {
        "id": "WANMHxCSm9gL"
      }
    },
    {
      "cell_type": "code",
      "execution_count": 2,
      "metadata": {
        "colab": {
          "base_uri": "https://localhost:8080/"
        },
        "id": "MiS7kJ5ClUmP",
        "outputId": "9f9eed91-7c6d-47be-dc81-3fabcf840d71"
      },
      "outputs": [
        {
          "output_type": "stream",
          "name": "stdout",
          "text": [
            "15\n",
            "5\n",
            "29 28 27 26 25 \n",
            "  24     21 \n",
            "    20   18 \n",
            "      17 16 \n",
            "        15 \n"
          ]
        }
      ],
      "source": [
        "s = int(input())\n",
        "n = int(input())\n",
        "\n",
        "s = s - 1\n",
        "for k in range(1 , n + 1):\n",
        "    s += k\n",
        "\n",
        "for i in range(1 , n + 1):\n",
        "    if ( i==1 ):\n",
        "        row = \"\"\n",
        "        for j in range(1, n + 1):\n",
        "            row += str(s) + \" \"\n",
        "            s -= 1\n",
        "        print(row)\n",
        "    elif ( i==n ):\n",
        "        spaces = (\" \") * (2 * (i - 1))\n",
        "        row = spaces + str(s) + \" \"\n",
        "        print(row)\n",
        "    else:\n",
        "        spaces = (\" \") * (2 * (i - 1))\n",
        "        row = str(s) + \" \"\n",
        "        hollow_spaces = (\" \") * (2*(n + 1 - i) - 4)\n",
        "        row += hollow_spaces\n",
        "        len_of_hollow_spaces = int(len(hollow_spaces)/2) + 1\n",
        "        s -= len_of_hollow_spaces\n",
        "        row += str(s) + \" \"\n",
        "        s -= 1\n",
        "        print(spaces + row)\n",
        "\n",
        ""
      ]
    },
    {
      "cell_type": "markdown",
      "source": [
        "# Numbers in Inverted Hollow Pyramid"
      ],
      "metadata": {
        "id": "yATnxKx2nd9x"
      }
    },
    {
      "cell_type": "code",
      "source": [
        "s = int(input())\n",
        "n = int(input())\n",
        "\n",
        "for i in range(1 , n + 1 ):\n",
        "    if ( i==1 ):\n",
        "        row = \"\"\n",
        "        for j in range(1 , n + 1):\n",
        "            row += str(s) + \" \"\n",
        "            s += 1\n",
        "        print(row)\n",
        "    elif ( i== n):\n",
        "        spaces = (\" \")*(i - 1)\n",
        "        row = spaces + str(s)\n",
        "        print(row)\n",
        "    else:\n",
        "        row = str(s)\n",
        "        spaces = (\" \")*(i - 1)\n",
        "        hollow_spaces = (\" \")*(2*(n + 1 - i) - 3)\n",
        "        row += hollow_spaces\n",
        "        len_of_hollow_spaces = int(len(hollow_spaces)/2) + 1\n",
        "        s += len_of_hollow_spaces\n",
        "        row += str(s)\n",
        "        s += 1\n",
        "        print(spaces + row)\n",
        ""
      ],
      "metadata": {
        "colab": {
          "base_uri": "https://localhost:8080/"
        },
        "id": "l1eejiHWnlBT",
        "outputId": "308faaaa-7a27-4cd1-dd1f-2090f7c28247"
      },
      "execution_count": 3,
      "outputs": [
        {
          "output_type": "stream",
          "name": "stdout",
          "text": [
            "13\n",
            "6\n",
            "13 14 15 16 17 18 \n",
            " 19       23\n",
            "  24     27\n",
            "   28   30\n",
            "    31 32\n",
            "     33\n"
          ]
        }
      ]
    },
    {
      "cell_type": "markdown",
      "source": [
        "# Numbers in Hollow Diamond"
      ],
      "metadata": {
        "id": "w0VJWUUjnl1r"
      }
    },
    {
      "cell_type": "code",
      "source": [
        "n = int(input())\n",
        "\n",
        "for i in range(1 , n + 1):\n",
        "    if (i==1):\n",
        "        spaces = (\" \") * (n - i)\n",
        "        row = spaces + \"1\"\n",
        "        print(row)\n",
        "    else:\n",
        "        spaces = (\" \") * (n - i)\n",
        "        hollow_spaces = (\" \") * (2*(i) - 3)\n",
        "        row = spaces + \"1\" + hollow_spaces + str(i)\n",
        "        print(row)\n",
        "for j in range(1 , n):\n",
        "    if (j==n - 1):\n",
        "        spaces = (\" \") * j\n",
        "        row = spaces + \"1\"\n",
        "        print(row)\n",
        "    else:\n",
        "        spaces = (\" \") * j\n",
        "        hollow_spaces = (\" \") * (2*(n - j) - 3)\n",
        "        row = spaces + \"1\" + hollow_spaces + str(n - j)\n",
        "        print(row)"
      ],
      "metadata": {
        "colab": {
          "base_uri": "https://localhost:8080/"
        },
        "id": "yM3HVR33nqMu",
        "outputId": "5ff4b0bc-8e89-4721-86d5-7a0b5831d90a"
      },
      "execution_count": 6,
      "outputs": [
        {
          "output_type": "stream",
          "name": "stdout",
          "text": [
            "8\n",
            "       1\n",
            "      1 2\n",
            "     1   3\n",
            "    1     4\n",
            "   1       5\n",
            "  1         6\n",
            " 1           7\n",
            "1             8\n",
            " 1           7\n",
            "  1         6\n",
            "   1       5\n",
            "    1     4\n",
            "     1   3\n",
            "      1 2\n",
            "       1\n"
          ]
        }
      ]
    },
    {
      "cell_type": "markdown",
      "source": [
        "# Sum of Prime Numbers in Inputs"
      ],
      "metadata": {
        "id": "f6TbTNuQnq5w"
      }
    },
    {
      "cell_type": "code",
      "source": [
        "n = int(input())\n",
        "s = 0\n",
        "\n",
        "for i in range(1 , n + 1):\n",
        "    factors = 0\n",
        "    m = int(input())\n",
        "    if m > 1:\n",
        "        for j in range(2 , m):\n",
        "            if m % j == 0:\n",
        "                factors += 1\n",
        "        if factors==0:\n",
        "            s += m\n",
        "print(s)\n",
        ""
      ],
      "metadata": {
        "colab": {
          "base_uri": "https://localhost:8080/"
        },
        "id": "o24pxUvxnvxY",
        "outputId": "dfbedcac-4e9a-4b5d-f49b-d9e4daafd207"
      },
      "execution_count": 5,
      "outputs": [
        {
          "output_type": "stream",
          "name": "stdout",
          "text": [
            "5\n",
            "2\n",
            "5\n",
            "6\n",
            "8\n",
            "3\n",
            "10\n"
          ]
        }
      ]
    }
  ]
}