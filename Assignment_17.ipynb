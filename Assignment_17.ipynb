{
  "nbformat": 4,
  "nbformat_minor": 0,
  "metadata": {
    "colab": {
      "provenance": []
    },
    "kernelspec": {
      "name": "python3",
      "display_name": "Python 3"
    },
    "language_info": {
      "name": "python"
    }
  },
  "cells": [
    {
      "cell_type": "markdown",
      "source": [
        "# Print Characters - 4"
      ],
      "metadata": {
        "id": "CFJY54nwmZ5i"
      }
    },
    {
      "cell_type": "code",
      "execution_count": 1,
      "metadata": {
        "colab": {
          "base_uri": "https://localhost:8080/"
        },
        "id": "Gf24xLKNlLcK",
        "outputId": "ec9b3b0c-e01d-483e-80ae-b8f1fb03fce7"
      },
      "outputs": [
        {
          "output_type": "stream",
          "name": "stdout",
          "text": [
            "words\n",
            "99\n",
            "112\n",
            "o d \n"
          ]
        }
      ],
      "source": [
        "s = input()\n",
        "m = int(input())\n",
        "n = int(input())\n",
        "\n",
        "result = \"\"\n",
        "for i in s:\n",
        "    if ( m <= ord(i) <= n ):\n",
        "        result += i + \" \"\n",
        "\n",
        "print(result)"
      ]
    },
    {
      "cell_type": "markdown",
      "source": [
        "# Unicode value of first digit"
      ],
      "metadata": {
        "id": "eVAkWjkdm5M6"
      }
    },
    {
      "cell_type": "code",
      "source": [
        "s = input()\n",
        "\n",
        "for i in s:\n",
        "    if i.isdigit():\n",
        "        print(ord(i))\n",
        "        break"
      ],
      "metadata": {
        "colab": {
          "base_uri": "https://localhost:8080/"
        },
        "id": "3JysTG_anNmy",
        "outputId": "4b044426-d9dc-4a88-a69a-f8acf567e15f"
      },
      "execution_count": 2,
      "outputs": [
        {
          "output_type": "stream",
          "name": "stdout",
          "text": [
            "python5834\n",
            "53\n"
          ]
        }
      ]
    },
    {
      "cell_type": "markdown",
      "source": [
        "# Replacing Characters of Sentence"
      ],
      "metadata": {
        "id": "Ig9PreqdndRU"
      }
    },
    {
      "cell_type": "code",
      "source": [
        "s = input()\n",
        "result = \"\"\n",
        "\n",
        "for i in s:\n",
        "    if (65 <= ord(i) <= 90):\n",
        "        result += chr(ord(i) + 1)\n",
        "    elif (97 <= ord(i) <= 122):\n",
        "        result += chr(ord(i) + 1)\n",
        "    else:\n",
        "        result += \" \"\n",
        "\n",
        "print(result)\n",
        ""
      ],
      "metadata": {
        "colab": {
          "base_uri": "https://localhost:8080/"
        },
        "id": "eWlVsGYTnn3P",
        "outputId": "f44bdb57-47e5-44ce-98d2-c480739dad0f"
      },
      "execution_count": 3,
      "outputs": [
        {
          "output_type": "stream",
          "name": "stdout",
          "text": [
            "Hello World\n",
            "Ifmmp Xpsme\n"
          ]
        }
      ]
    },
    {
      "cell_type": "markdown",
      "source": [
        "# Replace first letter in words"
      ],
      "metadata": {
        "id": "XvRU6ODWn3DS"
      }
    },
    {
      "cell_type": "code",
      "source": [
        "s = input()\n",
        "word = \"\"\n",
        "result = \"\"\n",
        "\n",
        "for i in range(len(s)):\n",
        "    char = s[i]\n",
        "    word += char\n",
        "    if char == \" \" or i==len(s) - 1:\n",
        "        result += chr(ord(word[0]) + 1) + word[1:]\n",
        "        word += word\n",
        "        word = \"\"\n",
        "\n",
        "print(result)"
      ],
      "metadata": {
        "colab": {
          "base_uri": "https://localhost:8080/"
        },
        "id": "u811hTAon9oQ",
        "outputId": "1baf2b1f-8581-4005-9e71-c8434158ff9f"
      },
      "execution_count": 4,
      "outputs": [
        {
          "output_type": "stream",
          "name": "stdout",
          "text": [
            "East And West\n",
            "Fast Bnd Xest\n"
          ]
        }
      ]
    },
    {
      "cell_type": "markdown",
      "source": [
        "# Print characters in Dictionary order"
      ],
      "metadata": {
        "id": "2-MKExjtoGov"
      }
    },
    {
      "cell_type": "code",
      "source": [
        "s = input()\n",
        "least_value = ord(s[0])\n",
        "highest_value = ord(s[0])\n",
        "\n",
        "for i in s:\n",
        "    if i.isalpha():\n",
        "        unicode_value = ord(i)\n",
        "        if unicode_value < least_value:\n",
        "            least_value = unicode_value\n",
        "        if unicode_value > highest_value:\n",
        "            highest_value = unicode_value\n",
        "\n",
        "print(chr(least_value) + \" \" + chr(highest_value))"
      ],
      "metadata": {
        "colab": {
          "base_uri": "https://localhost:8080/"
        },
        "id": "vsZLeUtDoN7o",
        "outputId": "50bebd37-2046-408a-b3aa-666df2a44296"
      },
      "execution_count": 5,
      "outputs": [
        {
          "output_type": "stream",
          "name": "stdout",
          "text": [
            "Five\n",
            "F v\n"
          ]
        }
      ]
    }
  ]
}