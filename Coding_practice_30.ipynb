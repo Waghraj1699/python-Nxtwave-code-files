{
  "nbformat": 4,
  "nbformat_minor": 0,
  "metadata": {
    "colab": {
      "provenance": []
    },
    "kernelspec": {
      "name": "python3",
      "display_name": "Python 3"
    },
    "language_info": {
      "name": "python"
    }
  },
  "cells": [
    {
      "cell_type": "markdown",
      "source": [
        "# Maximum, Minimum and Sum of Matrix"
      ],
      "metadata": {
        "id": "McPfpFMtpMvw"
      }
    },
    {
      "cell_type": "code",
      "execution_count": 1,
      "metadata": {
        "id": "SwbApflYIY53",
        "colab": {
          "base_uri": "https://localhost:8080/"
        },
        "outputId": "bf67d74a-6c4f-4953-c9e3-3a281052d3f1"
      },
      "outputs": [
        {
          "output_type": "stream",
          "name": "stdout",
          "text": [
            "3 3\n",
            "1 2 3\n",
            "10 20 30\n",
            "5 10 15\n",
            "30\n",
            "1\n",
            "96\n"
          ]
        }
      ],
      "source": [
        "def convert_string_to_int(list_a):\n",
        "    new_list = []\n",
        "    for item in list_a:\n",
        "        num = int(item)\n",
        "        new_list.append(num)\n",
        "    return new_list\n",
        "\n",
        "\n",
        "m, n = input().split()\n",
        "m, n = int(m), int(n)\n",
        "num_list = []\n",
        "\n",
        "for i in range(m):\n",
        "    list_a = input().split()\n",
        "    list_a = convert_string_to_int(list_a)\n",
        "    num_list.append(list_a)\n",
        "\n",
        "list_a = []\n",
        "for i in range(len(num_list)):\n",
        "    term = num_list[i]\n",
        "    for j in range(len(term)):\n",
        "        list_a.append(num_list[i][j])\n",
        "\n",
        "print(max(list_a))\n",
        "print(min(list_a))\n",
        "print(sum(list_a))\n",
        "\n"
      ]
    },
    {
      "cell_type": "markdown",
      "source": [
        "# Row and Column with Maximum"
      ],
      "metadata": {
        "id": "OK9MQREjpvDi"
      }
    },
    {
      "cell_type": "code",
      "source": [
        "def convert_string_to_int(list_a):\n",
        "    new_list = []\n",
        "    for item in list_a:\n",
        "        num = int(item)\n",
        "        new_list.append(num)\n",
        "    return new_list\n",
        "\n",
        "\n",
        "m, n = input().split()\n",
        "m, n = int(m), int(n)\n",
        "num_list = []\n",
        "\n",
        "for i in range(m):\n",
        "    list_a = input().split()\n",
        "    list_a = convert_string_to_int(list_a)\n",
        "    num_list.append(list_a)\n",
        "\n",
        "row_wise_max = []\n",
        "\n",
        "for i in num_list:\n",
        "    row_wise_max.append(max(i))\n",
        "max_num = max(row_wise_max)\n",
        "max_num_index = row_wise_max.index(max_num)\n",
        "max_row = num_list[max_num_index]\n",
        "print(max_row)\n",
        "\n",
        "column_num_max_index = max_row.index(max_num)\n",
        "max_column = []\n",
        "for i in num_list:\n",
        "    max_column.append(i[column_num_max_index])\n",
        "print(max_column)\n",
        "\n",
        "\n"
      ],
      "metadata": {
        "colab": {
          "base_uri": "https://localhost:8080/"
        },
        "id": "0wW7o_lFp4uT",
        "outputId": "ec7fa1bd-c7ec-415e-9089-8522a453bb61"
      },
      "execution_count": 10,
      "outputs": [
        {
          "output_type": "stream",
          "name": "stdout",
          "text": [
            "3 3\n",
            "1 2 3\n",
            "10 20 30\n",
            "5 10 15\n",
            "[10, 20, 30]\n",
            "[3, 30, 15]\n"
          ]
        }
      ]
    },
    {
      "cell_type": "markdown",
      "source": [
        "# Transpose Matrix"
      ],
      "metadata": {
        "id": "NixV1Z-lp6oX"
      }
    },
    {
      "cell_type": "code",
      "source": [
        "def get_transpose_of_matrix(matrix, m, n):\n",
        "    result = []\n",
        "    for i in range(n):\n",
        "        row = []\n",
        "        for j in range(m):\n",
        "            row.append(matrix[j][i])\n",
        "        result.append(row)\n",
        "    return result\n",
        "\n",
        "def convert_string_to_int(list_a):\n",
        "    new_list = []\n",
        "    for item in list_a:\n",
        "        num = int(item)\n",
        "        new_list.append(num)\n",
        "    return new_list\n",
        "\n",
        "\n",
        "m, n = input().split()\n",
        "m, n = int(m), int(n)\n",
        "num_list = []\n",
        "\n",
        "for i in range(m):\n",
        "    list_a = input().split()\n",
        "    list_a = convert_string_to_int(list_a)\n",
        "    num_list.append(list_a)\n",
        "\n",
        "result = get_transpose_of_matrix(num_list,m,n)\n",
        "for i in result:\n",
        "    print(i)\n"
      ],
      "metadata": {
        "colab": {
          "base_uri": "https://localhost:8080/"
        },
        "id": "6hBQ1Xosp-Qp",
        "outputId": "e022eaf1-9ec6-437f-cacf-7cc924ba492e"
      },
      "execution_count": 3,
      "outputs": [
        {
          "output_type": "stream",
          "name": "stdout",
          "text": [
            "3 3 \n",
            "1 2 3 \n",
            "10 20 30\n",
            "5 10 15\n",
            "[1, 10, 5]\n",
            "[2, 20, 10]\n",
            "[3, 30, 15]\n"
          ]
        }
      ]
    },
    {
      "cell_type": "markdown",
      "source": [
        "# Column - Maximum,Minimum,Sum"
      ],
      "metadata": {
        "id": "rxd0o-uqp-8j"
      }
    },
    {
      "cell_type": "code",
      "source": [
        "def get_transpose_of_matrix(matrix, m, n):\n",
        "    transpose_matrix = []\n",
        "    for i in range(n):\n",
        "        row = []\n",
        "        for j in range(m):\n",
        "            row.append(matrix[j][i])\n",
        "        transpose_matrix.append(row)\n",
        "    return transpose_matrix\n",
        "\n",
        "def print_max_min_sum_for_row_wise(num_list):\n",
        "    max_num = []\n",
        "    min_num = []\n",
        "    sum_of_num = []\n",
        "    for i in num_list:\n",
        "        max_num.append(max(i))\n",
        "        min_num.append(min(i))\n",
        "        sum_of_num.append(sum(i))\n",
        "    return max_num,min_num,sum_of_num\n",
        "\n",
        "\n",
        "def convert_string_to_int(list_a):\n",
        "    new_list = []\n",
        "    for item in list_a:\n",
        "        num = int(item)\n",
        "        new_list.append(num)\n",
        "    return new_list\n",
        "\n",
        "\n",
        "m, n = input().split()\n",
        "m, n = int(m), int(n)\n",
        "num_list = []\n",
        "\n",
        "for i in range(m):\n",
        "    list_a = input().split()\n",
        "    list_a = convert_string_to_int(list_a)\n",
        "    num_list.append(list_a)\n",
        "\n",
        "\n",
        "transpose = get_transpose_of_matrix(num_list,m,n)\n",
        "result = print_max_min_sum_for_row_wise(transpose)\n",
        "for i in result:\n",
        "    print(i)\n"
      ],
      "metadata": {
        "colab": {
          "base_uri": "https://localhost:8080/"
        },
        "id": "1A9OjeZYqE4i",
        "outputId": "ea57d9cc-b5d5-4008-d8bc-195f67bde9be"
      },
      "execution_count": 4,
      "outputs": [
        {
          "output_type": "stream",
          "name": "stdout",
          "text": [
            "3 3 \n",
            "1 2 3\n",
            "10 20 30\n",
            "5 10 15\n",
            "[10, 20, 30]\n",
            "[1, 2, 3]\n",
            "[16, 32, 48]\n"
          ]
        }
      ]
    },
    {
      "cell_type": "markdown",
      "source": [
        "# Row - Maximum, Minimum and Sum"
      ],
      "metadata": {
        "id": "ycpH0tOLqF1z"
      }
    },
    {
      "cell_type": "code",
      "source": [
        "def print_max_min_sum_for_row_wise(num_list):\n",
        "    max_of_list = []\n",
        "    min_of_list = []\n",
        "    sum_of_list = []\n",
        "    for i in num_list:\n",
        "        max_of_list.append(max(i))\n",
        "        min_of_list.append(min(i))\n",
        "        sum_of_list.append(sum(i))\n",
        "    return max_of_list,min_of_list,sum_of_list\n",
        "\n",
        "def convert_string_to_int(list_a):\n",
        "    new_list = []\n",
        "    for item in list_a:\n",
        "        num = int(item)\n",
        "        new_list.append(num)\n",
        "    return new_list\n",
        "\n",
        "\n",
        "m, n = input().split()\n",
        "m, n = int(m), int(n)\n",
        "num_list = []\n",
        "\n",
        "for i in range(m):\n",
        "    list_a = input().split()\n",
        "    list_a = convert_string_to_int(list_a)\n",
        "    num_list.append(list_a)\n",
        "\n",
        "result = print_max_min_sum_for_row_wise(num_list)\n",
        "for i in result:\n",
        "    print(i)\n"
      ],
      "metadata": {
        "colab": {
          "base_uri": "https://localhost:8080/"
        },
        "id": "7NQ8o3GVqPp-",
        "outputId": "428c5a0d-5a8b-473f-c84a-fe9cecb145ff"
      },
      "execution_count": 1,
      "outputs": [
        {
          "output_type": "stream",
          "name": "stdout",
          "text": [
            "3 3\n",
            "1 2 3\n",
            "10 20 30\n",
            "5 10 15\n",
            "[3, 30, 15]\n",
            "[1, 10, 5]\n",
            "[6, 60, 30]\n"
          ]
        }
      ]
    },
    {
      "cell_type": "markdown",
      "source": [
        "# Elements of Principle diagonal"
      ],
      "metadata": {
        "id": "-CeZrnl2qRI4"
      }
    },
    {
      "cell_type": "code",
      "source": [
        "def get_principal_diagonal_elements(matrix, m, n):\n",
        "    diagonal_elements = []\n",
        "    for i in range(m):\n",
        "        for j in range(n):\n",
        "            if i == j:\n",
        "                diagonal_elements.append(matrix[i][j])\n",
        "    return diagonal_elements\n",
        "def convert_string_to_int(list_a):\n",
        "    new_list = []\n",
        "    for item in list_a:\n",
        "        num = int(item)\n",
        "        new_list.append(num)\n",
        "    return new_list\n",
        "\n",
        "\n",
        "m, n = input().split()\n",
        "m, n = int(m), int(n)\n",
        "num_list = []\n",
        "\n",
        "for i in range(m):\n",
        "    list_a = input().split()\n",
        "    list_a = convert_string_to_int(list_a)\n",
        "    num_list.append(list_a)\n",
        "\n",
        "result = get_principal_diagonal_elements(num_list,m,n)\n",
        "print(result)\n"
      ],
      "metadata": {
        "colab": {
          "base_uri": "https://localhost:8080/"
        },
        "id": "dt_h3-apqWp6",
        "outputId": "487b42d6-eb62-443b-f845-8312d6af0527"
      },
      "execution_count": 9,
      "outputs": [
        {
          "output_type": "stream",
          "name": "stdout",
          "text": [
            "3 3\n",
            "1 2 3\n",
            "10 20 30\n",
            "5 10 15\n",
            "[1, 20, 15]\n"
          ]
        }
      ]
    },
    {
      "cell_type": "markdown",
      "source": [
        "# Lower triangle"
      ],
      "metadata": {
        "id": "9qVFJ48tqakI"
      }
    },
    {
      "cell_type": "code",
      "source": [
        "def print_lower_triangle(matrix):\n",
        "    for i in range(len(matrix)):\n",
        "        row_list = matrix[i][:i+1]\n",
        "        print(row_list)\n",
        "\n",
        "def convert_string_to_int(list_a):\n",
        "    new_list = []\n",
        "    for item in list_a:\n",
        "        num = int(item)\n",
        "        new_list.append(num)\n",
        "    return new_list\n",
        "\n",
        "\n",
        "m, n = input().split()\n",
        "m, n = int(m), int(n)\n",
        "num_list = []\n",
        "\n",
        "for i in range(m):\n",
        "    list_a = input().split()\n",
        "    list_a = convert_string_to_int(list_a)\n",
        "    num_list.append(list_a)\n",
        "\n",
        "print_lower_triangle(num_list)\n",
        "\n"
      ],
      "metadata": {
        "colab": {
          "base_uri": "https://localhost:8080/"
        },
        "id": "tNVvPWvtqfwL",
        "outputId": "4f5aec98-a7e3-4781-aea7-8540587164fc"
      },
      "execution_count": 7,
      "outputs": [
        {
          "output_type": "stream",
          "name": "stdout",
          "text": [
            "3 3\n",
            "1 2 3\n",
            "10 20 30\n",
            "5 10 15\n",
            "[1]\n",
            "[10, 20]\n",
            "[5, 10, 15]\n"
          ]
        }
      ]
    },
    {
      "cell_type": "markdown",
      "source": [
        "# Replace Value"
      ],
      "metadata": {
        "id": "aLrv7Dclqgas"
      }
    },
    {
      "cell_type": "code",
      "source": [
        "def replace_old_value_with_new_value(matrix, old_value, new_value,m,n):\n",
        "    for i in range(m):\n",
        "        for j in range(n):\n",
        "            if matrix[i][j] == old_value:\n",
        "                matrix[i][j] = new_value\n",
        "    return matrix\n",
        "\n",
        "\n",
        "def convert_string_to_int(list_a):\n",
        "    new_list = []\n",
        "    for item in list_a:\n",
        "        num = int(item)\n",
        "        new_list.append(num)\n",
        "    return new_list\n",
        "\n",
        "\n",
        "m, n = input().split()\n",
        "m, n = int(m), int(n)\n",
        "num_list = []\n",
        "\n",
        "for i in range(m):\n",
        "    list_a = input().split()\n",
        "    list_a = convert_string_to_int(list_a)\n",
        "    num_list.append(list_a)\n",
        "\n",
        "values = input().split()\n",
        "old_value, new_value = convert_string_to_int(values)\n",
        "\n",
        "result = replace_old_value_with_new_value(num_list,old_value,new_value,m,n)\n",
        "for i in result:\n",
        "    print(i)\n"
      ],
      "metadata": {
        "colab": {
          "base_uri": "https://localhost:8080/"
        },
        "id": "to8D3AUWqjaU",
        "outputId": "c82d26bc-bca4-4ae5-d87f-3b317596fce1"
      },
      "execution_count": 5,
      "outputs": [
        {
          "output_type": "stream",
          "name": "stdout",
          "text": [
            "3 3\n",
            "1 2 3\n",
            "10 20 30\n",
            "5 10 15\n",
            "10 8\n",
            "[1, 2, 3]\n",
            "[8, 20, 30]\n",
            "[5, 8, 15]\n"
          ]
        }
      ]
    },
    {
      "cell_type": "markdown",
      "source": [
        "# Add two matrix"
      ],
      "metadata": {
        "id": "zd5ncDOSqnUG"
      }
    },
    {
      "cell_type": "code",
      "source": [
        "def add_two_matrices(first_matrix, second_matrix, m, n):\n",
        "    result = []\n",
        "    for i in range(m):\n",
        "        add_list = []\n",
        "        for j in range(n):\n",
        "            add = first_matrix[i][j] + second_matrix[i][j]\n",
        "            add_list.append(add)\n",
        "        result.append(add_list)\n",
        "    return result\n",
        "\n",
        "def convert_string_to_int(list_a):\n",
        "    new_list = []\n",
        "    for item in list_a:\n",
        "        num = int(item)\n",
        "        new_list.append(num)\n",
        "    return new_list\n",
        "\n",
        "\n",
        "def read_matrix_inputs(m):\n",
        "    num_list = []\n",
        "    for i in range(m):\n",
        "        list_a = input().split()\n",
        "        list_a = convert_string_to_int(list_a)\n",
        "        num_list.append(list_a)\n",
        "    return num_list\n",
        "\n",
        "\n",
        "m, n = input().split()\n",
        "m, n = int(m), int(n)\n",
        "\n",
        "first_matrix = read_matrix_inputs(m)\n",
        "second_matrix = read_matrix_inputs(m)\n",
        "\n",
        "result_list = add_two_matrices(first_matrix,second_matrix,m,n)\n",
        "for i in result_list:\n",
        "    print(i)\n"
      ],
      "metadata": {
        "colab": {
          "base_uri": "https://localhost:8080/"
        },
        "id": "qNoMz9duqrF6",
        "outputId": "4a03c0c7-5563-4f0a-86e0-61cca3a1b243"
      },
      "execution_count": 2,
      "outputs": [
        {
          "output_type": "stream",
          "name": "stdout",
          "text": [
            "3 3\n",
            "1 2 3\n",
            "10 20 30\n",
            "5 10 15\n",
            "2 4 6\n",
            "11 22 33\n",
            "7 14 21\n",
            "[3, 6, 9]\n",
            "[21, 42, 63]\n",
            "[12, 24, 36]\n"
          ]
        }
      ]
    }
  ]
}