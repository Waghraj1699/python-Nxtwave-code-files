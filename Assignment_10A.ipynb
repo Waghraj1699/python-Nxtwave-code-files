{
  "nbformat": 4,
  "nbformat_minor": 0,
  "metadata": {
    "colab": {
      "provenance": []
    },
    "kernelspec": {
      "name": "python3",
      "display_name": "Python 3"
    },
    "language_info": {
      "name": "python"
    }
  },
  "cells": [
    {
      "cell_type": "code",
      "execution_count": 1,
      "metadata": {
        "colab": {
          "base_uri": "https://localhost:8080/"
        },
        "id": "tg-FgZbUflpo",
        "outputId": "ac312a03-36b6-494f-da4a-9b0205920693"
      },
      "outputs": [
        {
          "output_type": "stream",
          "name": "stdout",
          "text": [
            "10\n",
            "11\n"
          ]
        }
      ],
      "source": [
        "# Number of digits until N\n",
        "\n",
        "n = int(input())\n",
        "count = 0\n",
        "\n",
        "for i in range(1 , n + 1):\n",
        "    digit = len(str(i))\n",
        "    count = count + digit\n",
        "\n",
        "print(count)"
      ]
    },
    {
      "cell_type": "code",
      "source": [
        "# Sum of N terms in a series\n",
        "\n",
        "x = int(input())\n",
        "n = int(input())\n",
        "sum = 0\n",
        "power = 1\n",
        "\n",
        "for i in range(1 , n + 1):\n",
        "    term = x ** power\n",
        "    power = power + 2\n",
        "    if i % 2 == 0:\n",
        "        term = - term\n",
        "    sum = sum + term\n",
        "\n",
        "print(sum)"
      ],
      "metadata": {
        "colab": {
          "base_uri": "https://localhost:8080/"
        },
        "id": "VkiTri4jgMNM",
        "outputId": "ddfecccd-35ff-4db4-db30-25e2f365610e"
      },
      "execution_count": 2,
      "outputs": [
        {
          "output_type": "stream",
          "name": "stdout",
          "text": [
            "2\n",
            "5\n",
            "410\n"
          ]
        }
      ]
    },
    {
      "cell_type": "code",
      "source": [
        "# More than Two Factors\n",
        "\n",
        "n = int(input())\n",
        "count = 0\n",
        "\n",
        "for i in range(1 , n + 1):\n",
        "    if n % i == 0:\n",
        "        count = count + 1\n",
        "\n",
        "if count > 2:\n",
        "    print(\"Number has more than 2 factors\")\n",
        "else:\n",
        "    print(\"Number doesn't have more than 2 factors\")"
      ],
      "metadata": {
        "colab": {
          "base_uri": "https://localhost:8080/"
        },
        "id": "OAeyg7UAgkjS",
        "outputId": "5e2dcb60-dd68-4a82-ed99-65ad78016417"
      },
      "execution_count": 3,
      "outputs": [
        {
          "output_type": "stream",
          "name": "stdout",
          "text": [
            "6\n",
            "Number has more than 2 factors\n"
          ]
        }
      ]
    },
    {
      "cell_type": "code",
      "source": [
        "# Right angled triangle - 6\n",
        "\n",
        "n = int(input())\n",
        "\n",
        "for i in range(2):\n",
        "    for i in range(1 , n + 1):\n",
        "        print(\"* \" * i )"
      ],
      "metadata": {
        "colab": {
          "base_uri": "https://localhost:8080/"
        },
        "id": "XcLgu5BbgxjF",
        "outputId": "16017002-0846-4ad9-e3d2-c5c465c79d96"
      },
      "execution_count": 4,
      "outputs": [
        {
          "output_type": "stream",
          "name": "stdout",
          "text": [
            "5\n",
            "* \n",
            "* * \n",
            "* * * \n",
            "* * * * \n",
            "* * * * * \n",
            "* \n",
            "* * \n",
            "* * * \n",
            "* * * * \n",
            "* * * * * \n"
          ]
        }
      ]
    },
    {
      "cell_type": "code",
      "source": [
        "# Diamond -2\n",
        "\n",
        "n = int(input())\n",
        "\n",
        "for i in range(1 , n + 1):\n",
        "    spaces = \" \" * (n - i)\n",
        "    number = (str(i) + \" \") * i\n",
        "    row = spaces + number\n",
        "    print(row)\n",
        "\n",
        "for j in range(1 , n):\n",
        "    spaces = \" \" * j\n",
        "    number = (str(n - j) + \" \") * (n - j)\n",
        "    row = spaces + number\n",
        "    print(row)"
      ],
      "metadata": {
        "colab": {
          "base_uri": "https://localhost:8080/"
        },
        "id": "Y9FPOuM6g9G-",
        "outputId": "0737dab1-4f5a-40d1-f788-3681f574e9cf"
      },
      "execution_count": 5,
      "outputs": [
        {
          "output_type": "stream",
          "name": "stdout",
          "text": [
            "5\n",
            "    1 \n",
            "   2 2 \n",
            "  3 3 3 \n",
            " 4 4 4 4 \n",
            "5 5 5 5 5 \n",
            " 4 4 4 4 \n",
            "  3 3 3 \n",
            "   2 2 \n",
            "    1 \n"
          ]
        }
      ]
    },
    {
      "cell_type": "code",
      "source": [
        "# Inverted Right angled triangle - 6\n",
        "\n",
        "n = int(input())\n",
        "\n",
        "for i in range(1 , n + 1):\n",
        "    spaces = \" \" * (2 * (i - 1))\n",
        "    stars = \"* \" * (n + 1 - i)\n",
        "    row = spaces + stars\n",
        "    print(row)"
      ],
      "metadata": {
        "colab": {
          "base_uri": "https://localhost:8080/"
        },
        "id": "agTllOQYhOs_",
        "outputId": "05f2a1d7-6609-429c-b576-a4f653a19139"
      },
      "execution_count": 6,
      "outputs": [
        {
          "output_type": "stream",
          "name": "stdout",
          "text": [
            "5\n",
            "* * * * * \n",
            "  * * * * \n",
            "    * * * \n",
            "      * * \n",
            "        * \n"
          ]
        }
      ]
    },
    {
      "cell_type": "code",
      "source": [
        "# W shape with *\n",
        "\n",
        "n = int(input())\n",
        "\n",
        "print(\"* \" * ((2 * n) - 1))\n",
        "for i in range(1 , n):\n",
        "    stars = \"* \" * (n - i)\n",
        "    spaces = \" \" * (i)\n",
        "    spaces2 = \" \" * (2 * (i - 1))\n",
        "    row = spaces + stars + spaces2 + stars\n",
        "    print(row)\n",
        ""
      ],
      "metadata": {
        "colab": {
          "base_uri": "https://localhost:8080/"
        },
        "id": "8zuQRcFehaYk",
        "outputId": "a51dab00-d59a-4b80-a150-3ce51a0e85b1"
      },
      "execution_count": 8,
      "outputs": [
        {
          "output_type": "stream",
          "name": "stdout",
          "text": [
            "5\n",
            "* * * * * * * * * \n",
            " * * * * * * * * \n",
            "  * * *   * * * \n",
            "   * *     * * \n",
            "    *       * \n"
          ]
        }
      ]
    }
  ]
}