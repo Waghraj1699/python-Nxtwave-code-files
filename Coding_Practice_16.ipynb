{
  "nbformat": 4,
  "nbformat_minor": 0,
  "metadata": {
    "colab": {
      "provenance": []
    },
    "kernelspec": {
      "name": "python3",
      "display_name": "Python 3"
    },
    "language_info": {
      "name": "python"
    }
  },
  "cells": [
    {
      "cell_type": "markdown",
      "source": [
        "# First Uppercase Letter"
      ],
      "metadata": {
        "id": "0lTKj-Blcu-O"
      }
    },
    {
      "cell_type": "code",
      "execution_count": 12,
      "metadata": {
        "colab": {
          "base_uri": "https://localhost:8080/"
        },
        "id": "MOY-7Tc_b_Vd",
        "outputId": "575d857c-e464-46aa-81f2-8a08d851bc53"
      },
      "outputs": [
        {
          "output_type": "stream",
          "name": "stdout",
          "text": [
            "superHeroes\n",
            "H\n"
          ]
        }
      ],
      "source": [
        "s = input()\n",
        "\n",
        "for i in s:\n",
        "    x = (i == i.upper())\n",
        "    y = not(i.isdigit())\n",
        "\n",
        "    if (x and y):\n",
        "        print(i)\n",
        "        break"
      ]
    },
    {
      "cell_type": "markdown",
      "source": [
        "# First Word"
      ],
      "metadata": {
        "id": "vSRikXCac7IY"
      }
    },
    {
      "cell_type": "code",
      "source": [
        "s = input()\n",
        "result = \"\"\n",
        "for i in s:\n",
        "    if i==\" \":\n",
        "        break\n",
        "    result += i\n",
        "\n",
        "print(result)"
      ],
      "metadata": {
        "colab": {
          "base_uri": "https://localhost:8080/"
        },
        "id": "fXCmlkeDc-rU",
        "outputId": "22f3818d-77a9-44f8-f2c4-0f5e7fc6d639"
      },
      "execution_count": 11,
      "outputs": [
        {
          "output_type": "stream",
          "name": "stdout",
          "text": [
            "Chasing Rainbows\n",
            "Chasing\n"
          ]
        }
      ]
    },
    {
      "cell_type": "markdown",
      "source": [
        "# First Word in Uppercase"
      ],
      "metadata": {
        "id": "tSh68dD0c_fS"
      }
    },
    {
      "cell_type": "code",
      "source": [
        "s = input()\n",
        "result = \"\"\n",
        "\n",
        "for i in s:\n",
        "    if i==\" \":\n",
        "        break\n",
        "    result += i\n",
        "\n",
        "result = result.upper()\n",
        "print(result + s[len(result):])"
      ],
      "metadata": {
        "colab": {
          "base_uri": "https://localhost:8080/"
        },
        "id": "S2Zjxnv_dDzC",
        "outputId": "d7581666-1c9f-454d-e3f1-022f5663d0ae"
      },
      "execution_count": 10,
      "outputs": [
        {
          "output_type": "stream",
          "name": "stdout",
          "text": [
            "Python is a Programming language.\n",
            "PYTHON is a Programming language.\n"
          ]
        }
      ]
    },
    {
      "cell_type": "markdown",
      "source": [
        "# First Negative Number"
      ],
      "metadata": {
        "id": "em-Ys4f0dErb"
      }
    },
    {
      "cell_type": "code",
      "source": [
        "n = int(input())\n",
        "\n",
        "for i in range(1 , n + 1):\n",
        "    m = int(input())\n",
        "    if m < 0:\n",
        "        print(m)\n",
        "        break"
      ],
      "metadata": {
        "colab": {
          "base_uri": "https://localhost:8080/"
        },
        "id": "XPi7s4obdSId",
        "outputId": "34031ff2-ab16-4ac4-bace-84b38d1946cf"
      },
      "execution_count": 9,
      "outputs": [
        {
          "output_type": "stream",
          "name": "stdout",
          "text": [
            "5\n",
            "5\n",
            "3\n",
            "1\n",
            "2\n",
            "-2\n",
            "-2\n"
          ]
        }
      ]
    },
    {
      "cell_type": "markdown",
      "source": [
        "# First Even Number"
      ],
      "metadata": {
        "id": "NTcjrPo9dWHC"
      }
    },
    {
      "cell_type": "code",
      "source": [
        "n = int(input())\n",
        "\n",
        "for i in range(1 , n + 1):\n",
        "    m = int(input())\n",
        "    if m % 2 == 0:\n",
        "        print(m)\n",
        "        break"
      ],
      "metadata": {
        "colab": {
          "base_uri": "https://localhost:8080/"
        },
        "id": "oIW_WZUMdZCQ",
        "outputId": "93531d61-f38e-47ce-9ba2-5fc98046c829"
      },
      "execution_count": 8,
      "outputs": [
        {
          "output_type": "stream",
          "name": "stdout",
          "text": [
            "5\n",
            "2\n",
            "2\n"
          ]
        }
      ]
    },
    {
      "cell_type": "markdown",
      "source": [
        "# First Prime number from M to N"
      ],
      "metadata": {
        "id": "dBFG-xyHdZmF"
      }
    },
    {
      "cell_type": "code",
      "source": [
        "m = int(input())\n",
        "n = int(input())\n",
        "\n",
        "found_prime = False\n",
        "for i in range(m , n + 1):\n",
        "    if i > 1:\n",
        "        factors = 0\n",
        "        for j in range(2, i):\n",
        "            if i % j == 0:\n",
        "                factors += 1\n",
        "        if factors == 0:\n",
        "            print(i)\n",
        "            found_prime = True\n",
        "            break\n",
        "if not(found_prime):\n",
        "    print(\"No prime numbers in the given range\")"
      ],
      "metadata": {
        "colab": {
          "base_uri": "https://localhost:8080/"
        },
        "id": "VkZnlEHCdh0C",
        "outputId": "64664a60-c840-4974-d2ce-24112a3bef52"
      },
      "execution_count": 6,
      "outputs": [
        {
          "output_type": "stream",
          "name": "stdout",
          "text": [
            "25\n",
            "50\n",
            "29\n"
          ]
        }
      ]
    },
    {
      "cell_type": "markdown",
      "source": [
        "# GCD"
      ],
      "metadata": {
        "id": "R8Ctncx_difD"
      }
    },
    {
      "cell_type": "code",
      "source": [
        "m = int(input())\n",
        "n = int(input())\n",
        "\n",
        "if m > n:\n",
        "    smaller = n\n",
        "else:\n",
        "    smaller = m\n",
        "\n",
        "gcd = 1\n",
        "\n",
        "for i in range(1 , smaller + 1):\n",
        "    if (m % i == 0) and (n % i == 0):\n",
        "        gcd = i\n",
        "\n",
        "print(gcd)"
      ],
      "metadata": {
        "colab": {
          "base_uri": "https://localhost:8080/"
        },
        "id": "Tw1vUJYddpeJ",
        "outputId": "fc740491-6d0f-4470-9f5d-c0d600017424"
      },
      "execution_count": 7,
      "outputs": [
        {
          "output_type": "stream",
          "name": "stdout",
          "text": [
            "4\n",
            "6\n",
            "2\n"
          ]
        }
      ]
    },
    {
      "cell_type": "markdown",
      "source": [
        "# Kth Largest Factor"
      ],
      "metadata": {
        "id": "SbAxwCgidqQa"
      }
    },
    {
      "cell_type": "code",
      "source": [
        "n = int(input())\n",
        "k = int(input())\n",
        "\n",
        "for i in range(n):\n",
        "    if n % (n -i) == 0:\n",
        "        largest = n - i\n",
        "        k -= 1\n",
        "    if k == 0:\n",
        "        break\n",
        "print(largest)\n",
        ""
      ],
      "metadata": {
        "colab": {
          "base_uri": "https://localhost:8080/"
        },
        "id": "ctY-BsQ7dt7h",
        "outputId": "033cc74b-fbee-4f9b-9080-f29a5d0724ed"
      },
      "execution_count": 4,
      "outputs": [
        {
          "output_type": "stream",
          "name": "stdout",
          "text": [
            "12\n",
            "2\n",
            "6\n"
          ]
        }
      ]
    },
    {
      "cell_type": "markdown",
      "source": [
        "# LCM"
      ],
      "metadata": {
        "id": "yPOwP3wfduny"
      }
    },
    {
      "cell_type": "code",
      "source": [
        "m = int(input())\n",
        "n = int(input())\n",
        "k = (m * n) + 1\n",
        "for i in range(1, k):\n",
        "    if (i % m == 0) and (i % n == 0):\n",
        "        print(i)\n",
        "        break"
      ],
      "metadata": {
        "colab": {
          "base_uri": "https://localhost:8080/"
        },
        "id": "Mj1QBJgod4Ki",
        "outputId": "2d11a5a8-3a68-4b94-d2a2-46a2a45596d9"
      },
      "execution_count": 3,
      "outputs": [
        {
          "output_type": "stream",
          "name": "stdout",
          "text": [
            "2\n",
            "3\n",
            "6\n"
          ]
        }
      ]
    },
    {
      "cell_type": "markdown",
      "source": [
        "# Consonants Phrase"
      ],
      "metadata": {
        "id": "cmkWMg5ed6yr"
      }
    },
    {
      "cell_type": "code",
      "source": [
        "s = input()\n",
        "result = \"\"\n",
        "\n",
        "for i in s:\n",
        "    if i in \"AEIOUaeiou\":\n",
        "        continue\n",
        "    result += i\n",
        "\n",
        "print(result)"
      ],
      "metadata": {
        "colab": {
          "base_uri": "https://localhost:8080/"
        },
        "id": "Go8ps0VpeBQr",
        "outputId": "b0e415d2-e737-40e3-f331-ed721f5e5ac6"
      },
      "execution_count": 2,
      "outputs": [
        {
          "output_type": "stream",
          "name": "stdout",
          "text": [
            "Speak louder\n",
            "Spk ldr\n"
          ]
        }
      ]
    },
    {
      "cell_type": "markdown",
      "source": [
        "# Prime Number"
      ],
      "metadata": {
        "id": "x4JxShDweCFL"
      }
    },
    {
      "cell_type": "code",
      "source": [
        "n = int(input())\n",
        "is_prime = True\n",
        "for i in range(2, n):\n",
        "    if (n % i) == 0:\n",
        "        is_prime = False\n",
        "        break\n",
        "print(is_prime)\n"
      ],
      "metadata": {
        "colab": {
          "base_uri": "https://localhost:8080/"
        },
        "id": "vqYa7Q0ueGev",
        "outputId": "99c19f12-9204-44a9-8554-87c676d288d2"
      },
      "execution_count": 1,
      "outputs": [
        {
          "output_type": "stream",
          "name": "stdout",
          "text": [
            "22\n",
            "False\n"
          ]
        }
      ]
    }
  ]
}