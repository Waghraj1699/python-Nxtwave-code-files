{
  "nbformat": 4,
  "nbformat_minor": 0,
  "metadata": {
    "colab": {
      "provenance": []
    },
    "kernelspec": {
      "name": "python3",
      "display_name": "Python 3"
    },
    "language_info": {
      "name": "python"
    }
  },
  "cells": [
    {
      "cell_type": "code",
      "execution_count": 7,
      "metadata": {
        "colab": {
          "base_uri": "https://localhost:8080/"
        },
        "id": "YnIrQTn3VSOB",
        "outputId": "7972004c-371c-42c2-cdcb-429ace5859ab"
      },
      "outputs": [
        {
          "output_type": "stream",
          "name": "stdout",
          "text": [
            "5\n",
            "6\n",
            "1 1 1 1 1 1 \n",
            "2 2 2 2 2 2 \n",
            "3 3 3 3 3 3 \n",
            "4 4 4 4 4 4 \n",
            "5 5 5 5 5 5 \n"
          ]
        }
      ],
      "source": [
        "# rectangle - 3\n",
        "\n",
        "m = int(input())\n",
        "n = int(input())\n",
        "\n",
        "count = 1\n",
        "while count <= m:\n",
        "    print((str(count)+ \" \") * n)\n",
        "    count = count + 1"
      ]
    },
    {
      "cell_type": "code",
      "source": [
        "# print N numbers from 0\n",
        "\n",
        "n = int(input())\n",
        "\n",
        "count = 0\n",
        "\n",
        "while count < n:\n",
        "    print(count)\n",
        "    count = count + 1"
      ],
      "metadata": {
        "colab": {
          "base_uri": "https://localhost:8080/"
        },
        "id": "i2VgcvwNYWju",
        "outputId": "cfaca651-c6a2-4d68-8594-cea3a436f67a"
      },
      "execution_count": 6,
      "outputs": [
        {
          "output_type": "stream",
          "name": "stdout",
          "text": [
            "5\n",
            "0\n",
            "1\n",
            "2\n",
            "3\n",
            "4\n"
          ]
        }
      ]
    },
    {
      "cell_type": "code",
      "source": [
        "# avg of N inputs\n",
        "\n",
        "n = int(input())\n",
        "\n",
        "sum = 0\n",
        "count = 1\n",
        "\n",
        "while count <= n:\n",
        "    m = int(input())\n",
        "    sum = sum + m\n",
        "    count = count + 1\n",
        "\n",
        "avg = sum / n\n",
        "print(avg)"
      ],
      "metadata": {
        "colab": {
          "base_uri": "https://localhost:8080/"
        },
        "id": "KjR2lKRZYaXx",
        "outputId": "ec0ce084-1d55-486b-e375-460723e34c23"
      },
      "execution_count": 5,
      "outputs": [
        {
          "output_type": "stream",
          "name": "stdout",
          "text": [
            "5\n",
            "1\n",
            "2\n",
            "3\n",
            "4\n",
            "5\n",
            "3.0\n"
          ]
        }
      ]
    },
    {
      "cell_type": "code",
      "source": [
        "# right angled triangle - 4\n",
        "\n",
        "n = int(input())\n",
        "\n",
        "count1 = 1\n",
        "count2 = 1\n",
        "\n",
        "while count1 <= n:\n",
        "    print(\"* \" * count1)\n",
        "    count1 = count1 + 1\n",
        "while count2 <= n:\n",
        "    print(\"* \" * count2)\n",
        "    count2 = count2 + 1"
      ],
      "metadata": {
        "colab": {
          "base_uri": "https://localhost:8080/"
        },
        "id": "bNevrarLYfkL",
        "outputId": "6e8dabc3-a3fd-44f5-a2ae-cce3f54f1a56"
      },
      "execution_count": 4,
      "outputs": [
        {
          "output_type": "stream",
          "name": "stdout",
          "text": [
            "3\n",
            "* \n",
            "* * \n",
            "* * * \n",
            "* \n",
            "* * \n",
            "* * * \n"
          ]
        }
      ]
    },
    {
      "cell_type": "code",
      "source": [
        "# Product of N numbers after X\n",
        "\n",
        "x = int(input())\n",
        "n = int(input())\n",
        "\n",
        "count = 1\n",
        "product = 1\n",
        "\n",
        "while count <= n:\n",
        "    x = x + 1\n",
        "    product = product * x\n",
        "    count = count + 1\n",
        "\n",
        "print(product)\n",
        ""
      ],
      "metadata": {
        "colab": {
          "base_uri": "https://localhost:8080/"
        },
        "id": "0grvUpD-Yk3E",
        "outputId": "382f327f-9b83-4120-f3aa-e8e73ccbff3a"
      },
      "execution_count": 3,
      "outputs": [
        {
          "output_type": "stream",
          "name": "stdout",
          "text": [
            "5\n",
            "11\n",
            "174356582400\n"
          ]
        }
      ]
    },
    {
      "cell_type": "code",
      "source": [
        "# sum of N squares\n",
        "\n",
        "n = int(input())\n",
        "\n",
        "count = 1\n",
        "sum = 0\n",
        "while count <= n:\n",
        "    s = count**2\n",
        "    sum = sum + s\n",
        "    count = count + 1\n",
        "\n",
        "print(sum)\n",
        ""
      ],
      "metadata": {
        "colab": {
          "base_uri": "https://localhost:8080/"
        },
        "id": "5NcY677cYpNH",
        "outputId": "f925dc77-7dc6-406b-ff21-4985fe411f81"
      },
      "execution_count": 2,
      "outputs": [
        {
          "output_type": "stream",
          "name": "stdout",
          "text": [
            "5\n",
            "55\n"
          ]
        }
      ]
    },
    {
      "cell_type": "code",
      "source": [
        "#print intergers - 3\n",
        "\n",
        "n = int(input())\n",
        "\n",
        "while n > 0:\n",
        "    print(n)\n",
        "    n = n - 1"
      ],
      "metadata": {
        "colab": {
          "base_uri": "https://localhost:8080/"
        },
        "id": "qThUd539YpKJ",
        "outputId": "7b424b6b-aab8-48b8-b5d1-4829fa28ea02"
      },
      "execution_count": 1,
      "outputs": [
        {
          "output_type": "stream",
          "name": "stdout",
          "text": [
            "5\n",
            "5\n",
            "4\n",
            "3\n",
            "2\n",
            "1\n"
          ]
        }
      ]
    }
  ]
}