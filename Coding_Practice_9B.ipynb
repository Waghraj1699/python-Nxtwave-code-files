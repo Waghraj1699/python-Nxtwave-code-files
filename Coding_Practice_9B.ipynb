{
  "nbformat": 4,
  "nbformat_minor": 0,
  "metadata": {
    "colab": {
      "provenance": []
    },
    "kernelspec": {
      "name": "python3",
      "display_name": "Python 3"
    },
    "language_info": {
      "name": "python"
    }
  },
  "cells": [
    {
      "cell_type": "code",
      "execution_count": 14,
      "metadata": {
        "id": "F9gM1ZbKFPzH",
        "colab": {
          "base_uri": "https://localhost:8080/"
        },
        "outputId": "c77dc407-19db-4ab1-ee08-c289dba27ddb"
      },
      "outputs": [
        {
          "output_type": "stream",
          "name": "stdout",
          "text": [
            "10\n",
            "3\n",
            "3\n",
            "6\n",
            "9\n"
          ]
        }
      ],
      "source": [
        "# Print Numbers divisible by T\n",
        "\n",
        "n = int(input())\n",
        "t = int(input())\n",
        "\n",
        "for i in range(1 , n + 1):\n",
        "    if i % t == 0 :\n",
        "        print(i)"
      ]
    },
    {
      "cell_type": "code",
      "source": [
        "# Sum of Numbers divisible by T\n",
        "\n",
        "t = int(input())\n",
        "m = int(input())\n",
        "n = int(input())\n",
        "sum = 0\n",
        "\n",
        "for i in range(m , n + 1):\n",
        "    if i % t == 0:\n",
        "        sum = sum + i\n",
        "\n",
        "print(sum)"
      ],
      "metadata": {
        "colab": {
          "base_uri": "https://localhost:8080/"
        },
        "id": "PzNYote2fGfE",
        "outputId": "41903884-c86d-4f02-92ed-87cb82bde69b"
      },
      "execution_count": 13,
      "outputs": [
        {
          "output_type": "stream",
          "name": "stdout",
          "text": [
            "2\n",
            "5\n",
            "9\n",
            "14\n"
          ]
        }
      ]
    },
    {
      "cell_type": "code",
      "source": [
        "# Count of numbers divisible by T\n",
        "\n",
        "n = int(input())\n",
        "t = int(input())\n",
        "count = 0\n",
        "\n",
        "for i in range(1 , n + 1):\n",
        "    if i % t == 0:\n",
        "        count = count + 1\n",
        "\n",
        "\n",
        "print(count)"
      ],
      "metadata": {
        "colab": {
          "base_uri": "https://localhost:8080/"
        },
        "id": "p8lByHgEfK3K",
        "outputId": "7fe9fd99-7eac-4da3-b5e5-e1698b3506a9"
      },
      "execution_count": 12,
      "outputs": [
        {
          "output_type": "stream",
          "name": "stdout",
          "text": [
            "15\n",
            "78\n",
            "0\n"
          ]
        }
      ]
    },
    {
      "cell_type": "code",
      "source": [
        "# Print numbers divisible by 2 and 3\n",
        "\n",
        "n = int(input())\n",
        "\n",
        "for i in range(1 , n + 1):\n",
        "    if i % 2 == 0 and i % 3 == 0:\n",
        "        print(i)"
      ],
      "metadata": {
        "colab": {
          "base_uri": "https://localhost:8080/"
        },
        "id": "_eGUoJQ1fY6N",
        "outputId": "99060361-23d2-42f1-f1b3-a12dd79415db"
      },
      "execution_count": 11,
      "outputs": [
        {
          "output_type": "stream",
          "name": "stdout",
          "text": [
            "15\n",
            "6\n",
            "12\n"
          ]
        }
      ]
    },
    {
      "cell_type": "code",
      "source": [
        "# count numbers divisible by 2 and 3\n",
        "\n",
        "n = int(input())\n",
        "count = 0\n",
        "\n",
        "for i in range(1 , n + 1):\n",
        "    if i % 2 == 0 and i % 3 == 0:\n",
        "        count = count + 1\n",
        "\n",
        "print(count)"
      ],
      "metadata": {
        "colab": {
          "base_uri": "https://localhost:8080/"
        },
        "id": "kvOEOQQYfbzV",
        "outputId": "21781a88-d432-4b2c-cd13-79a82d4fa1d9"
      },
      "execution_count": 10,
      "outputs": [
        {
          "output_type": "stream",
          "name": "stdout",
          "text": [
            "50\n",
            "8\n"
          ]
        }
      ]
    },
    {
      "cell_type": "code",
      "source": [
        "# print required characters\n",
        "\n",
        "word = input()\n",
        "\n",
        "for i in word:\n",
        "    if i == \"a\" or i == \"z\":\n",
        "        print(i)"
      ],
      "metadata": {
        "colab": {
          "base_uri": "https://localhost:8080/"
        },
        "id": "YUXTJOB2fhJF",
        "outputId": "07393514-1a4c-4a9b-f007-65708b7489ed"
      },
      "execution_count": 9,
      "outputs": [
        {
          "output_type": "stream",
          "name": "stdout",
          "text": [
            "waghraj\n",
            "a\n",
            "a\n"
          ]
        }
      ]
    },
    {
      "cell_type": "code",
      "source": [
        "# print vowels\n",
        "\n",
        "word = input()\n",
        "\n",
        "for i in word:\n",
        "    if (i == \"a\") or (i == \"e\") or (i == \"i\") or (i == \"o\") or (i == \"u\"):\n",
        "        print(i)"
      ],
      "metadata": {
        "colab": {
          "base_uri": "https://localhost:8080/"
        },
        "id": "UcIFByg_fnv2",
        "outputId": "31e2b65e-0f63-48c6-ecae-762aa19f2a88"
      },
      "execution_count": 8,
      "outputs": [
        {
          "output_type": "stream",
          "name": "stdout",
          "text": [
            "waghraj\n",
            "a\n",
            "a\n"
          ]
        }
      ]
    },
    {
      "cell_type": "code",
      "source": [
        "# count vowels\n",
        "\n",
        "word = input()\n",
        "count = 0\n",
        "\n",
        "for i in word:\n",
        "    if (i == \"a\") or (i == \"e\") or (i == \"i\") or (i == \"o\") or (i == \"u\"):\n",
        "        count = count + 1\n",
        "\n",
        "print(count)"
      ],
      "metadata": {
        "colab": {
          "base_uri": "https://localhost:8080/"
        },
        "id": "Ss8W9TBYfrg3",
        "outputId": "c14856d9-dc87-419d-bfff-6645a99db83a"
      },
      "execution_count": 7,
      "outputs": [
        {
          "output_type": "stream",
          "name": "stdout",
          "text": [
            "waghraj\n",
            "2\n"
          ]
        }
      ]
    },
    {
      "cell_type": "code",
      "source": [
        "# print N numbers in reverse\n",
        "\n",
        "n = int(input())\n",
        "\n",
        "for i in range(1 , n + 1):\n",
        "    print(n + 1 - i)"
      ],
      "metadata": {
        "colab": {
          "base_uri": "https://localhost:8080/"
        },
        "id": "9lu_7Y35ftyS",
        "outputId": "199b8bee-67a5-4968-d334-ec5d90defb57"
      },
      "execution_count": 6,
      "outputs": [
        {
          "output_type": "stream",
          "name": "stdout",
          "text": [
            "5\n",
            "5\n",
            "4\n",
            "3\n",
            "2\n",
            "1\n"
          ]
        }
      ]
    },
    {
      "cell_type": "code",
      "source": [
        "# print from M to N in reverse\n",
        "\n",
        "m = int(input())\n",
        "n = int(input())\n",
        "t = n - m\n",
        "for i in range(t + 1):\n",
        "    print(n - i)"
      ],
      "metadata": {
        "colab": {
          "base_uri": "https://localhost:8080/"
        },
        "id": "A6xzgXqUfy7H",
        "outputId": "0e967ff6-81ab-4e7d-f23d-dccbef741e45"
      },
      "execution_count": 5,
      "outputs": [
        {
          "output_type": "stream",
          "name": "stdout",
          "text": [
            "2\n",
            "5\n",
            "5\n",
            "4\n",
            "3\n",
            "2\n"
          ]
        }
      ]
    },
    {
      "cell_type": "code",
      "source": [
        "# print characters in reverse\n",
        "\n",
        "word = input()\n",
        "length = len(word)\n",
        "\n",
        "for i in range(1 ,length + 1):\n",
        "    index = length - i\n",
        "    print(word[index])\n"
      ],
      "metadata": {
        "colab": {
          "base_uri": "https://localhost:8080/"
        },
        "id": "IhxqiJMKf3uX",
        "outputId": "406bb2f0-95cb-44d9-f3cd-caee65c95167"
      },
      "execution_count": 4,
      "outputs": [
        {
          "output_type": "stream",
          "name": "stdout",
          "text": [
            "scale\n",
            "e\n",
            "l\n",
            "a\n",
            "c\n",
            "s\n"
          ]
        }
      ]
    },
    {
      "cell_type": "code",
      "source": [
        "# Print odd numbers from N to M\n",
        "\n",
        "m = int(input())\n",
        "n = int(input())\n",
        "result = \"\"\n",
        "\n",
        "t = n - m\n",
        "\n",
        "for i in range(t + 1):\n",
        "    odd = n - i\n",
        "    if odd % 2 != 0:\n",
        "        result = result + str(odd) + \" \"\n",
        "\n",
        "print(result)"
      ],
      "metadata": {
        "colab": {
          "base_uri": "https://localhost:8080/"
        },
        "id": "1bc6ycTTgAF9",
        "outputId": "4362215f-8130-4a8a-bc08-1d99f7048b2e"
      },
      "execution_count": 3,
      "outputs": [
        {
          "output_type": "stream",
          "name": "stdout",
          "text": [
            "1\n",
            "10\n",
            "9 7 5 3 1 \n"
          ]
        }
      ]
    },
    {
      "cell_type": "code",
      "source": [
        "# Inverted right angeld triangle\n",
        "\n",
        "n = int(input())\n",
        "\n",
        "for i in range(1 , n + 1):\n",
        "    row = \"* \"\n",
        "    j = n + 1 - i\n",
        "    print(row * j)"
      ],
      "metadata": {
        "colab": {
          "base_uri": "https://localhost:8080/"
        },
        "id": "pvmt27RcgFCg",
        "outputId": "889aca11-f324-4a8b-fd22-68d594dd640a"
      },
      "execution_count": 2,
      "outputs": [
        {
          "output_type": "stream",
          "name": "stdout",
          "text": [
            "5\n",
            "* * * * * \n",
            "* * * * \n",
            "* * * \n",
            "* * \n",
            "* \n"
          ]
        }
      ]
    },
    {
      "cell_type": "code",
      "source": [
        "# Inverted right angeld triangle - 2\n",
        "\n",
        "n = int(input())\n",
        "\n",
        "for i in range(1 , n + 1):\n",
        "    j = n + 1 - i\n",
        "    row = str(j) + \" \"\n",
        "    print(row * j)"
      ],
      "metadata": {
        "colab": {
          "base_uri": "https://localhost:8080/"
        },
        "id": "CxwzoA9bgK2A",
        "outputId": "d644de0e-5769-4ad9-d164-32ccc09591ee"
      },
      "execution_count": 1,
      "outputs": [
        {
          "output_type": "stream",
          "name": "stdout",
          "text": [
            "5\n",
            "5 5 5 5 5 \n",
            "4 4 4 4 \n",
            "3 3 3 \n",
            "2 2 \n",
            "1 \n"
          ]
        }
      ]
    }
  ]
}