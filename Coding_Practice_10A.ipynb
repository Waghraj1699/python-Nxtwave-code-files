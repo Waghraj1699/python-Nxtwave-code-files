{
  "nbformat": 4,
  "nbformat_minor": 0,
  "metadata": {
    "colab": {
      "provenance": []
    },
    "kernelspec": {
      "name": "python3",
      "display_name": "Python 3"
    },
    "language_info": {
      "name": "python"
    }
  },
  "cells": [
    {
      "cell_type": "code",
      "execution_count": 10,
      "metadata": {
        "colab": {
          "base_uri": "https://localhost:8080/"
        },
        "id": "_fN7NaYb93hJ",
        "outputId": "ee4ccbe1-eb59-49d4-af51-f3dad917ba84"
      },
      "outputs": [
        {
          "output_type": "stream",
          "name": "stdout",
          "text": [
            "12\n",
            "28\n"
          ]
        }
      ],
      "source": [
        "# Sum of all factors\n",
        "\n",
        "n = int(input())\n",
        "\n",
        "sum = 0\n",
        "for i in range(1 , n + 1):\n",
        "    if n % i == 0:\n",
        "        sum = sum + i\n",
        "\n",
        "print(sum)"
      ]
    },
    {
      "cell_type": "code",
      "source": [
        "# Reverse the string\n",
        "\n",
        "word = input()\n",
        "reverse = \"\"\n",
        "\n",
        "for i in word:\n",
        "    reverse = i + reverse\n",
        "\n",
        "print(reverse)"
      ],
      "metadata": {
        "colab": {
          "base_uri": "https://localhost:8080/"
        },
        "id": "tNo6x8MB-BQw",
        "outputId": "758ed609-879e-4435-a47a-0195bae0f012"
      },
      "execution_count": 9,
      "outputs": [
        {
          "output_type": "stream",
          "name": "stdout",
          "text": [
            "waghraj\n",
            "jarhgaw\n"
          ]
        }
      ]
    },
    {
      "cell_type": "code",
      "source": [
        "# Multiplication Table\n",
        "\n",
        "n = int(input())\n",
        "\n",
        "for i in range(1,11):\n",
        "    print(str(n) + \" x \" + str(i) + \" = \" + str(n * i))"
      ],
      "metadata": {
        "colab": {
          "base_uri": "https://localhost:8080/"
        },
        "id": "t3ABvm92-EeL",
        "outputId": "7c35815b-da00-4da4-9099-e553bc5c688f"
      },
      "execution_count": 8,
      "outputs": [
        {
          "output_type": "stream",
          "name": "stdout",
          "text": [
            "5\n",
            "5 x 1 = 5\n",
            "5 x 2 = 10\n",
            "5 x 3 = 15\n",
            "5 x 4 = 20\n",
            "5 x 5 = 25\n",
            "5 x 6 = 30\n",
            "5 x 7 = 35\n",
            "5 x 8 = 40\n",
            "5 x 9 = 45\n",
            "5 x 10 = 50\n"
          ]
        }
      ]
    },
    {
      "cell_type": "code",
      "source": [
        "# Armstrong Number - 3\n",
        "\n",
        "n = int(input())\n",
        "w = str(n)\n",
        "sum = 0\n",
        "power = len(str(n))\n",
        "\n",
        "for i in w :\n",
        "    add = int(i) ** power\n",
        "    sum = sum + add\n",
        "\n",
        "if sum == n:\n",
        "    print(\"Armstrong Number\")\n",
        "else:\n",
        "    print(\"Not an Armstrong Number\")\n",
        ""
      ],
      "metadata": {
        "colab": {
          "base_uri": "https://localhost:8080/"
        },
        "id": "nMmoaHsg-G9_",
        "outputId": "0a39edab-2725-4f9b-cba8-a037da83af43"
      },
      "execution_count": 7,
      "outputs": [
        {
          "output_type": "stream",
          "name": "stdout",
          "text": [
            "57748\n",
            "Not an Armstrong Number\n"
          ]
        }
      ]
    },
    {
      "cell_type": "code",
      "source": [
        "# Greatest among N numbers\n",
        "\n",
        "n = int(input())\n",
        "first_input = int(input())\n",
        "greatest = first_input\n",
        "\n",
        "for i in range(n-1):\n",
        "    number = int(input())\n",
        "    if number > greatest:\n",
        "        greatest = number\n",
        "\n",
        "print(greatest)"
      ],
      "metadata": {
        "colab": {
          "base_uri": "https://localhost:8080/"
        },
        "id": "j8AaKE6W-LhJ",
        "outputId": "1de52d6d-d6f3-4364-983a-c33a7118d68f"
      },
      "execution_count": 6,
      "outputs": [
        {
          "output_type": "stream",
          "name": "stdout",
          "text": [
            "5\n",
            "8\n",
            "15\n",
            "35\n",
            "15\n",
            "65\n",
            "65\n"
          ]
        }
      ]
    },
    {
      "cell_type": "code",
      "source": [
        "# Factors of a number - 2\n",
        "n = int(input())\n",
        "factors = \"\"\n",
        "\n",
        "for i in range(1, n + 1):\n",
        "    if n % i == 0:\n",
        "        factors = factors + str(i) + \" \"\n",
        "\n",
        "\n",
        "print(factors)\n"
      ],
      "metadata": {
        "colab": {
          "base_uri": "https://localhost:8080/"
        },
        "id": "nugBWH00-QR1",
        "outputId": "7a0b494e-ad48-45a0-dcf4-405876eab63b"
      },
      "execution_count": 5,
      "outputs": [
        {
          "output_type": "stream",
          "name": "stdout",
          "text": [
            "6\n",
            "1 2 3 6 \n"
          ]
        }
      ]
    },
    {
      "cell_type": "code",
      "source": [
        "# Perfect number\n",
        "\n",
        "n = int(input())\n",
        "sum = 0\n",
        "\n",
        "for i in range(1 , n):\n",
        "    if n % i == 0:\n",
        "        sum = sum + i\n",
        "\n",
        "if sum == n:\n",
        "    print(\"Perfect Number\")\n",
        "else:\n",
        "    print(\"Not a Perfect Number\")"
      ],
      "metadata": {
        "colab": {
          "base_uri": "https://localhost:8080/"
        },
        "id": "emaKW3T8-kxd",
        "outputId": "6eb979ca-8b5c-437c-d15f-dc21f5faa979"
      },
      "execution_count": 4,
      "outputs": [
        {
          "output_type": "stream",
          "name": "stdout",
          "text": [
            "6\n",
            "Perfect Number\n"
          ]
        }
      ]
    },
    {
      "cell_type": "code",
      "source": [
        "# Facrors of numbers\n",
        "\n",
        "n = int(input())\n",
        "\n",
        "for i in range(1 , n + 1):\n",
        "    if n % i == 0:\n",
        "        print(i)\n",
        ""
      ],
      "metadata": {
        "colab": {
          "base_uri": "https://localhost:8080/"
        },
        "id": "u_9Rt561-pyM",
        "outputId": "8f8d9848-cdc5-4bc8-97b0-2981b23a2309"
      },
      "execution_count": 3,
      "outputs": [
        {
          "output_type": "stream",
          "name": "stdout",
          "text": [
            "6\n",
            "1\n",
            "2\n",
            "3\n",
            "6\n"
          ]
        }
      ]
    },
    {
      "cell_type": "code",
      "source": [
        "# vowels in string\n",
        "\n",
        "word = input()\n",
        "vowels = \"\"\n",
        "\n",
        "for i in word:\n",
        "    condition = (i == \"a\") or (i == \"e\") or (i == \"i\") or (i == \"o\") or (i == \"u\")\n",
        "    if condition:\n",
        "        vowels = vowels + i\n",
        "\n",
        "print(vowels)"
      ],
      "metadata": {
        "colab": {
          "base_uri": "https://localhost:8080/"
        },
        "id": "VC5JrNoE-ul7",
        "outputId": "924120cb-a975-42fc-8264-3014ca944794"
      },
      "execution_count": 2,
      "outputs": [
        {
          "output_type": "stream",
          "name": "stdout",
          "text": [
            "waghraj\n",
            "aa\n"
          ]
        }
      ]
    },
    {
      "cell_type": "code",
      "source": [
        "# sum of K powers - 2\n",
        "\n",
        "n = int(input())\n",
        "sum = 0\n",
        "s = str(n)\n",
        "k = len(s)\n",
        "\n",
        "for i in s:\n",
        "    sum = sum + int(i) ** k\n",
        "\n",
        "print(sum)"
      ],
      "metadata": {
        "colab": {
          "base_uri": "https://localhost:8080/"
        },
        "id": "NRiIVbLI-zhC",
        "outputId": "e87eeea8-e812-4e5b-b898-5ee18895800a"
      },
      "execution_count": 1,
      "outputs": [
        {
          "output_type": "stream",
          "name": "stdout",
          "text": [
            "24753\n",
            "21231\n"
          ]
        }
      ]
    }
  ]
}