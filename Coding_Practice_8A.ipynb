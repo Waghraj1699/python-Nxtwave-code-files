{
  "nbformat": 4,
  "nbformat_minor": 0,
  "metadata": {
    "colab": {
      "provenance": []
    },
    "kernelspec": {
      "name": "python3",
      "display_name": "Python 3"
    },
    "language_info": {
      "name": "python"
    }
  },
  "cells": [
    {
      "cell_type": "code",
      "execution_count": 7,
      "metadata": {
        "id": "-dtzRrdMp-HW",
        "colab": {
          "base_uri": "https://localhost:8080/"
        },
        "outputId": "062b3db9-2dfc-4258-a3b2-5f1d4e8135cb"
      },
      "outputs": [
        {
          "output_type": "stream",
          "name": "stdout",
          "text": [
            "waghraj\n",
            "w\n",
            "w\n",
            "w\n",
            "w\n",
            "w\n",
            "w\n",
            "w\n"
          ]
        }
      ],
      "source": [
        "# Print length times\n",
        "\n",
        "word = input()\n",
        "length = len(word)\n",
        "\n",
        "for i in range(length):\n",
        "    print(word[0])"
      ]
    },
    {
      "cell_type": "code",
      "source": [
        "# Print the character\n",
        "\n",
        "word = input()\n",
        "\n",
        "for i in range(len(word)):\n",
        "    print(word[i])"
      ],
      "metadata": {
        "id": "Ii2sgDy0qbwQ",
        "colab": {
          "base_uri": "https://localhost:8080/"
        },
        "outputId": "c8090d7b-0849-45f9-8cc7-05d98ce3f5f1"
      },
      "execution_count": 8,
      "outputs": [
        {
          "output_type": "stream",
          "name": "stdout",
          "text": [
            "waghraj\n",
            "w\n",
            "a\n",
            "g\n",
            "h\n",
            "r\n",
            "a\n",
            "j\n"
          ]
        }
      ]
    },
    {
      "cell_type": "code",
      "source": [
        "# print integers\n",
        "\n",
        "n = int(input())\n",
        "\n",
        "for i in range(1, n+1):\n",
        "    print(i)"
      ],
      "metadata": {
        "id": "fzjGlVjsqiZw",
        "colab": {
          "base_uri": "https://localhost:8080/"
        },
        "outputId": "13310828-939e-44ae-c535-032424f3af36"
      },
      "execution_count": 6,
      "outputs": [
        {
          "output_type": "stream",
          "name": "stdout",
          "text": [
            "5\n",
            "1\n",
            "2\n",
            "3\n",
            "4\n",
            "5\n"
          ]
        }
      ]
    },
    {
      "cell_type": "code",
      "source": [
        "# First natural numbers\n",
        "\n",
        "n = int(input())\n",
        "\n",
        "for i in range(1 , n + 1):\n",
        "    print(i)"
      ],
      "metadata": {
        "id": "Od2tjasZqo6x",
        "colab": {
          "base_uri": "https://localhost:8080/"
        },
        "outputId": "042b6af2-a4d2-40bf-fc8b-5c8940d7f46c"
      },
      "execution_count": 5,
      "outputs": [
        {
          "output_type": "stream",
          "name": "stdout",
          "text": [
            "5\n",
            "1\n",
            "2\n",
            "3\n",
            "4\n",
            "5\n"
          ]
        }
      ]
    },
    {
      "cell_type": "code",
      "source": [
        "# Sum of natural numbers\n",
        "\n",
        "n = int(input())\n",
        "sum = 0\n",
        "\n",
        "for i in range(1, n + 1):\n",
        "    sum = sum + i\n",
        "\n",
        "print(sum)"
      ],
      "metadata": {
        "id": "vaKFc3hbqv4u",
        "colab": {
          "base_uri": "https://localhost:8080/"
        },
        "outputId": "12606149-d5f7-462e-a989-e9e879c7aec7"
      },
      "execution_count": 4,
      "outputs": [
        {
          "output_type": "stream",
          "name": "stdout",
          "text": [
            "10\n",
            "55\n"
          ]
        }
      ]
    },
    {
      "cell_type": "code",
      "source": [
        "# avg of N numbers\n",
        "\n",
        "n = int(input())\n",
        "\n",
        "sum = 0\n",
        "for i in range(1, n + 1):\n",
        "    sum = sum + i\n",
        "\n",
        "avg = sum / n\n",
        "print(avg)"
      ],
      "metadata": {
        "id": "QsLf-WI5q3EU",
        "colab": {
          "base_uri": "https://localhost:8080/"
        },
        "outputId": "f2bea99c-a438-4c94-cc85-b8a14e4e7155"
      },
      "execution_count": 3,
      "outputs": [
        {
          "output_type": "stream",
          "name": "stdout",
          "text": [
            "10\n",
            "5.5\n"
          ]
        }
      ]
    },
    {
      "cell_type": "code",
      "source": [
        "# cubes of N numbers\n",
        "\n",
        "n = int(input())\n",
        "\n",
        "for i in range(1, n + 1):\n",
        "    print(i**3)"
      ],
      "metadata": {
        "id": "oxBuKHy-q5fV",
        "colab": {
          "base_uri": "https://localhost:8080/"
        },
        "outputId": "d9358b7c-ff94-483b-cb58-19291c9976e3"
      },
      "execution_count": 2,
      "outputs": [
        {
          "output_type": "stream",
          "name": "stdout",
          "text": [
            "5\n",
            "1\n",
            "8\n",
            "27\n",
            "64\n",
            "125\n"
          ]
        }
      ]
    },
    {
      "cell_type": "code",
      "source": [
        "# Read N inputs\n",
        "\n",
        "n = int(input())\n",
        "\n",
        "for i in range(n):\n",
        "    m = int(input())\n",
        "    print(m)"
      ],
      "metadata": {
        "id": "_4OQnuA9q-BB",
        "colab": {
          "base_uri": "https://localhost:8080/"
        },
        "outputId": "fb205aef-7b09-4661-ed7f-e273b6bd2284"
      },
      "execution_count": 1,
      "outputs": [
        {
          "output_type": "stream",
          "name": "stdout",
          "text": [
            "5\n",
            "1\n",
            "1\n",
            "2\n",
            "2\n",
            "3\n",
            "3\n",
            "1\n",
            "1\n",
            "5\n",
            "5\n"
          ]
        }
      ]
    },
    {
      "cell_type": "code",
      "source": [
        "# product of N inputs\n",
        "\n",
        "n = int(input())\n",
        "\n",
        "product = 1\n",
        "for i in range(1, n + 1):\n",
        "    m = int(input())\n",
        "    product = product * m\n",
        "\n",
        "print(product)"
      ],
      "metadata": {
        "colab": {
          "base_uri": "https://localhost:8080/"
        },
        "id": "7eyLR1xprCb3",
        "outputId": "1bb6f167-a264-4f64-a382-36383cd92759"
      },
      "execution_count": null,
      "outputs": [
        {
          "output_type": "stream",
          "name": "stdout",
          "text": [
            "5\n",
            "1\n",
            "2\n",
            "3\n",
            "5\n",
            "8\n",
            "240\n"
          ]
        }
      ]
    },
    {
      "cell_type": "code",
      "source": [
        "# solid rectangle\n",
        "\n",
        "m = int(input())\n",
        "n = int(input())\n",
        "\n",
        "for i in range(m):\n",
        "    print(\"* \" * n)"
      ],
      "metadata": {
        "colab": {
          "base_uri": "https://localhost:8080/"
        },
        "id": "406-k30NrFKj",
        "outputId": "72823ccb-8f2a-49f0-8141-0194f44c8bc8"
      },
      "execution_count": null,
      "outputs": [
        {
          "output_type": "stream",
          "name": "stdout",
          "text": [
            "5\n",
            "5\n",
            "* * * * * \n",
            "* * * * * \n",
            "* * * * * \n",
            "* * * * * \n",
            "* * * * * \n"
          ]
        }
      ]
    },
    {
      "cell_type": "code",
      "source": [
        "# solid right angled triangle\n",
        "\n",
        "n = int(input())\n",
        "\n",
        "for i in range(1, n + 1):\n",
        "    print(\"* \" * i)"
      ],
      "metadata": {
        "colab": {
          "base_uri": "https://localhost:8080/"
        },
        "id": "sMBDwubjrKWk",
        "outputId": "52d12af5-2d8b-40c4-dd61-001dde319659"
      },
      "execution_count": null,
      "outputs": [
        {
          "output_type": "stream",
          "name": "stdout",
          "text": [
            "5\n",
            "* \n",
            "* * \n",
            "* * * \n",
            "* * * * \n",
            "* * * * * \n"
          ]
        }
      ]
    },
    {
      "cell_type": "code",
      "source": [
        "# sum of the given numbers\n",
        "n = int(input())\n",
        "sum = 0\n",
        "\n",
        "for i in range(n):\n",
        "    m = int(input())\n",
        "    sum = sum + m\n",
        "\n",
        "print(sum)\n"
      ],
      "metadata": {
        "colab": {
          "base_uri": "https://localhost:8080/"
        },
        "id": "8G7rxUUbrNBV",
        "outputId": "23033c59-1cf6-49e5-8e87-ac4922f3e1dd"
      },
      "execution_count": null,
      "outputs": [
        {
          "output_type": "stream",
          "name": "stdout",
          "text": [
            "5\n",
            "5\n",
            "1\n",
            "3\n",
            "5\n",
            "2\n",
            "16\n"
          ]
        }
      ]
    },
    {
      "cell_type": "code",
      "source": [
        "# styled word\n",
        "\n",
        "a = input()\n",
        "len_of_a = len(a)\n",
        "b = a[0]\n",
        "for i in range(1, len_of_a):\n",
        "    b = b + \"-\" + a[i]\n",
        "print(b)\n"
      ],
      "metadata": {
        "colab": {
          "base_uri": "https://localhost:8080/"
        },
        "id": "zBI4w9ZMrR0D",
        "outputId": "3ece7d70-427c-4e90-956e-280c9e9cc144"
      },
      "execution_count": null,
      "outputs": [
        {
          "output_type": "stream",
          "name": "stdout",
          "text": [
            "Python\n",
            "P-y-t-h-o-n\n"
          ]
        }
      ]
    }
  ]
}