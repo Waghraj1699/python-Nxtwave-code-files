{
  "nbformat": 4,
  "nbformat_minor": 0,
  "metadata": {
    "colab": {
      "provenance": []
    },
    "kernelspec": {
      "name": "python3",
      "display_name": "Python 3"
    },
    "language_info": {
      "name": "python"
    }
  },
  "cells": [
    {
      "cell_type": "markdown",
      "source": [
        "# Word Triangle - 2"
      ],
      "metadata": {
        "id": "3s8S9-aRgWtq"
      }
    },
    {
      "cell_type": "code",
      "execution_count": 8,
      "metadata": {
        "colab": {
          "base_uri": "https://localhost:8080/"
        },
        "id": "fdLHLzgzgKZp",
        "outputId": "036ea62d-1f27-48df-8fc1-c5fb3afafd32"
      },
      "outputs": [
        {
          "output_type": "stream",
          "name": "stdout",
          "text": [
            "game\n",
            "game\n",
            "gam\n",
            "ga\n",
            "g\n"
          ]
        }
      ],
      "source": [
        "w = input()\n",
        "len_of_w = len(w)\n",
        "\n",
        "for i in range(1, len_of_w + 1):\n",
        "    index = (len_of_w + 1- i)\n",
        "    print(w[:index])"
      ]
    },
    {
      "cell_type": "markdown",
      "source": [
        "# Inverted Right Angled Triangled - 8"
      ],
      "metadata": {
        "id": "dM3JzukVgfga"
      }
    },
    {
      "cell_type": "code",
      "source": [
        "n = int(input())\n",
        "\n",
        "for i in range(1 , n + 1):\n",
        "    left_spaces = (\" \") * (4*(i-1))\n",
        "    stars = (\"* \") *((2*(n + 1 - i)) - 1)\n",
        "    row = left_spaces + stars\n",
        "    print(row)"
      ],
      "metadata": {
        "colab": {
          "base_uri": "https://localhost:8080/"
        },
        "id": "uTw9hNljglIk",
        "outputId": "82892e44-7d2c-40a5-e2ca-902671cbbd55"
      },
      "execution_count": 7,
      "outputs": [
        {
          "output_type": "stream",
          "name": "stdout",
          "text": [
            "5\n",
            "* * * * * * * * * \n",
            "    * * * * * * * \n",
            "        * * * * * \n",
            "            * * * \n",
            "                * \n"
          ]
        }
      ]
    },
    {
      "cell_type": "markdown",
      "source": [
        "# Shuffle String - 2\n"
      ],
      "metadata": {
        "id": "bEr35TQ8gl0x"
      }
    },
    {
      "cell_type": "code",
      "source": [
        "s1 = input()\n",
        "s2 = input()\n",
        "len_of_s = len(s1)\n",
        "result = \"\"\n",
        "\n",
        "for i in range(len_of_s):\n",
        "    if i % 2 == 0:\n",
        "        result = result + s1[i]\n",
        "    else:\n",
        "        result = result + s2[i]\n",
        "\n",
        "print(result)\n",
        ""
      ],
      "metadata": {
        "colab": {
          "base_uri": "https://localhost:8080/"
        },
        "id": "MiQCuez2grdq",
        "outputId": "97141852-f7ff-4a1b-9d87-0a660ec0d2ff"
      },
      "execution_count": 6,
      "outputs": [
        {
          "output_type": "stream",
          "name": "stdout",
          "text": [
            "bring\n",
            "camel\n",
            "baieg\n"
          ]
        }
      ]
    },
    {
      "cell_type": "markdown",
      "source": [
        "# Sum of Even Numbers"
      ],
      "metadata": {
        "id": "rCw7_gzQgstZ"
      }
    },
    {
      "cell_type": "code",
      "source": [
        "n = int(input())\n",
        "sum = 0\n",
        "\n",
        "for i in range(1 , n + 1):\n",
        "    if i % 2 == 0:\n",
        "        sum = sum + i\n",
        "\n",
        "print(sum)"
      ],
      "metadata": {
        "colab": {
          "base_uri": "https://localhost:8080/"
        },
        "id": "F9jWUvTZgx-m",
        "outputId": "831e4714-a413-47d1-95ee-e1c3a26c0148"
      },
      "execution_count": 5,
      "outputs": [
        {
          "output_type": "stream",
          "name": "stdout",
          "text": [
            "5\n",
            "6\n"
          ]
        }
      ]
    },
    {
      "cell_type": "markdown",
      "source": [
        "# Sum of Odd Numbers"
      ],
      "metadata": {
        "id": "laZxl-4ygzbn"
      }
    },
    {
      "cell_type": "code",
      "source": [
        "n = int(input())\n",
        "sum = 0\n",
        "\n",
        "for i in range(1 , n + 1):\n",
        "    if i % 2 != 0:\n",
        "        sum = sum + i\n",
        "\n",
        "print(sum)"
      ],
      "metadata": {
        "colab": {
          "base_uri": "https://localhost:8080/"
        },
        "id": "ZKZQziZSg23P",
        "outputId": "9efdc312-5199-44bc-d629-6abe2f3b29df"
      },
      "execution_count": 4,
      "outputs": [
        {
          "output_type": "stream",
          "name": "stdout",
          "text": [
            "10\n",
            "25\n"
          ]
        }
      ]
    },
    {
      "cell_type": "markdown",
      "source": [
        "# Composite Numbers"
      ],
      "metadata": {
        "id": "PfM6y9M9g3xB"
      }
    },
    {
      "cell_type": "code",
      "source": [
        "n = int(input())\n",
        "factors = 0\n",
        "\n",
        "for i in range(1 , n + 1):\n",
        "    if n % i == 0:\n",
        "        factors = factors + 1\n",
        "\n",
        "if factors > 2:\n",
        "    print(\"True\")\n",
        "else:\n",
        "    print(\"False\")"
      ],
      "metadata": {
        "colab": {
          "base_uri": "https://localhost:8080/"
        },
        "id": "YApl17g_g523",
        "outputId": "a19b1d64-101f-4a14-bc6c-225db7fb338c"
      },
      "execution_count": 3,
      "outputs": [
        {
          "output_type": "stream",
          "name": "stdout",
          "text": [
            "12\n",
            "True\n"
          ]
        }
      ]
    },
    {
      "cell_type": "markdown",
      "source": [
        "# Striped Rectangle"
      ],
      "metadata": {
        "id": "opy8HLqDg6uW"
      }
    },
    {
      "cell_type": "code",
      "source": [
        "m = int(input())\n",
        "n = int(input())\n",
        "\n",
        "for i in range(1 , m + 1):\n",
        "    if i % 2 != 0:\n",
        "        row = (\"+ \") * n\n",
        "    else:\n",
        "        row = (\"- \") * n\n",
        "    print(row)"
      ],
      "metadata": {
        "colab": {
          "base_uri": "https://localhost:8080/"
        },
        "id": "_nNrc4wkg-gQ",
        "outputId": "e8473e24-9f12-4be5-ff68-881a8df5b95b"
      },
      "execution_count": 2,
      "outputs": [
        {
          "output_type": "stream",
          "name": "stdout",
          "text": [
            "7\n",
            "5\n",
            "+ + + + + \n",
            "- - - - - \n",
            "+ + + + + \n",
            "- - - - - \n",
            "+ + + + + \n",
            "- - - - - \n",
            "+ + + + + \n"
          ]
        }
      ]
    },
    {
      "cell_type": "markdown",
      "source": [
        "# Hollow Rectangle - 2"
      ],
      "metadata": {
        "id": "4ff9XTFKhAtp"
      }
    },
    {
      "cell_type": "code",
      "source": [
        "m = int(input())\n",
        "n = int(input())\n",
        "\n",
        "for i in range(1 , m + 3):\n",
        "    if (i == 1) or (i == m + 2):\n",
        "        row = (\"+\") + ((\"-\")*n) + (\"+\")\n",
        "    else:\n",
        "        row = (\"|\") + ((\" \")*n) + (\"|\")\n",
        "    print(row)"
      ],
      "metadata": {
        "colab": {
          "base_uri": "https://localhost:8080/"
        },
        "id": "1B39FoKhhL8n",
        "outputId": "8e77c2f4-ece3-4791-860a-62293e0c9411"
      },
      "execution_count": 1,
      "outputs": [
        {
          "output_type": "stream",
          "name": "stdout",
          "text": [
            "3\n",
            "10\n",
            "+----------+\n",
            "|          |\n",
            "|          |\n",
            "|          |\n",
            "+----------+\n"
          ]
        }
      ]
    }
  ]
}