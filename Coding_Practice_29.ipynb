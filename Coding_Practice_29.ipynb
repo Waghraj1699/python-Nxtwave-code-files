{
  "nbformat": 4,
  "nbformat_minor": 0,
  "metadata": {
    "colab": {
      "provenance": []
    },
    "kernelspec": {
      "name": "python3",
      "display_name": "Python 3"
    },
    "language_info": {
      "name": "python"
    }
  },
  "cells": [
    {
      "cell_type": "markdown",
      "source": [
        "# Nested List"
      ],
      "metadata": {
        "id": "5noD1NCCuRK4"
      }
    },
    {
      "cell_type": "code",
      "execution_count": 1,
      "metadata": {
        "id": "H-Wu-aP4d3e6",
        "colab": {
          "base_uri": "https://localhost:8080/"
        },
        "outputId": "8fc0024f-19a0-4ea5-cb89-a6ea4dd1d4d0"
      },
      "outputs": [
        {
          "output_type": "stream",
          "name": "stdout",
          "text": [
            "3\n",
            "1 2 3 4\n",
            "10 20 30 \n",
            "10 5 15 42\n",
            "[[1, 2, 3, 4], [10, 20, 30], [10, 5, 15, 42]]\n"
          ]
        }
      ],
      "source": [
        "def convert_to_int(num):\n",
        "    num_list = []\n",
        "    for i in num:\n",
        "        num_list.append(int(i))\n",
        "    return num_list\n",
        "\n",
        "n = int(input())\n",
        "new_list = []\n",
        "\n",
        "for i in range(n):\n",
        "    a = input().split()\n",
        "    num_list = convert_to_int(a)\n",
        "    new_list.append(num_list)\n",
        "print(new_list)"
      ]
    },
    {
      "cell_type": "markdown",
      "source": [
        "# List of Maximum values"
      ],
      "metadata": {
        "id": "_w_bji4t2fPi"
      }
    },
    {
      "cell_type": "code",
      "source": [
        "def convert_to_int(num):\n",
        "    num_list = []\n",
        "    for i in num:\n",
        "        num_list.append(int(i))\n",
        "    return num_list\n",
        "\n",
        "n = int(input())\n",
        "max_values = []\n",
        "for i in range(n):\n",
        "    a = input().split()\n",
        "    a = convert_to_int(a)\n",
        "    max_values.append(max(a))\n",
        "\n",
        "print(max_values)"
      ],
      "metadata": {
        "colab": {
          "base_uri": "https://localhost:8080/"
        },
        "id": "824_FJTF4BlF",
        "outputId": "c7d34d1c-d7c3-4ee4-9a87-122addac4931"
      },
      "execution_count": 2,
      "outputs": [
        {
          "output_type": "stream",
          "name": "stdout",
          "text": [
            "3\n",
            "1 2 3 4 \n",
            "10 20 30 \n",
            "10 5 15 40\n",
            "[4, 30, 40]\n"
          ]
        }
      ]
    },
    {
      "cell_type": "markdown",
      "source": [
        "# List of lists to list of tuple"
      ],
      "metadata": {
        "id": "L9E6bwYT4CeA"
      }
    },
    {
      "cell_type": "code",
      "source": [
        "def convert_nested_list_to_list_of_tuples(nested_list):\n",
        "    new_list = []\n",
        "    for i in nested_list:\n",
        "        new_list.append(tuple(i))\n",
        "    return new_list\n",
        "\n",
        "def convert_string_to_int(list_a):\n",
        "    new_list = []\n",
        "    for item in list_a:\n",
        "        num = int(item)\n",
        "        new_list.append(num)\n",
        "    return new_list\n",
        "\n",
        "\n",
        "n = int(input())\n",
        "num_list = []\n",
        "\n",
        "for i in range(n):\n",
        "    list_a = input().split()\n",
        "    list_a = convert_string_to_int(list_a)\n",
        "    num_list.append(list_a)\n",
        "\n",
        "\n",
        "tuples_list = convert_nested_list_to_list_of_tuples(num_list)\n",
        "print(tuples_list)\n"
      ],
      "metadata": {
        "colab": {
          "base_uri": "https://localhost:8080/"
        },
        "id": "AkzBDMEI4IFq",
        "outputId": "e11a6da8-ede1-4efc-a849-08a2d3404896"
      },
      "execution_count": 3,
      "outputs": [
        {
          "output_type": "stream",
          "name": "stdout",
          "text": [
            "3\n",
            "1 2 3 4 \n",
            "10 20 30\n",
            "5 10 15 20\n",
            "[(1, 2, 3, 4), (10, 20, 30), (5, 10, 15, 20)]\n"
          ]
        }
      ]
    },
    {
      "cell_type": "markdown",
      "source": [
        "# Nested List Indexing"
      ],
      "metadata": {
        "id": "Hq04oGv64Ixa"
      }
    },
    {
      "cell_type": "code",
      "source": [
        "num_list = [(2, 4, 6, 8), (5, 15, 25, 35), (7, 14, 21)]\n",
        "n = int(input())\n",
        "\n",
        "for i in num_list:\n",
        "    if n in i:\n",
        "        tuple_index = num_list.index(i)\n",
        "        n_index = i.index(n)\n",
        "result = str(tuple_index) + \" \" + str(n_index)\n",
        "print(result)\n",
        "\n"
      ],
      "metadata": {
        "colab": {
          "base_uri": "https://localhost:8080/"
        },
        "id": "EbwiUMGR4NfT",
        "outputId": "1d7d922f-ec3e-4bb4-b534-359df15dee6f"
      },
      "execution_count": 4,
      "outputs": [
        {
          "output_type": "stream",
          "name": "stdout",
          "text": [
            "4\n",
            "0 1\n"
          ]
        }
      ]
    },
    {
      "cell_type": "markdown",
      "source": [
        "# Accessing Nested list"
      ],
      "metadata": {
        "id": "RGItSP764OhP"
      }
    },
    {
      "cell_type": "code",
      "source": [
        "list_a = [('apple', 'banana', 'orange', 'grapes'), ('cricket', 'football', 'hockey'), ('car', 'bicycle', 'bus')]\n",
        "\n",
        "def convert_to_int(num):\n",
        "    num_list = []\n",
        "    for i in num:\n",
        "        num_list.append(int(i))\n",
        "    return num_list\n",
        "\n",
        "n = int(input())\n",
        "result = []\n",
        "\n",
        "for i in range(n):\n",
        "    a = input().split()\n",
        "    a = convert_to_int(a)\n",
        "    m , n = tuple(a)\n",
        "    result.append(list_a[m][n])\n",
        "\n",
        "print(result)\n",
        "\n"
      ],
      "metadata": {
        "colab": {
          "base_uri": "https://localhost:8080/"
        },
        "id": "xTlULwuo4Sgx",
        "outputId": "7681b71b-b989-4f33-919a-116a9f38069f"
      },
      "execution_count": 5,
      "outputs": [
        {
          "output_type": "stream",
          "name": "stdout",
          "text": [
            "3\n",
            "1 2\n",
            "0 3\n",
            "0 1\n",
            "['hockey', 'grapes', 'banana']\n"
          ]
        }
      ]
    },
    {
      "cell_type": "markdown",
      "source": [
        "# Remove N in all tuple"
      ],
      "metadata": {
        "id": "FGVkuXNv4TXT"
      }
    },
    {
      "cell_type": "code",
      "source": [
        "num_list = [(1, 2, 3, 4, 5, 6), (2, 4, 6, 8), (1, 3, 5, 7)]\n",
        "\n",
        "n = int(input())\n",
        "new_list = []\n",
        "for i in num_list:\n",
        "    i = list(i)\n",
        "    if n in i:\n",
        "        i.remove(n)\n",
        "    new_list.append(tuple(i))\n",
        "print(new_list)\n",
        "\n"
      ],
      "metadata": {
        "colab": {
          "base_uri": "https://localhost:8080/"
        },
        "id": "5Qg8O6Wa4Yz7",
        "outputId": "52c0db74-2441-4e7d-81d3-20b44fa8823b"
      },
      "execution_count": 6,
      "outputs": [
        {
          "output_type": "stream",
          "name": "stdout",
          "text": [
            "3\n",
            "[(1, 2, 4, 5, 6), (2, 4, 6, 8), (1, 5, 7)]\n"
          ]
        }
      ]
    },
    {
      "cell_type": "markdown",
      "source": [
        "# Max and Mix value in List of Tuple"
      ],
      "metadata": {
        "id": "P-A8AYzW4aDK"
      }
    },
    {
      "cell_type": "code",
      "source": [
        "n = int(input())\n",
        "zero_index = []\n",
        "first_index = []\n",
        "\n",
        "for i in range(n):\n",
        "    a = input().split()\n",
        "    zero_index.append(int(a[0]))\n",
        "    first_index.append(int(a[1]))\n",
        "\n",
        "zero_index_max_min = max(zero_index),min(zero_index)\n",
        "first_index_max_min = max(first_index),min(first_index)\n",
        "print(zero_index_max_min)\n",
        "print(first_index_max_min)\n"
      ],
      "metadata": {
        "colab": {
          "base_uri": "https://localhost:8080/"
        },
        "id": "BbU3L79p4hTp",
        "outputId": "3d0c2073-e5cd-4935-eb27-ab3b4693985d"
      },
      "execution_count": 10,
      "outputs": [
        {
          "output_type": "stream",
          "name": "stdout",
          "text": [
            "3\n",
            "1 5\n",
            "3 2\n",
            "5 8\n",
            "(5, 1)\n",
            "(8, 2)\n"
          ]
        }
      ]
    },
    {
      "cell_type": "markdown",
      "source": [
        "# List of Unique Tuple\n"
      ],
      "metadata": {
        "id": "J0vFer1P4iGy"
      }
    },
    {
      "cell_type": "code",
      "source": [
        "def convert_to_int(num):\n",
        "    num_list = []\n",
        "    for i in num:\n",
        "        num_list.append(int(i))\n",
        "    return num_list\n",
        "\n",
        "n = int(input())\n",
        "new_list = []\n",
        "for i in range(n):\n",
        "    a = input().split()\n",
        "    a = convert_to_int(a)\n",
        "    set_a = set(a)\n",
        "    if len(a) == len(set_a):\n",
        "        new_list.append(a)\n",
        "print(new_list)"
      ],
      "metadata": {
        "colab": {
          "base_uri": "https://localhost:8080/"
        },
        "id": "5KFScRyx4mFb",
        "outputId": "83f5fc87-5e31-45c8-a6c3-72e15ebdaca6"
      },
      "execution_count": 8,
      "outputs": [
        {
          "output_type": "stream",
          "name": "stdout",
          "text": [
            "3\n",
            "1 2 3 4\n",
            "10 20 30\n",
            "10 20 30 10\n",
            "[[1, 2, 3, 4], [10, 20, 30]]\n"
          ]
        }
      ]
    },
    {
      "cell_type": "markdown",
      "source": [
        "# Character Frequency"
      ],
      "metadata": {
        "id": "NCK47pNv4m9B"
      }
    },
    {
      "cell_type": "code",
      "source": [
        "str_1 = input()\n",
        "str_1 = str_1.lower()\n",
        "line = set(str_1)\n",
        "line.discard(\" \")\n",
        "\n",
        "for i in sorted(line):\n",
        "    a = i\n",
        "    b = str_1.count(i)\n",
        "    print(\"{}: {}\".format(a,b))\n",
        ""
      ],
      "metadata": {
        "colab": {
          "base_uri": "https://localhost:8080/"
        },
        "id": "wqHuulgg4q0r",
        "outputId": "8c6e1b8f-e26a-444c-e247-ee8e8a505f74"
      },
      "execution_count": 9,
      "outputs": [
        {
          "output_type": "stream",
          "name": "stdout",
          "text": [
            "Tic Tac Toe\n",
            "a: 1\n",
            "c: 2\n",
            "e: 1\n",
            "i: 1\n",
            "o: 1\n",
            "t: 3\n"
          ]
        }
      ]
    },
    {
      "cell_type": "markdown",
      "source": [
        "# String Formatting"
      ],
      "metadata": {
        "id": "azif8go44ruO"
      }
    },
    {
      "cell_type": "code",
      "source": [
        "str_a = input()\n",
        "str_b = input()\n",
        "message = \"{arg_1} is playing {arg_2}\"\n",
        "print(message.format(arg_2=str_b, arg_1=str_a))\n"
      ],
      "metadata": {
        "colab": {
          "base_uri": "https://localhost:8080/"
        },
        "id": "mQ_Ns9AO4vLI",
        "outputId": "03ba9ab9-c910-447d-fcf1-ce84d6525c31"
      },
      "execution_count": 7,
      "outputs": [
        {
          "output_type": "stream",
          "name": "stdout",
          "text": [
            "Waghraj\n",
            "Cricket\n",
            "Waghraj is playing Cricket\n"
          ]
        }
      ]
    }
  ]
}