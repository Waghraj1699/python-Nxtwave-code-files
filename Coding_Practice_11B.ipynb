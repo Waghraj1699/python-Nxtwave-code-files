{
  "nbformat": 4,
  "nbformat_minor": 0,
  "metadata": {
    "colab": {
      "provenance": []
    },
    "kernelspec": {
      "name": "python3",
      "display_name": "Python 3"
    },
    "language_info": {
      "name": "python"
    }
  },
  "cells": [
    {
      "cell_type": "code",
      "execution_count": 1,
      "metadata": {
        "colab": {
          "base_uri": "https://localhost:8080/"
        },
        "id": "RD8eWZATTr3J",
        "outputId": "612a7773-05ab-4c67-bc8f-b1a2262c9449"
      },
      "outputs": [
        {
          "output_type": "stream",
          "name": "stdout",
          "text": [
            "add_numbers.py\n",
            "True\n"
          ]
        }
      ],
      "source": [
        "# Python File\n",
        "\n",
        "file = input()\n",
        "is_py_file = file.endswith(\".py\")\n",
        "\n",
        "if is_py_file:\n",
        "    print(True)\n",
        "else:\n",
        "    print(False)"
      ]
    },
    {
      "cell_type": "code",
      "source": [
        "# secured URL\n",
        "\n",
        "url = input()\n",
        "\n",
        "secure_ulr = url.startswith(\"https://\")\n",
        "if secure_ulr:\n",
        "    print(True)\n",
        "else:\n",
        "    print(False)"
      ],
      "metadata": {
        "colab": {
          "base_uri": "https://localhost:8080/"
        },
        "id": "wg5TxTXuULVr",
        "outputId": "3e3d3add-0c7a-45ed-8300-6006f6a65729"
      },
      "execution_count": 2,
      "outputs": [
        {
          "output_type": "stream",
          "name": "stdout",
          "text": [
            "https://docs.google.com\n",
            "True\n"
          ]
        }
      ]
    },
    {
      "cell_type": "code",
      "source": [
        "# swap case\n",
        "\n",
        "word = input()\n",
        "word = word.swapcase()\n",
        "print(word)"
      ],
      "metadata": {
        "colab": {
          "base_uri": "https://localhost:8080/"
        },
        "id": "Qw_nn-eLUYWR",
        "outputId": "5f405771-3366-498d-98da-953859d99a7b"
      },
      "execution_count": 11,
      "outputs": [
        {
          "output_type": "stream",
          "name": "stdout",
          "text": [
            "Humans\n",
            "hUMANS\n"
          ]
        }
      ]
    },
    {
      "cell_type": "code",
      "source": [
        "# Valid password - 2\n",
        "\n",
        "password = input()\n",
        "\n",
        "isall_lower = (password.lower() == password )\n",
        "\n",
        "if isall_lower:\n",
        "    print(\"Invalid Password\")\n",
        "else:\n",
        "    print(\"Valid Password\")"
      ],
      "metadata": {
        "colab": {
          "base_uri": "https://localhost:8080/"
        },
        "id": "jMnyM6JeUh0r",
        "outputId": "6c0ee474-9d0d-4886-f300-7730337f874c"
      },
      "execution_count": 10,
      "outputs": [
        {
          "output_type": "stream",
          "name": "stdout",
          "text": [
            "Quraty00\n",
            "Valid Password\n"
          ]
        }
      ]
    },
    {
      "cell_type": "code",
      "source": [
        "# palindrom - 2\n",
        "\n",
        "word = input()\n",
        "new_word = \"\"\n",
        "length = len(word)\n",
        "for i in range(1,length + 1):\n",
        "    new_word = new_word + word[length - i]\n",
        "\n",
        "if word.lower() == new_word.lower() :\n",
        "    print(\"True\")\n",
        "else:\n",
        "    print(\"False\")"
      ],
      "metadata": {
        "colab": {
          "base_uri": "https://localhost:8080/"
        },
        "id": "lpdb-s4TUmkG",
        "outputId": "ca8bf4b6-7a7f-4abe-ea2f-848e3d8ef13c"
      },
      "execution_count": 9,
      "outputs": [
        {
          "output_type": "stream",
          "name": "stdout",
          "text": [
            "madam\n",
            "True\n"
          ]
        }
      ]
    },
    {
      "cell_type": "code",
      "source": [
        "# Valid Password - 3\n",
        "\n",
        "password = input()\n",
        "\n",
        "digit = False\n",
        "\n",
        "for i in password:\n",
        "    is_digit = i.isdigit()\n",
        "    if is_digit:\n",
        "        digit = True\n",
        "\n",
        "is_lower = not(password == password.lower())\n",
        "is_upper = not(password == password.upper())\n",
        "\n",
        "condition = digit and is_upper and is_lower\n",
        "\n",
        "if condition:\n",
        "    print(\"Valid Password\")\n",
        "else:\n",
        "    print(\"Invalid Password\")"
      ],
      "metadata": {
        "colab": {
          "base_uri": "https://localhost:8080/"
        },
        "id": "ZdnQCZA7UrWx",
        "outputId": "329b44a5-09bd-4ede-c98b-5845c246ae5a"
      },
      "execution_count": 8,
      "outputs": [
        {
          "output_type": "stream",
          "name": "stdout",
          "text": [
            "Quraty000\n",
            "Valid Password\n"
          ]
        }
      ]
    },
    {
      "cell_type": "code",
      "source": [
        "# case conversion - 2\n",
        "\n",
        "string = input()\n",
        "\n",
        "result = \"\"\n",
        "\n",
        "for i in string:\n",
        "    if i.isupper():\n",
        "        result = result + \"-\" + i.lower()\n",
        "    else:\n",
        "        result = result + i.lower()\n",
        "\n",
        "print(result)"
      ],
      "metadata": {
        "colab": {
          "base_uri": "https://localhost:8080/"
        },
        "id": "uCih0aV7UuVp",
        "outputId": "10330663-32c3-4e51-efc0-0f2b34722e08"
      },
      "execution_count": 7,
      "outputs": [
        {
          "output_type": "stream",
          "name": "stdout",
          "text": [
            "aChristmasStory\n",
            "a-christmas-story\n"
          ]
        }
      ]
    },
    {
      "cell_type": "code",
      "source": [
        "# Valid Password\n",
        "\n",
        "password = input()\n",
        "contain_digit = False\n",
        "\n",
        "for i in password:\n",
        "    if i.isdigit():\n",
        "        contain_digit = True\n",
        "\n",
        "if contain_digit:\n",
        "    print(\"Valid Password\")\n",
        "else:\n",
        "    print(\"Invalid Password\")"
      ],
      "metadata": {
        "colab": {
          "base_uri": "https://localhost:8080/"
        },
        "id": "72gwpiA7Uzsr",
        "outputId": "6a4ef784-4b85-4b5c-ab1a-5b7f43eafe83"
      },
      "execution_count": 6,
      "outputs": [
        {
          "output_type": "stream",
          "name": "stdout",
          "text": [
            "Dashboard\n",
            "Invalid Password\n"
          ]
        }
      ]
    },
    {
      "cell_type": "code",
      "source": [
        "# case conversion\n",
        "\n",
        "string = input()\n",
        "\n",
        "word = string[1:]\n",
        "result = string[0]\n",
        "\n",
        "for i in word:\n",
        "    if i.isupper():\n",
        "        result = result + \" \" + i\n",
        "    else:\n",
        "        result = result + i\n",
        "\n",
        "print(result)"
      ],
      "metadata": {
        "colab": {
          "base_uri": "https://localhost:8080/"
        },
        "id": "VuEpl8EtU1sB",
        "outputId": "5c5b3125-ac2a-4fd3-c4a7-112f900e8ff1"
      },
      "execution_count": 5,
      "outputs": [
        {
          "output_type": "stream",
          "name": "stdout",
          "text": [
            "TitleCase\n",
            "Title Case\n"
          ]
        }
      ]
    },
    {
      "cell_type": "code",
      "source": [
        "# Palindrom\n",
        "\n",
        "string = input()\n",
        "\n",
        "reverse = \"\"\n",
        "\n",
        "for i in string:\n",
        "    reverse = i + reverse\n",
        "\n",
        "if reverse == string:\n",
        "    print(\"True\")\n",
        "else:\n",
        "    print(\"False\")"
      ],
      "metadata": {
        "colab": {
          "base_uri": "https://localhost:8080/"
        },
        "id": "Kbum_GygU7gW",
        "outputId": "f7ee9ead-c95e-4933-f221-07e61dd494c5"
      },
      "execution_count": 4,
      "outputs": [
        {
          "output_type": "stream",
          "name": "stdout",
          "text": [
            "madam\n",
            "True\n"
          ]
        }
      ]
    }
  ]
}