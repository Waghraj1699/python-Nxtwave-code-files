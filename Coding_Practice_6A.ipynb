{
  "nbformat": 4,
  "nbformat_minor": 0,
  "metadata": {
    "colab": {
      "provenance": []
    },
    "kernelspec": {
      "name": "python3",
      "display_name": "Python 3"
    },
    "language_info": {
      "name": "python"
    }
  },
  "cells": [
    {
      "cell_type": "code",
      "execution_count": 5,
      "metadata": {
        "colab": {
          "base_uri": "https://localhost:8080/"
        },
        "id": "YuvOHDMw240V",
        "outputId": "4d272aa0-92c4-4d0b-ad6b-cbf2682f47bc"
      },
      "outputs": [
        {
          "name": "stdout",
          "output_type": "stream",
          "text": [
            "5\n",
            "5\n",
            "5\n"
          ]
        }
      ],
      "source": [
        "# simple calculator\n",
        "\n",
        "o = input()\n",
        "a = int(input())\n",
        "b = int(input())\n",
        "\n",
        "if o == \"+\":\n",
        "    print(a + b)\n",
        "elif o == \"-\":\n",
        "    print(a - b)\n",
        "elif o == \"*\":\n",
        "    print(a * b)\n",
        "elif o == \"/\":\n",
        "    print(a/b)\n",
        "elif o == \"%\":\n",
        "    print(a % b)"
      ]
    },
    {
      "cell_type": "code",
      "source": [
        "# print the value\n",
        "\n",
        "string = input()\n",
        "\n",
        "last_character = string[len(string)-1]\n",
        "number = int(string[0:len(string)-1])\n",
        "\n",
        "if last_character == \"T\":\n",
        "    result = 10 * number\n",
        "    print(result)\n",
        "elif last_character == \"H\":\n",
        "    result = 100 * number\n",
        "    print(result)\n",
        "elif last_character == \"K\":\n",
        "    result = 1000 * number\n",
        "    print(result)\n",
        ""
      ],
      "metadata": {
        "colab": {
          "base_uri": "https://localhost:8080/"
        },
        "id": "tMWtBo003Txf",
        "outputId": "c2492f2a-c452-4a35-9993-11f7b79461af"
      },
      "execution_count": 6,
      "outputs": [
        {
          "output_type": "stream",
          "name": "stdout",
          "text": [
            "34T\n",
            "340\n"
          ]
        }
      ]
    },
    {
      "cell_type": "code",
      "source": [
        "# print the score - 4\n",
        "\n",
        "d = int(input())\n",
        "\n",
        "if d <= 40:\n",
        "    s = 2 * d\n",
        "elif d > 40 and d <=60:\n",
        "    s = (2 * 40) + (4 * (d-40))\n",
        "elif d > 60 and d <= 120:\n",
        "    s = (2 * 40) + (4 * 20) + (6 * (d-60))\n",
        "elif d > 120:\n",
        "    s = (2 * 40) + (4 * 20) + (6 * 60) + (8 * (d - 120))\n",
        "\n",
        "bonus = s + 50\n",
        "print(bonus)"
      ],
      "metadata": {
        "colab": {
          "base_uri": "https://localhost:8080/"
        },
        "id": "nYmlQIxJ3WUl",
        "outputId": "98ff0d70-f956-492d-c292-c7576f13606b"
      },
      "execution_count": 4,
      "outputs": [
        {
          "output_type": "stream",
          "name": "stdout",
          "text": [
            "456\n",
            "3258\n"
          ]
        }
      ]
    },
    {
      "cell_type": "code",
      "source": [
        "# permission to attempt exam\n",
        "\n",
        "p = input()\n",
        "m = input()\n",
        "\n",
        "percentage = int(p[0:len(p)-1])\n",
        "\n",
        "if percentage >= 75 or m == \"Y\":\n",
        "    print(\"Allowed to write exam\")\n",
        "else:\n",
        "    print(\"Cannot write exam\")"
      ],
      "metadata": {
        "colab": {
          "base_uri": "https://localhost:8080/"
        },
        "id": "mQqMl0_93aZR",
        "outputId": "d6a97a32-ecb8-4f60-e480-b78a5e01b197"
      },
      "execution_count": 2,
      "outputs": [
        {
          "output_type": "stream",
          "name": "stdout",
          "text": [
            "80%\n",
            "Y\n",
            "Allowed to write exam\n"
          ]
        }
      ]
    },
    {
      "cell_type": "code",
      "source": [
        "# sum of digits\n",
        "\n",
        "n = int(input())\n",
        "if n < 10 :\n",
        "    sum_of_d = n\n",
        "elif n < 100 and n >= 10:\n",
        "    string_no = str(n)\n",
        "    first_d = int(string_no[0])\n",
        "    second_d = int(string_no[1])\n",
        "    sum_of_d = first_d + second_d\n",
        "elif n >= 100 and n < 1000:\n",
        "    string_no = str(n)\n",
        "    first_d = int(string_no[0])\n",
        "    second_d = int(string_no[1])\n",
        "    third_d = int(string_no[2])\n",
        "    sum_of_d = first_d + second_d + third_d\n",
        "elif n >= 1000 and n < 10000:\n",
        "    string_no = str(n)\n",
        "    first_d = int(string_no[0])\n",
        "    second_d = int(string_no[1])\n",
        "    third_d = int(string_no[2])\n",
        "    fourth_d = int(string_no[3])\n",
        "    sum_of_d = first_d + second_d + third_d + fourth_d\n",
        "\n",
        "print(sum_of_d)\n",
        "\n",
        ""
      ],
      "metadata": {
        "colab": {
          "base_uri": "https://localhost:8080/"
        },
        "id": "ZOR-_MxZ3fwr",
        "outputId": "7f590aec-8275-469a-c1e5-4248e1586be4"
      },
      "execution_count": 3,
      "outputs": [
        {
          "output_type": "stream",
          "name": "stdout",
          "text": [
            "25\n",
            "7\n"
          ]
        }
      ]
    }
  ]
}