{
  "nbformat": 4,
  "nbformat_minor": 0,
  "metadata": {
    "colab": {
      "provenance": []
    },
    "kernelspec": {
      "name": "python3",
      "display_name": "Python 3"
    },
    "language_info": {
      "name": "python"
    }
  },
  "cells": [
    {
      "cell_type": "code",
      "execution_count": 10,
      "metadata": {
        "colab": {
          "base_uri": "https://localhost:8080/"
        },
        "id": "iytWt52O67Ea",
        "outputId": "38a28866-8117-459c-ee4f-3192f6b1dcad"
      },
      "outputs": [
        {
          "output_type": "stream",
          "name": "stdout",
          "text": [
            "4\n",
            "25\n",
            "38\n"
          ]
        }
      ],
      "source": [
        "# Number of digits from M to N\n",
        "\n",
        "m = int(input())\n",
        "n = int(input())\n",
        "count = 0\n",
        "for i in range(m , n + 1):\n",
        "    digit = len(str(i))\n",
        "    count = count + digit\n",
        "\n",
        "print(count)"
      ]
    },
    {
      "cell_type": "code",
      "source": [
        "# Divisible by 6\n",
        "\n",
        "m = int(input())\n",
        "n = int(input())\n",
        "result = \"\"\n",
        "count = 0\n",
        "\n",
        "for i in range(m , n + 1):\n",
        "    if i % 6 == 0:\n",
        "        result = result + str(i) + \" \"\n",
        "        count = count + i\n",
        "\n",
        "if count == 0:\n",
        "    print(\"No Numbers Found\")\n",
        "else:\n",
        "    print(result)"
      ],
      "metadata": {
        "colab": {
          "base_uri": "https://localhost:8080/"
        },
        "id": "nNXv1jUd7Ksr",
        "outputId": "dc19ff72-48a9-4395-96ab-5d41646035cc"
      },
      "execution_count": 9,
      "outputs": [
        {
          "output_type": "stream",
          "name": "stdout",
          "text": [
            "1\n",
            "100\n",
            "6 12 18 24 30 36 42 48 54 60 66 72 78 84 90 96 \n"
          ]
        }
      ]
    },
    {
      "cell_type": "code",
      "source": [
        "# Vowels of a string - 2\n",
        "\n",
        "string = input()\n",
        "count = 0\n",
        "\n",
        "for i in string:\n",
        "    vowels = (i==\"a\") or (i==\"e\") or (i==\"i\") or (i==\"o\") or (i==\"u\")\n",
        "    if vowels:\n",
        "        count = count + 1\n",
        "\n",
        "if count > 2:\n",
        "    print(\"String has more than two vowels\")\n",
        "else:\n",
        "    print(\"String doesn't have more than two vowels\")\n",
        "\n"
      ],
      "metadata": {
        "colab": {
          "base_uri": "https://localhost:8080/"
        },
        "id": "O9jaHh5s7OM-",
        "outputId": "b2b08f48-f26e-41fa-b0b0-d34f53676369"
      },
      "execution_count": 8,
      "outputs": [
        {
          "output_type": "stream",
          "name": "stdout",
          "text": [
            "indian\n",
            "String has more than two vowels\n"
          ]
        }
      ]
    },
    {
      "cell_type": "code",
      "source": [
        "# Smallest among N numbers\n",
        "\n",
        "n = int(input())\n",
        "\n",
        "first = int(input())\n",
        "smallest = first\n",
        "\n",
        "for i in range(n-1):\n",
        "    m = int(input())\n",
        "    if m < smallest:\n",
        "        smallest = m\n",
        "\n",
        "print(smallest)"
      ],
      "metadata": {
        "colab": {
          "base_uri": "https://localhost:8080/"
        },
        "id": "CiAoOZ_87Sae",
        "outputId": "8db806a5-6732-43ad-df56-7d8adc57c077"
      },
      "execution_count": 7,
      "outputs": [
        {
          "output_type": "stream",
          "name": "stdout",
          "text": [
            "5\n",
            "8\n",
            "11\n",
            "25\n",
            "35\n",
            "14\n",
            "8\n"
          ]
        }
      ]
    },
    {
      "cell_type": "code",
      "source": [
        "# Divisible by 9 in the range\n",
        "\n",
        "m = int(input())\n",
        "n = int(input())\n",
        "count = 0\n",
        "result = \"\"\n",
        "\n",
        "for i in range(m , n + 1):\n",
        "    if i % 9 == 0:\n",
        "        count = count + 1\n",
        "        result = result + str(i) + \" \"\n",
        "\n",
        "if count == 0:\n",
        "    print(\"No Numbers found\")\n",
        "else:\n",
        "    print(result)"
      ],
      "metadata": {
        "colab": {
          "base_uri": "https://localhost:8080/"
        },
        "id": "pwoBDmxT7WJJ",
        "outputId": "45616d8b-6518-483a-b5b0-f2621f2050ef"
      },
      "execution_count": 6,
      "outputs": [
        {
          "output_type": "stream",
          "name": "stdout",
          "text": [
            "5\n",
            "100\n",
            "9 18 27 36 45 54 63 72 81 90 99 \n"
          ]
        }
      ]
    },
    {
      "cell_type": "code",
      "source": [
        "# 2 series\n",
        "\n",
        "n = int(input())\n",
        "\n",
        "for i in range(1 , n + 1):\n",
        "    print(\"2\" * i)"
      ],
      "metadata": {
        "colab": {
          "base_uri": "https://localhost:8080/"
        },
        "id": "TvSZi09K7beC",
        "outputId": "68dd96f4-0409-440a-bb4b-d0398b423cb2"
      },
      "execution_count": 5,
      "outputs": [
        {
          "output_type": "stream",
          "name": "stdout",
          "text": [
            "5\n",
            "2\n",
            "22\n",
            "222\n",
            "2222\n",
            "22222\n"
          ]
        }
      ]
    },
    {
      "cell_type": "code",
      "source": [
        "# Sum of N terms in 2 series\n",
        "\n",
        "n = int(input())\n",
        "sum = 0\n",
        "\n",
        "for i in range(1 , n + 1):\n",
        "    term = \"2\" * i\n",
        "    sum = sum + int(term)\n",
        "\n",
        "print(sum)"
      ],
      "metadata": {
        "colab": {
          "base_uri": "https://localhost:8080/"
        },
        "id": "9CO04EoO7fXY",
        "outputId": "4a12b018-cf11-4233-c643-eff4950388b5"
      },
      "execution_count": 4,
      "outputs": [
        {
          "output_type": "stream",
          "name": "stdout",
          "text": [
            "3\n",
            "246\n"
          ]
        }
      ]
    },
    {
      "cell_type": "code",
      "source": [
        "# Sum of N terms in 1 series\n",
        "\n",
        "n = int(input())\n",
        "sum = 0\n",
        "\n",
        "for i in range(1, n + 1):\n",
        "    term = \"1\" * i\n",
        "    sum = sum + int(term)\n",
        "\n",
        "print(sum)"
      ],
      "metadata": {
        "colab": {
          "base_uri": "https://localhost:8080/"
        },
        "id": "VS_CNG9q7j8X",
        "outputId": "876eb4d4-6ef3-47f9-a80d-d2798c79b098"
      },
      "execution_count": 3,
      "outputs": [
        {
          "output_type": "stream",
          "name": "stdout",
          "text": [
            "4\n",
            "1234\n"
          ]
        }
      ]
    },
    {
      "cell_type": "code",
      "source": [
        "# Sum of N term in X series\n",
        "\n",
        "x = int(input())\n",
        "n = int(input())\n",
        "sum = 0\n",
        "\n",
        "for i in range(1 , n + 1):\n",
        "    term = str(x) * i\n",
        "    sum = sum + int(term)\n",
        "\n",
        "print(sum)"
      ],
      "metadata": {
        "colab": {
          "base_uri": "https://localhost:8080/"
        },
        "id": "5PpOIg-d7omL",
        "outputId": "777b53fa-4968-4c80-c0e5-b0f980b20ffe"
      },
      "execution_count": 1,
      "outputs": [
        {
          "output_type": "stream",
          "name": "stdout",
          "text": [
            "7\n",
            "4\n",
            "8638\n"
          ]
        }
      ]
    },
    {
      "cell_type": "code",
      "source": [
        "# Sum of N terms in X square series\n",
        "\n",
        "x = int(input())\n",
        "n = int(input())\n",
        "sum = 0\n",
        "\n",
        "for i in range(1 , n + 1):\n",
        "    term = str(x) * i\n",
        "    sum = sum + int(term)**2\n",
        "\n",
        "print(sum)"
      ],
      "metadata": {
        "colab": {
          "base_uri": "https://localhost:8080/"
        },
        "id": "B6Lx83ax7_Vs",
        "outputId": "05b6809a-8551-4edc-c3fc-a9616d2f818c"
      },
      "execution_count": 2,
      "outputs": [
        {
          "output_type": "stream",
          "name": "stdout",
          "text": [
            "4\n",
            "3\n",
            "199088\n"
          ]
        }
      ]
    }
  ]
}