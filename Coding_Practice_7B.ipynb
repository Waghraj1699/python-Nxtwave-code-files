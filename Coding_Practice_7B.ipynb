{
  "nbformat": 4,
  "nbformat_minor": 0,
  "metadata": {
    "colab": {
      "provenance": []
    },
    "kernelspec": {
      "name": "python3",
      "display_name": "Python 3"
    },
    "language_info": {
      "name": "python"
    }
  },
  "cells": [
    {
      "cell_type": "code",
      "execution_count": 7,
      "metadata": {
        "id": "jYhS6XzhZ2eE",
        "colab": {
          "base_uri": "https://localhost:8080/"
        },
        "outputId": "b405ae03-5258-4e02-e421-8a8863496802"
      },
      "outputs": [
        {
          "output_type": "stream",
          "name": "stdout",
          "text": [
            "waghraj\n",
            "w\n",
            "w\n",
            "w\n",
            "w\n",
            "w\n",
            "w\n",
            "w\n"
          ]
        }
      ],
      "source": [
        "# print length times\n",
        "\n",
        "word = input()\n",
        "\n",
        "length = len(word)\n",
        "count = 1\n",
        "\n",
        "while count <= length:\n",
        "    print(word[0])\n",
        "    count = count + 1"
      ]
    },
    {
      "cell_type": "code",
      "source": [
        "# print the characters\n",
        "\n",
        "word = input()\n",
        "length = len(word)\n",
        "count = 0\n",
        "\n",
        "while count < length:\n",
        "    print(word[count])\n",
        "    count = count + 1\n",
        "\n"
      ],
      "metadata": {
        "id": "xhTQGtR3aBKG",
        "colab": {
          "base_uri": "https://localhost:8080/"
        },
        "outputId": "fd7da5b8-e3ef-4d91-e407-e51fa702d8ee"
      },
      "execution_count": 8,
      "outputs": [
        {
          "output_type": "stream",
          "name": "stdout",
          "text": [
            "waghraj\n",
            "w\n",
            "a\n",
            "g\n",
            "h\n",
            "r\n",
            "a\n",
            "j\n"
          ]
        }
      ]
    },
    {
      "cell_type": "code",
      "source": [
        "# square - 2\n",
        "\n",
        "n = int(input())\n",
        "count = 1\n",
        "\n",
        "while count <= n:\n",
        "    print(str(count) * n )\n",
        "    count = count + 1\n",
        ""
      ],
      "metadata": {
        "colab": {
          "base_uri": "https://localhost:8080/"
        },
        "id": "j8nORFwzGj48",
        "outputId": "824cd7f6-42c3-4718-f56b-36e9a2938263"
      },
      "execution_count": 9,
      "outputs": [
        {
          "output_type": "stream",
          "name": "stdout",
          "text": [
            "5\n",
            "11111\n",
            "22222\n",
            "33333\n",
            "44444\n",
            "55555\n"
          ]
        }
      ]
    },
    {
      "cell_type": "code",
      "source": [
        "# rectangle\n",
        "\n",
        "m = int(input())\n",
        "n = int(input())\n",
        "\n",
        "count = 0\n",
        "while count < m:\n",
        "    print(\"*\" * n)\n",
        "    count = count + 1"
      ],
      "metadata": {
        "colab": {
          "base_uri": "https://localhost:8080/"
        },
        "id": "v6MPntJXGnCj",
        "outputId": "000de09a-0daf-4e5e-e73c-a5e6c2d02038"
      },
      "execution_count": 10,
      "outputs": [
        {
          "output_type": "stream",
          "name": "stdout",
          "text": [
            "4\n",
            "5\n",
            "*****\n",
            "*****\n",
            "*****\n",
            "*****\n"
          ]
        }
      ]
    },
    {
      "cell_type": "code",
      "source": [
        "# Right angled triangle\n",
        "\n",
        "n = int(input())\n",
        "\n",
        "count = 1\n",
        "\n",
        "while count <= n :\n",
        "    print(\"*\" * count)\n",
        "    count = count + 1"
      ],
      "metadata": {
        "colab": {
          "base_uri": "https://localhost:8080/"
        },
        "id": "DxBljT6lGqVt",
        "outputId": "ddd3a480-d895-49c6-bcb6-64afc76b7448"
      },
      "execution_count": 6,
      "outputs": [
        {
          "output_type": "stream",
          "name": "stdout",
          "text": [
            "5\n",
            "*\n",
            "**\n",
            "***\n",
            "****\n",
            "*****\n"
          ]
        }
      ]
    },
    {
      "cell_type": "code",
      "source": [
        "# Right angled triangle -2\n",
        "\n",
        "n = int(input())\n",
        "\n",
        "count = 1\n",
        "\n",
        "while count <= n:\n",
        "    print((str(count) + \" \" )* count)\n",
        "    count = count + 1"
      ],
      "metadata": {
        "colab": {
          "base_uri": "https://localhost:8080/"
        },
        "id": "bpW-IlPCGuCt",
        "outputId": "851945fd-a4e9-4eaf-a894-b91fcefc56ac"
      },
      "execution_count": 5,
      "outputs": [
        {
          "output_type": "stream",
          "name": "stdout",
          "text": [
            "5\n",
            "1 \n",
            "2 2 \n",
            "3 3 3 \n",
            "4 4 4 4 \n",
            "5 5 5 5 5 \n"
          ]
        }
      ]
    },
    {
      "cell_type": "code",
      "source": [
        "# Right angled triangle - 3\n",
        "\n",
        "n = int(input())\n",
        "\n",
        "count = 1\n",
        "\n",
        "while count < n:\n",
        "    print(\"* \" * count)\n",
        "    count = count + 1\n",
        "print(\"+ \" * n)"
      ],
      "metadata": {
        "colab": {
          "base_uri": "https://localhost:8080/"
        },
        "id": "s46PoJupGvhQ",
        "outputId": "0255a342-a875-4f05-c177-b7450ec6697a"
      },
      "execution_count": 4,
      "outputs": [
        {
          "output_type": "stream",
          "name": "stdout",
          "text": [
            "5\n",
            "* \n",
            "* * \n",
            "* * * \n",
            "* * * * \n",
            "+ + + + + \n"
          ]
        }
      ]
    },
    {
      "cell_type": "code",
      "source": [
        "# Two right angled triangles\n",
        "\n",
        "n = int(input())\n",
        "\n",
        "count1 = 1\n",
        "count2 = 1\n",
        "while count1 <= n:\n",
        "    print(str(count1) * count1)\n",
        "    count1 = count1 + 1\n",
        "while count2 <= n:\n",
        "    print(str(count2) * count2)\n",
        "    count2 = count2 + 1\n"
      ],
      "metadata": {
        "colab": {
          "base_uri": "https://localhost:8080/"
        },
        "id": "KSZ-c-_8G2M8",
        "outputId": "d349d7d9-785f-4ad5-c7ca-a1ab6629260b"
      },
      "execution_count": 3,
      "outputs": [
        {
          "output_type": "stream",
          "name": "stdout",
          "text": [
            "5\n",
            "1\n",
            "22\n",
            "333\n",
            "4444\n",
            "55555\n",
            "1\n",
            "22\n",
            "333\n",
            "4444\n",
            "55555\n"
          ]
        }
      ]
    },
    {
      "cell_type": "code",
      "source": [
        "# square\n",
        "\n",
        "n = int(input())\n",
        "\n",
        "count = 1\n",
        "\n",
        "while count <= n:\n",
        "    print(\"* \" * n)\n",
        "    count = count + 1"
      ],
      "metadata": {
        "colab": {
          "base_uri": "https://localhost:8080/"
        },
        "id": "C8yqpoIpG6Jd",
        "outputId": "32082542-dca8-4557-8d81-5f2b66847c68"
      },
      "execution_count": 2,
      "outputs": [
        {
          "output_type": "stream",
          "name": "stdout",
          "text": [
            "5\n",
            "* * * * * \n",
            "* * * * * \n",
            "* * * * * \n",
            "* * * * * \n",
            "* * * * * \n"
          ]
        }
      ]
    },
    {
      "cell_type": "code",
      "source": [
        "# rectangle - 2\n",
        "\n",
        "m = int(input())\n",
        "n = int(input())\n",
        "\n",
        "count = 1\n",
        "\n",
        "while count <= m:\n",
        "    print(\"+ \" * n)\n",
        "    count = count + 1"
      ],
      "metadata": {
        "colab": {
          "base_uri": "https://localhost:8080/"
        },
        "id": "gq5rRRosHAGm",
        "outputId": "7ed4b630-bf0c-47bc-9c38-9e1da12e92c5"
      },
      "execution_count": 1,
      "outputs": [
        {
          "output_type": "stream",
          "name": "stdout",
          "text": [
            "4\n",
            "5\n",
            "+ + + + + \n",
            "+ + + + + \n",
            "+ + + + + \n",
            "+ + + + + \n"
          ]
        }
      ]
    }
  ]
}