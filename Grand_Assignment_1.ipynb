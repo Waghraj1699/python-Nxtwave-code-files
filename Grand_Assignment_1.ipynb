{
  "nbformat": 4,
  "nbformat_minor": 0,
  "metadata": {
    "colab": {
      "provenance": []
    },
    "kernelspec": {
      "name": "python3",
      "display_name": "Python 3"
    },
    "language_info": {
      "name": "python"
    }
  },
  "cells": [
    {
      "cell_type": "code",
      "execution_count": 8,
      "metadata": {
        "colab": {
          "base_uri": "https://localhost:8080/"
        },
        "id": "7hlpLkTXwijj",
        "outputId": "64aee06f-10ff-4d83-aff6-79d47a24fbeb"
      },
      "outputs": [
        {
          "output_type": "stream",
          "name": "stdout",
          "text": [
            "waghraj\n",
            "5\n",
            "waghraj waghraj waghraj waghraj waghraj \n"
          ]
        }
      ],
      "source": [
        "# string repetition\n",
        "\n",
        "word = input()\n",
        "number = int(input())\n",
        "word = word + \" \"\n",
        "print(word * number)"
      ]
    },
    {
      "cell_type": "code",
      "source": [
        "# First place\n",
        "\n",
        "n = int(input())\n",
        "\n",
        "n_str = str(n)\n",
        "digit = int(n_str[len(n_str) - 1])\n",
        "\n",
        "print(digit)"
      ],
      "metadata": {
        "colab": {
          "base_uri": "https://localhost:8080/"
        },
        "id": "G3s1rEH7w1qR",
        "outputId": "55cd41a4-8e29-4e75-f6a4-3a9a8f33a599"
      },
      "execution_count": 7,
      "outputs": [
        {
          "output_type": "stream",
          "name": "stdout",
          "text": [
            "5\n",
            "5\n"
          ]
        }
      ]
    },
    {
      "cell_type": "code",
      "source": [
        "# Day Conversion\n",
        "\n",
        "n = int(input())\n",
        "\n",
        "years = int(n / 365)\n",
        "remaining_days = n - (years * 365)\n",
        "\n",
        "weeks = int(remaining_days / 7)\n",
        "remaining_days = remaining_days - (weeks * 7)\n",
        "\n",
        "days = remaining_days\n",
        "\n",
        "print(str(years) + \" years \" + str(weeks) + \" weeks \" + str(days) + \" days \")"
      ],
      "metadata": {
        "colab": {
          "base_uri": "https://localhost:8080/"
        },
        "id": "2ZHQXxNuw4q6",
        "outputId": "27a3d429-da5f-4960-cb01-db879d6b589a"
      },
      "execution_count": 6,
      "outputs": [
        {
          "output_type": "stream",
          "name": "stdout",
          "text": [
            "5\n",
            "0 years 0 weeks 5 days \n"
          ]
        }
      ]
    },
    {
      "cell_type": "code",
      "source": [
        "#  Finding differnce\n",
        "\n",
        "a = int(input())\n",
        "b = int(input())\n",
        "\n",
        "diff = a - b\n",
        "\n",
        "if (diff > 0):\n",
        "    print(diff)\n",
        "else:\n",
        "    print(diff * (-1))"
      ],
      "metadata": {
        "colab": {
          "base_uri": "https://localhost:8080/"
        },
        "id": "LzhRGgtnw6wl",
        "outputId": "665ff28b-c773-4a3b-eb8c-523426029685"
      },
      "execution_count": 5,
      "outputs": [
        {
          "output_type": "stream",
          "name": "stdout",
          "text": [
            "15\n",
            "25\n",
            "10\n"
          ]
        }
      ]
    },
    {
      "cell_type": "code",
      "source": [
        "# hand game\n",
        "\n",
        "abhinav = input()\n",
        "anjali = input()\n",
        "\n",
        "tie = (abhinav == anjali)\n",
        "result = ((abhinav == \"Paper\") and (anjali == \"Rock\")) or ((abhinav == \"Scissors\") and (anjali == \"Paper\")) or ((abhinav == \"Rock\") and (anjali == \"Scissors\"))\n",
        "\n",
        "if tie:\n",
        "    print(\"Tie\")\n",
        "elif result:\n",
        "    print(\"Abhinav Wins\")\n",
        "else:\n",
        "    print(\"Anjali Wins\")"
      ],
      "metadata": {
        "colab": {
          "base_uri": "https://localhost:8080/"
        },
        "id": "Wan2c2wAw-fP",
        "outputId": "e89106e1-963d-427e-d46d-b4f8b9246be4"
      },
      "execution_count": 4,
      "outputs": [
        {
          "output_type": "stream",
          "name": "stdout",
          "text": [
            "Paper\n",
            "Rock\n",
            "Abhinav Wins\n"
          ]
        }
      ]
    },
    {
      "cell_type": "code",
      "source": [
        "#  Name of month\n",
        "\n",
        "n = int(input())\n",
        "\n",
        "if n == 1:\n",
        "    print(\"January\")\n",
        "elif n == 2:\n",
        "    print(\"February\")\n",
        "elif n == 3:\n",
        "    print(\"March\")\n",
        "elif n == 4:\n",
        "    print(\"April\")\n",
        "elif n == 5:\n",
        "    print(\"May\")\n",
        "elif n == 6:\n",
        "    print(\"June\")\n",
        "elif n == 7:\n",
        "    print(\"July\")\n",
        "elif n == 8:\n",
        "    print(\"August\")\n",
        "elif n == 9:\n",
        "    print(\"September\")\n",
        "elif n == 10:\n",
        "    print(\"October\")\n",
        "elif n == 11:\n",
        "    print(\"November\")\n",
        "elif n == 12:\n",
        "    print(\"December\")\n",
        "elif n < 1 or n >= 12:\n",
        "    print(\"Invalid Month Number\")"
      ],
      "metadata": {
        "colab": {
          "base_uri": "https://localhost:8080/"
        },
        "id": "c2tM5Q4qw_wh",
        "outputId": "e80743e7-821d-411e-94fc-9974172b9a67"
      },
      "execution_count": 3,
      "outputs": [
        {
          "output_type": "stream",
          "name": "stdout",
          "text": [
            "5\n",
            "May\n"
          ]
        }
      ]
    },
    {
      "cell_type": "code",
      "source": [
        "# triangles\n",
        "\n",
        "a = int(input())\n",
        "b = int(input())\n",
        "c = int(input())\n",
        "\n",
        "if (a == b) and (b == c):\n",
        "    print(\"Equilateral\")\n",
        "elif (a == b) or (c == b) or (a == c):\n",
        "    print(\"Isosceles\")\n",
        "else:\n",
        "    print(\"Scalene\")"
      ],
      "metadata": {
        "colab": {
          "base_uri": "https://localhost:8080/"
        },
        "id": "RjqMvt1vxD-b",
        "outputId": "c0c65a6d-a5dc-49f3-c199-159b7e91296e"
      },
      "execution_count": 1,
      "outputs": [
        {
          "output_type": "stream",
          "name": "stdout",
          "text": [
            "4\n",
            "5\n",
            "4\n",
            "Isosceles\n"
          ]
        }
      ]
    },
    {
      "cell_type": "code",
      "source": [
        "# denominations\n",
        "\n",
        "amount = int(input())\n",
        "\n",
        "thousand = int(amount / 1000)\n",
        "remaining_amount = amount - (thousand * 1000)\n",
        "\n",
        "five_hundred = int(remaining_amount / 500)\n",
        "remaining_amount = remaining_amount - (five_hundred * 500)\n",
        "\n",
        "hundred = int(remaining_amount / 100)\n",
        "remaining_amount = remaining_amount - (hundred * 100)\n",
        "\n",
        "fifty = int(remaining_amount / 50)\n",
        "remaining_amount = remaining_amount - (fifty * 50)\n",
        "\n",
        "twenty = int(remaining_amount / 20)\n",
        "remaining_amount = remaining_amount - (twenty * 20)\n",
        "\n",
        "five = int(remaining_amount / 5)\n",
        "remaining_amount = remaining_amount - (five * 5)\n",
        "\n",
        "one = int(remaining_amount / 1)\n",
        "\n",
        "print(\"1000:\" + str(thousand))\n",
        "print(\"500:\" + str(five_hundred))\n",
        "print(\"100:\" + str(hundred))\n",
        "print(\"50:\" + str(fifty))\n",
        "print(\"20:\" + str(twenty))\n",
        "print(\"5:\" + str(five))\n",
        "print(\"1:\" + str(one))"
      ],
      "metadata": {
        "colab": {
          "base_uri": "https://localhost:8080/"
        },
        "id": "pSHZvvHFxGVg",
        "outputId": "8d206b63-050b-4ed5-d9ea-fc8e25266ae6"
      },
      "execution_count": 2,
      "outputs": [
        {
          "output_type": "stream",
          "name": "stdout",
          "text": [
            "8547\n",
            "1000:8\n",
            "500:1\n",
            "100:0\n",
            "50:0\n",
            "20:2\n",
            "5:1\n",
            "1:2\n"
          ]
        }
      ]
    }
  ]
}