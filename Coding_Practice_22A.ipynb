{
  "nbformat": 4,
  "nbformat_minor": 0,
  "metadata": {
    "colab": {
      "provenance": []
    },
    "kernelspec": {
      "name": "python3",
      "display_name": "Python 3"
    },
    "language_info": {
      "name": "python"
    }
  },
  "cells": [
    {
      "cell_type": "code",
      "execution_count": 8,
      "metadata": {
        "colab": {
          "base_uri": "https://localhost:8080/"
        },
        "id": "EBoumhObsqbV",
        "outputId": "ec80ca7e-cbfd-4627-f1e2-962ea30feb90"
      },
      "outputs": [
        {
          "output_type": "stream",
          "name": "stdout",
          "text": [
            "waghraj\n",
            "waghraj\n"
          ]
        }
      ],
      "source": [
        "# print the input - 5\n",
        "\n",
        "def print_arg(string):\n",
        "\n",
        "    # complete this function\n",
        "    print(string)\n",
        "\n",
        "\n",
        "\n",
        "string = input()\n",
        "\n",
        "# call the print_arg function\n",
        "print_arg(string)"
      ]
    },
    {
      "cell_type": "code",
      "source": [
        "# welcome message\n",
        "\n",
        "def say_wishes(arg_1):\n",
        "    msg = \"Welcome \" + arg_1\n",
        "    print(msg)\n",
        "\n",
        "name = input()\n",
        "say_wishes(name)\n"
      ],
      "metadata": {
        "colab": {
          "base_uri": "https://localhost:8080/"
        },
        "id": "zB4kXkWhtsEw",
        "outputId": "37bccc2e-73ab-4423-a5d1-632a32919ac3"
      },
      "execution_count": 7,
      "outputs": [
        {
          "output_type": "stream",
          "name": "stdout",
          "text": [
            "waghraj\n",
            "Welcome waghraj\n"
          ]
        }
      ]
    },
    {
      "cell_type": "code",
      "source": [
        "# Multiply with 3\n",
        "\n",
        "def multiply_with_three(arg_1):\n",
        "    print(3*arg_1)\n",
        "\n",
        "n = int(input())\n",
        "multiply_with_three(n)\n"
      ],
      "metadata": {
        "colab": {
          "base_uri": "https://localhost:8080/"
        },
        "id": "wmr3jD5Ltt_O",
        "outputId": "04eeb518-724f-4c76-aaee-92d266071321"
      },
      "execution_count": 6,
      "outputs": [
        {
          "output_type": "stream",
          "name": "stdout",
          "text": [
            "5\n",
            "15\n"
          ]
        }
      ]
    },
    {
      "cell_type": "code",
      "source": [
        "# divisible by 7\n",
        "\n",
        "def divisible_by_seven(arg_1):\n",
        "    if arg_1 % 7 == 0:\n",
        "        print(\"True\")\n",
        "    else:\n",
        "        print(\"False\")\n",
        "\n",
        "n = int(input())\n",
        "divisible_by_seven(n)\n"
      ],
      "metadata": {
        "colab": {
          "base_uri": "https://localhost:8080/"
        },
        "id": "eLo_LC7FtxN-",
        "outputId": "563b8f8b-0ee2-414b-ce76-7132111ffdb4"
      },
      "execution_count": 5,
      "outputs": [
        {
          "output_type": "stream",
          "name": "stdout",
          "text": [
            "7\n",
            "True\n"
          ]
        }
      ]
    },
    {
      "cell_type": "code",
      "source": [
        "# between 200 and 500\n",
        "\n",
        "def is_between_200_and_500(number):\n",
        "    if number > 200 and number < 500:\n",
        "        print(\"Yes\")\n",
        "    else:\n",
        "        print(\"No\")\n",
        "\n",
        "number = int(input())\n",
        "\n",
        "#call the is_between_200_and_500 function\n",
        "is_between_200_and_500(number)"
      ],
      "metadata": {
        "colab": {
          "base_uri": "https://localhost:8080/"
        },
        "id": "XFKca8e3t06F",
        "outputId": "43c105f9-0596-417e-9eb0-5c18e2e31e3e"
      },
      "execution_count": 4,
      "outputs": [
        {
          "output_type": "stream",
          "name": "stdout",
          "text": [
            "125\n",
            "No\n"
          ]
        }
      ]
    },
    {
      "cell_type": "code",
      "source": [
        "# discount - 2\n",
        "\n",
        "def get_discount(amount):\n",
        "    if amount < 500:\n",
        "        print(\"5%\")\n",
        "    elif amount >= 500 and amount < 2500:\n",
        "        print(\"10%\")\n",
        "    elif amount >= 2500:\n",
        "        print(\"20%\")\n",
        "\n",
        "\n",
        "amount = int(input())\n",
        "get_discount(amount)\n"
      ],
      "metadata": {
        "colab": {
          "base_uri": "https://localhost:8080/"
        },
        "id": "zQ3rwCJjt36p",
        "outputId": "de92c015-ef85-4b3b-c854-6170a729278f"
      },
      "execution_count": 3,
      "outputs": [
        {
          "output_type": "stream",
          "name": "stdout",
          "text": [
            "500\n",
            "10%\n"
          ]
        }
      ]
    },
    {
      "cell_type": "code",
      "source": [
        "# print N integers\n",
        "\n",
        "def print_numbers(number):\n",
        "    for i in range(1 , number + 1):\n",
        "        print(i)\n",
        "\n",
        "\n",
        "number = int(input())\n",
        "\n",
        "# call the print_numbers function\n",
        "print_numbers(number)"
      ],
      "metadata": {
        "colab": {
          "base_uri": "https://localhost:8080/"
        },
        "id": "Wub8QSqst_41",
        "outputId": "e1e8606c-3cb4-47c1-f180-b8debc8e8ad2"
      },
      "execution_count": 2,
      "outputs": [
        {
          "output_type": "stream",
          "name": "stdout",
          "text": [
            "5\n",
            "1\n",
            "2\n",
            "3\n",
            "4\n",
            "5\n"
          ]
        }
      ]
    },
    {
      "cell_type": "code",
      "source": [
        "# Even numbers or odd numbers\n",
        "\n",
        "def show_numbers(number):\n",
        "    for i in range(number + 1):\n",
        "        if i % 2 == 0:\n",
        "            print(str(i) + \" \" + \"EVEN\")\n",
        "        else:\n",
        "            print(str(i) + \" \" + \"ODD\")\n",
        "\n",
        "\n",
        "number = int(input())\n",
        "show_numbers(number)"
      ],
      "metadata": {
        "colab": {
          "base_uri": "https://localhost:8080/"
        },
        "id": "YwSZd9rWuCaf",
        "outputId": "9231991a-ba42-47bd-d01c-8012a4e300a1"
      },
      "execution_count": 1,
      "outputs": [
        {
          "output_type": "stream",
          "name": "stdout",
          "text": [
            "5\n",
            "0 EVEN\n",
            "1 ODD\n",
            "2 EVEN\n",
            "3 ODD\n",
            "4 EVEN\n",
            "5 ODD\n"
          ]
        }
      ]
    }
  ]
}