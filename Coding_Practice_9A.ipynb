{
  "nbformat": 4,
  "nbformat_minor": 0,
  "metadata": {
    "colab": {
      "provenance": []
    },
    "kernelspec": {
      "name": "python3",
      "display_name": "Python 3"
    },
    "language_info": {
      "name": "python"
    }
  },
  "cells": [
    {
      "cell_type": "code",
      "execution_count": 13,
      "metadata": {
        "colab": {
          "base_uri": "https://localhost:8080/"
        },
        "id": "hn-VU6zCihCr",
        "outputId": "9a4d229e-00d0-4d97-cf27-99be25cadf77"
      },
      "outputs": [
        {
          "output_type": "stream",
          "name": "stdout",
          "text": [
            "165\n",
            "1 6 5 \n"
          ]
        }
      ],
      "source": [
        "# Prints the digits of number\n",
        "\n",
        "n = int(input())\n",
        "result = \"\"\n",
        "\n",
        "integer = str(n)\n",
        "\n",
        "for i in integer:\n",
        "    result =result + i + \" \"\n",
        "\n",
        "print(result)"
      ]
    },
    {
      "cell_type": "code",
      "source": [
        "# Sum of digits\n",
        "\n",
        "n = int(input())\n",
        "integer = str(n)\n",
        "sum = 0\n",
        "\n",
        "for i in integer:\n",
        "    sum = sum + int(i)\n",
        "\n",
        "print(sum)\n",
        "\n"
      ],
      "metadata": {
        "colab": {
          "base_uri": "https://localhost:8080/"
        },
        "id": "hSwLzQpBiwoS",
        "outputId": "e11b008d-3ff2-4a23-9f92-315eb7f22cae"
      },
      "execution_count": 12,
      "outputs": [
        {
          "output_type": "stream",
          "name": "stdout",
          "text": [
            "10\n",
            "1\n"
          ]
        }
      ]
    },
    {
      "cell_type": "code",
      "source": [
        "# Factorial\n",
        "\n",
        "n = int(input())\n",
        "\n",
        "product = 1\n",
        "\n",
        "for i in range(1 , n + 1):\n",
        "    product = product * (n + 1 - i)\n",
        "\n",
        "if n == 0:\n",
        "    fact = 1\n",
        "else:\n",
        "    fact = product\n",
        "\n",
        "print(fact)"
      ],
      "metadata": {
        "colab": {
          "base_uri": "https://localhost:8080/"
        },
        "id": "2WrJgGaOi0F3",
        "outputId": "3ce499b9-0e92-44aa-f938-f3a7c1ffaf26"
      },
      "execution_count": 11,
      "outputs": [
        {
          "output_type": "stream",
          "name": "stdout",
          "text": [
            "5\n",
            "120\n"
          ]
        }
      ]
    },
    {
      "cell_type": "code",
      "source": [
        "# Sum of Cubes\n",
        "\n",
        "n = int(input())\n",
        "\n",
        "sum = 0\n",
        "for i in range(1 , n + 1):\n",
        "    sum = sum + i**3\n",
        "\n",
        "print(sum)"
      ],
      "metadata": {
        "colab": {
          "base_uri": "https://localhost:8080/"
        },
        "id": "8hc-hde9i1-p",
        "outputId": "a6cf5e8a-d7fe-429f-fbce-7063c35e9558"
      },
      "execution_count": 10,
      "outputs": [
        {
          "output_type": "stream",
          "name": "stdout",
          "text": [
            "3\n",
            "36\n"
          ]
        }
      ]
    },
    {
      "cell_type": "code",
      "source": [
        "# Sum and avg of 10 Inputs\n",
        "\n",
        "sum = 0\n",
        "\n",
        "for i in range(1 , 11):\n",
        "    m = int(input())\n",
        "    sum = sum + m\n",
        "\n",
        "avg = sum / 10\n",
        "print(sum)\n",
        "print(avg)"
      ],
      "metadata": {
        "colab": {
          "base_uri": "https://localhost:8080/"
        },
        "id": "xa_Up_Uwi4IX",
        "outputId": "c914b07a-a8c4-4b3b-c8bd-b8f6522cb3ad"
      },
      "execution_count": 9,
      "outputs": [
        {
          "output_type": "stream",
          "name": "stdout",
          "text": [
            "1\n",
            "2\n",
            "3\n",
            "4\n",
            "5\n",
            "6\n",
            "7\n",
            "8\n",
            "9\n",
            "10\n",
            "55\n",
            "5.5\n"
          ]
        }
      ]
    },
    {
      "cell_type": "code",
      "source": [
        "# sum of squares from M to N\n",
        "\n",
        "m = int(input())\n",
        "n = int(input())\n",
        "\n",
        "sum = 0\n",
        "for i in range(m , n + 1):\n",
        "    sum = sum + i**2\n",
        "\n",
        "print(sum)\n"
      ],
      "metadata": {
        "colab": {
          "base_uri": "https://localhost:8080/"
        },
        "id": "stTIvy1pi8to",
        "outputId": "92ab71be-af99-4e7d-836e-12657bd1bf05"
      },
      "execution_count": 8,
      "outputs": [
        {
          "output_type": "stream",
          "name": "stdout",
          "text": [
            "2\n",
            "4\n",
            "29\n"
          ]
        }
      ]
    },
    {
      "cell_type": "code",
      "source": [
        "# print even numbers up to N\n",
        "\n",
        "n = int(input())\n",
        "\n",
        "for i in range(1 , n + 1):\n",
        "    if i % 2 == 0 :\n",
        "        print(i)"
      ],
      "metadata": {
        "colab": {
          "base_uri": "https://localhost:8080/"
        },
        "id": "qVh8mQmCjBYN",
        "outputId": "7a3979a0-03ef-48d4-a635-265ab282a13a"
      },
      "execution_count": 7,
      "outputs": [
        {
          "output_type": "stream",
          "name": "stdout",
          "text": [
            "10\n",
            "2\n",
            "4\n",
            "6\n",
            "8\n",
            "10\n"
          ]
        }
      ]
    },
    {
      "cell_type": "code",
      "source": [
        "#  print odd numbers from M to N\n",
        "\n",
        "m = int(input())\n",
        "n = int(input())\n",
        "result = \"\"\n",
        "for i in range(m , n + 1):\n",
        "    if i % 2 != 0 :\n",
        "        result = result + str(i) + \" \"\n",
        "\n",
        "print(result)"
      ],
      "metadata": {
        "colab": {
          "base_uri": "https://localhost:8080/"
        },
        "id": "EL51yZ6yjIGT",
        "outputId": "23b617be-5e96-44c9-d87a-2013c5552703"
      },
      "execution_count": 6,
      "outputs": [
        {
          "output_type": "stream",
          "name": "stdout",
          "text": [
            "2\n",
            "10\n",
            "3 5 7 9 \n"
          ]
        }
      ]
    },
    {
      "cell_type": "code",
      "source": [
        "# Sum of even numbers upto N\n",
        "\n",
        "n = int(input())\n",
        "sum = 0\n",
        "\n",
        "for i in range(1 , n + 1):\n",
        "    if i % 2 == 0 :\n",
        "        sum = sum + i\n",
        "\n",
        "print(sum)"
      ],
      "metadata": {
        "colab": {
          "base_uri": "https://localhost:8080/"
        },
        "id": "bNmrXh4-jWhE",
        "outputId": "b91dd604-1813-4f2e-c300-40d7ce84048e"
      },
      "execution_count": 5,
      "outputs": [
        {
          "output_type": "stream",
          "name": "stdout",
          "text": [
            "6\n",
            "12\n"
          ]
        }
      ]
    },
    {
      "cell_type": "code",
      "source": [
        "# Sum of odd numbers upto N\n",
        "\n",
        "n = int(input())\n",
        "sum = 0\n",
        "\n",
        "for i in range(1 , n + 1):\n",
        "    if i % 2 != 0 :\n",
        "        sum = sum + i\n",
        "\n",
        "print(sum)"
      ],
      "metadata": {
        "colab": {
          "base_uri": "https://localhost:8080/"
        },
        "id": "LJmKrofnjjkQ",
        "outputId": "77ef9055-5e05-40be-9a89-3d85718c4a19"
      },
      "execution_count": 4,
      "outputs": [
        {
          "output_type": "stream",
          "name": "stdout",
          "text": [
            "6\n",
            "9\n"
          ]
        }
      ]
    },
    {
      "cell_type": "code",
      "source": [
        "# Sum of even numbers from M to N\n",
        "\n",
        "m = int(input())\n",
        "n = int(input())\n",
        "sum = 0\n",
        "\n",
        "for i in range(m , n + 1):\n",
        "    if i % 2 == 0 :\n",
        "        sum = sum + i\n",
        "\n",
        "print(sum)"
      ],
      "metadata": {
        "colab": {
          "base_uri": "https://localhost:8080/"
        },
        "id": "wsJbykzPjqBF",
        "outputId": "678e5070-6fb9-44ab-80dd-0cd4d75916d0"
      },
      "execution_count": 3,
      "outputs": [
        {
          "output_type": "stream",
          "name": "stdout",
          "text": [
            "2\n",
            "6\n",
            "12\n"
          ]
        }
      ]
    },
    {
      "cell_type": "code",
      "source": [
        "# product of odd numbers from M to N\n",
        "\n",
        "m = int(input())\n",
        "n = int(input())\n",
        "product = 1\n",
        "\n",
        "for i in range(m , n + 1):\n",
        "    if i % 2 != 0 :\n",
        "        product = product * i\n",
        "\n",
        "print(product)"
      ],
      "metadata": {
        "colab": {
          "base_uri": "https://localhost:8080/"
        },
        "id": "Xjt1FEH6jvsP",
        "outputId": "ae284f24-a4ce-48bf-e4cc-a4b56673cdaa"
      },
      "execution_count": 2,
      "outputs": [
        {
          "output_type": "stream",
          "name": "stdout",
          "text": [
            "2\n",
            "7\n",
            "105\n"
          ]
        }
      ]
    },
    {
      "cell_type": "code",
      "source": [
        "# sum of odd numbers from M to N\n",
        "\n",
        "m = int(input())\n",
        "n = int(input())\n",
        "sum = 0\n",
        "\n",
        "for i in range(m , n + 1):\n",
        "    if i % 2 !=  0 :\n",
        "        sum = sum + i\n",
        "\n",
        "print(sum)"
      ],
      "metadata": {
        "colab": {
          "base_uri": "https://localhost:8080/"
        },
        "id": "xylGV-djj1Z7",
        "outputId": "77d0c816-8264-4ccc-f1ba-8e81a77c278d"
      },
      "execution_count": 1,
      "outputs": [
        {
          "output_type": "stream",
          "name": "stdout",
          "text": [
            "5\n",
            "13\n",
            "45\n"
          ]
        }
      ]
    }
  ]
}