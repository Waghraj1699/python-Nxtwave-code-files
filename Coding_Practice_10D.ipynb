{
  "nbformat": 4,
  "nbformat_minor": 0,
  "metadata": {
    "colab": {
      "provenance": []
    },
    "kernelspec": {
      "name": "python3",
      "display_name": "Python 3"
    },
    "language_info": {
      "name": "python"
    }
  },
  "cells": [
    {
      "cell_type": "code",
      "execution_count": null,
      "metadata": {
        "colab": {
          "base_uri": "https://localhost:8080/"
        },
        "id": "BYvdzWW3k9HJ",
        "outputId": "a306b707-e1bd-48a2-a3d5-7570d69bb83f"
      },
      "outputs": [
        {
          "output_type": "stream",
          "name": "stdout",
          "text": [
            "5\n",
            "*                 * \n",
            "* *             * * \n",
            "* * *         * * * \n",
            "* * * *     * * * * \n",
            "* * * * * * * * * * \n"
          ]
        }
      ],
      "source": [
        "# M pattern with *\n",
        "\n",
        "n = int(input())\n",
        "\n",
        "for i in range(1 , n + 1):\n",
        "    stars = \"* \" * (i)\n",
        "    spaces = \" \" * (4 * (n - i))\n",
        "    row = stars + spaces + stars\n",
        "    print(row)"
      ]
    },
    {
      "cell_type": "code",
      "source": [
        "# Pyramid - 3\n",
        "\n",
        "n = int(input())\n",
        "\n",
        "for i in range(1 , n + 1):\n",
        "    stars = \"* \" * i\n",
        "    print(stars)\n",
        "\n",
        "for j in range(1 , n):\n",
        "    stars = \"* \" * (n - j)\n",
        "    print(stars)"
      ],
      "metadata": {
        "id": "klX7Z88klJIz",
        "colab": {
          "base_uri": "https://localhost:8080/"
        },
        "outputId": "c82d0508-d647-4fea-d3e0-80e011a93ae8"
      },
      "execution_count": 2,
      "outputs": [
        {
          "output_type": "stream",
          "name": "stdout",
          "text": [
            "5\n",
            "* \n",
            "* * \n",
            "* * * \n",
            "* * * * \n",
            "* * * * * \n",
            "* * * * \n",
            "* * * \n",
            "* * \n",
            "* \n"
          ]
        }
      ]
    },
    {
      "cell_type": "code",
      "source": [
        "# pyramid - 4\n",
        "\n",
        "n = int(input())\n",
        "\n",
        "for i in range(1 , n + 1):\n",
        "    number = (str(i) + \" \") * i\n",
        "    print(number)\n",
        "\n",
        "for j in range(1 , n):\n",
        "    number2 = (str(n - j) + \" \") * (n - j)\n",
        "    print(number2)"
      ],
      "metadata": {
        "colab": {
          "base_uri": "https://localhost:8080/"
        },
        "id": "RQUZkrTlp2jC",
        "outputId": "44c99b71-d72c-4bf0-9b9b-2f8a723fff4f"
      },
      "execution_count": 3,
      "outputs": [
        {
          "output_type": "stream",
          "name": "stdout",
          "text": [
            "5\n",
            "1 \n",
            "2 2 \n",
            "3 3 3 \n",
            "4 4 4 4 \n",
            "5 5 5 5 5 \n",
            "4 4 4 4 \n",
            "3 3 3 \n",
            "2 2 \n",
            "1 \n"
          ]
        }
      ]
    },
    {
      "cell_type": "code",
      "source": [
        "# Pyramid - 5\n",
        "n = int(input())\n",
        "\n",
        "for i in range(1 , n + 1):\n",
        "    spaces = \" \" * (2 * (n - i))\n",
        "    plus = \"+ \" * (i - 1)\n",
        "    hashsymbol = \"#\"\n",
        "    print(spaces + plus + hashsymbol)\n",
        "\n",
        "for j in range(1 , n):\n",
        "    spaces = \" \" * (2 * j)\n",
        "    plus = \"+ \" * (n - 1 - j)\n",
        "    hashsymbol = \"#\"\n",
        "    print(spaces + plus + hashsymbol)\n"
      ],
      "metadata": {
        "colab": {
          "base_uri": "https://localhost:8080/"
        },
        "id": "5Dao4RI9qDK1",
        "outputId": "86a439b6-d14c-435c-bebd-0a406db6a3c1"
      },
      "execution_count": 4,
      "outputs": [
        {
          "output_type": "stream",
          "name": "stdout",
          "text": [
            "5\n",
            "        #\n",
            "      + #\n",
            "    + + #\n",
            "  + + + #\n",
            "+ + + + #\n",
            "  + + + #\n",
            "    + + #\n",
            "      + #\n",
            "        #\n"
          ]
        }
      ]
    },
    {
      "cell_type": "code",
      "source": [
        "# Butterfly\n",
        "\n",
        "n = int(input())\n",
        "\n",
        "for i in range(1 , n + 1):\n",
        "    stars = \"* \" * i\n",
        "    spaces = \" \" * ( 4 * (n - i))\n",
        "    row = stars + spaces + stars\n",
        "    print(row)\n",
        "\n",
        "for j in range(1 , n):\n",
        "    stars = \"* \" * (n - j)\n",
        "    spaces = \" \" * (4 * j)\n",
        "    row = stars + spaces + stars\n",
        "    print(row)"
      ],
      "metadata": {
        "colab": {
          "base_uri": "https://localhost:8080/"
        },
        "id": "VK70i-MJqLtR",
        "outputId": "7030a35f-03d2-4eea-e057-e01fd0f11de5"
      },
      "execution_count": 5,
      "outputs": [
        {
          "output_type": "stream",
          "name": "stdout",
          "text": [
            "5\n",
            "*                 * \n",
            "* *             * * \n",
            "* * *         * * * \n",
            "* * * *     * * * * \n",
            "* * * * * * * * * * \n",
            "* * * *     * * * * \n",
            "* * *         * * * \n",
            "* *             * * \n",
            "*                 * \n"
          ]
        }
      ]
    },
    {
      "cell_type": "code",
      "source": [
        "# Pyramid - 6\n",
        "\n",
        "n = int(input())\n",
        "\n",
        "for i in range(1 , n + 1):\n",
        "    spaces = \" \" * (n - i)\n",
        "    stars = \"* \" * i\n",
        "    row = spaces + stars\n",
        "    print(row)"
      ],
      "metadata": {
        "colab": {
          "base_uri": "https://localhost:8080/"
        },
        "id": "lkhxSDC4qRks",
        "outputId": "7f4d8330-20db-48fb-fafd-e9df0a5a74d5"
      },
      "execution_count": 6,
      "outputs": [
        {
          "output_type": "stream",
          "name": "stdout",
          "text": [
            "5\n",
            "    * \n",
            "   * * \n",
            "  * * * \n",
            " * * * * \n",
            "* * * * * \n"
          ]
        }
      ]
    },
    {
      "cell_type": "code",
      "source": [
        "# Pyramid - 7\n",
        "\n",
        "n = int(input())\n",
        "\n",
        "for i in range(1 , n + 1):\n",
        "    spaces = \" \" * (n - i)\n",
        "    number = (str(i) + \" \") * i\n",
        "    row = spaces + number\n",
        "    print(row)"
      ],
      "metadata": {
        "colab": {
          "base_uri": "https://localhost:8080/"
        },
        "id": "p1Fmw0fhqW0Z",
        "outputId": "9df4b0de-a893-42d6-9bec-695d213c9385"
      },
      "execution_count": 7,
      "outputs": [
        {
          "output_type": "stream",
          "name": "stdout",
          "text": [
            "5\n",
            "    1 \n",
            "   2 2 \n",
            "  3 3 3 \n",
            " 4 4 4 4 \n",
            "5 5 5 5 5 \n"
          ]
        }
      ]
    },
    {
      "cell_type": "code",
      "source": [
        "# Inverted pyramid - 2\n",
        "\n",
        "n = int(input())\n",
        "\n",
        "for i in range(1 , n + 1):\n",
        "    stars = \"* \" * (n + 1 - i)\n",
        "    spaces = \" \" * (i - 1)\n",
        "    row = spaces + stars\n",
        "    print(row)\n"
      ],
      "metadata": {
        "colab": {
          "base_uri": "https://localhost:8080/"
        },
        "id": "fzcWzTMpqY3b",
        "outputId": "ffaaf304-2668-41fd-8bfb-b626bb512332"
      },
      "execution_count": 8,
      "outputs": [
        {
          "output_type": "stream",
          "name": "stdout",
          "text": [
            "5\n",
            "* * * * * \n",
            " * * * * \n",
            "  * * * \n",
            "   * * \n",
            "    * \n"
          ]
        }
      ]
    },
    {
      "cell_type": "code",
      "source": [
        "# Inverted Pyramid - 3\n",
        "\n",
        "n = int(input())\n",
        "\n",
        "print(\"+ \" * n)\n",
        "for i in range(1 , n):\n",
        "    spaces = \" \" * (i)\n",
        "    stars = \"* \" * (n - i)\n",
        "    row = spaces + stars + spaces\n",
        "    print(row)"
      ],
      "metadata": {
        "colab": {
          "base_uri": "https://localhost:8080/"
        },
        "id": "J8lzRPPGqvjq",
        "outputId": "38882e8a-a36a-41a1-fbb2-789a747783a7"
      },
      "execution_count": 9,
      "outputs": [
        {
          "output_type": "stream",
          "name": "stdout",
          "text": [
            "5\n",
            "+ + + + + \n",
            " * * * *  \n",
            "  * * *   \n",
            "   * *    \n",
            "    *     \n"
          ]
        }
      ]
    },
    {
      "cell_type": "code",
      "source": [
        "# Diamond\n",
        "\n",
        "n = int(input())\n",
        "\n",
        "for i in range(1 , n + 1):\n",
        "    spaces = \" \" * (n - i)\n",
        "    stars = \"* \" * i\n",
        "    row = spaces + stars\n",
        "    print(row)\n",
        "\n",
        "for j in range(1 , n):\n",
        "    spaces = \" \" * j\n",
        "    stars = \"* \" * (n - j)\n",
        "    row = spaces + stars\n",
        "    print(row)"
      ],
      "metadata": {
        "colab": {
          "base_uri": "https://localhost:8080/"
        },
        "id": "GblzwI0tq4et",
        "outputId": "e6e76415-201c-4969-e6d0-a48ed95e724d"
      },
      "execution_count": 10,
      "outputs": [
        {
          "output_type": "stream",
          "name": "stdout",
          "text": [
            "5\n",
            "    * \n",
            "   * * \n",
            "  * * * \n",
            " * * * * \n",
            "* * * * * \n",
            " * * * * \n",
            "  * * * \n",
            "   * * \n",
            "    * \n"
          ]
        }
      ]
    },
    {
      "cell_type": "code",
      "source": [
        "# M pattern with * - 1\n",
        "\n",
        "n = int(input())\n",
        "\n",
        "for i in range(1 , n + 1):\n",
        "    spaces1 = \" \" * (n - i)\n",
        "    stars = \"* \" * (i)\n",
        "    spaces2 = \" \" * (2 * (n - i))\n",
        "    row = spaces1 + stars + spaces2 +stars\n",
        "    print(row)"
      ],
      "metadata": {
        "colab": {
          "base_uri": "https://localhost:8080/"
        },
        "id": "IcKNtlmNrBUG",
        "outputId": "d43be590-7bb0-45d9-e402-1971ca6c1bf5"
      },
      "execution_count": 11,
      "outputs": [
        {
          "output_type": "stream",
          "name": "stdout",
          "text": [
            "5\n",
            "    *         * \n",
            "   * *       * * \n",
            "  * * *     * * * \n",
            " * * * *   * * * * \n",
            "* * * * * * * * * * \n"
          ]
        }
      ]
    }
  ]
}