{
  "nbformat": 4,
  "nbformat_minor": 0,
  "metadata": {
    "colab": {
      "provenance": []
    },
    "kernelspec": {
      "name": "python3",
      "display_name": "Python 3"
    },
    "language_info": {
      "name": "python"
    }
  },
  "cells": [
    {
      "cell_type": "markdown",
      "source": [
        "# Sum of First N Natural Numbers\n"
      ],
      "metadata": {
        "id": "L0iN5U4NkvBC"
      }
    },
    {
      "cell_type": "code",
      "execution_count": null,
      "metadata": {
        "id": "fktJiaJTfGJn",
        "colab": {
          "base_uri": "https://localhost:8080/"
        },
        "outputId": "72971f05-a6ee-4d99-8344-6574ccd8caf0"
      },
      "outputs": [
        {
          "output_type": "stream",
          "name": "stdout",
          "text": [
            "5\n",
            "15\n"
          ]
        }
      ],
      "source": [
        "def sum_of_numbers(n):\n",
        "    if n == 0:  # Base case\n",
        "        return 0\n",
        "    else:\n",
        "        return n + sum_of_numbers(n-1)  # Recursion\n",
        "\n",
        "\n",
        "num = int(input())\n",
        "result = sum_of_numbers(num)\n",
        "print(result)\n"
      ]
    },
    {
      "cell_type": "markdown",
      "source": [
        "# Sum of Numbers\n"
      ],
      "metadata": {
        "id": "phhiZOHOl3h9"
      }
    },
    {
      "cell_type": "code",
      "source": [
        "def get_sum(numbers):\n",
        "    start = int(numbers[0])\n",
        "    if len(numbers) == 1:\n",
        "        return start\n",
        "    return start + get_sum(numbers[1:])\n",
        "\n",
        "numbers = input().split()\n",
        "\n",
        "sum_of_numbers = get_sum(numbers)\n",
        "print(sum_of_numbers)"
      ],
      "metadata": {
        "colab": {
          "base_uri": "https://localhost:8080/"
        },
        "id": "Xczz9LWtm9Ga",
        "outputId": "03c102e5-ac28-45b4-db71-02df777f63fa"
      },
      "execution_count": null,
      "outputs": [
        {
          "output_type": "stream",
          "name": "stdout",
          "text": [
            "2 1 5 6\n",
            "14\n"
          ]
        }
      ]
    },
    {
      "cell_type": "markdown",
      "source": [
        "# Factorial - 2"
      ],
      "metadata": {
        "id": "kmakJaiYnA3s"
      }
    },
    {
      "cell_type": "code",
      "source": [
        "def compute_factorial(n):\n",
        "    if n == 0:\n",
        "        return 1\n",
        "    return n * compute_factorial(n - 1)\n",
        "\n",
        "\n",
        "num = int(input())\n",
        "print(compute_factorial(num))\n"
      ],
      "metadata": {
        "colab": {
          "base_uri": "https://localhost:8080/"
        },
        "id": "S9BtbdawoOZQ",
        "outputId": "6e70c304-c550-4017-f261-88f15608bacf"
      },
      "execution_count": null,
      "outputs": [
        {
          "output_type": "stream",
          "name": "stdout",
          "text": [
            "5\n",
            "120\n"
          ]
        }
      ]
    },
    {
      "cell_type": "markdown",
      "source": [
        "# Sum of Squares of Numbers\n"
      ],
      "metadata": {
        "id": "kq29x9hGoQpT"
      }
    },
    {
      "cell_type": "code",
      "source": [
        "def get_sum_of_squares(numbers):\n",
        "    square = []\n",
        "    for i in numbers:\n",
        "        square += [int(i) ** 2]\n",
        "    start = square[0]\n",
        "    if len(numbers) == 1:\n",
        "        return start\n",
        "    return start + get_sum_of_squares(numbers[1:])\n",
        "\n",
        "numbers = input().split()\n",
        "\n",
        "squares_sum = get_sum_of_squares(numbers)\n",
        "print(squares_sum)"
      ],
      "metadata": {
        "colab": {
          "base_uri": "https://localhost:8080/"
        },
        "id": "6YgFUHpps1CU",
        "outputId": "4e899001-e3af-4a44-b867-701128879eee"
      },
      "execution_count": null,
      "outputs": [
        {
          "output_type": "stream",
          "name": "stdout",
          "text": [
            "5 2 4\n",
            "45\n"
          ]
        }
      ]
    },
    {
      "cell_type": "markdown",
      "source": [
        "# Largest Square of Number"
      ],
      "metadata": {
        "id": "P99MeF3_tDm-"
      }
    },
    {
      "cell_type": "code",
      "source": [
        "def get_largest_square(numbers):\n",
        "    square = []\n",
        "    for i in numbers:\n",
        "        square += [int(i)**2]\n",
        "    return max(square)\n",
        "\n",
        "\n",
        "numbers = input().split()\n",
        "\n",
        "result = get_largest_square(numbers)\n",
        "print(result)"
      ],
      "metadata": {
        "colab": {
          "base_uri": "https://localhost:8080/"
        },
        "id": "63q0400HtjTO",
        "outputId": "78cceb96-e644-46a4-cc37-370ebcaebe8d"
      },
      "execution_count": null,
      "outputs": [
        {
          "output_type": "stream",
          "name": "stdout",
          "text": [
            "2 3 5 4\n",
            "25\n"
          ]
        }
      ]
    },
    {
      "cell_type": "markdown",
      "source": [
        "# Sum of the Digits - 3"
      ],
      "metadata": {
        "id": "mqCbEiZPtmp2"
      }
    },
    {
      "cell_type": "code",
      "source": [
        "def sum_of_the_digits(number):\n",
        "    number = str(number)\n",
        "    start = int(number[0])\n",
        "    if len(number) == 1:\n",
        "        return start\n",
        "    return start + sum_of_the_digits(int(number[1:]))\n",
        "\n",
        "number = int(input())\n",
        "print(sum_of_the_digits(number))\n"
      ],
      "metadata": {
        "colab": {
          "base_uri": "https://localhost:8080/"
        },
        "id": "zUm34R_8vB3c",
        "outputId": "de24b7b7-cb01-46e1-d2f2-3569d7554755"
      },
      "execution_count": null,
      "outputs": [
        {
          "output_type": "stream",
          "name": "stdout",
          "text": [
            "255\n",
            "12\n"
          ]
        }
      ]
    },
    {
      "cell_type": "markdown",
      "source": [
        "# Exponent of a number - 2"
      ],
      "metadata": {
        "id": "Dy4JGgHTvG7e"
      }
    },
    {
      "cell_type": "code",
      "source": [
        "def calculate_power(x, y):\n",
        "    return x ** y\n",
        "\n",
        "\n",
        "a = int(input())\n",
        "b = int(input())\n",
        "print(calculate_power(a,b))\n"
      ],
      "metadata": {
        "colab": {
          "base_uri": "https://localhost:8080/"
        },
        "id": "ZKTikQkxvGfa",
        "outputId": "71431cf0-4308-4a69-ef99-f15dd9ddae52"
      },
      "execution_count": null,
      "outputs": [
        {
          "output_type": "stream",
          "name": "stdout",
          "text": [
            "3\n",
            "3\n",
            "27\n"
          ]
        }
      ]
    },
    {
      "cell_type": "markdown",
      "source": [
        "# Reverse the string - 2"
      ],
      "metadata": {
        "id": "PeY3vNWLvnHL"
      }
    },
    {
      "cell_type": "code",
      "source": [
        "def get_reversed_string(string):\n",
        "    if len(string) == 0:\n",
        "        return string\n",
        "    else:\n",
        "        return string[-1] + get_reversed_string(string[:-1])\n",
        "\n",
        "string = input()\n",
        "\n",
        "resultant_string = get_reversed_string(string)\n",
        "print(resultant_string)"
      ],
      "metadata": {
        "colab": {
          "base_uri": "https://localhost:8080/"
        },
        "id": "vy42vM1YvxUB",
        "outputId": "6d98bf61-2f1d-459d-9786-d0da0bc2e5e3"
      },
      "execution_count": null,
      "outputs": [
        {
          "output_type": "stream",
          "name": "stdout",
          "text": [
            "Hello\n",
            "olleH\n"
          ]
        }
      ]
    },
    {
      "cell_type": "markdown",
      "source": [
        "# Sum of the series - 2"
      ],
      "metadata": {
        "id": "_ZzrpHJ9v0gf"
      }
    },
    {
      "cell_type": "code",
      "source": [
        "def get_sum_of_series(number, number_of_terms):\n",
        "    if number_of_terms == 1:\n",
        "        return number\n",
        "    start = number\n",
        "    return start + get_sum_of_series(number - 2,number_of_terms - 1)\n",
        "\n",
        "number = int(input())\n",
        "number_of_terms = int(input())\n",
        "\n",
        "series_sum = get_sum_of_series(number,number_of_terms)\n",
        "print(series_sum)\n"
      ],
      "metadata": {
        "id": "DcWgLNZPv4TR",
        "colab": {
          "base_uri": "https://localhost:8080/"
        },
        "outputId": "429081ef-1faa-4c6d-9e16-0cd371702f17"
      },
      "execution_count": 1,
      "outputs": [
        {
          "output_type": "stream",
          "name": "stdout",
          "text": [
            "8\n",
            "3\n",
            "18\n"
          ]
        }
      ]
    }
  ]
}