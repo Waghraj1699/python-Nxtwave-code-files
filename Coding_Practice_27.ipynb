{
  "nbformat": 4,
  "nbformat_minor": 0,
  "metadata": {
    "colab": {
      "provenance": []
    },
    "kernelspec": {
      "name": "python3",
      "display_name": "Python 3"
    },
    "language_info": {
      "name": "python"
    }
  },
  "cells": [
    {
      "cell_type": "markdown",
      "source": [
        "# Replace the Elements"
      ],
      "metadata": {
        "id": "wIhXGb6Q9vax"
      }
    },
    {
      "cell_type": "code",
      "execution_count": 1,
      "metadata": {
        "id": "QlVoVtL3Y3Oc",
        "colab": {
          "base_uri": "https://localhost:8080/"
        },
        "outputId": "e01f8c6a-de11-48b9-e515-1e547dcba04f"
      },
      "outputs": [
        {
          "output_type": "stream",
          "name": "stdout",
          "text": [
            "50\n",
            "[(10, 20, 50), (1, 50), (5, 10, 15, 50)]\n"
          ]
        }
      ],
      "source": [
        "num_list = [(10, 20, 30), (1, 2), (5, 10, 15, 45)]\n",
        "n = int(input())\n",
        "new_list = []\n",
        "\n",
        "for i in num_list:\n",
        "    item = i[:-1] + (n,)\n",
        "    new_list.append(item)\n",
        "\n",
        "print(new_list)"
      ]
    },
    {
      "cell_type": "markdown",
      "source": [
        "# Remove duplicates"
      ],
      "metadata": {
        "id": "K_zIQEsP9z44"
      }
    },
    {
      "cell_type": "code",
      "source": [
        "str_of_num = input().split()\n",
        "result = list(set(str_of_num))\n",
        "new_list = []\n",
        "for i in result:\n",
        "    new_list += [int(i)]\n",
        "new_list.sort()\n",
        "print(new_list)\n"
      ],
      "metadata": {
        "colab": {
          "base_uri": "https://localhost:8080/"
        },
        "id": "4ceVGXym93RK",
        "outputId": "256ee0e4-86b2-459e-b685-ebbc91f2c1af"
      },
      "execution_count": 2,
      "outputs": [
        {
          "output_type": "stream",
          "name": "stdout",
          "text": [
            "5 10 15 20 10 30 15\n",
            "[5, 10, 15, 20, 30]\n"
          ]
        }
      ]
    },
    {
      "cell_type": "markdown",
      "source": [
        "# Remove Multiple Items"
      ],
      "metadata": {
        "id": "L-tPspb795bq"
      }
    },
    {
      "cell_type": "code",
      "source": [
        "def convert_to_int(num_list):\n",
        "    new_list = []\n",
        "    for i in num_list:\n",
        "        new_list += [int(i)]\n",
        "    return new_list\n",
        "\n",
        "num_set = {10, 20, 30, 40, 50, 60, 70, 80, 90, 100}\n",
        "\n",
        "str_of_num = input().split()\n",
        "str_of_num = convert_to_int(str_of_num)\n",
        "\n",
        "for i in str_of_num:\n",
        "    num_set.discard(i)\n",
        "\n",
        "result = list(num_set)\n",
        "result.sort()\n",
        "print(result)\n"
      ],
      "metadata": {
        "colab": {
          "base_uri": "https://localhost:8080/"
        },
        "id": "XdZgv4-R997H",
        "outputId": "5fbe49f2-dc35-4018-8d89-23c878cf1224"
      },
      "execution_count": 3,
      "outputs": [
        {
          "output_type": "stream",
          "name": "stdout",
          "text": [
            "20 40 80\n",
            "[10, 30, 50, 60, 70, 90, 100]\n"
          ]
        }
      ]
    },
    {
      "cell_type": "markdown",
      "source": [
        "# Common Elements"
      ],
      "metadata": {
        "id": "xsag6WRh9-1I"
      }
    },
    {
      "cell_type": "code",
      "source": [
        "def convert_to_int(num):\n",
        "    new_list = []\n",
        "    for i in num:\n",
        "        new_list += [int(i)]\n",
        "    return new_list\n",
        "\n",
        "list_a = input().split(\",\")\n",
        "list_b = input().split(\",\")\n",
        "list_a = convert_to_int(list_a)\n",
        "list_b = convert_to_int(list_b)\n",
        "\n",
        "result = set(list_a) & set(list_b)\n",
        "result = list(result)\n",
        "result.sort()\n",
        "print(result)"
      ],
      "metadata": {
        "colab": {
          "base_uri": "https://localhost:8080/"
        },
        "id": "R1kMbL9D-B6c",
        "outputId": "b17613cf-4a28-4dcd-b618-8cb1a45c3889"
      },
      "execution_count": 6,
      "outputs": [
        {
          "output_type": "stream",
          "name": "stdout",
          "text": [
            "20,5,-45,100,30\n",
            "98,-45,20,5,35\n",
            "[-45, 5, 20]\n"
          ]
        }
      ]
    },
    {
      "cell_type": "markdown",
      "source": [
        "# Multiplies of 2 and 3"
      ],
      "metadata": {
        "id": "vWgQCv0T-CjQ"
      }
    },
    {
      "cell_type": "code",
      "source": [
        "def multiple_of_num(k,a):\n",
        "    set_mul = set()\n",
        "    for i in range(1,k + 1):\n",
        "        term = a * i\n",
        "        set_mul.add(term)\n",
        "    return set_mul\n",
        "\n",
        "n = int(input())\n",
        "\n",
        "mul_2 = multiple_of_num(n,2)\n",
        "mul_3 = multiple_of_num(n,3)\n",
        "\n",
        "result = mul_2 - mul_3\n",
        "result = list(result)\n",
        "result.sort()\n",
        "print(result)\n",
        "\n",
        "result = mul_2 ^ mul_3\n",
        "result = list(result)\n",
        "result.sort()\n",
        "print(result)\n"
      ],
      "metadata": {
        "colab": {
          "base_uri": "https://localhost:8080/"
        },
        "id": "YjSdUxmD-GRF",
        "outputId": "97d502df-cafe-4fb1-bbe2-555a1ff279be"
      },
      "execution_count": 7,
      "outputs": [
        {
          "output_type": "stream",
          "name": "stdout",
          "text": [
            "5\n",
            "[2, 4, 8, 10]\n",
            "[2, 3, 4, 8, 9, 10, 12, 15]\n"
          ]
        }
      ]
    },
    {
      "cell_type": "markdown",
      "source": [
        "# Convert List To tuple"
      ],
      "metadata": {
        "id": "XOMzaGsm-H8z"
      }
    },
    {
      "cell_type": "code",
      "source": [
        "str_a = input()\n",
        "a = str_a.split(\",\")\n",
        "i = 0\n",
        "for item in a:\n",
        "    a[i] = int(item)\n",
        "    i += 1\n",
        "print(tuple(a))\n"
      ],
      "metadata": {
        "colab": {
          "base_uri": "https://localhost:8080/"
        },
        "id": "SyO65gCk-LwN",
        "outputId": "0a05813c-5a42-4c74-8ce8-3743a1361f50"
      },
      "execution_count": 4,
      "outputs": [
        {
          "output_type": "stream",
          "name": "stdout",
          "text": [
            "5,10,15,20,25,30\n",
            "(5, 10, 15, 20, 25, 30)\n"
          ]
        }
      ]
    },
    {
      "cell_type": "markdown",
      "source": [
        "# Add an item to the set"
      ],
      "metadata": {
        "id": "JwSK6O0o-Mj2"
      }
    },
    {
      "cell_type": "code",
      "source": [
        "set_a = {\"pencil\"}\n",
        "\n",
        "word = input()\n",
        "set_a.update([word])\n",
        "\n",
        "list_a = list(set_a)\n",
        "list_a.sort()\n",
        "print(list_a)\n"
      ],
      "metadata": {
        "colab": {
          "base_uri": "https://localhost:8080/"
        },
        "id": "q9FT8x-C-QS3",
        "outputId": "48ddcb78-2b37-46d3-ee01-bf21792da081"
      },
      "execution_count": 5,
      "outputs": [
        {
          "output_type": "stream",
          "name": "stdout",
          "text": [
            "pen\n",
            "['pen', 'pencil']\n"
          ]
        }
      ]
    }
  ]
}