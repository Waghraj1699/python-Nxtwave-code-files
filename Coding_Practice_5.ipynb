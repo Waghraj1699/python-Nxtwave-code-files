{
  "nbformat": 4,
  "nbformat_minor": 0,
  "metadata": {
    "colab": {
      "provenance": []
    },
    "kernelspec": {
      "name": "python3",
      "display_name": "Python 3"
    },
    "language_info": {
      "name": "python"
    }
  },
  "cells": [
    {
      "cell_type": "code",
      "execution_count": 14,
      "metadata": {
        "colab": {
          "base_uri": "https://localhost:8080/"
        },
        "id": "BPcQVbky65iE",
        "outputId": "fdd1111f-6fc3-4c3f-e609-2ac0a8a33e4d"
      },
      "outputs": [
        {
          "output_type": "stream",
          "name": "stdout",
          "text": [
            "55\n",
            "X is Greater than 30\n",
            "X is Greater than 50\n"
          ]
        }
      ],
      "source": [
        "# Greater than 30 and 50\n",
        "\n",
        "x = int(input())\n",
        "\n",
        "if x > 30:\n",
        "    print(\"X is Greater than 30\")\n",
        "    if x > 50:\n",
        "        print(\"X is Greater than 50\")\n",
        ""
      ]
    },
    {
      "cell_type": "code",
      "source": [
        "# Rankers\n",
        "\n",
        "r = int(input())\n",
        "\n",
        "if r <= 3:\n",
        "    print(\"One of Top 3\")\n",
        "else:\n",
        "    if r > 3 and r <= 10 :\n",
        "        print(\"Not Top 3 but One of Top 10\")"
      ],
      "metadata": {
        "colab": {
          "base_uri": "https://localhost:8080/"
        },
        "id": "U0I50nGr7QKC",
        "outputId": "795dbca1-5f52-485a-d931-4e861487a243"
      },
      "execution_count": 13,
      "outputs": [
        {
          "output_type": "stream",
          "name": "stdout",
          "text": [
            "5\n",
            "Not Top 3 but One of Top 10\n"
          ]
        }
      ]
    },
    {
      "cell_type": "code",
      "source": [
        "# weight\n",
        "\n",
        "w = int(input())\n",
        "\n",
        "if w >= 100:\n",
        "    print(\"Box is Heavier\")\n",
        "else:\n",
        "    if w >= 30:\n",
        "        print(\"Box is Heavy\")"
      ],
      "metadata": {
        "colab": {
          "base_uri": "https://localhost:8080/"
        },
        "id": "Fz1BIB7i7S0f",
        "outputId": "d6d2f26d-626f-4805-d000-974e3455892f"
      },
      "execution_count": 12,
      "outputs": [
        {
          "output_type": "stream",
          "name": "stdout",
          "text": [
            "55\n",
            "Box is Heavy\n"
          ]
        }
      ]
    },
    {
      "cell_type": "code",
      "source": [
        "# Allowed to exam\n",
        "\n",
        "h = input()\n",
        "i = input()\n",
        "\n",
        "if h == \"Y\":\n",
        "    print(\"Allowed to Exam - Has Hall ticket\")\n",
        "else:\n",
        "    if i == \"Y\":\n",
        "        print(\"Allowed to Exam - Has Identification Card\")"
      ],
      "metadata": {
        "colab": {
          "base_uri": "https://localhost:8080/"
        },
        "id": "5c6uDHue7UDg",
        "outputId": "87ca6613-d3e5-48d6-faa6-936b829ee574"
      },
      "execution_count": 11,
      "outputs": [
        {
          "name": "stdout",
          "output_type": "stream",
          "text": [
            "5\n",
            "8\n"
          ]
        }
      ]
    },
    {
      "cell_type": "code",
      "source": [
        "# Divisible by 10 or 5\n",
        "\n",
        "n = int(input())\n",
        "\n",
        "if (n % 10 == 0):\n",
        "    print(\"Divisible by 10\")\n",
        "elif (n % 5 == 0):\n",
        "    print(\"Divisible by 5\")\n",
        "else:\n",
        "    print(\"Not Divisible by 10 or 5\")"
      ],
      "metadata": {
        "colab": {
          "base_uri": "https://localhost:8080/"
        },
        "id": "1KS8th2y7a8N",
        "outputId": "24fb907d-fbd2-469b-c2ad-178c616b54b1"
      },
      "execution_count": 10,
      "outputs": [
        {
          "output_type": "stream",
          "name": "stdout",
          "text": [
            "10\n",
            "Divisible by 10\n"
          ]
        }
      ]
    },
    {
      "cell_type": "code",
      "source": [
        "# Greatest among three numbers\n",
        "\n",
        "a = int(input())\n",
        "b = int(input())\n",
        "c = int(input())\n",
        "\n",
        "if a > b and b > c :\n",
        "    print(a)\n",
        "else:\n",
        "    if b > c :\n",
        "        print(b)\n",
        "    else:\n",
        "        print(c)\n",
        ""
      ],
      "metadata": {
        "colab": {
          "base_uri": "https://localhost:8080/"
        },
        "id": "xMbK4C5J7fLU",
        "outputId": "21d396cc-c7a5-428a-c645-e552d16854e2"
      },
      "execution_count": 9,
      "outputs": [
        {
          "output_type": "stream",
          "name": "stdout",
          "text": [
            "4\n",
            "5\n",
            "6\n",
            "6\n"
          ]
        }
      ]
    },
    {
      "cell_type": "code",
      "source": [
        "# course fee\n",
        "\n",
        "m = int(input())\n",
        "\n",
        "if m >= 90:\n",
        "    print(\"Discount is 200\")\n",
        "elif m >= 50 and m <= 90:\n",
        "    print(\"Discount is 100\")\n",
        "else:\n",
        "    print(\"No Discount\")"
      ],
      "metadata": {
        "colab": {
          "base_uri": "https://localhost:8080/"
        },
        "id": "jtKSnPnn7jde",
        "outputId": "36139220-b3e9-4db3-a4f1-0c4439caa5fc"
      },
      "execution_count": 8,
      "outputs": [
        {
          "output_type": "stream",
          "name": "stdout",
          "text": [
            "50\n",
            "Discount is 100\n"
          ]
        }
      ]
    },
    {
      "cell_type": "code",
      "source": [
        "# win or loose or draw\n",
        "\n",
        "a = int(input())\n",
        "b = int(input())\n",
        "\n",
        "if (a > b):\n",
        "    print(\"Win\")\n",
        "elif (a == b):\n",
        "    print(\"Draw\")\n",
        "elif (a < b):\n",
        "    print(\"Lose\")"
      ],
      "metadata": {
        "colab": {
          "base_uri": "https://localhost:8080/"
        },
        "id": "cUmTDxri7mXs",
        "outputId": "0ccd6ff1-dc77-4f79-fadf-d43c32690415"
      },
      "execution_count": 7,
      "outputs": [
        {
          "output_type": "stream",
          "name": "stdout",
          "text": [
            "5\n",
            "5\n",
            "Draw\n"
          ]
        }
      ]
    },
    {
      "cell_type": "code",
      "source": [
        "# get grades\n",
        "\n",
        "g = float(input())\n",
        "\n",
        "if g > 85:\n",
        "    print(\"A\")\n",
        "elif g > 70 and g <= 85:\n",
        "    print(\"B\")\n",
        "elif g >= 60 and g <= 70:\n",
        "    print(\"C\")\n",
        "elif g < 60:\n",
        "    print(\"F\")"
      ],
      "metadata": {
        "colab": {
          "base_uri": "https://localhost:8080/"
        },
        "id": "EI73qyNS7pKU",
        "outputId": "717a0a3e-0838-41b7-c4cd-5847b078b904"
      },
      "execution_count": 6,
      "outputs": [
        {
          "output_type": "stream",
          "name": "stdout",
          "text": [
            "50.0\n",
            "F\n"
          ]
        }
      ]
    },
    {
      "cell_type": "code",
      "source": [
        "# greeting message\n",
        "\n",
        "t = int(input())\n",
        "\n",
        "if t >= 4 and t < 12 :\n",
        "    print(\"Good Morning\")\n",
        "elif t >= 12 and t < 16 :\n",
        "    print(\"Good Afternoon\")\n",
        "elif t >= 16 and t < 20 :\n",
        "    print(\"Good Evening\")\n",
        "elif t >= 20 or t < 4 :\n",
        "    print(\"Good Night\")\n",
        ""
      ],
      "metadata": {
        "colab": {
          "base_uri": "https://localhost:8080/"
        },
        "id": "LjZg6N-P7yIz",
        "outputId": "9d035953-250a-42bd-a8b7-f02b2d5ea47f"
      },
      "execution_count": 5,
      "outputs": [
        {
          "output_type": "stream",
          "name": "stdout",
          "text": [
            "5\n",
            "Good Morning\n"
          ]
        }
      ]
    },
    {
      "cell_type": "code",
      "source": [
        "# Name of polygon\n",
        "\n",
        "n = int(input())\n",
        "\n",
        "if n < 3 :\n",
        "    print(\"Not Polygon\")\n",
        "elif n == 3 :\n",
        "    print(\"Triangle\")\n",
        "elif n == 4 :\n",
        "    print(\"Quadrilateral\")\n",
        "elif n == 5 :\n",
        "    print(\"Pentagon\")\n",
        "elif n > 5 :\n",
        "    print(\"Big Polygon\")"
      ],
      "metadata": {
        "colab": {
          "base_uri": "https://localhost:8080/"
        },
        "id": "IToZszeW75h8",
        "outputId": "22e2682f-f999-4967-ba82-c8d880936bd8"
      },
      "execution_count": 4,
      "outputs": [
        {
          "output_type": "stream",
          "name": "stdout",
          "text": [
            "5\n",
            "Pentagon\n"
          ]
        }
      ]
    },
    {
      "cell_type": "code",
      "source": [
        "# Leap year\n",
        "\n",
        "y = int(input())\n",
        "\n",
        "if y % 4 == 0 :\n",
        "    if (y % 100 == 0):\n",
        "        if (y % 400 == 0):\n",
        "            print(True)\n",
        "        else:\n",
        "            print(False)\n",
        "    else:\n",
        "        print(True)\n",
        "else:\n",
        "    print(False)"
      ],
      "metadata": {
        "colab": {
          "base_uri": "https://localhost:8080/"
        },
        "id": "kkIDn5ar79b3",
        "outputId": "35c03396-4a9a-40a4-9224-aa6b64f24705"
      },
      "execution_count": 3,
      "outputs": [
        {
          "output_type": "stream",
          "name": "stdout",
          "text": [
            "2016\n",
            "True\n"
          ]
        }
      ]
    },
    {
      "cell_type": "code",
      "source": [
        "# Realation between two numbers\n",
        "\n",
        "a = int(input())\n",
        "b = int(input())\n",
        "\n",
        "if a > b :\n",
        "    print(\"A > B\")\n",
        "elif b > a :\n",
        "    print(\"A < B\")\n",
        "elif a == b :\n",
        "    print(\"A == B\")\n",
        "\n"
      ],
      "metadata": {
        "colab": {
          "base_uri": "https://localhost:8080/"
        },
        "id": "3OTAvcBB7_-8",
        "outputId": "b103ec07-4fbb-40a7-be66-564c2b7f6ad8"
      },
      "execution_count": 2,
      "outputs": [
        {
          "output_type": "stream",
          "name": "stdout",
          "text": [
            "4\n",
            "5\n",
            "A < B\n"
          ]
        }
      ]
    },
    {
      "cell_type": "code",
      "source": [
        "# Electricity bill\n",
        "\n",
        "units = int(input())\n",
        "\n",
        "if units < 50 :\n",
        "    total = units * 2\n",
        "elif units < 150 :\n",
        "    total = (2 * 50) + (3 * (units - 50))\n",
        "elif units < 250 :\n",
        "    total = (2 *50) + (3 * 100) + (5 * (units - 150))\n",
        "elif  units >= 250 :\n",
        "    total = (2 * 50) + (3 * 100) + (5 * 100) + ( 8 * (units - 250))\n",
        "\n",
        "bill = total + (total * 0.2)\n",
        "print(bill)"
      ],
      "metadata": {
        "colab": {
          "base_uri": "https://localhost:8080/"
        },
        "id": "o3VduL7X8E2v",
        "outputId": "c9e9d38e-6b3c-4475-bbd7-f1df346b2c3b"
      },
      "execution_count": 1,
      "outputs": [
        {
          "output_type": "stream",
          "name": "stdout",
          "text": [
            "50\n",
            "120.0\n"
          ]
        }
      ]
    }
  ]
}