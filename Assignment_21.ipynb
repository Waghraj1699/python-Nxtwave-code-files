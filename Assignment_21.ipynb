{
  "nbformat": 4,
  "nbformat_minor": 0,
  "metadata": {
    "colab": {
      "provenance": []
    },
    "kernelspec": {
      "name": "python3",
      "display_name": "Python 3"
    },
    "language_info": {
      "name": "python"
    }
  },
  "cells": [
    {
      "cell_type": "markdown",
      "source": [
        "# Reverse Words in Sentence\n"
      ],
      "metadata": {
        "id": "4hk90rNRFRRL"
      }
    },
    {
      "cell_type": "code",
      "execution_count": 1,
      "metadata": {
        "colab": {
          "base_uri": "https://localhost:8080/"
        },
        "id": "vxFjpXOrE2_a",
        "outputId": "62398ea1-8f2d-43f0-c5ad-d880400f2a8b"
      },
      "outputs": [
        {
          "output_type": "stream",
          "name": "stdout",
          "text": [
            "This is python\n",
            "python is This\n"
          ]
        }
      ],
      "source": [
        "list_a = input().split()\n",
        "\n",
        "a = list_a[::-1]\n",
        "a = \" \".join(a)\n",
        "print(a)"
      ]
    },
    {
      "cell_type": "markdown",
      "source": [
        "# Last Half of the List"
      ],
      "metadata": {
        "id": "iyJMnTFSFxm3"
      }
    },
    {
      "cell_type": "code",
      "source": [
        "n = int(input())\n",
        "input_string = input()\n",
        "numbers_list = []\n",
        "\n",
        "for i in input_string.split():\n",
        "    numbers_list += [int(i)]\n",
        "\n",
        "len_of_numbers_list = len(numbers_list)\n",
        "\n",
        "if len_of_numbers_list % 2 == 0:\n",
        "    index = int((len_of_numbers_list) / 2 )\n",
        "    result = numbers_list[index:]\n",
        "    print(result)\n",
        "else:\n",
        "    index = int((len_of_numbers_list + 1) / 2)\n",
        "    result = numbers_list[index:]\n",
        "    print(result)\n",
        ""
      ],
      "metadata": {
        "colab": {
          "base_uri": "https://localhost:8080/"
        },
        "id": "dKk6GISGF8iH",
        "outputId": "4a230008-28b2-4076-83f8-88484c21ceac"
      },
      "execution_count": 2,
      "outputs": [
        {
          "output_type": "stream",
          "name": "stdout",
          "text": [
            "6\n",
            "1 2 3 4 5 6\n",
            "[4, 5, 6]\n"
          ]
        }
      ]
    },
    {
      "cell_type": "markdown",
      "source": [
        "# Product of Elements in the List"
      ],
      "metadata": {
        "id": "MdtAlr6TGeoe"
      }
    },
    {
      "cell_type": "code",
      "source": [
        "numbers = input().split()\n",
        "\n",
        "product = 1\n",
        "for i in numbers:\n",
        "    product *= int(i)\n",
        "\n",
        "print(product)\n"
      ],
      "metadata": {
        "colab": {
          "base_uri": "https://localhost:8080/"
        },
        "id": "mq09Ku7JGlb1",
        "outputId": "99aa2413-22f8-4ed7-9504-66a1b72dcc92"
      },
      "execution_count": 3,
      "outputs": [
        {
          "output_type": "stream",
          "name": "stdout",
          "text": [
            "1 2 3 4 5 6\n",
            "720\n"
          ]
        }
      ]
    },
    {
      "cell_type": "markdown",
      "source": [
        "# Average of Given Numbers"
      ],
      "metadata": {
        "id": "7DzsMVDsGn-z"
      }
    },
    {
      "cell_type": "code",
      "source": [
        "numbers = input().split()\n",
        "len_of_numbers = len(numbers)\n",
        "\n",
        "sum_of_numbers = 0\n",
        "for i in numbers:\n",
        "    sum_of_numbers += int(i)\n",
        "\n",
        "avg = sum_of_numbers / len_of_numbers\n",
        "print(round(avg,2))"
      ],
      "metadata": {
        "colab": {
          "base_uri": "https://localhost:8080/"
        },
        "id": "tbZjaV5sGx0a",
        "outputId": "74a4b238-5b98-40fd-90e6-98f296f9f92f"
      },
      "execution_count": 6,
      "outputs": [
        {
          "output_type": "stream",
          "name": "stdout",
          "text": [
            "1 0 2 5 9 8\n",
            "4.17\n"
          ]
        }
      ]
    },
    {
      "cell_type": "markdown",
      "source": [
        "# Largest number in the List"
      ],
      "metadata": {
        "id": "eaSEyInNG0J4"
      }
    },
    {
      "cell_type": "code",
      "source": [
        "numbers = input().split()\n",
        "\n",
        "largest = int(numbers[0])\n",
        "for i in numbers:\n",
        "    if int(i) > largest:\n",
        "        largest = int(i)\n",
        "print(largest)"
      ],
      "metadata": {
        "colab": {
          "base_uri": "https://localhost:8080/"
        },
        "id": "02Re2J3JG4S0",
        "outputId": "2c48f643-df52-44e8-dc43-003155ed1929"
      },
      "execution_count": 4,
      "outputs": [
        {
          "output_type": "stream",
          "name": "stdout",
          "text": [
            "1 0 2 3 5 8\n",
            "8\n"
          ]
        }
      ]
    },
    {
      "cell_type": "markdown",
      "source": [
        "# Acronyms"
      ],
      "metadata": {
        "id": "c-thhzBXG6IW"
      }
    },
    {
      "cell_type": "code",
      "source": [
        "s = input().split()\n",
        "\n",
        "acronyms = []\n",
        "for i in s:\n",
        "    acronyms += i[0]\n",
        "\n",
        "acronyms = \".\".join(acronyms)\n",
        "print(acronyms)"
      ],
      "metadata": {
        "colab": {
          "base_uri": "https://localhost:8080/"
        },
        "id": "Ibpj9CkAG-m8",
        "outputId": "09ca62d9-de2b-4d41-ea35-a4085ec6c1f0"
      },
      "execution_count": 5,
      "outputs": [
        {
          "output_type": "stream",
          "name": "stdout",
          "text": [
            "Very Important Person\n",
            "V.I.P\n"
          ]
        }
      ]
    }
  ]
}