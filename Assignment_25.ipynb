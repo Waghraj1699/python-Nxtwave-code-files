{
  "nbformat": 4,
  "nbformat_minor": 0,
  "metadata": {
    "colab": {
      "provenance": []
    },
    "kernelspec": {
      "name": "python3",
      "display_name": "Python 3"
    },
    "language_info": {
      "name": "python"
    }
  },
  "cells": [
    {
      "cell_type": "markdown",
      "source": [
        "# Sum of Nth terms in Hormonic series"
      ],
      "metadata": {
        "id": "N2W5nQJviCxP"
      }
    },
    {
      "cell_type": "code",
      "execution_count": null,
      "metadata": {
        "id": "Yzyq79jWhnHb"
      },
      "outputs": [],
      "source": [
        "def get_series_sum(number):\n",
        "    if number == 1:\n",
        "        return number\n",
        "    start = number\n",
        "    return 1/start + get_series_sum((number - 1))\n",
        "\n",
        "\n",
        "number = int(input())\n",
        "\n",
        "series_sum = round(get_series_sum(number),2)\n",
        "\n",
        "print(series_sum)\n",
        "\n"
      ]
    },
    {
      "cell_type": "markdown",
      "source": [
        "# Find the first element in the list"
      ],
      "metadata": {
        "id": "jHn6cSjUiJri"
      }
    },
    {
      "cell_type": "code",
      "source": [
        "def get_index(numbers_list, number,current_index = 0):\n",
        "    if len(numbers_list)==current_index:\n",
        "        return -1\n",
        "    if number == int(numbers_list[current_index]):\n",
        "        return current_index\n",
        "    return get_index(numbers_list,number,current_index + 1)\n",
        "\n",
        "numbers_list = input().split()\n",
        "number = int(input())\n",
        "number_index = get_index(numbers_list,number)\n",
        "print(number_index)\n",
        "'''count = 0\n",
        "     for i in numbers_list:\n",
        "        if number == int(i):\n",
        "             return count\n",
        "        count += 1'''"
      ],
      "metadata": {
        "colab": {
          "base_uri": "https://localhost:8080/",
          "height": 87
        },
        "id": "MfX2v_yiiMEQ",
        "outputId": "bea76967-4e25-4e58-a54b-e723f01f8dee"
      },
      "execution_count": 2,
      "outputs": [
        {
          "output_type": "stream",
          "name": "stdout",
          "text": [
            "7 1 3 8 4 3 8\n",
            "8\n",
            "3\n"
          ]
        },
        {
          "output_type": "execute_result",
          "data": {
            "text/plain": [
              "'count = 0\\n     for i in numbers_list:\\n        if number == int(i):\\n             return count\\n        count += 1'"
            ],
            "application/vnd.google.colaboratory.intrinsic+json": {
              "type": "string"
            }
          },
          "metadata": {},
          "execution_count": 2
        }
      ]
    },
    {
      "cell_type": "markdown",
      "source": [
        "# Palindrom - 5"
      ],
      "metadata": {
        "id": "xmSLXCfDiRHX"
      }
    },
    {
      "cell_type": "code",
      "source": [
        "def is_palindrome(string):\n",
        "    if len(string) == 0:\n",
        "        return string\n",
        "    else:\n",
        "        return string[-1] + is_palindrome(string[:-1])\n",
        "\n",
        "string = input()\n",
        "\n",
        "is_true = (string.lower() == is_palindrome(string).lower())\n",
        "\n",
        "print(is_true)"
      ],
      "metadata": {
        "colab": {
          "base_uri": "https://localhost:8080/"
        },
        "id": "Yybe61l3iUE0",
        "outputId": "f9633a84-360d-42b1-a203-b8a127941626"
      },
      "execution_count": 1,
      "outputs": [
        {
          "output_type": "stream",
          "name": "stdout",
          "text": [
            "Noon\n",
            "True\n"
          ]
        }
      ]
    }
  ]
}