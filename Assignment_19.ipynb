{
  "nbformat": 4,
  "nbformat_minor": 0,
  "metadata": {
    "colab": {
      "provenance": []
    },
    "kernelspec": {
      "name": "python3",
      "display_name": "Python 3"
    },
    "language_info": {
      "name": "python"
    }
  },
  "cells": [
    {
      "cell_type": "markdown",
      "source": [
        "# Hyphenate Letters"
      ],
      "metadata": {
        "id": "LwV9b8lNWLyw"
      }
    },
    {
      "cell_type": "code",
      "execution_count": 4,
      "metadata": {
        "colab": {
          "base_uri": "https://localhost:8080/"
        },
        "id": "syXjzpB5V7UL",
        "outputId": "e3ae5e08-3588-4c4f-b1dc-b486da6cc9b6"
      },
      "outputs": [
        {
          "output_type": "stream",
          "name": "stdout",
          "text": [
            "Hello\n",
            "H-e-l-l-o\n"
          ]
        }
      ],
      "source": [
        "w = input()\n",
        "result = \"\"\n",
        "\n",
        "for i in w:\n",
        "    result += i + \"-\"\n",
        "result = result.strip(\"-\")\n",
        "print(result)"
      ]
    },
    {
      "cell_type": "markdown",
      "source": [
        "# Maximun"
      ],
      "metadata": {
        "id": "bzhXJQ_7WSuJ"
      }
    },
    {
      "cell_type": "code",
      "source": [
        "n = int(input())\n",
        "maximum = 0\n",
        "for i in range(1 , n + 1):\n",
        "    m = int(input())\n",
        "    if m >= maximum :\n",
        "        maximum = m\n",
        "    print(maximum)"
      ],
      "metadata": {
        "colab": {
          "base_uri": "https://localhost:8080/"
        },
        "id": "hTlZLin1WWKg",
        "outputId": "9aaf5cec-8406-4058-ac43-e8cd5c336ba3"
      },
      "execution_count": 2,
      "outputs": [
        {
          "output_type": "stream",
          "name": "stdout",
          "text": [
            "6\n",
            "1\n",
            "1\n",
            "0\n",
            "1\n",
            "3\n",
            "3\n",
            "2\n",
            "3\n",
            "9\n",
            "9\n",
            "8\n",
            "9\n"
          ]
        }
      ]
    },
    {
      "cell_type": "markdown",
      "source": [
        "# Diamond Crystal"
      ],
      "metadata": {
        "id": "B7imN8e6WXA3"
      }
    },
    {
      "cell_type": "code",
      "source": [
        "n = int(input())\n",
        "\n",
        "for i in range(1 , n + 1):\n",
        "    left_spaces = (\" \") * (n - i)\n",
        "    middle_spaces = (\" \") * (2*i - 2)\n",
        "    row = left_spaces + \"/\" + middle_spaces + \"\\\\\"\n",
        "    print(row)\n",
        "\n",
        "for i in range(1 , n + 1):\n",
        "    left_spaces = (\" \") * (i - 1)\n",
        "    middle_spaces = (\" \") * (2*(n + 1 - i) - 2)\n",
        "    row = left_spaces + \"\\\\\" + middle_spaces + \"/\"\n",
        "    print(row)\n",
        ""
      ],
      "metadata": {
        "colab": {
          "base_uri": "https://localhost:8080/"
        },
        "id": "v5hV986xWaRx",
        "outputId": "c0d73afb-d201-4d7a-e0cc-0adbb77b588a"
      },
      "execution_count": 3,
      "outputs": [
        {
          "output_type": "stream",
          "name": "stdout",
          "text": [
            "10\n",
            "         /\\\n",
            "        /  \\\n",
            "       /    \\\n",
            "      /      \\\n",
            "     /        \\\n",
            "    /          \\\n",
            "   /            \\\n",
            "  /              \\\n",
            " /                \\\n",
            "/                  \\\n",
            "\\                  /\n",
            " \\                /\n",
            "  \\              /\n",
            "   \\            /\n",
            "    \\          /\n",
            "     \\        /\n",
            "      \\      /\n",
            "       \\    /\n",
            "        \\  /\n",
            "         \\/\n"
          ]
        }
      ]
    }
  ]
}