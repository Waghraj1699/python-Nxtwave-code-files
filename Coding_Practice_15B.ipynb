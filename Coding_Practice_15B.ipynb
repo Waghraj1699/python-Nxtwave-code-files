{
  "nbformat": 4,
  "nbformat_minor": 0,
  "metadata": {
    "colab": {
      "provenance": []
    },
    "kernelspec": {
      "name": "python3",
      "display_name": "Python 3"
    },
    "language_info": {
      "name": "python"
    }
  },
  "cells": [
    {
      "cell_type": "markdown",
      "source": [
        "# Largest Factor Of a number"
      ],
      "metadata": {
        "id": "fCx3uk_LhtnW"
      }
    },
    {
      "cell_type": "code",
      "execution_count": 7,
      "metadata": {
        "colab": {
          "base_uri": "https://localhost:8080/"
        },
        "id": "UbLz0l3DhKG_",
        "outputId": "3e23ca5b-616c-4b65-8bb8-868c81ef10d5"
      },
      "outputs": [
        {
          "output_type": "stream",
          "name": "stdout",
          "text": [
            "15\n",
            "5\n"
          ]
        }
      ],
      "source": [
        "n = int(input())\n",
        "\n",
        "for i in range(1 , n):\n",
        "    if n % i == 0:\n",
        "        largest = i\n",
        "\n",
        "print(largest)"
      ]
    },
    {
      "cell_type": "markdown",
      "source": [
        "# Digit - 9"
      ],
      "metadata": {
        "id": "XTr-HX5GhzRR"
      }
    },
    {
      "cell_type": "code",
      "source": [
        "n = int(input())\n",
        "\n",
        "for i in range(1 , n + 1):\n",
        "    if (i==1 or i == n):\n",
        "        row = (\"* \") * n\n",
        "        print(row)\n",
        "    else:\n",
        "        spaces = (\"  \") * (n - 2)\n",
        "        row = (\"* \") + spaces + (\"* \")\n",
        "        print(row)\n",
        "\n",
        "for j in range(1 , n):\n",
        "    if (j == n - 1):\n",
        "        row = (\"* \") * n\n",
        "        print(row)\n",
        "    else:\n",
        "        spaces = (\"  \") * (n - 1)\n",
        "        row = spaces + (\"* \")\n",
        "        print(row)"
      ],
      "metadata": {
        "colab": {
          "base_uri": "https://localhost:8080/"
        },
        "id": "3FiyUHtPh22h",
        "outputId": "4f5d4119-36b4-49c7-d738-ead177889b63"
      },
      "execution_count": 6,
      "outputs": [
        {
          "output_type": "stream",
          "name": "stdout",
          "text": [
            "8\n",
            "* * * * * * * * \n",
            "*             * \n",
            "*             * \n",
            "*             * \n",
            "*             * \n",
            "*             * \n",
            "*             * \n",
            "* * * * * * * * \n",
            "              * \n",
            "              * \n",
            "              * \n",
            "              * \n",
            "              * \n",
            "              * \n",
            "* * * * * * * * \n"
          ]
        }
      ]
    },
    {
      "cell_type": "markdown",
      "source": [
        "# Pyramid - 9\n"
      ],
      "metadata": {
        "id": "1RaPgQ3Yh3we"
      }
    },
    {
      "cell_type": "code",
      "source": [
        "n = int(input())\n",
        "\n",
        "for i in range(1 , n + 1):\n",
        "    dots = (\". \") * (n - i)\n",
        "    zeros = (\"0 \") * (2*i - 1)\n",
        "    row = dots + zeros + dots\n",
        "    print(row)"
      ],
      "metadata": {
        "colab": {
          "base_uri": "https://localhost:8080/"
        },
        "id": "CJFlw8ewh6B-",
        "outputId": "8f03c16e-0cbe-4e68-aa54-2585dc82db9d"
      },
      "execution_count": 5,
      "outputs": [
        {
          "output_type": "stream",
          "name": "stdout",
          "text": [
            "8\n",
            ". . . . . . . 0 . . . . . . . \n",
            ". . . . . . 0 0 0 . . . . . . \n",
            ". . . . . 0 0 0 0 0 . . . . . \n",
            ". . . . 0 0 0 0 0 0 0 . . . . \n",
            ". . . 0 0 0 0 0 0 0 0 0 . . . \n",
            ". . 0 0 0 0 0 0 0 0 0 0 0 . . \n",
            ". 0 0 0 0 0 0 0 0 0 0 0 0 0 . \n",
            "0 0 0 0 0 0 0 0 0 0 0 0 0 0 0 \n"
          ]
        }
      ]
    },
    {
      "cell_type": "markdown",
      "source": [
        "# Digit - 3"
      ],
      "metadata": {
        "id": "0xHAp07Wh6xY"
      }
    },
    {
      "cell_type": "code",
      "source": [
        "n = int(input())\n",
        "\n",
        "for i in range(1 , n + 1):\n",
        "    if (i==1 or i==n):\n",
        "        row = (\"* \") * n\n",
        "        print(row)\n",
        "    else:\n",
        "        spaces = (\"  \") * ( n - 1)\n",
        "        row = spaces + (\"* \")\n",
        "        print(row)\n",
        "\n",
        "for j in range(1, n):\n",
        "    if ( j==n - 1):\n",
        "        row = (\"* \") * n\n",
        "        print(row)\n",
        "    else:\n",
        "        spaces = (\"  \") * (n - 1)\n",
        "        row = spaces + (\"* \")\n",
        "        print(row)"
      ],
      "metadata": {
        "colab": {
          "base_uri": "https://localhost:8080/"
        },
        "id": "CS4v3rNfh-db",
        "outputId": "1f379911-3196-41f0-c9ca-994fb62bc905"
      },
      "execution_count": 4,
      "outputs": [
        {
          "output_type": "stream",
          "name": "stdout",
          "text": [
            "8\n",
            "* * * * * * * * \n",
            "              * \n",
            "              * \n",
            "              * \n",
            "              * \n",
            "              * \n",
            "              * \n",
            "* * * * * * * * \n",
            "              * \n",
            "              * \n",
            "              * \n",
            "              * \n",
            "              * \n",
            "              * \n",
            "* * * * * * * * \n"
          ]
        }
      ]
    },
    {
      "cell_type": "markdown",
      "source": [
        "# Digit - 5"
      ],
      "metadata": {
        "id": "8CTki89Mh_PJ"
      }
    },
    {
      "cell_type": "code",
      "source": [
        "n = int(input())\n",
        "\n",
        "for i in range(1 , n + 1):\n",
        "    if (i==1 or i==n):\n",
        "        row = (\"* \") * n\n",
        "        print(row)\n",
        "    else:\n",
        "        spaces = (\"  \") * (n - 1)\n",
        "        row = (\"* \") + spaces\n",
        "        print(row)\n",
        "\n",
        "for j in range(1 , n):\n",
        "    if (j==n-1):\n",
        "        row = (\"* \") * n\n",
        "        print(row)\n",
        "    else:\n",
        "        spaces = (\"  \") * (n - 1)\n",
        "        row = spaces + (\"* \")\n",
        "        print(row)"
      ],
      "metadata": {
        "colab": {
          "base_uri": "https://localhost:8080/"
        },
        "id": "a17WDNpbiBl9",
        "outputId": "6779b777-e963-4ac2-f593-c95f0faf1413"
      },
      "execution_count": 3,
      "outputs": [
        {
          "output_type": "stream",
          "name": "stdout",
          "text": [
            "8\n",
            "* * * * * * * * \n",
            "*               \n",
            "*               \n",
            "*               \n",
            "*               \n",
            "*               \n",
            "*               \n",
            "* * * * * * * * \n",
            "              * \n",
            "              * \n",
            "              * \n",
            "              * \n",
            "              * \n",
            "              * \n",
            "* * * * * * * * \n"
          ]
        }
      ]
    },
    {
      "cell_type": "markdown",
      "source": [
        "# Alphabets in Hollow Rectangle"
      ],
      "metadata": {
        "id": "mMHF0tAIiCc2"
      }
    },
    {
      "cell_type": "code",
      "source": [
        "aplpa = \"ABCDEFGHIJKLMNOPQRSTUVWXYZ\"\n",
        "m = int(input())\n",
        "n = int(input())\n",
        "k = 1\n",
        "for i in range(1 , m + 1):\n",
        "    for j in range(1 ,n + 1):\n",
        "        if (i==1 or i==m or j==1 or j==n):\n",
        "            print(aplpa[k - 1],end=\" \")\n",
        "            k += 1\n",
        "        else:\n",
        "            print(\" \" ,end=\" \")\n",
        "            k += 1\n",
        "    print()\n",
        ""
      ],
      "metadata": {
        "colab": {
          "base_uri": "https://localhost:8080/"
        },
        "id": "6L9zemQ8iH19",
        "outputId": "446cdae3-7255-42ca-c3c2-1ecf090f9782"
      },
      "execution_count": 2,
      "outputs": [
        {
          "output_type": "stream",
          "name": "stdout",
          "text": [
            "4\n",
            "5\n",
            "A B C D E \n",
            "F       J \n",
            "K       O \n",
            "P Q R S T \n"
          ]
        }
      ]
    }
  ]
}