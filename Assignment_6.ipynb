{
  "nbformat": 4,
  "nbformat_minor": 0,
  "metadata": {
    "colab": {
      "provenance": []
    },
    "kernelspec": {
      "name": "python3",
      "display_name": "Python 3"
    },
    "language_info": {
      "name": "python"
    }
  },
  "cells": [
    {
      "cell_type": "code",
      "execution_count": 6,
      "metadata": {
        "colab": {
          "base_uri": "https://localhost:8080/"
        },
        "id": "vDo98UOlzLxp",
        "outputId": "93ede368-7400-49f1-d5cd-c212d06159f5"
      },
      "outputs": [
        {
          "output_type": "stream",
          "name": "stdout",
          "text": [
            "5\n",
            "Midweek\n"
          ]
        }
      ],
      "source": [
        "# Week day\n",
        "\n",
        "n = int(input())\n",
        "\n",
        "if (n == 1) or (n == 2):\n",
        "    print(\"Week Start\")\n",
        "elif (n == 3) or (n == 4) or (n == 5):\n",
        "    print(\"Midweek\")\n",
        "elif (n == 6) or (n == 7):\n",
        "    print(\"Weekend\")"
      ]
    },
    {
      "cell_type": "code",
      "source": [
        "#  print the score - 5\n",
        "\n",
        "d = int(input())\n",
        "\n",
        "if d <= 50:\n",
        "    d = d * 3\n",
        "elif d > 50 and d <= 100:\n",
        "    d = (3 * 50) + (5 * (d - 50))\n",
        "elif d > 100 and d <= 200:\n",
        "    d = (3 * 50) + (5 * 50) + (6 * (d - 100))\n",
        "elif d > 200:\n",
        "    d = (3 * 50) + (5 * 50) + (6 * 100) + (10 * (d - 200))\n",
        "\n",
        "\n",
        "t = d + 100\n",
        "\n",
        "print(t)"
      ],
      "metadata": {
        "colab": {
          "base_uri": "https://localhost:8080/"
        },
        "id": "n_O0Tlp2zcLI",
        "outputId": "919b6147-0e6a-43a9-df1b-78d91e2b554e"
      },
      "execution_count": 5,
      "outputs": [
        {
          "output_type": "stream",
          "name": "stdout",
          "text": [
            "120\n",
            "620\n"
          ]
        }
      ]
    },
    {
      "cell_type": "code",
      "source": [
        "# denominations - 4\n",
        "\n",
        "amount = int(input())\n",
        "\n",
        "hundred = int(amount / 100)\n",
        "remaining_amount = amount - (hundred * 100)\n",
        "\n",
        "fifty = int(remaining_amount / 50)\n",
        "remaining_amount = remaining_amount - (fifty * 50)\n",
        "\n",
        "twenty = int(remaining_amount / 20)\n",
        "remaining_amount = remaining_amount - (twenty * 20)\n",
        "\n",
        "ten = int(remaining_amount / 10)\n",
        "remaining_amount = remaining_amount - (ten * 10)\n",
        "\n",
        "print(\"100 Notes: \" + str(hundred))\n",
        "print(\"50 Notes: \" + str(fifty))\n",
        "print(\"20 Notes: \" + str(twenty))\n",
        "print(\"10 Notes: \" + str(ten))\n",
        "\n"
      ],
      "metadata": {
        "colab": {
          "base_uri": "https://localhost:8080/"
        },
        "id": "5wgmPgHQzhKk",
        "outputId": "9096c15a-06f1-4b96-caea-ef2af51cddcf"
      },
      "execution_count": 4,
      "outputs": [
        {
          "output_type": "stream",
          "name": "stdout",
          "text": [
            "8456\n",
            "100 Notes: 84\n",
            "50 Notes: 1\n",
            "20 Notes: 0\n",
            "10 Notes: 0\n"
          ]
        }
      ]
    },
    {
      "cell_type": "code",
      "source": [
        "# denominations - 5\n",
        "\n",
        "amount = int(input())\n",
        "\n",
        "two_thousand = int(amount / 2000)\n",
        "remaining_amount = amount - (two_thousand * 2000)\n",
        "\n",
        "five_hundred = int(remaining_amount / 500)\n",
        "remaining_amount = remaining_amount - (five_hundred * 500)\n",
        "\n",
        "two_hundred = int(remaining_amount / 200)\n",
        "remaining_amount = remaining_amount - (two_hundred * 200)\n",
        "\n",
        "fifty = int(remaining_amount / 50)\n",
        "remaining_amount = remaining_amount - (fifty * 50)\n",
        "\n",
        "twenty = int(remaining_amount / 20)\n",
        "remaining_amount = remaining_amount - (twenty * 20)\n",
        "\n",
        "five = int(remaining_amount / 5)\n",
        "remaining_amount = remaining_amount - (five * 5)\n",
        "\n",
        "two = int(remaining_amount / 2)\n",
        "remaining_amount = remaining_amount - (two * 2)\n",
        "\n",
        "one = int(remaining_amount / 1)\n",
        "\n",
        "print(\"2000:\" + str(two_thousand) + \" \" + \"500:\" + str(five_hundred) + \" \" + \"200:\" + str(two_hundred) + \" \" + \"50:\" + str(fifty) + \" \" + \"20:\" + str(twenty) + \" \" + \"5:\" + str(five) + \" \" + \"2:\" + str(two) + \" \" + \"1:\" + str(one) )"
      ],
      "metadata": {
        "colab": {
          "base_uri": "https://localhost:8080/"
        },
        "id": "Nk91hFqIzkVp",
        "outputId": "fd079092-33fb-4851-c726-ef43f4d85277"
      },
      "execution_count": 3,
      "outputs": [
        {
          "output_type": "stream",
          "name": "stdout",
          "text": [
            "8457\n",
            "2000:4 500:0 200:2 50:1 20:0 5:1 2:1 1:0\n"
          ]
        }
      ]
    },
    {
      "cell_type": "code",
      "source": [
        "# day name - 2\n",
        "\n",
        "first_day = input()\n",
        "date = int(input())\n",
        "\n",
        "if first_day == \"Monday\":\n",
        "    first_day = 1\n",
        "elif first_day == \"Tuesday\":\n",
        "    first_day = 2\n",
        "elif first_day == \"Wednesday\":\n",
        "    first_day = 3\n",
        "elif first_day == \"Thursday\":\n",
        "    first_day = 4\n",
        "elif first_day == \"Friday\":\n",
        "    first_day = 5\n",
        "elif first_day == \"Saturday\":\n",
        "    first_day = 6\n",
        "elif first_day == \"Sunday\":\n",
        "    first_day = 7\n",
        "\n",
        "day = (first_day + (date - 1)) % 7\n",
        "\n",
        "if day == 1:\n",
        "    print(\"Monday\")\n",
        "elif day == 2:\n",
        "    print(\"Tuesday\")\n",
        "elif day == 3:\n",
        "    print(\"Wednesday\")\n",
        "elif day == 4:\n",
        "    print(\"Thursday\")\n",
        "elif day == 5:\n",
        "    print(\"Friday\")\n",
        "elif day == 6:\n",
        "    print(\"Saturday\")\n",
        "elif day == 7:\n",
        "    print(\"Sunday\")"
      ],
      "metadata": {
        "colab": {
          "base_uri": "https://localhost:8080/"
        },
        "id": "oSUvqV3Hzq4B",
        "outputId": "69407560-eb17-4394-9cfd-310120d7759b"
      },
      "execution_count": 2,
      "outputs": [
        {
          "output_type": "stream",
          "name": "stdout",
          "text": [
            "Monday\n",
            "16\n",
            "Tuesday\n"
          ]
        }
      ]
    },
    {
      "cell_type": "code",
      "source": [
        "# Maximum number of Handshakes\n",
        "\n",
        "n = int(input())\n",
        "\n",
        "handshake = ((n -1) * (n)) /2\n",
        "\n",
        "print(int(handshake))"
      ],
      "metadata": {
        "colab": {
          "base_uri": "https://localhost:8080/"
        },
        "id": "9PuJZQR5zsiA",
        "outputId": "04faa5c2-df52-4b4a-ff2e-afd9c1701fa8"
      },
      "execution_count": 1,
      "outputs": [
        {
          "output_type": "stream",
          "name": "stdout",
          "text": [
            "5\n",
            "10\n"
          ]
        }
      ]
    }
  ]
}