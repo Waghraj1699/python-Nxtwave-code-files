{
  "nbformat": 4,
  "nbformat_minor": 0,
  "metadata": {
    "colab": {
      "provenance": []
    },
    "kernelspec": {
      "name": "python3",
      "display_name": "Python 3"
    },
    "language_info": {
      "name": "python"
    }
  },
  "cells": [
    {
      "cell_type": "markdown",
      "source": [
        "# Solid Half Diamond"
      ],
      "metadata": {
        "id": "rCGTQioJjHQ5"
      }
    },
    {
      "cell_type": "code",
      "execution_count": 9,
      "metadata": {
        "colab": {
          "base_uri": "https://localhost:8080/"
        },
        "id": "kpJUxebsi_W5",
        "outputId": "8f0e1e88-0324-489f-834c-64c93962cd24"
      },
      "outputs": [
        {
          "output_type": "stream",
          "name": "stdout",
          "text": [
            "8\n",
            "* \n",
            "* * \n",
            "* * * \n",
            "* * * * \n",
            "* * * * * \n",
            "* * * * * * \n",
            "* * * * * * * \n",
            "* * * * * * * * \n",
            "* * * * * * * \n",
            "* * * * * * \n",
            "* * * * * \n",
            "* * * * \n",
            "* * * \n",
            "* * \n",
            "* \n",
            "\n"
          ]
        }
      ],
      "source": [
        "n = int(input())\n",
        "\n",
        "for i in range(1 , n + 1):\n",
        "    for j in range(1 , i + 1):\n",
        "        print(\"*\", end=\" \")\n",
        "    print()\n",
        "\n",
        "for m in range(1 , n + 1):\n",
        "    for x in range(1 , n - m + 1):\n",
        "        print(\"*\", end=\" \")\n",
        "    print()"
      ]
    },
    {
      "cell_type": "markdown",
      "source": [
        "# Butterfly - 2"
      ],
      "metadata": {
        "id": "7cq2Nw6OjMLd"
      }
    },
    {
      "cell_type": "code",
      "source": [
        "n = int(input())\n",
        "\n",
        "for i in range(1 , n + 1):\n",
        "    stars = (\"* \") * i\n",
        "    spaces = (\" \") * (4 * (n - i))\n",
        "    row = stars + spaces + stars\n",
        "    print(row)\n",
        "\n",
        "for j in range(1 , n + 1):\n",
        "    stars = (\"* \") * (n + 1 - j)\n",
        "    spaces = (\" \") * (4 * (j - 1))\n",
        "    row = stars + spaces + stars\n",
        "    print(row)"
      ],
      "metadata": {
        "colab": {
          "base_uri": "https://localhost:8080/"
        },
        "id": "HAbg3xozjPvd",
        "outputId": "26488af3-2831-4354-a5e5-303cddae7fea"
      },
      "execution_count": 8,
      "outputs": [
        {
          "output_type": "stream",
          "name": "stdout",
          "text": [
            "8\n",
            "*                             * \n",
            "* *                         * * \n",
            "* * *                     * * * \n",
            "* * * *                 * * * * \n",
            "* * * * *             * * * * * \n",
            "* * * * * *         * * * * * * \n",
            "* * * * * * *     * * * * * * * \n",
            "* * * * * * * * * * * * * * * * \n",
            "* * * * * * * * * * * * * * * * \n",
            "* * * * * * *     * * * * * * * \n",
            "* * * * * *         * * * * * * \n",
            "* * * * *             * * * * * \n",
            "* * * *                 * * * * \n",
            "* * *                     * * * \n",
            "* *                         * * \n",
            "*                             * \n"
          ]
        }
      ]
    },
    {
      "cell_type": "markdown",
      "source": [
        "# Numbers in Pyramid - 3"
      ],
      "metadata": {
        "id": "WHiLysqBjQg_"
      }
    },
    {
      "cell_type": "code",
      "source": [
        "n = int(input())\n",
        "\n",
        "for i in range(1 , n + 1):\n",
        "    zeros = (\"0 \") * (n - i)\n",
        "    ones = (\"1 \") * (2 * i - 1)\n",
        "    row = zeros + ones + zeros\n",
        "    print(row)"
      ],
      "metadata": {
        "colab": {
          "base_uri": "https://localhost:8080/"
        },
        "id": "DduDe43_jURf",
        "outputId": "0a0519ea-196e-4d18-93dc-af42c457984e"
      },
      "execution_count": 7,
      "outputs": [
        {
          "output_type": "stream",
          "name": "stdout",
          "text": [
            "8\n",
            "0 0 0 0 0 0 0 1 0 0 0 0 0 0 0 \n",
            "0 0 0 0 0 0 1 1 1 0 0 0 0 0 0 \n",
            "0 0 0 0 0 1 1 1 1 1 0 0 0 0 0 \n",
            "0 0 0 0 1 1 1 1 1 1 1 0 0 0 0 \n",
            "0 0 0 1 1 1 1 1 1 1 1 1 0 0 0 \n",
            "0 0 1 1 1 1 1 1 1 1 1 1 1 0 0 \n",
            "0 1 1 1 1 1 1 1 1 1 1 1 1 1 0 \n",
            "1 1 1 1 1 1 1 1 1 1 1 1 1 1 1 \n"
          ]
        }
      ]
    },
    {
      "cell_type": "markdown",
      "source": [
        "# Pyramid - 8"
      ],
      "metadata": {
        "id": "J16bQhLBjVLm"
      }
    },
    {
      "cell_type": "code",
      "source": [
        "n = int(input())\n",
        "\n",
        "for i in range(1 , n + 1):\n",
        "    stars = (\"* \") * (2*i)\n",
        "    spaces = (\" \") * (2 *(n - i))\n",
        "    row = spaces + stars\n",
        "    print(row)"
      ],
      "metadata": {
        "colab": {
          "base_uri": "https://localhost:8080/"
        },
        "id": "JfX6LJOhjcZo",
        "outputId": "2a1521f5-89d4-47dd-8e3a-45148ffcea6d"
      },
      "execution_count": 6,
      "outputs": [
        {
          "output_type": "stream",
          "name": "stdout",
          "text": [
            "8\n",
            "              * * \n",
            "            * * * * \n",
            "          * * * * * * \n",
            "        * * * * * * * * \n",
            "      * * * * * * * * * * \n",
            "    * * * * * * * * * * * * \n",
            "  * * * * * * * * * * * * * * \n",
            "* * * * * * * * * * * * * * * * \n"
          ]
        }
      ]
    },
    {
      "cell_type": "markdown",
      "source": [
        "# Digit 2"
      ],
      "metadata": {
        "id": "kag8e4tejdUr"
      }
    },
    {
      "cell_type": "code",
      "source": [
        "n = int(input())\n",
        "\n",
        "for i in range(1 , n + 1):\n",
        "    if (i==1 or i==n):\n",
        "        row = (\"* \") * n\n",
        "        print(row)\n",
        "    else:\n",
        "        spaces = (\"  \") * (n - 1)\n",
        "        row = spaces + (\"* \")\n",
        "        print(row)\n",
        "\n",
        "for j in range(1 , n):\n",
        "    if (j == n -1):\n",
        "        row = (\"* \") * n\n",
        "        print(row)\n",
        "    else:\n",
        "        spaces = (\"  \") * (n - 1)\n",
        "        row = (\"* \") + spaces\n",
        "        print(row)"
      ],
      "metadata": {
        "colab": {
          "base_uri": "https://localhost:8080/"
        },
        "id": "Kic6Ai9SjfNh",
        "outputId": "4e42674a-5a04-4638-b1dd-2a50e994f9c7"
      },
      "execution_count": 4,
      "outputs": [
        {
          "output_type": "stream",
          "name": "stdout",
          "text": [
            "8\n",
            "* * * * * * * * \n",
            "              * \n",
            "              * \n",
            "              * \n",
            "              * \n",
            "              * \n",
            "              * \n",
            "* * * * * * * * \n",
            "*               \n",
            "*               \n",
            "*               \n",
            "*               \n",
            "*               \n",
            "*               \n",
            "* * * * * * * * \n"
          ]
        }
      ]
    },
    {
      "cell_type": "markdown",
      "source": [
        "# Digit 6"
      ],
      "metadata": {
        "id": "HkiN7WAPjgP5"
      }
    },
    {
      "cell_type": "code",
      "source": [
        "n = int(input())\n",
        "\n",
        "for i in range(1 , n  + 1):\n",
        "    if ( i==1 or i==n ):\n",
        "        row = (\"* \") * n\n",
        "        print(row)\n",
        "    else:\n",
        "        spaces = (\"  \") * (n - 1)\n",
        "        row = (\"* \") + spaces\n",
        "        print(row)\n",
        "for j in range(1, n):\n",
        "    if ( j == n - 1):\n",
        "        row = (\"* \") * n\n",
        "        print(row)\n",
        "    else:\n",
        "        spaces = (\"  \") * (n - 2)\n",
        "        row = (\"* \") + spaces + (\"* \")\n",
        "        print(row)"
      ],
      "metadata": {
        "colab": {
          "base_uri": "https://localhost:8080/"
        },
        "id": "KFmR-VDZjh_5",
        "outputId": "c0ef0b77-dd44-4585-f0b5-353c7ea35ad3"
      },
      "execution_count": 5,
      "outputs": [
        {
          "output_type": "stream",
          "name": "stdout",
          "text": [
            "8\n",
            "* * * * * * * * \n",
            "*               \n",
            "*               \n",
            "*               \n",
            "*               \n",
            "*               \n",
            "*               \n",
            "* * * * * * * * \n",
            "*             * \n",
            "*             * \n",
            "*             * \n",
            "*             * \n",
            "*             * \n",
            "*             * \n",
            "* * * * * * * * \n"
          ]
        }
      ]
    },
    {
      "cell_type": "markdown",
      "source": [
        "# Alphabets in Square"
      ],
      "metadata": {
        "id": "qcNKGxn8ji2z"
      }
    },
    {
      "cell_type": "code",
      "source": [
        "n = int(input())\n",
        "\n",
        "alpa = \"ABCDEFGHIJKLMNOPQRSTUVWXYZ\"\n",
        "\n",
        "for i in range(1 , n + 1):\n",
        "    for j in alpa[:n]:\n",
        "        print(j,end=\" \")\n",
        "    print()\n",
        "\n",
        "\n"
      ],
      "metadata": {
        "colab": {
          "base_uri": "https://localhost:8080/"
        },
        "id": "PiV6eYe8jniW",
        "outputId": "98092d8c-c1e1-4752-834c-a6894fc6123a"
      },
      "execution_count": 3,
      "outputs": [
        {
          "output_type": "stream",
          "name": "stdout",
          "text": [
            "5\n",
            "A B C D E \n",
            "A B C D E \n",
            "A B C D E \n",
            "A B C D E \n",
            "A B C D E \n"
          ]
        }
      ]
    },
    {
      "cell_type": "markdown",
      "source": [
        "# Alphabets in Inverted Right Angled Triangle"
      ],
      "metadata": {
        "id": "Z4IKqMdNjobt"
      }
    },
    {
      "cell_type": "code",
      "source": [
        "n = int(input())\n",
        "alpha= \"ABCDEFGHIJKLMNOPQRSTUVWXYZ\"\n",
        "\n",
        "for i in range(1 , n + 1):\n",
        "    for j in alpha[:n + 1 - i]:\n",
        "        print(j,end=\" \")\n",
        "    print()"
      ],
      "metadata": {
        "colab": {
          "base_uri": "https://localhost:8080/"
        },
        "id": "6Scci_s3jvVd",
        "outputId": "9c27a5f4-39e2-4909-a437-702d45d5f189"
      },
      "execution_count": 2,
      "outputs": [
        {
          "output_type": "stream",
          "name": "stdout",
          "text": [
            "8\n",
            "A B C D E F G H \n",
            "A B C D E F G \n",
            "A B C D E F \n",
            "A B C D E \n",
            "A B C D \n",
            "A B C \n",
            "A B \n",
            "A \n"
          ]
        }
      ]
    },
    {
      "cell_type": "markdown",
      "source": [
        "# Digit 8"
      ],
      "metadata": {
        "id": "HTUyYDh3jxEq"
      }
    },
    {
      "cell_type": "code",
      "source": [
        "n = int(input())\n",
        "\n",
        "for i in range(1 , n + 2):\n",
        "    if ( i==1 or i== n+1 ):\n",
        "        row = (\"* \") * n\n",
        "        print(row)\n",
        "    else:\n",
        "        spaces = (\"  \") * (n - 2)\n",
        "        row = (\"* \") + spaces + (\"* \")\n",
        "        print(row)\n",
        "\n",
        "for i in range(1 , n + 1):\n",
        "    if ( i == n):\n",
        "        row = (\"* \") * n\n",
        "        print(row)\n",
        "    else:\n",
        "        spaces = (\"  \") * (n - 2)\n",
        "        row = (\"* \") + spaces + (\"* \")\n",
        "        print(row)"
      ],
      "metadata": {
        "colab": {
          "base_uri": "https://localhost:8080/"
        },
        "id": "IBFpBs73jy5I",
        "outputId": "61c94cd4-67bc-4f7f-9ac2-79fb293b01ec"
      },
      "execution_count": 1,
      "outputs": [
        {
          "output_type": "stream",
          "name": "stdout",
          "text": [
            "8\n",
            "* * * * * * * * \n",
            "*             * \n",
            "*             * \n",
            "*             * \n",
            "*             * \n",
            "*             * \n",
            "*             * \n",
            "*             * \n",
            "* * * * * * * * \n",
            "*             * \n",
            "*             * \n",
            "*             * \n",
            "*             * \n",
            "*             * \n",
            "*             * \n",
            "*             * \n",
            "* * * * * * * * \n"
          ]
        }
      ]
    }
  ]
}