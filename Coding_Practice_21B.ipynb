{
  "nbformat": 4,
  "nbformat_minor": 0,
  "metadata": {
    "colab": {
      "provenance": []
    },
    "kernelspec": {
      "name": "python3",
      "display_name": "Python 3"
    },
    "language_info": {
      "name": "python"
    }
  },
  "cells": [
    {
      "cell_type": "markdown",
      "source": [
        "# Check first and last letter in the word"
      ],
      "metadata": {
        "id": "XognpBqDIdPZ"
      }
    },
    {
      "cell_type": "code",
      "execution_count": 7,
      "metadata": {
        "colab": {
          "base_uri": "https://localhost:8080/"
        },
        "id": "v5wXwN_OITPq",
        "outputId": "1e77b9d1-d575-4ab5-fedc-7137e6b214f0"
      },
      "outputs": [
        {
          "output_type": "stream",
          "name": "stdout",
          "text": [
            "water Noon river\n",
            "False\n",
            "True\n",
            "True\n"
          ]
        }
      ],
      "source": [
        "s = input()\n",
        "s = s.lower()\n",
        "\n",
        "list_a = s.split()\n",
        "\n",
        "for i in list_a:\n",
        "    if i[0] == i[-1]:\n",
        "        print(\"True\")\n",
        "    else:\n",
        "        print(\"False\")"
      ]
    },
    {
      "cell_type": "markdown",
      "source": [
        "# Reverse the sentence"
      ],
      "metadata": {
        "id": "qlHWvaBaIo48"
      }
    },
    {
      "cell_type": "code",
      "source": [
        "s = input()\n",
        "print(s[::-1])"
      ],
      "metadata": {
        "colab": {
          "base_uri": "https://localhost:8080/"
        },
        "id": "UaTA8xFEIs6W",
        "outputId": "203669ba-1f4c-4c06-b19d-ece69dc6c4e0"
      },
      "execution_count": 6,
      "outputs": [
        {
          "output_type": "stream",
          "name": "stdout",
          "text": [
            "I am learning python\n",
            "nohtyp gninrael ma I\n"
          ]
        }
      ]
    },
    {
      "cell_type": "markdown",
      "source": [
        "# Reverse Words in List"
      ],
      "metadata": {
        "id": "LEABY_LBIuNv"
      }
    },
    {
      "cell_type": "code",
      "source": [
        "s = input()\n",
        "\n",
        "list_a = s.split()\n",
        "\n",
        "print(list_a[::-1])"
      ],
      "metadata": {
        "colab": {
          "base_uri": "https://localhost:8080/"
        },
        "id": "8U6CG-GnIz2F",
        "outputId": "a07c70cb-4a08-45e2-abd3-7b4f47aa6722"
      },
      "execution_count": 8,
      "outputs": [
        {
          "output_type": "stream",
          "name": "stdout",
          "text": [
            "Banana Apple Orange\n",
            "['Orange', 'Apple', 'Banana']\n"
          ]
        }
      ]
    },
    {
      "cell_type": "markdown",
      "source": [
        "# Reverse the letters in words of the sentences"
      ],
      "metadata": {
        "id": "hYebHfcLI1Kc"
      }
    },
    {
      "cell_type": "code",
      "source": [
        "s = input()\n",
        "list_b = \"\"\n",
        "\n",
        "list_a = s.split()\n",
        "\n",
        "\n",
        "for i in list_a:\n",
        "    a = i[::-1]\n",
        "    list_b += a + \" \"\n",
        "\n",
        "print(list_b)"
      ],
      "metadata": {
        "colab": {
          "base_uri": "https://localhost:8080/"
        },
        "id": "YdrlPO1eJA-x",
        "outputId": "f2582592-8800-4d45-a6f6-4b2612594514"
      },
      "execution_count": 5,
      "outputs": [
        {
          "output_type": "stream",
          "name": "stdout",
          "text": [
            "The cat is on the mat.\n",
            "ehT tac si no eht .tam \n"
          ]
        }
      ]
    },
    {
      "cell_type": "markdown",
      "source": [
        "# First half of the list"
      ],
      "metadata": {
        "id": "SFKy4FD4JB0q"
      }
    },
    {
      "cell_type": "code",
      "source": [
        "s = input()\n",
        "\n",
        "list_a = s.split()\n",
        "\n",
        "len_of_list = len(list_a)\n",
        "\n",
        "if len_of_list % 2 != 0:\n",
        "    index = int((len_of_list + 1) / 2 )\n",
        "    print(list_a[:index])\n",
        "else:\n",
        "    index = int(len_of_list / 2 )\n",
        "    print(list_a[:index])"
      ],
      "metadata": {
        "colab": {
          "base_uri": "https://localhost:8080/"
        },
        "id": "s6PJfLkRJG7-",
        "outputId": "c5815e79-ad0c-47a0-b7e7-043cee395b9f"
      },
      "execution_count": 4,
      "outputs": [
        {
          "output_type": "stream",
          "name": "stdout",
          "text": [
            "apple mango oranges grapes kiwi\n",
            "['apple', 'mango', 'oranges']\n"
          ]
        }
      ]
    },
    {
      "cell_type": "markdown",
      "source": [
        "# First half numbers of the List"
      ],
      "metadata": {
        "id": "trYerujSJIQs"
      }
    },
    {
      "cell_type": "code",
      "source": [
        "s = input()\n",
        "\n",
        "list_a = s.split()\n",
        "result = []\n",
        "len_of_list = len(list_a)\n",
        "if (len_of_list) % 2 != 0 :\n",
        "    index = int((len_of_list + 1) / 2)\n",
        "    for i in list_a[:index]:\n",
        "        result += [int(i)]\n",
        "else:\n",
        "    index = int((len_of_list) / 2)\n",
        "    for i in list_a[:index]:\n",
        "        result += [int(i)]\n",
        "\n",
        "print(result)"
      ],
      "metadata": {
        "colab": {
          "base_uri": "https://localhost:8080/"
        },
        "id": "xQ8ozka1JSzb",
        "outputId": "8e93910d-ceb3-4769-dfba-72c648c3d58b"
      },
      "execution_count": 3,
      "outputs": [
        {
          "output_type": "stream",
          "name": "stdout",
          "text": [
            "1 3 9 0 8 2 7\n",
            "[1, 3, 9, 0]\n"
          ]
        }
      ]
    },
    {
      "cell_type": "markdown",
      "source": [
        "# Last N word of List"
      ],
      "metadata": {
        "id": "VLImACwLJVAY"
      }
    },
    {
      "cell_type": "code",
      "source": [
        "s = input()\n",
        "n = int(input())\n",
        "\n",
        "list_a = s.split()\n",
        "list_b = list_a[((-1) * n):]\n",
        "list_c = list_b[::-1]\n",
        "print(list_c)"
      ],
      "metadata": {
        "colab": {
          "base_uri": "https://localhost:8080/"
        },
        "id": "pvy1lJcTJasy",
        "outputId": "f4c75de1-0d89-450a-c92c-e8b603149a61"
      },
      "execution_count": 2,
      "outputs": [
        {
          "output_type": "stream",
          "name": "stdout",
          "text": [
            "This is my favourite cookie\n",
            "4\n",
            "['cookie', 'favourite', 'my', 'is']\n"
          ]
        }
      ]
    },
    {
      "cell_type": "markdown",
      "source": [
        "# Reverse order 2"
      ],
      "metadata": {
        "id": "7uevYwFYJbh5"
      }
    },
    {
      "cell_type": "code",
      "source": [
        "list_a = input().split(\",\")\n",
        "list_b = input().split(\",\")\n",
        "\n",
        "len_of_list_a = len(list_a)\n",
        "n = len_of_list_a - 1\n",
        "\n",
        "for i in range(len_of_list_a):\n",
        "    num_1 = list_a[i]\n",
        "    num_2 = list_b[n - i]\n",
        "    result = str(num_1) + \" \" + str(num_2)\n",
        "    print(result)\n"
      ],
      "metadata": {
        "colab": {
          "base_uri": "https://localhost:8080/"
        },
        "id": "Gv5UuFCkJiEA",
        "outputId": "0cd6e429-a725-4ad8-e4b8-d1b523470320"
      },
      "execution_count": 1,
      "outputs": [
        {
          "output_type": "stream",
          "name": "stdout",
          "text": [
            "1,2,3\n",
            "4,5,6\n",
            "1 6\n",
            "2 5\n",
            "3 4\n"
          ]
        }
      ]
    }
  ]
}