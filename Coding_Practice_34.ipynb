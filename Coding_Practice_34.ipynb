{
  "nbformat": 4,
  "nbformat_minor": 0,
  "metadata": {
    "colab": {
      "provenance": []
    },
    "kernelspec": {
      "name": "python3",
      "display_name": "Python 3"
    },
    "language_info": {
      "name": "python"
    }
  },
  "cells": [
    {
      "cell_type": "markdown",
      "source": [
        "# Parsing Datetime"
      ],
      "metadata": {
        "id": "mYx9Udf7nemi"
      }
    },
    {
      "cell_type": "code",
      "execution_count": 1,
      "metadata": {
        "colab": {
          "base_uri": "https://localhost:8080/"
        },
        "id": "Qd-pXynNnXmA",
        "outputId": "6a1fb774-4158-4e8e-ed96-8f693ff17428"
      },
      "outputs": [
        {
          "output_type": "stream",
          "name": "stdout",
          "text": [
            "2 Jul 2000\n",
            "2000-07-02 00:00:00\n"
          ]
        }
      ],
      "source": [
        "from datetime import datetime\n",
        "\n",
        "str_a = input()\n",
        "date_obj = datetime.strptime(str_a,\"%d %b %Y\")\n",
        "print(date_obj)\n"
      ]
    },
    {
      "cell_type": "markdown",
      "source": [
        "# Formatting Datetime"
      ],
      "metadata": {
        "id": "3a50NiYlouaE"
      }
    },
    {
      "cell_type": "code",
      "source": [
        "from datetime import datetime\n",
        "dt_format = \"%b %d %Y %I:%M%p\"\n",
        "\n",
        "str_a = input()\n",
        "dt_obj = datetime.strptime(str_a,dt_format)\n",
        "date_obj = datetime.strftime(dt_obj,\"%d/%m/%Y %H:%M:%S\")\n",
        "print(date_obj)"
      ],
      "metadata": {
        "colab": {
          "base_uri": "https://localhost:8080/"
        },
        "id": "xkzXn86ro0F_",
        "outputId": "16dada0b-d9d5-4875-df9d-3c8276c5ce1e"
      },
      "execution_count": 2,
      "outputs": [
        {
          "output_type": "stream",
          "name": "stdout",
          "text": [
            "Jul 01 2014 02:43PM\n",
            "01/07/2014 14:43:00\n"
          ]
        }
      ]
    },
    {
      "cell_type": "markdown",
      "source": [
        "# Print Dates"
      ],
      "metadata": {
        "id": "K_SIHE0ro06M"
      }
    },
    {
      "cell_type": "code",
      "source": [
        "from datetime import datetime,timedelta\n",
        "\n",
        "dt = input()\n",
        "dt_string = \"%d %b %Y\"\n",
        "today = datetime.strptime(dt,dt_string)\n",
        "yesterday = today - timedelta(days = 1)\n",
        "tommarow = today + timedelta(days = 1)\n",
        "print(yesterday)\n",
        "print(today)\n",
        "print(tommarow)"
      ],
      "metadata": {
        "colab": {
          "base_uri": "https://localhost:8080/"
        },
        "id": "vehLW7keo2pf",
        "outputId": "19b91005-08ab-4ec2-92ca-f46940fc497c"
      },
      "execution_count": 3,
      "outputs": [
        {
          "output_type": "stream",
          "name": "stdout",
          "text": [
            "26 Jan 2021\n",
            "2021-01-25 00:00:00\n",
            "2021-01-26 00:00:00\n",
            "2021-01-27 00:00:00\n"
          ]
        }
      ]
    },
    {
      "cell_type": "markdown",
      "source": [
        "# Add Years"
      ],
      "metadata": {
        "id": "iS9B1A3_o3jF"
      }
    },
    {
      "cell_type": "code",
      "source": [
        "from datetime import datetime,timedelta\n",
        "\n",
        "dt = input()\n",
        "n = int(input())\n",
        "dt_obj = datetime.strptime(dt,\"%b %d %Y\")\n",
        "dt_2 = dt_obj + timedelta(days = n * 365)\n",
        "print(dt_2)\n"
      ],
      "metadata": {
        "colab": {
          "base_uri": "https://localhost:8080/"
        },
        "id": "YXcw4X5Yo7Da",
        "outputId": "35ef10b5-06e0-4c79-fc88-1f9c4b14bfa4"
      },
      "execution_count": 4,
      "outputs": [
        {
          "output_type": "stream",
          "name": "stdout",
          "text": [
            "Jul 11 2014\n",
            "5\n",
            "2019-07-10 00:00:00\n"
          ]
        }
      ]
    },
    {
      "cell_type": "markdown",
      "source": [
        "# List Of Dates"
      ],
      "metadata": {
        "id": "QN-2qs41o7yp"
      }
    },
    {
      "cell_type": "code",
      "source": [
        "from datetime import datetime,timedelta\n",
        "\n",
        "d1 = input()\n",
        "d2 = input()\n",
        "\n",
        "dt_1 = datetime.strptime(d1,\"%b %d %Y\")\n",
        "dt_2 = datetime.strptime(d2,\"%b %d %Y\")\n",
        "\n",
        "num_days = (dt_2 - dt_1).days\n",
        "for i in range(num_days + 1):\n",
        "    print(dt_1 + timedelta(days=i))"
      ],
      "metadata": {
        "colab": {
          "base_uri": "https://localhost:8080/"
        },
        "id": "CF8YcZrwo_J0",
        "outputId": "34b19881-682d-485a-b7a9-6bae780163aa"
      },
      "execution_count": 6,
      "outputs": [
        {
          "output_type": "stream",
          "name": "stdout",
          "text": [
            "Jul 11 2014\n",
            "Jul 19 2014\n",
            "2014-07-11 00:00:00\n",
            "2014-07-12 00:00:00\n",
            "2014-07-13 00:00:00\n",
            "2014-07-14 00:00:00\n",
            "2014-07-15 00:00:00\n",
            "2014-07-16 00:00:00\n",
            "2014-07-17 00:00:00\n",
            "2014-07-18 00:00:00\n",
            "2014-07-19 00:00:00\n"
          ]
        }
      ]
    },
    {
      "cell_type": "markdown",
      "source": [
        "# Name of the weekday"
      ],
      "metadata": {
        "id": "EPmnhYNXpALF"
      }
    },
    {
      "cell_type": "code",
      "source": [
        "from datetime import datetime\n",
        "\n",
        "date = input()\n",
        "\n",
        "dt = datetime.strptime(date,\"%d %b %Y\")\n",
        "dt_obj = datetime.strftime(dt,\"%A\")\n",
        "print(dt_obj)"
      ],
      "metadata": {
        "colab": {
          "base_uri": "https://localhost:8080/"
        },
        "id": "SyZ4sj2bpEuL",
        "outputId": "762cc86c-ebd8-45e4-9cf2-1fe92ed1a12f"
      },
      "execution_count": 7,
      "outputs": [
        {
          "output_type": "stream",
          "name": "stdout",
          "text": [
            "2 Jul 2000\n",
            "Sunday\n"
          ]
        }
      ]
    },
    {
      "cell_type": "markdown",
      "source": [
        "# Count of Mondays"
      ],
      "metadata": {
        "id": "BJQl5BEypFjw"
      }
    },
    {
      "cell_type": "code",
      "source": [
        "from datetime import datetime\n",
        "year_a,year_b = input().split()\n",
        "year_a,year_b = int(year_a),int(year_b)\n",
        "\n",
        "mondays = 0\n",
        "\n",
        "for year in range(year_a,year_b+1):\n",
        "    for month in range(1,13):\n",
        "        date_time_obj = datetime(year,month,1)\n",
        "        name_of_the_day = datetime.strftime(date_time_obj,\"%A\")\n",
        "        if name_of_the_day == \"Monday\":\n",
        "            mondays += 1\n",
        "\n",
        "print(mondays)\n",
        ""
      ],
      "metadata": {
        "colab": {
          "base_uri": "https://localhost:8080/"
        },
        "id": "VQV4PWhtpIn-",
        "outputId": "fe09a948-9fb8-461b-d61d-b8ed94474817"
      },
      "execution_count": 8,
      "outputs": [
        {
          "output_type": "stream",
          "name": "stdout",
          "text": [
            "2015 2017\n",
            "4\n"
          ]
        }
      ]
    },
    {
      "cell_type": "markdown",
      "source": [
        "# UNIX timestamp to datetime"
      ],
      "metadata": {
        "id": "T8lDdBuZpJVP"
      }
    },
    {
      "cell_type": "code",
      "source": [
        "import datetime\n",
        "\n",
        "zero = datetime.datetime(1970,1,1)\n",
        "u = int(input())\n",
        "\n",
        "seconds = datetime.timedelta(seconds=u)\n",
        "result = zero + seconds\n",
        "\n",
        "print(result.strftime(\"%Y-%m-%d %H:%M:%S\"))"
      ],
      "metadata": {
        "colab": {
          "base_uri": "https://localhost:8080/"
        },
        "id": "WMb8Xsv_pOCP",
        "outputId": "33cb73b7-739f-48ed-fc4f-c9ea2bfc8a1b"
      },
      "execution_count": 9,
      "outputs": [
        {
          "output_type": "stream",
          "name": "stdout",
          "text": [
            "1284105682\n",
            "2010-09-10 08:01:22\n"
          ]
        }
      ]
    },
    {
      "cell_type": "markdown",
      "source": [
        "# Exception"
      ],
      "metadata": {
        "id": "COkI2PBUpQ4V"
      }
    },
    {
      "cell_type": "code",
      "source": [
        "\n",
        "try:\n",
        "    a , b = input().split()\n",
        "    a = int(a)\n",
        "    b = int(b)\n",
        "    div = a / b\n",
        "    print(div)\n",
        "except ZeroDivisionError:\n",
        "    print(\"Denominator can't be 0\")\n",
        "except ValueError:\n",
        "    print(\"Input should be an integer\")\n"
      ],
      "metadata": {
        "colab": {
          "base_uri": "https://localhost:8080/"
        },
        "id": "Sye5bHMdpUN0",
        "outputId": "52fea2e5-980e-4e2c-97d8-4b34414ae6df"
      },
      "execution_count": 5,
      "outputs": [
        {
          "output_type": "stream",
          "name": "stdout",
          "text": [
            "5 0\n",
            "Denominator can't be 0\n"
          ]
        }
      ]
    },
    {
      "cell_type": "markdown",
      "source": [
        "# Item"
      ],
      "metadata": {
        "id": "bMwrAnnjpVMZ"
      }
    },
    {
      "cell_type": "code",
      "source": [
        "# Item class should have the following attributes & methods\n",
        "#\n",
        "# Attributes:\n",
        "#   name, price, category\n",
        "#\n",
        "# Methods:\n",
        "#   get_detail: Print the details of the item in the format '{name}@{price}-{category}'\n",
        "#\n",
        "# If the value of price is less than 1, raise ValueError exception like\n",
        "#   \"ValueError: Invalid value for price, got {price}\"\n",
        "\n",
        "\n",
        "# Implement the Item class appropriately\n",
        "class Item:\n",
        "    def __init__(self, name, price, category):\n",
        "        if price < 1:\n",
        "            raise ValueError(\"Invalid value for price, got {}\".format(price))\n",
        "        self.name = name\n",
        "        self.price = price\n",
        "        self.category = category\n",
        "\n",
        "    def get_detail(self):\n",
        "        return \"{}@{}-{}\".format(self.name,self.price,self.category)\n",
        "\n",
        "# You need not change any code below.\n",
        "# Do not call this function anywhere. It will automatically be called internally during tests.\n",
        "def default_test():\n",
        "    item = Item(name=\"Oreo Biscuits\", price=30, category=\"Food\")\n",
        "    print(item.name)  # prints \"Oreo Biscuits\"\n",
        "    print(item.price)  # prints '30'\n",
        "    print(item.category)  # prints \"Food\"\n",
        "    print(item.get_detail())  # prints \"Oreo Biscuits@30-Food\"\n"
      ],
      "metadata": {
        "id": "bI3B4J3ypW81"
      },
      "execution_count": 10,
      "outputs": []
    }
  ]
}