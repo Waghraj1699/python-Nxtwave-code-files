{
  "nbformat": 4,
  "nbformat_minor": 0,
  "metadata": {
    "colab": {
      "provenance": []
    },
    "kernelspec": {
      "name": "python3",
      "display_name": "Python 3"
    },
    "language_info": {
      "name": "python"
    }
  },
  "cells": [
    {
      "cell_type": "code",
      "source": [
        "# calculate double or triple\n",
        "\n",
        "n = int(input())\n",
        "\n",
        "if n%3 == 0:\n",
        "    print(n*3)\n",
        "else:\n",
        "    print(n*2)"
      ],
      "metadata": {
        "colab": {
          "base_uri": "https://localhost:8080/"
        },
        "id": "rcP49UiD-xl0",
        "outputId": "c051ebac-5ae8-42c5-826c-949d6fc4f3ec"
      },
      "execution_count": 8,
      "outputs": [
        {
          "output_type": "stream",
          "name": "stdout",
          "text": [
            "5\n",
            "10\n"
          ]
        }
      ]
    },
    {
      "cell_type": "code",
      "execution_count": 7,
      "metadata": {
        "colab": {
          "base_uri": "https://localhost:8080/"
        },
        "id": "ckkMFrRs-oTg",
        "outputId": "a8f331b9-7f64-457c-c030-27a7641b9ba1"
      },
      "outputs": [
        {
          "output_type": "stream",
          "name": "stdout",
          "text": [
            "4\n",
            "6\n",
            "2\n"
          ]
        }
      ],
      "source": [
        "# smallest remainder\n",
        "\n",
        "a = int(input())\n",
        "b = int(input())\n",
        "\n",
        "x = a % b\n",
        "y = b % a\n",
        "\n",
        "if x < y:\n",
        "    print(x)\n",
        "else:\n",
        "    print(y)"
      ]
    },
    {
      "cell_type": "code",
      "source": [
        "# Not divisible by numbers\n",
        "\n",
        "n = int(input())\n",
        "\n",
        "result = (n % 2 != 0) and (n % 3 != 0) and (n % 5 != 0) and (n % 7 != 0)\n",
        "\n",
        "if result:\n",
        "    print(True)\n",
        "else:\n",
        "    print(False)"
      ],
      "metadata": {
        "colab": {
          "base_uri": "https://localhost:8080/"
        },
        "id": "m67RN9N8-47o",
        "outputId": "0baf5afe-f039-4515-d7dc-a4dda8a2b615"
      },
      "execution_count": 6,
      "outputs": [
        {
          "output_type": "stream",
          "name": "stdout",
          "text": [
            "5\n",
            "False\n"
          ]
        }
      ]
    },
    {
      "cell_type": "code",
      "source": [
        "# numbers or remainder\n",
        "\n",
        "n = int(input())\n",
        "\n",
        "x = (n % 5 == 0) and (n % 7 == 0)\n",
        "y = n < 7\n",
        "\n",
        "if x or y:\n",
        "    print(n)\n",
        "else:\n",
        "    print(n%5)\n",
        "    print(n%7)"
      ],
      "metadata": {
        "colab": {
          "base_uri": "https://localhost:8080/"
        },
        "id": "lM02JD3w--TH",
        "outputId": "fb202ec0-14d9-470e-bede-dde08d9ace00"
      },
      "execution_count": 5,
      "outputs": [
        {
          "output_type": "stream",
          "name": "stdout",
          "text": [
            "5\n",
            "5\n"
          ]
        }
      ]
    },
    {
      "cell_type": "code",
      "source": [
        "# compute hypotenuse\n",
        "\n",
        "a = int(input())\n",
        "b = int(input())\n",
        "\n",
        "h = ((a**2) + (b**2))**0.5\n",
        "\n",
        "print(int(h))"
      ],
      "metadata": {
        "colab": {
          "base_uri": "https://localhost:8080/"
        },
        "id": "MZVDEX-k_E08",
        "outputId": "9a769767-f04f-4df8-f9c1-773aef0a0934"
      },
      "execution_count": 4,
      "outputs": [
        {
          "output_type": "stream",
          "name": "stdout",
          "text": [
            "4\n",
            "4\n",
            "5\n"
          ]
        }
      ]
    },
    {
      "cell_type": "code",
      "source": [
        "# square root of a number - 2\n",
        "\n",
        "a = int(input())\n",
        "b = int(input())\n",
        "\n",
        "sq_root_a = (a)**0.5\n",
        "\n",
        "condition = (sq_root_a == b)\n",
        "\n",
        "if condition:\n",
        "    print(\"Square root of A is equal to B\")\n",
        "else:\n",
        "    print(\"Square root of A is not equal to B\")"
      ],
      "metadata": {
        "colab": {
          "base_uri": "https://localhost:8080/"
        },
        "id": "dNEYv075_Imi",
        "outputId": "2404f267-37f0-47b7-a5e7-c7e2841325d0"
      },
      "execution_count": 3,
      "outputs": [
        {
          "output_type": "stream",
          "name": "stdout",
          "text": [
            "4\n",
            "5\n",
            "Square root of A is not equal to B\n"
          ]
        }
      ]
    },
    {
      "cell_type": "code",
      "source": [
        "# Armstrong number -2\n",
        "\n",
        "number = int(input())\n",
        "\n",
        "string = str(number)\n",
        "\n",
        "first_digit = int(string[0])\n",
        "second_digit = int(string[1])\n",
        "third_digit = int(string[2])\n",
        "fourth_digit = int(string[3])\n",
        "\n",
        "sum_of_no = (first_digit**4) + (second_digit**4) + (third_digit**4) + (fourth_digit**4)\n",
        "\n",
        "if number == sum_of_no:\n",
        "    print(\"Armstrong Number\")\n",
        "else:\n",
        "    print(\"Not an Armstrong Number\")"
      ],
      "metadata": {
        "colab": {
          "base_uri": "https://localhost:8080/"
        },
        "id": "-7i7XTvf_Mwf",
        "outputId": "6145cae7-bbff-4896-8662-ef33f622dce8"
      },
      "execution_count": 1,
      "outputs": [
        {
          "output_type": "stream",
          "name": "stdout",
          "text": [
            "1634\n",
            "Armstrong Number\n"
          ]
        }
      ]
    },
    {
      "cell_type": "code",
      "source": [
        "# Years,weeks,days\n",
        "\n",
        "n = int(input())\n",
        "\n",
        "year = int(n / 365)\n",
        "weeks = int((n % 365) / 7)\n",
        "days = (n % 365) % 7\n",
        "\n",
        "print(year)\n",
        "print(weeks)\n",
        "print(days)"
      ],
      "metadata": {
        "colab": {
          "base_uri": "https://localhost:8080/"
        },
        "id": "MBa9iRug_RIm",
        "outputId": "ccc8f747-e2e3-4842-fdfc-fd8d6525f2c4"
      },
      "execution_count": 2,
      "outputs": [
        {
          "output_type": "stream",
          "name": "stdout",
          "text": [
            "1245\n",
            "3\n",
            "21\n",
            "3\n"
          ]
        }
      ]
    }
  ]
}