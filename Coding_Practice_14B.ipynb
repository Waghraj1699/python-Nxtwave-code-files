{
  "nbformat": 4,
  "nbformat_minor": 0,
  "metadata": {
    "colab": {
      "provenance": [],
      "collapsed_sections": [
        "5SPCSX5LOaDP",
        "EjaJwBCGOmAG",
        "FBiKPTPJPEmW",
        "8a1EZA67PSwq",
        "6g2mb3OcPsRr",
        "3sPbCa6HQC3v",
        "h56aDdqmQeon",
        "_AIm4xpcQ7id"
      ]
    },
    "kernelspec": {
      "name": "python3",
      "display_name": "Python 3"
    },
    "language_info": {
      "name": "python"
    }
  },
  "cells": [
    {
      "cell_type": "markdown",
      "source": [
        "# Numbers in Inverted Hollow Right Angled Triangle"
      ],
      "metadata": {
        "id": "5SPCSX5LOaDP"
      }
    },
    {
      "cell_type": "code",
      "execution_count": 1,
      "metadata": {
        "colab": {
          "base_uri": "https://localhost:8080/"
        },
        "id": "_LR7W9hROSWM",
        "outputId": "52cbf9ff-37ff-41eb-bcd5-481a6ceaa407"
      },
      "outputs": [
        {
          "output_type": "stream",
          "name": "stdout",
          "text": [
            "8\n",
            "1 2 3 4 5 6 7 8 \n",
            "9           15\n",
            "16         21\n",
            "22       26\n",
            "27     30\n",
            "31   33\n",
            "34 35\n",
            "36\n"
          ]
        }
      ],
      "source": [
        "n = int(input())\n",
        "k = 1\n",
        "for i in range(1 , n + 1):\n",
        "    if (i==1):\n",
        "        row = \"\"\n",
        "        for j in range(1 , n + 1):\n",
        "            row += str(j) + \" \"\n",
        "            k += 1\n",
        "        print(row)\n",
        "    elif (i==n):\n",
        "        row = str(k)\n",
        "        print(row)\n",
        "    else:\n",
        "        row = str(k)\n",
        "        middle_spaces = (\" \") * (2*(n + 1 - i) - 3)\n",
        "        row += middle_spaces\n",
        "        k += int(len(middle_spaces) / 2) + 1\n",
        "        row += str(k)\n",
        "        k += 1\n",
        "        print(row)\n",
        ""
      ]
    },
    {
      "cell_type": "markdown",
      "source": [
        "# Numbers in Inverted Hollow Right Angled Triangle"
      ],
      "metadata": {
        "id": "EjaJwBCGOmAG"
      }
    },
    {
      "cell_type": "code",
      "source": [
        "s = int(input())\n",
        "n = int(input())\n",
        "\n",
        "for i in range(1 , n + 1):\n",
        "    if (i==1):\n",
        "        row = \"\"\n",
        "        for j in range(1 , n + 1):\n",
        "            row += str(s) + \" \"\n",
        "            s += 1\n",
        "        print(row)\n",
        "    elif (i==n):\n",
        "        left_spaces = (\" \") * (2*(i - 1))\n",
        "        row = left_spaces + str(s)\n",
        "        print(row)\n",
        "    else:\n",
        "        left_spaces = (\" \") * (2*(i - 1))\n",
        "        row = str(s)\n",
        "        middle_spaces = (\" \") * (2*(n + 1 - i) - 3)\n",
        "        row += middle_spaces\n",
        "        s += 1\n",
        "        row += str(s)\n",
        "        s += 1\n",
        "        print(left_spaces + row)"
      ],
      "metadata": {
        "colab": {
          "base_uri": "https://localhost:8080/"
        },
        "id": "L244RIlyO8jQ",
        "outputId": "f6f37f7f-b898-49b9-8171-252f9234cccf"
      },
      "execution_count": 2,
      "outputs": [
        {
          "output_type": "stream",
          "name": "stdout",
          "text": [
            "8\n",
            "8\n",
            "8 9 10 11 12 13 14 15 \n",
            "  16           17\n",
            "    18         19\n",
            "      20       21\n",
            "        22     23\n",
            "          24   25\n",
            "            26 27\n",
            "              28\n"
          ]
        }
      ]
    },
    {
      "cell_type": "markdown",
      "source": [
        "# Numbers in Hollow Square - 3"
      ],
      "metadata": {
        "id": "FBiKPTPJPEmW"
      }
    },
    {
      "cell_type": "code",
      "source": [
        "s = int(input())\n",
        "n = int(input())\n",
        "\n",
        "for i in range(1 , n + 1):\n",
        "    for j in range(1 , n + 1):\n",
        "        if (i==1 or i==n or j==1 or j==n):\n",
        "            print(s,end=\" \")\n",
        "            s += 1\n",
        "        else:\n",
        "            print(\" \",end=\" \")\n",
        "            s += 1\n",
        "    print()"
      ],
      "metadata": {
        "colab": {
          "base_uri": "https://localhost:8080/"
        },
        "id": "QlLnYCSePM-y",
        "outputId": "f39001bf-11bf-495c-fdea-b57e7d110cc0"
      },
      "execution_count": 3,
      "outputs": [
        {
          "output_type": "stream",
          "name": "stdout",
          "text": [
            "1\n",
            "9\n",
            "1 2 3 4 5 6 7 8 9 \n",
            "10               18 \n",
            "19               27 \n",
            "28               36 \n",
            "37               45 \n",
            "46               54 \n",
            "55               63 \n",
            "64               72 \n",
            "73 74 75 76 77 78 79 80 81 \n"
          ]
        }
      ]
    },
    {
      "cell_type": "markdown",
      "source": [
        "# Numbers in Inverted Hollow Right Angled Triangle"
      ],
      "metadata": {
        "id": "8a1EZA67PSwq"
      }
    },
    {
      "cell_type": "code",
      "source": [
        "n = int(input())\n",
        "s = 0\n",
        "for k in range(1 , n + 1):\n",
        "    s += k\n",
        "\n",
        "k = s\n",
        "for i in range(1 , n + 1):\n",
        "    if (i==1):\n",
        "        row = \"\"\n",
        "        for j in range(1 , n + 1):\n",
        "            row += str(k) + \" \"\n",
        "            k -= 1\n",
        "        print(row)\n",
        "    elif (i==n):\n",
        "        row = str(k)\n",
        "        print(row)\n",
        "    else:\n",
        "        row = str(k)\n",
        "        middle_spaces = (\" \") * (2*(n + 1 - i) - 3)\n",
        "        row += middle_spaces\n",
        "        k -= int(len(middle_spaces)/2) + 1\n",
        "        row += str(k)\n",
        "        k -= 1\n",
        "        print(row)\n",
        "\n",
        "\n",
        ""
      ],
      "metadata": {
        "colab": {
          "base_uri": "https://localhost:8080/"
        },
        "id": "-jgDF0c7Pkvy",
        "outputId": "54804e13-681e-4639-f54b-e09a61bb5d0f"
      },
      "execution_count": 4,
      "outputs": [
        {
          "output_type": "stream",
          "name": "stdout",
          "text": [
            "8\n",
            "36 35 34 33 32 31 30 29 \n",
            "28           22\n",
            "21         16\n",
            "15       11\n",
            "10     7\n",
            "6   4\n",
            "3 2\n",
            "1\n"
          ]
        }
      ]
    },
    {
      "cell_type": "markdown",
      "source": [
        "# Numbers in Hollow Right Angled Triangle - 3"
      ],
      "metadata": {
        "id": "6g2mb3OcPsRr"
      }
    },
    {
      "cell_type": "code",
      "source": [
        "s = int(input())\n",
        "n = int(input())\n",
        "\n",
        "for i in range(1 , n + 1):\n",
        "    if (i==n):\n",
        "        row = \"\"\n",
        "        for j in range(1 , n + 1):\n",
        "            s += 1\n",
        "            row += str(s) + \" \"\n",
        "        print(row)\n",
        "    elif (i==1):\n",
        "        row = str(s)\n",
        "        print(row)\n",
        "    else:\n",
        "        s += 1\n",
        "        midlle_spaces = (\" \") * (2*i - 3)\n",
        "        row = str(s) + midlle_spaces + str(s + 1)\n",
        "        s += 1\n",
        "        print(row)"
      ],
      "metadata": {
        "colab": {
          "base_uri": "https://localhost:8080/"
        },
        "id": "yK8O3E96P-I8",
        "outputId": "677b166e-bc78-444c-f7b6-eb09e807f266"
      },
      "execution_count": 5,
      "outputs": [
        {
          "output_type": "stream",
          "name": "stdout",
          "text": [
            "5\n",
            "8\n",
            "5\n",
            "6 7\n",
            "8   9\n",
            "10     11\n",
            "12       13\n",
            "14         15\n",
            "16           17\n",
            "18 19 20 21 22 23 24 25 \n"
          ]
        }
      ]
    },
    {
      "cell_type": "markdown",
      "source": [
        "# Numbers in Hollow Rectangle - 3"
      ],
      "metadata": {
        "id": "3sPbCa6HQC3v"
      }
    },
    {
      "cell_type": "code",
      "source": [
        "m = int(input())\n",
        "n = int(input())\n",
        "s = m*n\n",
        "for i in range(1 , m + 1):\n",
        "    for j in range(1 , n + 1):\n",
        "        if (i==1 or i==m or j==1 or j == n):\n",
        "            print(s , end=\" \")\n",
        "            s -= 1\n",
        "        else:\n",
        "            print(\" \",end=\" \")\n",
        "            s -= 1\n",
        "    print()"
      ],
      "metadata": {
        "colab": {
          "base_uri": "https://localhost:8080/"
        },
        "id": "09JZdSdQQYEQ",
        "outputId": "ecf99a25-3cab-4395-d6fc-9fe7e7e3b027"
      },
      "execution_count": 6,
      "outputs": [
        {
          "output_type": "stream",
          "name": "stdout",
          "text": [
            "3\n",
            "6\n",
            "18 17 16 15 14 13 \n",
            "12         7 \n",
            "6 5 4 3 2 1 \n"
          ]
        }
      ]
    },
    {
      "cell_type": "markdown",
      "source": [
        "# Armstrong Numbers in the given inputs"
      ],
      "metadata": {
        "id": "h56aDdqmQeon"
      }
    },
    {
      "cell_type": "code",
      "source": [
        "n = int(input())\n",
        "\n",
        "for i in range(1 , n + 1):\n",
        "    s = 0\n",
        "    m = int(input())\n",
        "    power = len(str(m))\n",
        "    for j in str(m):\n",
        "        s += int(j)**power\n",
        "    if m==s:\n",
        "        print(m)"
      ],
      "metadata": {
        "colab": {
          "base_uri": "https://localhost:8080/"
        },
        "id": "IZhegP_1Qm6Q",
        "outputId": "6c6da1c0-3257-4dd0-fdf5-cadcfc974623"
      },
      "execution_count": 7,
      "outputs": [
        {
          "name": "stdout",
          "output_type": "stream",
          "text": [
            "4\n",
            "8\n",
            "8\n",
            "27\n",
            "153\n",
            "153\n",
            "374\n"
          ]
        }
      ]
    },
    {
      "cell_type": "markdown",
      "source": [
        "#  Sum of prime numbers between two numbers M and N"
      ],
      "metadata": {
        "id": "_AIm4xpcQ7id"
      }
    },
    {
      "cell_type": "code",
      "source": [
        "m = int(input())\n",
        "n = int(input())\n",
        "s = 0\n",
        "\n",
        "for i in range(m , n + 1):\n",
        "    if i > 1:\n",
        "        factors = 0\n",
        "        for j in range(2,i):\n",
        "            if i % j == 0:\n",
        "                factors = factors + 1\n",
        "        if factors==0:\n",
        "            s += i\n",
        "\n",
        "print(s)\n",
        ""
      ],
      "metadata": {
        "colab": {
          "base_uri": "https://localhost:8080/"
        },
        "id": "ZrrPWhJwRGZE",
        "outputId": "33d3fef5-1795-4040-8c74-fea4ce47bfe9"
      },
      "execution_count": 8,
      "outputs": [
        {
          "output_type": "stream",
          "name": "stdout",
          "text": [
            "3\n",
            "7\n",
            "15\n"
          ]
        }
      ]
    }
  ]
}