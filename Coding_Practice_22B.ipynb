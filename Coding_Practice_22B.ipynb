{
  "nbformat": 4,
  "nbformat_minor": 0,
  "metadata": {
    "colab": {
      "provenance": []
    },
    "kernelspec": {
      "name": "python3",
      "display_name": "Python 3"
    },
    "language_info": {
      "name": "python"
    }
  },
  "cells": [
    {
      "cell_type": "code",
      "execution_count": 8,
      "metadata": {
        "colab": {
          "base_uri": "https://localhost:8080/"
        },
        "id": "Q78_l-41qu4f",
        "outputId": "b1a2c6ca-bc05-4d5c-dedf-3268d46fb0f2"
      },
      "outputs": [
        {
          "output_type": "stream",
          "name": "stdout",
          "text": [
            "5\n",
            "5\n"
          ]
        }
      ],
      "source": [
        "# return the given argument\n",
        "\n",
        "def func(arg_1):\n",
        "    return arg_1\n",
        "\n",
        "\n",
        "n = int(input())\n",
        "result = func(n)\n",
        "print(result)\n"
      ]
    },
    {
      "cell_type": "code",
      "source": [
        "# perimeter of the square\n",
        "\n",
        "def perimeter_of_square(arg_1):\n",
        "    return 4 * arg_1\n",
        "\n",
        "side = int(input())\n",
        "result = perimeter_of_square(side)\n",
        "print(result)\n"
      ],
      "metadata": {
        "colab": {
          "base_uri": "https://localhost:8080/"
        },
        "id": "bl6BAvwfrBgT",
        "outputId": "de069a32-9883-4e87-e2b9-25b9d507eac1"
      },
      "execution_count": 9,
      "outputs": [
        {
          "output_type": "stream",
          "name": "stdout",
          "text": [
            "5\n",
            "20\n"
          ]
        }
      ]
    },
    {
      "cell_type": "code",
      "source": [
        "# second character in the word\n",
        "\n",
        "def second_character(arg_1):\n",
        "    return arg_1[1]\n",
        "\n",
        "word = input()\n",
        "second_ch = second_character(word)\n",
        "print(second_ch)\n"
      ],
      "metadata": {
        "colab": {
          "base_uri": "https://localhost:8080/"
        },
        "id": "sl-ya6o0rFXH",
        "outputId": "759eed7c-c743-4265-b72b-f12d9056a418"
      },
      "execution_count": 7,
      "outputs": [
        {
          "output_type": "stream",
          "name": "stdout",
          "text": [
            "waghraj\n",
            "a\n"
          ]
        }
      ]
    },
    {
      "cell_type": "code",
      "source": [
        "# percentage - 4\n",
        "\n",
        "def calculate_percentage(number):\n",
        "    if number < 1000:\n",
        "        percentage = (5 / 100) * number\n",
        "    else:\n",
        "        percentage = (10 / 100) * number\n",
        "    return percentage\n",
        "\n",
        "\n",
        "number = int(input())\n",
        "\n",
        "result = calculate_percentage(number)\n",
        "\n",
        "print(result)"
      ],
      "metadata": {
        "colab": {
          "base_uri": "https://localhost:8080/"
        },
        "id": "qkdgZG0SrHvt",
        "outputId": "0b230543-426b-47b7-8347-ee497d494657"
      },
      "execution_count": 6,
      "outputs": [
        {
          "output_type": "stream",
          "name": "stdout",
          "text": [
            "45\n",
            "2.25\n"
          ]
        }
      ]
    },
    {
      "cell_type": "code",
      "source": [
        "# Valid string - 2\n",
        "\n",
        "def valid_string(string):\n",
        "    if (len(string) >= 6 ) or (string[0].isdigit()):\n",
        "        msg = \"Valid String\"\n",
        "    else:\n",
        "        msg = \"Invalid String\"\n",
        "    return msg\n",
        "\n",
        "string = input()\n",
        "\n",
        "result = valid_string(string)\n",
        "\n",
        "print(result)"
      ],
      "metadata": {
        "colab": {
          "base_uri": "https://localhost:8080/"
        },
        "id": "PMZPnN3vrMNE",
        "outputId": "93cd91b4-7d0f-4d7b-b3b7-73426405d661"
      },
      "execution_count": 5,
      "outputs": [
        {
          "output_type": "stream",
          "name": "stdout",
          "text": [
            "waghraj\n",
            "Valid String\n"
          ]
        }
      ]
    },
    {
      "cell_type": "code",
      "source": [
        "# speed meter\n",
        "\n",
        "def get_speed_status(speed):\n",
        "    if speed < 60:\n",
        "        msg = \"Normal\"\n",
        "    elif speed >= 60 and speed < 80:\n",
        "        msg = \"Warning\"\n",
        "    elif speed >= 80:\n",
        "        msg = \"Over Speed\"\n",
        "    return msg\n",
        "\n",
        "\n",
        "\n",
        "speed = int(input())\n",
        "message = get_speed_status(speed)\n",
        "print(message)\n"
      ],
      "metadata": {
        "colab": {
          "base_uri": "https://localhost:8080/"
        },
        "id": "JrG8v3y-rO7H",
        "outputId": "39fea4e4-be8a-4217-9f44-33a62a62e3a2"
      },
      "execution_count": 4,
      "outputs": [
        {
          "output_type": "stream",
          "name": "stdout",
          "text": [
            "75\n",
            "Warning\n"
          ]
        }
      ]
    },
    {
      "cell_type": "code",
      "source": [
        "# weather reporter\n",
        "\n",
        "def get_weather_report(temperature):\n",
        "    if temperature < 22:\n",
        "        msg = \"Cold\"\n",
        "    elif temperature >= 22 and temperature < 35:\n",
        "        msg = \"Warm\"\n",
        "    elif temperature >= 35:\n",
        "        msg = \"Hot\"\n",
        "    return msg\n",
        "\n",
        "\n",
        "temperature = int(input())\n",
        "message = get_weather_report(temperature)\n",
        "print(message)\n"
      ],
      "metadata": {
        "colab": {
          "base_uri": "https://localhost:8080/"
        },
        "id": "IDlbq_H4rSPk",
        "outputId": "b73d1170-2d3b-420d-8556-e94cf3e121cb"
      },
      "execution_count": 3,
      "outputs": [
        {
          "output_type": "stream",
          "name": "stdout",
          "text": [
            "25\n",
            "Warm\n"
          ]
        }
      ]
    },
    {
      "cell_type": "code",
      "source": [
        "# count the vowels\n",
        "\n",
        "def count_the_vowels(word):\n",
        "    count = 0\n",
        "    for i in word:\n",
        "        if i in \"aeiou\":\n",
        "            count += 1\n",
        "    return count\n",
        "\n",
        "\n",
        "word = input()\n",
        "count = count_the_vowels(word)\n",
        "print(count)\n"
      ],
      "metadata": {
        "colab": {
          "base_uri": "https://localhost:8080/"
        },
        "id": "slgCvzG6rVeb",
        "outputId": "307a6692-f818-422a-8931-12bc6a5b8e37"
      },
      "execution_count": 2,
      "outputs": [
        {
          "output_type": "stream",
          "name": "stdout",
          "text": [
            "waghraj\n",
            "2\n"
          ]
        }
      ]
    },
    {
      "cell_type": "code",
      "source": [
        "# count the upper case letters\n",
        "\n",
        "def count_of_uppercase(word):\n",
        "    count = 0\n",
        "    for i in word:\n",
        "        if i == i.upper():\n",
        "            count += 1\n",
        "    return count\n",
        "\n",
        "\n",
        "\n",
        "word = input()\n",
        "\n",
        "result = count_of_uppercase(word)\n",
        "\n",
        "print(result)"
      ],
      "metadata": {
        "colab": {
          "base_uri": "https://localhost:8080/"
        },
        "id": "_wDUD_8ArXmr",
        "outputId": "946c3967-b757-4f45-c942-f5daa7416c52"
      },
      "execution_count": 1,
      "outputs": [
        {
          "output_type": "stream",
          "name": "stdout",
          "text": [
            "Waghraj\n",
            "1\n"
          ]
        }
      ]
    }
  ]
}