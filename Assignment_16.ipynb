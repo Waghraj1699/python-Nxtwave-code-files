{
  "nbformat": 4,
  "nbformat_minor": 0,
  "metadata": {
    "colab": {
      "provenance": []
    },
    "kernelspec": {
      "name": "python3",
      "display_name": "Python 3"
    },
    "language_info": {
      "name": "python"
    }
  },
  "cells": [
    {
      "cell_type": "markdown",
      "source": [
        "# Kth Largest Factor - 2"
      ],
      "metadata": {
        "id": "pXcJAytIYM0C"
      }
    },
    {
      "cell_type": "code",
      "execution_count": 1,
      "metadata": {
        "id": "Wzx5VI33EWkW",
        "colab": {
          "base_uri": "https://localhost:8080/"
        },
        "outputId": "8bb6006c-7d6f-43ad-ea91-972d895b8b66"
      },
      "outputs": [
        {
          "output_type": "stream",
          "name": "stdout",
          "text": [
            "12\n",
            "3\n",
            "4\n"
          ]
        }
      ],
      "source": [
        "n = int(input())\n",
        "k = int(input())\n",
        "\n",
        "for i in range(n):\n",
        "    if n % (n - i) == 0:\n",
        "        largest = n - i\n",
        "        k -= 1\n",
        "    if k==0:\n",
        "        break\n",
        "\n",
        "print(largest)\n",
        ""
      ]
    },
    {
      "cell_type": "markdown",
      "source": [
        "# First Prime Number"
      ],
      "metadata": {
        "id": "jQwEKN3zYth1"
      }
    },
    {
      "cell_type": "code",
      "source": [
        "n = int(input())\n",
        "\n",
        "for i in range(1 , n + 1):\n",
        "    factors = 0\n",
        "    m = int(input())\n",
        "    if m > 1:\n",
        "        for j in range(2 , m):\n",
        "            if m % j == 0:\n",
        "                factors += 1\n",
        "        if factors==0:\n",
        "            print(m)\n",
        "            break"
      ],
      "metadata": {
        "colab": {
          "base_uri": "https://localhost:8080/"
        },
        "id": "pWriDaazY4Qq",
        "outputId": "b13db1f9-4126-4eb3-bc9e-ecbc0607c6de"
      },
      "execution_count": 2,
      "outputs": [
        {
          "output_type": "stream",
          "name": "stdout",
          "text": [
            "5\n",
            "1\n",
            "10\n",
            "4\n",
            "4\n",
            "3\n",
            "3\n"
          ]
        }
      ]
    },
    {
      "cell_type": "markdown",
      "source": [
        "# Multiple of 5"
      ],
      "metadata": {
        "id": "oSCa8YSyZE6A"
      }
    },
    {
      "cell_type": "code",
      "source": [
        "n = int(input())\n",
        "\n",
        "for i in range(1 , n + 1):\n",
        "    m = int(input())\n",
        "    if m % 5 == 0:\n",
        "        break\n",
        "    print(m)\n"
      ],
      "metadata": {
        "colab": {
          "base_uri": "https://localhost:8080/"
        },
        "id": "x5jE064aZNj8",
        "outputId": "834388dd-9d7d-4235-d84a-9db8c392d95b"
      },
      "execution_count": 4,
      "outputs": [
        {
          "name": "stdout",
          "output_type": "stream",
          "text": [
            "6\n",
            "1\n",
            "1\n",
            "2\n",
            "2\n",
            "3\n",
            "3\n",
            "5\n"
          ]
        }
      ]
    },
    {
      "cell_type": "markdown",
      "source": [
        "# Multiple of 3"
      ],
      "metadata": {
        "id": "SAqlPBEPZPAh"
      }
    },
    {
      "cell_type": "code",
      "source": [
        "n = int(input())\n",
        "\n",
        "for i in range(1 , n + 1):\n",
        "    m = int(input())\n",
        "    if m % 3 == 0:\n",
        "        print(m)"
      ],
      "metadata": {
        "colab": {
          "base_uri": "https://localhost:8080/"
        },
        "id": "EZs-6oOQZRGC",
        "outputId": "a5e7ac34-c9af-4a96-e770-1c2bddb78c10"
      },
      "execution_count": 5,
      "outputs": [
        {
          "name": "stdout",
          "output_type": "stream",
          "text": [
            "5\n",
            "2\n",
            "3\n",
            "3\n",
            "9\n",
            "9\n",
            "6\n",
            "6\n",
            "2\n"
          ]
        }
      ]
    },
    {
      "cell_type": "markdown",
      "source": [
        "# Alphabets in Right Angled Triangle"
      ],
      "metadata": {
        "id": "slq4P6scZR5c"
      }
    },
    {
      "cell_type": "code",
      "source": [
        "n = int(input())\n",
        "k = \"ABCDEFGHIJKLMNOPQRSTUVWXYZ\"\n",
        "\n",
        "for i in range(1 , n + 1):\n",
        "    spaces = (\"  \") * (n - i)\n",
        "    print(spaces,end=\"\")\n",
        "    for j in range(1 , i + 1):\n",
        "        print(k[j - 1] , end=\" \")\n",
        "    print()"
      ],
      "metadata": {
        "colab": {
          "base_uri": "https://localhost:8080/"
        },
        "id": "DuZPR5a-ZzXY",
        "outputId": "8cc70fd8-2f2e-4d85-dafa-e54d57f621d9"
      },
      "execution_count": 6,
      "outputs": [
        {
          "output_type": "stream",
          "name": "stdout",
          "text": [
            "5\n",
            "        A \n",
            "      A B \n",
            "    A B C \n",
            "  A B C D \n",
            "A B C D E \n"
          ]
        }
      ]
    }
  ]
}