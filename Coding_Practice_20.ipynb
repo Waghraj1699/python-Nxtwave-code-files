{
  "nbformat": 4,
  "nbformat_minor": 0,
  "metadata": {
    "colab": {
      "provenance": []
    },
    "kernelspec": {
      "name": "python3",
      "display_name": "Python 3"
    },
    "language_info": {
      "name": "python"
    }
  },
  "cells": [
    {
      "cell_type": "code",
      "execution_count": 1,
      "metadata": {
        "colab": {
          "base_uri": "https://localhost:8080/"
        },
        "id": "3RNooVF0Q6Hn",
        "outputId": "faa4640c-d36f-4829-df32-da8d11a5fee8"
      },
      "outputs": [
        {
          "output_type": "stream",
          "name": "stdout",
          "text": [
            "['Rose', 183, 148, 123.64, False]\n"
          ]
        }
      ],
      "source": [
        "## Create and print list\n",
        "\n",
        "list_a = [\"Rose\",183,148,123.64,False]\n",
        "print(list_a)"
      ]
    },
    {
      "cell_type": "code",
      "source": [
        "## List Indexing\n",
        "\n",
        "color_list = [\"Red\", \"Orange\", \"Yellow\", \"Pink\", \"Green\", \"Blue\", \"Purple\", \"Black\", \"White\"]\n",
        "\n",
        "i = int(input())\n",
        "print(color_list[i])"
      ],
      "metadata": {
        "colab": {
          "base_uri": "https://localhost:8080/"
        },
        "id": "SKiIUZh6RZo4",
        "outputId": "182b8734-921a-4cc9-f23e-ee543391d482"
      },
      "execution_count": 2,
      "outputs": [
        {
          "output_type": "stream",
          "name": "stdout",
          "text": [
            "5\n",
            "Blue\n"
          ]
        }
      ]
    },
    {
      "cell_type": "code",
      "source": [
        "## List Indexing 2\n",
        "\n",
        "programming_languages_list = [\"Python\", \"Java\", \"Ruby\", \"C\", \"C++\", \"Go\", \"R\", \"JavaScript\", \"Swift\", \"PHP\", \"Kotlin\", \"Perl\"]\n",
        "\n",
        "n = int(input())\n",
        "\n",
        "for i in range(1 , n + 1):\n",
        "    m = int(input())\n",
        "    print(programming_languages_list[m])"
      ],
      "metadata": {
        "colab": {
          "base_uri": "https://localhost:8080/"
        },
        "id": "2weP_1xARslE",
        "outputId": "aeb650d2-c89b-48e8-c120-9fdd7828a957"
      },
      "execution_count": 6,
      "outputs": [
        {
          "output_type": "stream",
          "name": "stdout",
          "text": [
            "2\n",
            "1\n",
            "Java\n",
            "4\n",
            "C++\n"
          ]
        }
      ]
    },
    {
      "cell_type": "code",
      "source": [
        "## Find element in list\n",
        "\n",
        "L = [\"5\", \"eat\", \"9.80\", \"Water\", \"python\", \"-678\", \"7685.26\", \"-2.5\", \"sing\"]\n",
        "\n",
        "s = input()\n",
        "is_there = False\n",
        "for i in L:\n",
        "    if i == s:\n",
        "        is_there = True\n",
        "\n",
        "print(is_there)"
      ],
      "metadata": {
        "colab": {
          "base_uri": "https://localhost:8080/"
        },
        "id": "AydDAM3bSUWq",
        "outputId": "72c11a27-b278-43da-cef3-fb09b12a1634"
      },
      "execution_count": 7,
      "outputs": [
        {
          "output_type": "stream",
          "name": "stdout",
          "text": [
            "eat\n",
            "True\n"
          ]
        }
      ]
    },
    {
      "cell_type": "code",
      "source": [
        "## List concatenation\n",
        "\n",
        "num_list =  [10, 20, 40, 100]\n",
        "n = int(input())\n",
        "first_list = [n] + num_list\n",
        "second_list = num_list + [n]\n",
        "\n",
        "print(first_list)\n",
        "print(second_list)\n"
      ],
      "metadata": {
        "colab": {
          "base_uri": "https://localhost:8080/"
        },
        "id": "-HeSoHeDShri",
        "outputId": "9c7c097e-d86b-4804-93f7-4684c2fd3cb1"
      },
      "execution_count": 8,
      "outputs": [
        {
          "output_type": "stream",
          "name": "stdout",
          "text": [
            "20\n",
            "[20, 10, 20, 40, 100]\n",
            "[10, 20, 40, 100, 20]\n"
          ]
        }
      ]
    },
    {
      "cell_type": "code",
      "source": [
        "## List Concatenation2\n",
        "\n",
        "L = [\"apple\", \"78\", \"970.03\"]\n",
        "\n",
        "n = int(input())\n",
        "\n",
        "for i in range(1 , n + 1):\n",
        "    m = input()\n",
        "    L += [m]\n",
        "\n",
        "print(L)"
      ],
      "metadata": {
        "colab": {
          "base_uri": "https://localhost:8080/"
        },
        "id": "OB1321LvSuwp",
        "outputId": "805a2a2d-bbaf-4dd2-8f54-430a297483fe"
      },
      "execution_count": 14,
      "outputs": [
        {
          "output_type": "stream",
          "name": "stdout",
          "text": [
            "2\n",
            "38\n",
            "grapes\n",
            "['apple', '78', '970.03', '38', 'grapes']\n"
          ]
        }
      ]
    },
    {
      "cell_type": "code",
      "source": [
        "## Create and print 2\n",
        "\n",
        "L = []\n",
        "n = int(input())\n",
        "for i in range(1, n + 1):\n",
        "    m = input()\n",
        "    L += [m]\n",
        "print(L)\n",
        "9"
      ],
      "metadata": {
        "colab": {
          "base_uri": "https://localhost:8080/"
        },
        "id": "vGFOe2R-S3Hf",
        "outputId": "0c4bd793-5409-4213-ac17-1c140da97e31"
      },
      "execution_count": 13,
      "outputs": [
        {
          "output_type": "stream",
          "name": "stdout",
          "text": [
            "5\n",
            "20\n",
            "tiger\n",
            "cinema\n",
            "5.5\n",
            "90\n",
            "['20', 'tiger', 'cinema', '5.5', '90']\n"
          ]
        }
      ]
    },
    {
      "cell_type": "code",
      "source": [
        "## Create and print 3\n",
        "\n",
        "n = int(input())\n",
        "L = []\n",
        "\n",
        "for i in range(1 , n + 1):\n",
        "    m = int(input())\n",
        "    L += [m]\n",
        "\n",
        "print(L)"
      ],
      "metadata": {
        "colab": {
          "base_uri": "https://localhost:8080/"
        },
        "id": "RLdfRQeCS6y1",
        "outputId": "2d9a36e8-83bf-4931-f276-268b48de9d75"
      },
      "execution_count": 12,
      "outputs": [
        {
          "output_type": "stream",
          "name": "stdout",
          "text": [
            "4\n",
            "1\n",
            "2\n",
            "3\n",
            "4\n",
            "[1, 2, 3, 4]\n"
          ]
        }
      ]
    },
    {
      "cell_type": "code",
      "source": [
        "## List repetition\n",
        "\n",
        "L = [1, \"two\", \"3\", 4.0]\n",
        "\n",
        "n = int(input())\n",
        "print(L * n)"
      ],
      "metadata": {
        "colab": {
          "base_uri": "https://localhost:8080/"
        },
        "id": "mkeZuDaBS_H1",
        "outputId": "ebf8122c-c5e5-4439-9858-d68c0e9a42d8"
      },
      "execution_count": 15,
      "outputs": [
        {
          "output_type": "stream",
          "name": "stdout",
          "text": [
            "3\n",
            "[1, 'two', '3', 4.0, 1, 'two', '3', 4.0, 1, 'two', '3', 4.0]\n"
          ]
        }
      ]
    },
    {
      "cell_type": "code",
      "source": [
        "## List repetition 2\n",
        "\n",
        "n = int(input())\n",
        "m = int(input())\n",
        "\n",
        "L = [n]\n",
        "print(L * m)\n",
        "\n"
      ],
      "metadata": {
        "colab": {
          "base_uri": "https://localhost:8080/"
        },
        "id": "tXcDfrsvTFQS",
        "outputId": "adad11a7-f208-472b-fd9a-efc607978749"
      },
      "execution_count": 16,
      "outputs": [
        {
          "output_type": "stream",
          "name": "stdout",
          "text": [
            "5\n",
            "4\n",
            "[5, 5, 5, 5]\n"
          ]
        }
      ]
    },
    {
      "cell_type": "code",
      "source": [
        "## Convert String to List\n",
        "\n",
        "s = input()\n",
        "print(list(s))"
      ],
      "metadata": {
        "colab": {
          "base_uri": "https://localhost:8080/"
        },
        "id": "yoHbzgKgTHBv",
        "outputId": "7bea7886-37f8-4e08-ba89-a260696354a7"
      },
      "execution_count": 17,
      "outputs": [
        {
          "output_type": "stream",
          "name": "stdout",
          "text": [
            "Python\n",
            "['P', 'y', 't', 'h', 'o', 'n']\n"
          ]
        }
      ]
    },
    {
      "cell_type": "code",
      "source": [
        "## Modifying List\n",
        "\n",
        "L = [1, 20, 33, 45, 520, 64, 71, 852, 9999, 101010]\n",
        "\n",
        "i = int(input())\n",
        "n = int(input())\n",
        "\n",
        "L[i] = n\n",
        "print(L)"
      ],
      "metadata": {
        "colab": {
          "base_uri": "https://localhost:8080/"
        },
        "id": "CmQImslTTMak",
        "outputId": "93273991-0bbe-40c2-9926-49e20d5621b8"
      },
      "execution_count": 18,
      "outputs": [
        {
          "output_type": "stream",
          "name": "stdout",
          "text": [
            "3\n",
            "100\n",
            "[1, 20, 33, 100, 520, 64, 71, 852, 9999, 101010]\n"
          ]
        }
      ]
    },
    {
      "cell_type": "code",
      "source": [
        "## Greater than N\n",
        "\n",
        "num_list = [1, 6, 32, 93, 71, -20, 30, -90, 50]\n",
        "\n",
        "L = []\n",
        "\n",
        "n = int(input())\n",
        "\n",
        "for i in num_list:\n",
        "    if i > n :\n",
        "        L += [i]\n",
        "\n",
        "print(L)"
      ],
      "metadata": {
        "colab": {
          "base_uri": "https://localhost:8080/"
        },
        "id": "a4CoLtM1TRHb",
        "outputId": "c385faed-a158-4c97-9732-46094ca0ee43"
      },
      "execution_count": 11,
      "outputs": [
        {
          "output_type": "stream",
          "name": "stdout",
          "text": [
            "50\n",
            "[93, 71]\n"
          ]
        }
      ]
    },
    {
      "cell_type": "code",
      "source": [
        "## First and Last three elements in lists\n",
        "\n",
        "n = int(input())\n",
        "L =[]\n",
        "for i in range(1, n + 1):\n",
        "    m = input()\n",
        "    L += [m]\n",
        "\n",
        "length = len(L)\n",
        "a = L[:3]\n",
        "b = L[length - 3 :]\n",
        "print(a + b)"
      ],
      "metadata": {
        "colab": {
          "base_uri": "https://localhost:8080/"
        },
        "id": "Zn0k_rR7TWBE",
        "outputId": "6fcbdfbe-16d1-485b-ddbb-3f0dc703c927"
      },
      "execution_count": 10,
      "outputs": [
        {
          "output_type": "stream",
          "name": "stdout",
          "text": [
            "8\n",
            "sonu\n",
            "monu\n",
            "chintu\n",
            "pintu\n",
            "bunny\n",
            "honny\n",
            "papu\n",
            "sinu\n",
            "['sonu', 'monu', 'chintu', 'honny', 'papu', 'sinu']\n"
          ]
        }
      ]
    },
    {
      "cell_type": "code",
      "source": [
        "## Reverse Order\n",
        "\n",
        "n = int(input())\n",
        "L = []\n",
        "for i in range(1 , n + 1):\n",
        "    m = input()\n",
        "    L = [m] + L\n",
        "\n",
        "for i in L:\n",
        "    print(i)\n",
        "\n",
        ""
      ],
      "metadata": {
        "colab": {
          "base_uri": "https://localhost:8080/"
        },
        "id": "VNLs_ayuTbbT",
        "outputId": "c7ac8a62-5105-41bb-e789-226d7fb44b6d"
      },
      "execution_count": 9,
      "outputs": [
        {
          "output_type": "stream",
          "name": "stdout",
          "text": [
            "8\n",
            "waghraj\n",
            "prajakta\n",
            "sonu\n",
            "pragati\n",
            "mahesh\n",
            "shivam\n",
            "vaibhav\n",
            "sambha\n",
            "sambha\n",
            "vaibhav\n",
            "shivam\n",
            "mahesh\n",
            "pragati\n",
            "sonu\n",
            "prajakta\n",
            "waghraj\n"
          ]
        }
      ]
    }
  ]
}