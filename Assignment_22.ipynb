{
  "nbformat": 4,
  "nbformat_minor": 0,
  "metadata": {
    "colab": {
      "provenance": []
    },
    "kernelspec": {
      "name": "python3",
      "display_name": "Python 3"
    },
    "language_info": {
      "name": "python"
    }
  },
  "cells": [
    {
      "cell_type": "code",
      "execution_count": 1,
      "metadata": {
        "colab": {
          "base_uri": "https://localhost:8080/"
        },
        "id": "3EhliEVovgIJ",
        "outputId": "9e6dd7ab-d1f5-4760-e436-f6d1498afcc6"
      },
      "outputs": [
        {
          "output_type": "stream",
          "name": "stdout",
          "text": [
            "1452\n",
            "Valid PIN Code\n"
          ]
        }
      ],
      "source": [
        "# ATM Pin code Validation\n",
        "\n",
        "def validate_atm_pin_code(pin):\n",
        "    if ((len(pin) == 4) or (len(pin) == 6)) and (pin.isdigit()):\n",
        "        msg = \"Valid PIN Code\"\n",
        "    else:\n",
        "        msg = \"Invalid PIN Code\"\n",
        "    return msg\n",
        "\n",
        "pin = input()\n",
        "result = validate_atm_pin_code(pin)\n",
        "print(result)\n"
      ]
    },
    {
      "cell_type": "code",
      "source": [
        "# Calculate bill\n",
        "\n",
        "def calculate_bill(amount):\n",
        "    if amount < 500:\n",
        "        discount = (5 / 100) * amount\n",
        "    elif amount >= 500 and amount < 2500:\n",
        "        discount = (10 / 100) * amount\n",
        "    elif amount >= 2500:\n",
        "        discount = (20 / 100) * amount\n",
        "    return (amount - discount)\n",
        "\n",
        "\n",
        "amount = int(input())\n",
        "result = calculate_bill(amount)\n",
        "print(result)\n"
      ],
      "metadata": {
        "colab": {
          "base_uri": "https://localhost:8080/"
        },
        "id": "Hezufj1Ivw3u",
        "outputId": "fa0ab69f-a8ac-48c5-abad-b83936023514"
      },
      "execution_count": 2,
      "outputs": [
        {
          "output_type": "stream",
          "name": "stdout",
          "text": [
            "1254\n",
            "1128.6\n"
          ]
        }
      ]
    },
    {
      "cell_type": "code",
      "source": [
        "# Fizz Buzz\n",
        "\n",
        "def fizz_buzz(number):\n",
        "    if (number % 3 == 0) and (number % 5 == 0):\n",
        "        print(\"FizzBuzz\")\n",
        "    elif number % 3 == 0:\n",
        "        print(\"Fizz\")\n",
        "    elif number % 5 == 0:\n",
        "        print(\"Buzz\")\n",
        "    else:\n",
        "        print(number)\n",
        "\n",
        "number = int(input())\n",
        "fizz_buzz(number)\n",
        "\n",
        "\n"
      ],
      "metadata": {
        "colab": {
          "base_uri": "https://localhost:8080/"
        },
        "id": "NmBh0Uu_vzzD",
        "outputId": "c77d8a5e-2746-4450-8f9a-ace0bffd4573"
      },
      "execution_count": 3,
      "outputs": [
        {
          "output_type": "stream",
          "name": "stdout",
          "text": [
            "8\n",
            "8\n"
          ]
        }
      ]
    },
    {
      "cell_type": "code",
      "source": [
        "# Count of Lowercase and uppercase\n",
        "\n",
        "def count_of_lowercase_and_uppercase_letters(arg_1):\n",
        "    count_of_uppercase = 0\n",
        "    count_of_lowercase = 0\n",
        "    for i in arg_1:\n",
        "        if i == i.upper():\n",
        "            count_of_uppercase += 1\n",
        "        if i == i.lower():\n",
        "            count_of_lowercase += 1\n",
        "    print(count_of_uppercase)\n",
        "    print(count_of_lowercase)\n",
        "\n",
        "\n",
        "word = input()\n",
        "count_of_lowercase_and_uppercase_letters(word)\n"
      ],
      "metadata": {
        "colab": {
          "base_uri": "https://localhost:8080/"
        },
        "id": "iU_I4UbOv1XU",
        "outputId": "218763fc-5148-459b-8839-3fd7fcf844e5"
      },
      "execution_count": 4,
      "outputs": [
        {
          "output_type": "stream",
          "name": "stdout",
          "text": [
            "WAGhraj\n",
            "3\n",
            "4\n"
          ]
        }
      ]
    }
  ]
}