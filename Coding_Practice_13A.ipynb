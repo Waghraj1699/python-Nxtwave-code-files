{
  "nbformat": 4,
  "nbformat_minor": 0,
  "metadata": {
    "colab": {
      "provenance": []
    },
    "kernelspec": {
      "name": "python3",
      "display_name": "Python 3"
    },
    "language_info": {
      "name": "python"
    }
  },
  "cells": [
    {
      "cell_type": "markdown",
      "source": [
        "# Numbers in Square"
      ],
      "metadata": {
        "id": "zgJXiC78clyQ"
      }
    },
    {
      "cell_type": "code",
      "execution_count": 13,
      "metadata": {
        "colab": {
          "base_uri": "https://localhost:8080/"
        },
        "id": "j7lyJZl7cYk2",
        "outputId": "3403dfc1-f070-4aac-8628-46f0a7130867"
      },
      "outputs": [
        {
          "output_type": "stream",
          "name": "stdout",
          "text": [
            "5\n",
            "1 2 3 4 5 \n",
            "1 2 3 4 5 \n",
            "1 2 3 4 5 \n",
            "1 2 3 4 5 \n",
            "1 2 3 4 5 \n"
          ]
        }
      ],
      "source": [
        "n = int(input())\n",
        "\n",
        "for i in range(1, n + 1):\n",
        "    for j in range(1 , n + 1):\n",
        "        print(j,end=\" \")\n",
        "    print()"
      ]
    },
    {
      "cell_type": "markdown",
      "source": [
        "# Numbers in Right Angled Triangle"
      ],
      "metadata": {
        "id": "g-9acG4ucsAj"
      }
    },
    {
      "cell_type": "code",
      "source": [
        "n = int(input())\n",
        "\n",
        "for i in range(1 , n + 1):\n",
        "    for j in range(1, i + 1):\n",
        "        print(j,end=\" \")\n",
        "    print()"
      ],
      "metadata": {
        "colab": {
          "base_uri": "https://localhost:8080/"
        },
        "id": "qP4fXl3ScwpA",
        "outputId": "08416652-d4b8-4cc2-f08b-7dcf128c44b9"
      },
      "execution_count": 12,
      "outputs": [
        {
          "output_type": "stream",
          "name": "stdout",
          "text": [
            "5\n",
            "1 \n",
            "1 2 \n",
            "1 2 3 \n",
            "1 2 3 4 \n",
            "1 2 3 4 5 \n"
          ]
        }
      ]
    },
    {
      "cell_type": "markdown",
      "source": [
        "# Numbers in Rectangle"
      ],
      "metadata": {
        "id": "oTGMICOMcxmQ"
      }
    },
    {
      "cell_type": "code",
      "source": [
        "m = int(input())\n",
        "n = int(input())\n",
        "\n",
        "for i in range(1 , m + 1):\n",
        "    for j in range(1 , n + 1):\n",
        "        print(6 + j,end = \" \")\n",
        "    print()"
      ],
      "metadata": {
        "colab": {
          "base_uri": "https://localhost:8080/"
        },
        "id": "2wD85Ywqc1C_",
        "outputId": "5934c842-03e2-45f8-f803-b03683a7994f"
      },
      "execution_count": 11,
      "outputs": [
        {
          "output_type": "stream",
          "name": "stdout",
          "text": [
            "2\n",
            "3\n",
            "7 8 9 \n",
            "7 8 9 \n"
          ]
        }
      ]
    },
    {
      "cell_type": "markdown",
      "source": [
        "# Numbers in Pyramids"
      ],
      "metadata": {
        "id": "DYMNOjQxc1_l"
      }
    },
    {
      "cell_type": "code",
      "source": [
        "s = int(input())\n",
        "n = int(input())\n",
        "\n",
        "for i in range(1 , n + 1):\n",
        "    k = s\n",
        "    spaces = (\" \") * (n - i)\n",
        "    print(spaces , end = \"\")\n",
        "    for j in range(1, i + 1):\n",
        "        print(k , end = \" \")\n",
        "        k = k + 1\n",
        "    print()"
      ],
      "metadata": {
        "colab": {
          "base_uri": "https://localhost:8080/"
        },
        "id": "quFFJAVXc4DN",
        "outputId": "291d0d51-1b75-4f1b-8cfd-76b85c5dc263"
      },
      "execution_count": 10,
      "outputs": [
        {
          "output_type": "stream",
          "name": "stdout",
          "text": [
            "7\n",
            "5\n",
            "    7 \n",
            "   7 8 \n",
            "  7 8 9 \n",
            " 7 8 9 10 \n",
            "7 8 9 10 11 \n"
          ]
        }
      ]
    },
    {
      "cell_type": "markdown",
      "source": [
        "# Numbers in Square - 2"
      ],
      "metadata": {
        "id": "UwHnDy7Yc4pa"
      }
    },
    {
      "cell_type": "code",
      "source": [
        "n = int(input())\n",
        "\n",
        "for i in range(1 , n + 1):\n",
        "    for j in range(1 , n + 1):\n",
        "        print(n + 1 - j,end=\" \")\n",
        "    print()"
      ],
      "metadata": {
        "colab": {
          "base_uri": "https://localhost:8080/"
        },
        "id": "qFaPrUOJc9fI",
        "outputId": "1aaf9a72-df0c-407a-fc1c-ec0e84e08f07"
      },
      "execution_count": 9,
      "outputs": [
        {
          "output_type": "stream",
          "name": "stdout",
          "text": [
            "5\n",
            "5 4 3 2 1 \n",
            "5 4 3 2 1 \n",
            "5 4 3 2 1 \n",
            "5 4 3 2 1 \n",
            "5 4 3 2 1 \n"
          ]
        }
      ]
    },
    {
      "cell_type": "markdown",
      "source": [
        "# Numbers in Right Angled Triangle - 2"
      ],
      "metadata": {
        "id": "4tW44hSdc-W7"
      }
    },
    {
      "cell_type": "code",
      "source": [
        "n = int(input())\n",
        "\n",
        "for i in range(1 , n + 1):\n",
        "    spaces = (\" \") * (2*(n - i))\n",
        "    print(spaces,end=\"\")\n",
        "    for j in range(1, i + 1):\n",
        "        print(i , end=\" \")\n",
        "        i = i - 1\n",
        "    print()\n",
        ""
      ],
      "metadata": {
        "colab": {
          "base_uri": "https://localhost:8080/"
        },
        "id": "Mu2F7NzidDPj",
        "outputId": "c68afb70-5980-4806-f335-93199a273927"
      },
      "execution_count": 8,
      "outputs": [
        {
          "output_type": "stream",
          "name": "stdout",
          "text": [
            "5\n",
            "        1 \n",
            "      2 1 \n",
            "    3 2 1 \n",
            "  4 3 2 1 \n",
            "5 4 3 2 1 \n"
          ]
        }
      ]
    },
    {
      "cell_type": "markdown",
      "source": [
        "# Armstron Numbers from 1 to N"
      ],
      "metadata": {
        "id": "xVyqsxNtdD9B"
      }
    },
    {
      "cell_type": "code",
      "source": [
        "n = int(input())\n",
        "\n",
        "for i in range(1 , n + 1):\n",
        "    sum = 0\n",
        "    for j in str(i):\n",
        "        power = len(str(i))\n",
        "        sum = sum + (int(j) ** power)\n",
        "    if sum == i:\n",
        "        print(i)"
      ],
      "metadata": {
        "colab": {
          "base_uri": "https://localhost:8080/"
        },
        "id": "DDrc4s1UdJLC",
        "outputId": "6be9395c-0e92-4a37-9456-54fddfc5a748"
      },
      "execution_count": 7,
      "outputs": [
        {
          "output_type": "stream",
          "name": "stdout",
          "text": [
            "100\n",
            "1\n",
            "2\n",
            "3\n",
            "4\n",
            "5\n",
            "6\n",
            "7\n",
            "8\n",
            "9\n"
          ]
        }
      ]
    },
    {
      "cell_type": "markdown",
      "source": [
        "# Prime Numbers from 1 to N"
      ],
      "metadata": {
        "id": "4b0Z4Tg6dJ97"
      }
    },
    {
      "cell_type": "code",
      "source": [
        "n = int(input())\n",
        "\n",
        "for i in range(2 , n + 1):\n",
        "    factors = 0\n",
        "    for j in range(2,i):\n",
        "        if i % j == 0:\n",
        "            factors = factors + 1\n",
        "    if factors == 0:\n",
        "        print(i)"
      ],
      "metadata": {
        "colab": {
          "base_uri": "https://localhost:8080/"
        },
        "id": "DXgpvxGvdOOb",
        "outputId": "0d259494-6faf-4d48-b7b9-1bb67323338b"
      },
      "execution_count": 6,
      "outputs": [
        {
          "output_type": "stream",
          "name": "stdout",
          "text": [
            "11\n",
            "2\n",
            "3\n",
            "5\n",
            "7\n",
            "11\n"
          ]
        }
      ]
    },
    {
      "cell_type": "markdown",
      "source": [
        "# Prime Numbers from M to N"
      ],
      "metadata": {
        "id": "aQebT-rkdO61"
      }
    },
    {
      "cell_type": "code",
      "source": [
        "m = int(input())\n",
        "n = int(input())\n",
        "number = \"\"\n",
        "found_prime = False\n",
        "\n",
        "for i in range(m , n + 1):\n",
        "    if i > 1 :\n",
        "        factors = 0\n",
        "        for j in range(2, i):\n",
        "             if i % j == 0:\n",
        "                factors = factors + 1\n",
        "        if factors == 0:\n",
        "            print(i,end= \" \")\n",
        "            found_prime = True\n",
        "\n",
        "if not(found_prime):\n",
        "    print(\"No Prime Numbers Found\")\n"
      ],
      "metadata": {
        "colab": {
          "base_uri": "https://localhost:8080/"
        },
        "id": "KMHMzTEadlS3",
        "outputId": "2497f81f-d71f-4ecf-9be8-f9c18bbddf7b"
      },
      "execution_count": 5,
      "outputs": [
        {
          "output_type": "stream",
          "name": "stdout",
          "text": [
            "3\n",
            "15\n",
            "3 5 7 11 13 "
          ]
        }
      ]
    },
    {
      "cell_type": "markdown",
      "source": [
        "# Numbers in Rectangle - 2"
      ],
      "metadata": {
        "id": "zfl8gt7edmAD"
      }
    },
    {
      "cell_type": "code",
      "source": [
        "m = int(input())\n",
        "n = int(input())\n",
        "k = 1\n",
        "for i in range(1 , m + 1):\n",
        "    for j in range(1 , n + 1):\n",
        "        print(k,end=\" \")\n",
        "        k = k + 1\n",
        "    print()"
      ],
      "metadata": {
        "colab": {
          "base_uri": "https://localhost:8080/"
        },
        "id": "fstg50Lfdp_i",
        "outputId": "05d7fb34-1676-407b-97f3-3da2e0b2105b"
      },
      "execution_count": 4,
      "outputs": [
        {
          "output_type": "stream",
          "name": "stdout",
          "text": [
            "2\n",
            "4\n",
            "1 2 3 4 \n",
            "5 6 7 8 \n"
          ]
        }
      ]
    },
    {
      "cell_type": "markdown",
      "source": [
        "# Numbers in Inverted Right Angled Triangle"
      ],
      "metadata": {
        "id": "KEcWcVOkdqrt"
      }
    },
    {
      "cell_type": "code",
      "source": [
        "n = int(input())\n",
        "\n",
        "for i in range(n):\n",
        "    for j in range(1 , n + 1 - i):\n",
        "        print(j,end=\" \")\n",
        "    print()"
      ],
      "metadata": {
        "colab": {
          "base_uri": "https://localhost:8080/"
        },
        "id": "CuW_Zz4RdwVK",
        "outputId": "3eff1668-a169-4839-8909-a314b3c68f42"
      },
      "execution_count": 3,
      "outputs": [
        {
          "output_type": "stream",
          "name": "stdout",
          "text": [
            "5\n",
            "1 2 3 4 5 \n",
            "1 2 3 4 \n",
            "1 2 3 \n",
            "1 2 \n",
            "1 \n"
          ]
        }
      ]
    },
    {
      "cell_type": "markdown",
      "source": [
        "# Half Pyramid - 2"
      ],
      "metadata": {
        "id": "eIFcQrp8dxA7"
      }
    },
    {
      "cell_type": "code",
      "source": [
        "n = int(input())\n",
        "k = 1\n",
        "\n",
        "for i in range(1 , n + 1):\n",
        "    for j in range(1 , i + 1):\n",
        "        print(k,end=\" \")\n",
        "        k = k + 1\n",
        "    print()"
      ],
      "metadata": {
        "colab": {
          "base_uri": "https://localhost:8080/"
        },
        "id": "rnh--rJgd0i4",
        "outputId": "5dc5af93-a1cd-4c4d-da7d-e6b7d8996fe8"
      },
      "execution_count": 2,
      "outputs": [
        {
          "output_type": "stream",
          "name": "stdout",
          "text": [
            "5\n",
            "1 \n",
            "2 3 \n",
            "4 5 6 \n",
            "7 8 9 10 \n",
            "11 12 13 14 15 \n"
          ]
        }
      ]
    },
    {
      "cell_type": "markdown",
      "source": [
        "# Prime Numbers From M to N"
      ],
      "metadata": {
        "id": "xDYV5lxLd1j3"
      }
    },
    {
      "cell_type": "code",
      "source": [
        "m = int(input())\n",
        "n = int(input())\n",
        "\n",
        "for i in range(m , n + 1):\n",
        "    if i > 1:\n",
        "        factors = 0\n",
        "        for j in range(2,i):\n",
        "            if i % j == 0:\n",
        "                factors = factors + 1\n",
        "        if factors==0:\n",
        "            print(i)"
      ],
      "metadata": {
        "colab": {
          "base_uri": "https://localhost:8080/"
        },
        "id": "soFTqicBd5wl",
        "outputId": "fea730c7-2cff-446b-ad03-7747626578bb"
      },
      "execution_count": 1,
      "outputs": [
        {
          "output_type": "stream",
          "name": "stdout",
          "text": [
            "5\n",
            "11\n",
            "5\n",
            "7\n",
            "11\n"
          ]
        }
      ]
    }
  ]
}