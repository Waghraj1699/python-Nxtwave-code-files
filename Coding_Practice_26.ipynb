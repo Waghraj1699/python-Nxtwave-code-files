{
  "nbformat": 4,
  "nbformat_minor": 0,
  "metadata": {
    "colab": {
      "provenance": []
    },
    "kernelspec": {
      "name": "python3",
      "display_name": "Python 3"
    },
    "language_info": {
      "name": "python"
    }
  },
  "cells": [
    {
      "cell_type": "markdown",
      "source": [
        "# Extend List"
      ],
      "metadata": {
        "id": "BYpLIAo1mLie"
      }
    },
    {
      "cell_type": "code",
      "source": [
        "L = [\"5\", \"7\", \"Rohit\", \"Virat\", \"Dhoni\"]\n",
        "\n",
        "str_1 = input().split()\n",
        "L.extend(str_1)\n",
        "print(L)\n"
      ],
      "metadata": {
        "id": "Ytl0TCrzmOAL",
        "colab": {
          "base_uri": "https://localhost:8080/"
        },
        "outputId": "d5655341-eed4-4326-f2a0-b23f8238d9f8"
      },
      "execution_count": 1,
      "outputs": [
        {
          "output_type": "stream",
          "name": "stdout",
          "text": [
            "Surya Rahul Ishan Gill\n",
            "['5', '7', 'Rohit', 'Virat', 'Dhoni', 'Surya', 'Rahul', 'Ishan', 'Gill']\n"
          ]
        }
      ]
    },
    {
      "cell_type": "markdown",
      "source": [
        "# Count the Occurances"
      ],
      "metadata": {
        "id": "HG8ddX-emBo4"
      }
    },
    {
      "cell_type": "code",
      "source": [
        "nums_list = [5, 10, 20, 35, 5, 50, 20, 100, 200, 10, 150, 100, 100, 20, 20]\n",
        "n = int(input())\n",
        "result = nums_list.count(n)\n",
        "print(result)\n"
      ],
      "metadata": {
        "colab": {
          "base_uri": "https://localhost:8080/"
        },
        "id": "dA9OyEJlmKn_",
        "outputId": "8698ad5d-0f98-40c6-95ac-5ad9cac833ee"
      },
      "execution_count": null,
      "outputs": [
        {
          "output_type": "stream",
          "name": "stdout",
          "text": [
            "5\n",
            "2\n"
          ]
        }
      ]
    },
    {
      "cell_type": "markdown",
      "source": [
        "# Nth Term in Fibonacci series"
      ],
      "metadata": {
        "id": "RmL3wrR_l4Tb"
      }
    },
    {
      "cell_type": "code",
      "execution_count": null,
      "metadata": {
        "colab": {
          "base_uri": "https://localhost:8080/"
        },
        "id": "HomvKgsHlOPj",
        "outputId": "3440f8a4-f675-40d4-d7ed-20319afd16c6"
      },
      "outputs": [
        {
          "output_type": "stream",
          "name": "stdout",
          "text": [
            "5\n",
            "5\n"
          ]
        }
      ],
      "source": [
        "def fibonacci(n):\n",
        "    if n <= 1:\n",
        "        return n\n",
        "    return fibonacci(n - 1) + fibonacci(n - 2)\n",
        "\n",
        "n = int(input())\n",
        "result = fibonacci(n)\n",
        "print(result)\n"
      ]
    },
    {
      "cell_type": "markdown",
      "source": [
        "# Remove all the Occurances"
      ],
      "metadata": {
        "id": "eMfdU25VoYdk"
      }
    },
    {
      "cell_type": "code",
      "source": [
        "nums_list = [5, 10, 20, 35, 5, 50, 20, 100, 200, 10, 150, 100, 100]\n",
        "\n",
        "n = int(input())\n",
        "count = nums_list.count(n)\n",
        "for i in range(count):\n",
        "    nums_list.remove(n)\n",
        "print(nums_list)\n"
      ],
      "metadata": {
        "id": "eMRD67CUobJR",
        "outputId": "81be4571-ca64-4ad4-82f1-41dde10b8adb",
        "colab": {
          "base_uri": "https://localhost:8080/"
        }
      },
      "execution_count": null,
      "outputs": [
        {
          "output_type": "stream",
          "name": "stdout",
          "text": [
            "5\n",
            "[10, 20, 35, 50, 20, 100, 200, 10, 150, 100, 100]\n"
          ]
        }
      ]
    },
    {
      "cell_type": "markdown",
      "source": [
        "# Mode of a Number"
      ],
      "metadata": {
        "id": "f932tTz0xMH6"
      }
    },
    {
      "cell_type": "code",
      "source": [
        "list_of_numbers = input().split(\",\")\n",
        "mode = None\n",
        "no_of_occurrences = 0\n",
        "\n",
        "for i in list_of_numbers:\n",
        "    count = list_of_numbers.count(i)\n",
        "    if count > no_of_occurrences:\n",
        "        mode = int(i)\n",
        "        no_of_occurrences = count\n",
        "\n",
        "print(mode)\n",
        "\n",
        ""
      ],
      "metadata": {
        "colab": {
          "base_uri": "https://localhost:8080/"
        },
        "id": "xAvHAlLwxWgt",
        "outputId": "9cd80356-6e0c-4e0e-add0-291ca852fa5e"
      },
      "execution_count": 5,
      "outputs": [
        {
          "output_type": "stream",
          "name": "stdout",
          "text": [
            "6,3,9,3,6,6,5,9,3\n",
            "6\n"
          ]
        }
      ]
    },
    {
      "cell_type": "markdown",
      "source": [
        "# List Method"
      ],
      "metadata": {
        "id": "1yS3uaXixgAx"
      }
    },
    {
      "cell_type": "code",
      "source": [
        "n = int(input())\n",
        "nums_list = []\n",
        "\n",
        "for i in range(n):\n",
        "    command = input().split()\n",
        "    if command[0] == \"insert\":\n",
        "        index = int(command[1])\n",
        "        value = int(command[2])\n",
        "        nums_list.insert(index,value)\n",
        "    elif command[0] == \"append\":\n",
        "        value = int(command[1])\n",
        "        nums_list.append(value)\n",
        "    elif command[0] == \"pop\":\n",
        "        nums_list.pop()\n",
        "    elif command[0] == \"remove\":\n",
        "        value = int(command[1])\n",
        "        nums_list.remove(value)\n",
        "    elif command[0] == \"sort\":\n",
        "        nums_list.sort()\n",
        "    elif command[0] == \"print\":\n",
        "        print(nums_list)"
      ],
      "metadata": {
        "colab": {
          "base_uri": "https://localhost:8080/"
        },
        "id": "KwlSh6NMxjMw",
        "outputId": "0f7c71fd-c965-4230-8b0d-4db068004e7b"
      },
      "execution_count": 4,
      "outputs": [
        {
          "output_type": "stream",
          "name": "stdout",
          "text": [
            "5\n",
            "append 5\n",
            "insert 0 2\n",
            "append 1\n",
            "sort\n",
            "print\n",
            "[1, 2, 5]\n"
          ]
        }
      ]
    },
    {
      "cell_type": "markdown",
      "source": [
        "# N term in Fibonacci series"
      ],
      "metadata": {
        "id": "Ee75mHbaYaLo"
      }
    },
    {
      "cell_type": "code",
      "source": [
        "def fibonacci(n):\n",
        "    if n <=1:\n",
        "        return n\n",
        "    return fibonacci(n - 2) + fibonacci(n - 1)\n",
        "\n",
        "def get_fibonacci_series(n):\n",
        "    series = []\n",
        "    for i in range(n):\n",
        "        term = fibonacci(i)\n",
        "        series.append(term)\n",
        "    return series\n",
        "\n",
        "n = int(input())\n",
        "result = get_fibonacci_series(n)\n",
        "print(result)\n",
        "\n"
      ],
      "metadata": {
        "colab": {
          "base_uri": "https://localhost:8080/"
        },
        "id": "26ixtodEYg12",
        "outputId": "393df3ad-1274-4683-9c1b-710fc375cd19"
      },
      "execution_count": 6,
      "outputs": [
        {
          "output_type": "stream",
          "name": "stdout",
          "text": [
            "5\n",
            "[0, 1, 1, 2, 3]\n"
          ]
        }
      ]
    }
  ]
}