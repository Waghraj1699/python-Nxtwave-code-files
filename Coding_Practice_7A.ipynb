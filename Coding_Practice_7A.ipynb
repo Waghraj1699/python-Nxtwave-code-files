{
  "nbformat": 4,
  "nbformat_minor": 0,
  "metadata": {
    "colab": {
      "provenance": []
    },
    "kernelspec": {
      "name": "python3",
      "display_name": "Python 3"
    },
    "language_info": {
      "name": "python"
    }
  },
  "cells": [
    {
      "cell_type": "code",
      "execution_count": 13,
      "metadata": {
        "colab": {
          "base_uri": "https://localhost:8080/"
        },
        "id": "mtC2sw0DT714",
        "outputId": "502cdee4-7fc4-4e90-cf97-7335a65c2d99"
      },
      "outputs": [
        {
          "output_type": "stream",
          "name": "stdout",
          "text": [
            "5\n",
            "0\n",
            "0\n",
            "0\n",
            "0\n",
            "0\n"
          ]
        }
      ],
      "source": [
        "# print N times\n",
        "\n",
        "n  = int(input())\n",
        "\n",
        "counter = 0\n",
        "\n",
        "while counter < n:\n",
        "    print(\"0\")\n",
        "    counter = counter + 1"
      ]
    },
    {
      "cell_type": "code",
      "source": [
        "# print N integers\n",
        "\n",
        "n = int(input())\n",
        "\n",
        "count = 1\n",
        "\n",
        "while count <= n:\n",
        "    print(count)\n",
        "    count = count + 1"
      ],
      "metadata": {
        "colab": {
          "base_uri": "https://localhost:8080/"
        },
        "id": "b2FVf2fyUMCO",
        "outputId": "6207e2c4-1ec3-46cb-af14-98e224696fc4"
      },
      "execution_count": 14,
      "outputs": [
        {
          "output_type": "stream",
          "name": "stdout",
          "text": [
            "5\n",
            "1\n",
            "2\n",
            "3\n",
            "4\n",
            "5\n"
          ]
        }
      ]
    },
    {
      "cell_type": "code",
      "source": [
        "# First N natural Numbers\n",
        "\n",
        "n = int(input())\n",
        "\n",
        "count = 1\n",
        "while count <= n:\n",
        "    print(count)\n",
        "    count = count + 1"
      ],
      "metadata": {
        "colab": {
          "base_uri": "https://localhost:8080/"
        },
        "id": "zJWJB3g6UOY3",
        "outputId": "13fa08ca-31ea-4ba9-beed-ca88a324aeab"
      },
      "execution_count": 15,
      "outputs": [
        {
          "output_type": "stream",
          "name": "stdout",
          "text": [
            "5\n",
            "1\n",
            "2\n",
            "3\n",
            "4\n",
            "5\n"
          ]
        }
      ]
    },
    {
      "cell_type": "code",
      "source": [
        "# print integers - 2\n",
        "\n",
        "m = int(input())\n",
        "n = int(input())\n",
        "\n",
        "while m <= n:\n",
        "    print(m)\n",
        "    m = m + 1"
      ],
      "metadata": {
        "colab": {
          "base_uri": "https://localhost:8080/"
        },
        "id": "innaVgByUSRY",
        "outputId": "821d4bdd-b559-4d1b-c2fb-aba0549fe2c3"
      },
      "execution_count": 16,
      "outputs": [
        {
          "output_type": "stream",
          "name": "stdout",
          "text": [
            "4\n",
            "5\n",
            "4\n",
            "5\n"
          ]
        }
      ]
    },
    {
      "cell_type": "code",
      "source": [
        "# avg of N numbers\n",
        "\n",
        "n = int(input())\n",
        "\n",
        "sum = 0\n",
        "count = 1\n",
        "\n",
        "while count <= n:\n",
        "    sum = sum + count\n",
        "    count = count + 1\n",
        "\n",
        "avg = sum / (count - 1)\n",
        "print(avg)"
      ],
      "metadata": {
        "colab": {
          "base_uri": "https://localhost:8080/"
        },
        "id": "p31_lVzaUWBV",
        "outputId": "faddbe5d-038c-4baa-ce25-2ce69fa44952"
      },
      "execution_count": 12,
      "outputs": [
        {
          "output_type": "stream",
          "name": "stdout",
          "text": [
            "10\n",
            "5.5\n"
          ]
        }
      ]
    },
    {
      "cell_type": "code",
      "source": [
        "# cubes of N numbers\n",
        "\n",
        "n = int(input())\n",
        "\n",
        "count = 1\n",
        "while count <= n:\n",
        "    print(count ** 3)\n",
        "    count = count + 1"
      ],
      "metadata": {
        "colab": {
          "base_uri": "https://localhost:8080/"
        },
        "id": "PKzfBoXHUZ6x",
        "outputId": "38f3c52f-c14c-4acb-cc4a-952b659660e3"
      },
      "execution_count": 11,
      "outputs": [
        {
          "output_type": "stream",
          "name": "stdout",
          "text": [
            "5\n",
            "1\n",
            "8\n",
            "27\n",
            "64\n",
            "125\n"
          ]
        }
      ]
    },
    {
      "cell_type": "code",
      "source": [
        "# solid Rectangle\n",
        "\n",
        "m = int(input())\n",
        "n = int(input())\n",
        "\n",
        "count = 1\n",
        "while count <= m:\n",
        "    print(\"* \" * n)\n",
        "    count = count + 1"
      ],
      "metadata": {
        "colab": {
          "base_uri": "https://localhost:8080/"
        },
        "id": "pPEFX3LLUdJT",
        "outputId": "1fb5fb88-a7f1-4a3c-e8af-94e1a9063570"
      },
      "execution_count": 10,
      "outputs": [
        {
          "output_type": "stream",
          "name": "stdout",
          "text": [
            "5\n",
            "4\n",
            "* * * * \n",
            "* * * * \n",
            "* * * * \n",
            "* * * * \n",
            "* * * * \n"
          ]
        }
      ]
    },
    {
      "cell_type": "code",
      "source": [
        "# 10 numbers after N\n",
        "\n",
        "n = int(input())\n",
        "count = 1\n",
        "while count <= 10 :\n",
        "    n = n + 1\n",
        "    print(n)\n",
        "    count = count + 1\n"
      ],
      "metadata": {
        "colab": {
          "base_uri": "https://localhost:8080/"
        },
        "id": "5ktP9l5YUgtV",
        "outputId": "60b23beb-5aa2-4460-8866-3694b44d7b25"
      },
      "execution_count": 9,
      "outputs": [
        {
          "output_type": "stream",
          "name": "stdout",
          "text": [
            "5\n",
            "6\n",
            "7\n",
            "8\n",
            "9\n",
            "10\n",
            "11\n",
            "12\n",
            "13\n",
            "14\n",
            "15\n"
          ]
        }
      ]
    },
    {
      "cell_type": "code",
      "source": [
        "# N numbers after M\n",
        "\n",
        "m = int(input())\n",
        "n = int(input())\n",
        "\n",
        "count = 1\n",
        "while count <= n:\n",
        "    m = m + 1\n",
        "    print(m)\n",
        "    count = count + 1"
      ],
      "metadata": {
        "colab": {
          "base_uri": "https://localhost:8080/"
        },
        "id": "yrf0b0okUkEC",
        "outputId": "1a1bab29-07c3-4afe-c37b-346d6225ef9b"
      },
      "execution_count": 8,
      "outputs": [
        {
          "output_type": "stream",
          "name": "stdout",
          "text": [
            "5\n",
            "10\n",
            "6\n",
            "7\n",
            "8\n",
            "9\n",
            "10\n",
            "11\n",
            "12\n",
            "13\n",
            "14\n",
            "15\n"
          ]
        }
      ]
    },
    {
      "cell_type": "code",
      "source": [
        "# sum of N numbers from M\n",
        "\n",
        "m = int(input())\n",
        "n = int(input())\n",
        "\n",
        "count = 0\n",
        "sum = 0\n",
        "while count < n:\n",
        "    sum = sum + m\n",
        "    m = m + 1\n",
        "    count = count + 1\n",
        "\n",
        "print(sum)"
      ],
      "metadata": {
        "colab": {
          "base_uri": "https://localhost:8080/"
        },
        "id": "2PCG6a5iUnd0",
        "outputId": "029b7d3b-d047-45a5-a2a2-38a1a534a665"
      },
      "execution_count": 7,
      "outputs": [
        {
          "output_type": "stream",
          "name": "stdout",
          "text": [
            "4\n",
            "8\n",
            "60\n"
          ]
        }
      ]
    },
    {
      "cell_type": "code",
      "source": [
        "# solid right angled triangle\n",
        "\n",
        "n = int(input())\n",
        "\n",
        "count = 1\n",
        "\n",
        "while count <= n:\n",
        "    print(\"* \" * count)\n",
        "    count = count + 1"
      ],
      "metadata": {
        "colab": {
          "base_uri": "https://localhost:8080/"
        },
        "id": "EUU7pEeVUtDh",
        "outputId": "a60f7f59-60b5-43f8-bfae-2032429e87c3"
      },
      "execution_count": 6,
      "outputs": [
        {
          "output_type": "stream",
          "name": "stdout",
          "text": [
            "5\n",
            "* \n",
            "* * \n",
            "* * * \n",
            "* * * * \n",
            "* * * * * \n"
          ]
        }
      ]
    },
    {
      "cell_type": "code",
      "source": [
        "# Sum of Natural numbers\n",
        "\n",
        "n = int(input())\n",
        "\n",
        "count = 0\n",
        "sum = 0\n",
        "\n",
        "while count <= n:\n",
        "    sum = sum + count\n",
        "    count = count + 1\n",
        "\n",
        "print(sum)"
      ],
      "metadata": {
        "colab": {
          "base_uri": "https://localhost:8080/"
        },
        "id": "O3u62d-hUx03",
        "outputId": "170607bc-8ab7-44ca-9849-55fb6db0be9f"
      },
      "execution_count": 5,
      "outputs": [
        {
          "output_type": "stream",
          "name": "stdout",
          "text": [
            "5\n",
            "15\n"
          ]
        }
      ]
    },
    {
      "cell_type": "code",
      "source": [
        "# Read N inputs\n",
        "\n",
        "n = int(input())\n",
        "count = 0\n",
        "\n",
        "while count < n:\n",
        "    m = int(input())\n",
        "    print(m)\n",
        "    count = count + 1\n",
        "\n",
        "\n"
      ],
      "metadata": {
        "colab": {
          "base_uri": "https://localhost:8080/"
        },
        "id": "xIDF_rjUU1xs",
        "outputId": "f4d2348d-f853-4842-ce1e-b614ad508d06"
      },
      "execution_count": 4,
      "outputs": [
        {
          "output_type": "stream",
          "name": "stdout",
          "text": [
            "2\n",
            "1\n",
            "1\n",
            "2\n",
            "2\n"
          ]
        }
      ]
    },
    {
      "cell_type": "code",
      "source": [
        "# product of N inputs\n",
        "\n",
        "n = int(input())\n",
        "count = 1\n",
        "product = 1\n",
        "\n",
        "while count <= n:\n",
        "    m = int(input())\n",
        "    product = product * m\n",
        "    count = count + 1\n",
        "\n",
        "print(product)"
      ],
      "metadata": {
        "colab": {
          "base_uri": "https://localhost:8080/"
        },
        "id": "qcTfXBuxU8tX",
        "outputId": "4c8a5326-95d4-4086-d90c-af3cba2f58b8"
      },
      "execution_count": 1,
      "outputs": [
        {
          "output_type": "stream",
          "name": "stdout",
          "text": [
            "5\n",
            "4\n",
            "5\n",
            "6\n",
            "2\n",
            "1\n",
            "240\n"
          ]
        }
      ]
    },
    {
      "cell_type": "code",
      "source": [
        "# sum of the given numbers\n",
        "\n",
        "n = int(input())\n",
        "\n",
        "count = 1\n",
        "sum = 0\n",
        "\n",
        "while count <= n:\n",
        "    m = int(input())\n",
        "    sum = sum + m\n",
        "    count = count + 1\n",
        "\n",
        "print(sum)"
      ],
      "metadata": {
        "id": "25TJXTxIVAU0"
      },
      "execution_count": null,
      "outputs": []
    },
    {
      "cell_type": "code",
      "source": [
        "# print character\n",
        "\n",
        "a = input()\n",
        "counter = 0\n",
        "length_of_a = len(a)\n",
        "while counter < (length_of_a):\n",
        "    print(a[counter])\n",
        "    counter = (counter + 1)\n",
        "\n"
      ],
      "metadata": {
        "id": "pFreYAv-VN7V"
      },
      "execution_count": null,
      "outputs": []
    }
  ]
}