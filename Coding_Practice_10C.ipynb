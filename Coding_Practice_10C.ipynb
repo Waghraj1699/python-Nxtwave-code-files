{
  "nbformat": 4,
  "nbformat_minor": 0,
  "metadata": {
    "colab": {
      "provenance": []
    },
    "kernelspec": {
      "name": "python3",
      "display_name": "Python 3"
    },
    "language_info": {
      "name": "python"
    }
  },
  "cells": [
    {
      "cell_type": "code",
      "execution_count": 1,
      "metadata": {
        "colab": {
          "base_uri": "https://localhost:8080/"
        },
        "id": "MF2OitYzrS7g",
        "outputId": "c6277865-dbf7-4f6f-e138-8f1ccb4d9f99"
      },
      "outputs": [
        {
          "output_type": "stream",
          "name": "stdout",
          "text": [
            "2\n",
            "6\n",
            "2730\n"
          ]
        }
      ],
      "source": [
        "# Sum of N terms in Power series\n",
        "\n",
        "x = int(input())\n",
        "n = int(input())\n",
        "sum = 0\n",
        "power = 1\n",
        "\n",
        "for i in range(1, n + 1):\n",
        "    term = x ** power\n",
        "    power = power + 2\n",
        "    sum = sum + term\n",
        "\n",
        "print(sum)"
      ]
    },
    {
      "cell_type": "code",
      "source": [
        "# Sum of N term in power Series - 2\n",
        "\n",
        "x = int(input())\n",
        "n = int(input())\n",
        "\n",
        "sum = 0\n",
        "power = 2\n",
        "\n",
        "for i in range(1 , n + 1):\n",
        "    term = x ** power\n",
        "    power = power + 2\n",
        "    sum = sum + term\n",
        "\n",
        "print(sum)"
      ],
      "metadata": {
        "colab": {
          "base_uri": "https://localhost:8080/"
        },
        "id": "5iYpWJIIrqo1",
        "outputId": "0dd8e2ea-1231-45d6-dea9-dac48d75bfd6"
      },
      "execution_count": 2,
      "outputs": [
        {
          "output_type": "stream",
          "name": "stdout",
          "text": [
            "3\n",
            "4\n",
            "7380\n"
          ]
        }
      ]
    },
    {
      "cell_type": "code",
      "source": [
        "# Sum of N terms in Power series - 3\n",
        "\n",
        "x = int(input())\n",
        "n = int(input())\n",
        "\n",
        "sum = 0\n",
        "\n",
        "for i in range(1 , n + 1):\n",
        "    term = x ** (2*i)\n",
        "    if i % 2 == 0:\n",
        "        term = -term\n",
        "    sum = sum + term\n",
        "\n",
        "print(sum)"
      ],
      "metadata": {
        "colab": {
          "base_uri": "https://localhost:8080/"
        },
        "id": "HgmT_WJvr3sn",
        "outputId": "f2044196-10d3-40e8-848f-cf0e1acd8c13"
      },
      "execution_count": 3,
      "outputs": [
        {
          "output_type": "stream",
          "name": "stdout",
          "text": [
            "2\n",
            "6\n",
            "-3276\n"
          ]
        }
      ]
    },
    {
      "cell_type": "code",
      "source": [
        "# Right angled Triangle - 5\n",
        "\n",
        "n = int(input())\n",
        "\n",
        "for i in range(1 , n + 1):\n",
        "    spaces = \" \" * (n - i)\n",
        "    stars = \"*\" * i\n",
        "    row = spaces + stars\n",
        "    print(row)"
      ],
      "metadata": {
        "colab": {
          "base_uri": "https://localhost:8080/"
        },
        "id": "ziKp7cb95VTw",
        "outputId": "ae0bce17-3eba-4ce5-92d5-e0b460633bd1"
      },
      "execution_count": 4,
      "outputs": [
        {
          "output_type": "stream",
          "name": "stdout",
          "text": [
            "5\n",
            "    *\n",
            "   **\n",
            "  ***\n",
            " ****\n",
            "*****\n"
          ]
        }
      ]
    },
    {
      "cell_type": "code",
      "source": [
        "# Right angled Triangle - 6\n",
        "\n",
        "n = int(input())\n",
        "\n",
        "for i in range(1 , n + 1):\n",
        "    spaces = \" \" * (n - i)\n",
        "    stars = \"*\" * i\n",
        "    row = spaces + stars\n",
        "    print(row)"
      ],
      "metadata": {
        "colab": {
          "base_uri": "https://localhost:8080/"
        },
        "id": "jvfKk_1i5iko",
        "outputId": "d7d8b0a2-62d9-4f6c-ff71-8fd92187ad96"
      },
      "execution_count": 5,
      "outputs": [
        {
          "output_type": "stream",
          "name": "stdout",
          "text": [
            "5\n",
            "    *\n",
            "   **\n",
            "  ***\n",
            " ****\n",
            "*****\n"
          ]
        }
      ]
    },
    {
      "cell_type": "code",
      "source": [
        "# Right angled Triangle - 7\n",
        "\n",
        "n = int(input())\n",
        "\n",
        "for i in range(1 , n + 1):\n",
        "    spaces = \" \" * 2 * (n - i)\n",
        "    stars = \"* \" * i\n",
        "    row = spaces + stars\n",
        "    print(row)"
      ],
      "metadata": {
        "colab": {
          "base_uri": "https://localhost:8080/"
        },
        "id": "wurZukZ25kNL",
        "outputId": "cca6f6ae-b121-48ae-bcc1-94d6877303dc"
      },
      "execution_count": 6,
      "outputs": [
        {
          "output_type": "stream",
          "name": "stdout",
          "text": [
            "5\n",
            "        * \n",
            "      * * \n",
            "    * * * \n",
            "  * * * * \n",
            "* * * * * \n"
          ]
        }
      ]
    },
    {
      "cell_type": "code",
      "source": [
        "# Pyramid\n",
        "\n",
        "n = int(input())\n",
        "\n",
        "for i in range(1 , n + 1):\n",
        "    spaces = \" \" * (2 * (n - i))\n",
        "    stars = \"* \" * ((2 * i) - 1 )\n",
        "    row = spaces + stars\n",
        "    print(row)"
      ],
      "metadata": {
        "colab": {
          "base_uri": "https://localhost:8080/"
        },
        "id": "K_nvR9Bw59-Q",
        "outputId": "994642c4-0edb-4be5-b4a0-9d99eae885be"
      },
      "execution_count": 11,
      "outputs": [
        {
          "output_type": "stream",
          "name": "stdout",
          "text": [
            "5\n",
            "        * \n",
            "      * * * \n",
            "    * * * * * \n",
            "  * * * * * * * \n",
            "* * * * * * * * * \n"
          ]
        }
      ]
    },
    {
      "cell_type": "code",
      "source": [
        "# Pyramid - 2\n",
        "\n",
        "n = int(input())\n",
        "\n",
        "for i in range(1 , n + 1):\n",
        "    j = i\n",
        "    space = \" \" * (2 * (n - i))\n",
        "    number = (str(j) + \" \") * ((2*i) - 1)\n",
        "    row = space + number\n",
        "    print(row)"
      ],
      "metadata": {
        "colab": {
          "base_uri": "https://localhost:8080/"
        },
        "id": "7oCV6Qbj6E6B",
        "outputId": "11e8d6de-0856-42aa-9034-3634a468975e"
      },
      "execution_count": 10,
      "outputs": [
        {
          "output_type": "stream",
          "name": "stdout",
          "text": [
            "5\n",
            "        1 \n",
            "      2 2 2 \n",
            "    3 3 3 3 3 \n",
            "  4 4 4 4 4 4 4 \n",
            "5 5 5 5 5 5 5 5 5 \n"
          ]
        }
      ]
    },
    {
      "cell_type": "code",
      "source": [
        "# Inverted right angled triangle - 4\n",
        "\n",
        "n = int(input())\n",
        "\n",
        "for i in range(1 , n + 1):\n",
        "    spaces = \" \" * (i - 1)\n",
        "    numbers = (str(n + 1 - i)) * (n + 1 - i)\n",
        "    row = spaces + numbers\n",
        "    print(row)"
      ],
      "metadata": {
        "colab": {
          "base_uri": "https://localhost:8080/"
        },
        "id": "pzDMTqin6HDr",
        "outputId": "4a82fab6-5445-44a7-a879-3272961b7bcc"
      },
      "execution_count": 9,
      "outputs": [
        {
          "output_type": "stream",
          "name": "stdout",
          "text": [
            "5\n",
            "55555\n",
            " 4444\n",
            "  333\n",
            "   22\n",
            "    1\n"
          ]
        }
      ]
    },
    {
      "cell_type": "code",
      "source": [
        "# Inverted right angled triangle - 5\n",
        "\n",
        "n = int(input())\n",
        "\n",
        "for i in range(1 , n + 1):\n",
        "    spaces = \" \" * (2 * (i - 1))\n",
        "    number = (str(n + 1 - i) + \" \") * (n + 1 - i)\n",
        "    row = spaces + number\n",
        "    print(row)"
      ],
      "metadata": {
        "colab": {
          "base_uri": "https://localhost:8080/"
        },
        "id": "180x30Xj6M0o",
        "outputId": "cd0bbb2b-652a-4352-ae69-f80401ac69e4"
      },
      "execution_count": 8,
      "outputs": [
        {
          "output_type": "stream",
          "name": "stdout",
          "text": [
            "5\n",
            "5 5 5 5 5 \n",
            "  4 4 4 4 \n",
            "    3 3 3 \n",
            "      2 2 \n",
            "        1 \n"
          ]
        }
      ]
    },
    {
      "cell_type": "code",
      "source": [
        "# Inverted Pyramid\n",
        "\n",
        "n = int(input())\n",
        "\n",
        "for i in range(1 , n + 1):\n",
        "    spaces = \" \" * (i - 1)\n",
        "    stars = \"*\" * (2 * (n + 1 - i) - 1)\n",
        "    row = spaces + stars + spaces\n",
        "    print(row)"
      ],
      "metadata": {
        "colab": {
          "base_uri": "https://localhost:8080/"
        },
        "id": "HjEmBykp6OK2",
        "outputId": "b7b56239-fef7-4c1e-a805-07aaaee16b36"
      },
      "execution_count": 7,
      "outputs": [
        {
          "output_type": "stream",
          "name": "stdout",
          "text": [
            "5\n",
            "*********\n",
            " ******* \n",
            "  *****  \n",
            "   ***   \n",
            "    *    \n"
          ]
        }
      ]
    }
  ]
}