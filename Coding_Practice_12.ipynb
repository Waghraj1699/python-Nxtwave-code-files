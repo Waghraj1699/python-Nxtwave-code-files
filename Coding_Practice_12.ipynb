{
  "nbformat": 4,
  "nbformat_minor": 0,
  "metadata": {
    "colab": {
      "provenance": []
    },
    "kernelspec": {
      "name": "python3",
      "display_name": "Python 3"
    },
    "language_info": {
      "name": "python"
    }
  },
  "cells": [
    {
      "cell_type": "markdown",
      "source": [
        "# Print Characters"
      ],
      "metadata": {
        "id": "zMbCcuCYik5p"
      }
    },
    {
      "cell_type": "code",
      "execution_count": 15,
      "metadata": {
        "colab": {
          "base_uri": "https://localhost:8080/"
        },
        "id": "whFQadlDig0R",
        "outputId": "d6d16c50-7c5e-4af3-8659-cbbc50682222"
      },
      "outputs": [
        {
          "output_type": "stream",
          "name": "stdout",
          "text": [
            "tarc\n",
            "3\n",
            "c\n",
            "1\n",
            "a\n",
            "2\n",
            "r\n",
            "0\n",
            "t\n"
          ]
        }
      ],
      "source": [
        "s = input()\n",
        "len_of_s = len(s)\n",
        "\n",
        "for i in range(len_of_s):\n",
        "    index = int(input())\n",
        "    print(s[index])"
      ]
    },
    {
      "cell_type": "markdown",
      "source": [
        "# Word Triangle"
      ],
      "metadata": {
        "id": "dRzHTqk6ipsN"
      }
    },
    {
      "cell_type": "code",
      "source": [
        "s = input()\n",
        "n = len(s)\n",
        "\n",
        "for i in range(1, n + 1):\n",
        "    print(s[:i])"
      ],
      "metadata": {
        "colab": {
          "base_uri": "https://localhost:8080/"
        },
        "id": "KqHqPiRpisBx",
        "outputId": "e962efa4-5001-4a4d-f3c7-7b902b9bcfe4"
      },
      "execution_count": 14,
      "outputs": [
        {
          "output_type": "stream",
          "name": "stdout",
          "text": [
            "Waghraj\n",
            "W\n",
            "Wa\n",
            "Wag\n",
            "Wagh\n",
            "Waghr\n",
            "Waghra\n",
            "Waghraj\n"
          ]
        }
      ]
    },
    {
      "cell_type": "markdown",
      "source": [
        "# Square - 4"
      ],
      "metadata": {
        "id": "pXK-sNChisod"
      }
    },
    {
      "cell_type": "code",
      "source": [
        "n = int(input())\n",
        "\n",
        "for i in range( n ):\n",
        "    print((str(i) + \" \")* n)"
      ],
      "metadata": {
        "colab": {
          "base_uri": "https://localhost:8080/"
        },
        "id": "ooJgoeuNiw8_",
        "outputId": "d87a9a30-232e-40ed-d722-cb30c4803b58"
      },
      "execution_count": 13,
      "outputs": [
        {
          "output_type": "stream",
          "name": "stdout",
          "text": [
            "5\n",
            "0 0 0 0 0 \n",
            "1 1 1 1 1 \n",
            "2 2 2 2 2 \n",
            "3 3 3 3 3 \n",
            "4 4 4 4 4 \n"
          ]
        }
      ]
    },
    {
      "cell_type": "markdown",
      "source": [
        "# Shuffle String"
      ],
      "metadata": {
        "id": "gi5OML6Jixst"
      }
    },
    {
      "cell_type": "code",
      "source": [
        "s = input()\n",
        "len_of_s = len(s)\n",
        "shuffle_s = \"\"\n",
        "\n",
        "for i in range(len_of_s):\n",
        "    index = int(input())\n",
        "    shuffle_s = shuffle_s + s[index]\n",
        "\n",
        "print(shuffle_s)"
      ],
      "metadata": {
        "colab": {
          "base_uri": "https://localhost:8080/"
        },
        "id": "BjjN5fuzi0An",
        "outputId": "941c98f2-9aff-447a-e8f9-5741df06f6aa"
      },
      "execution_count": 12,
      "outputs": [
        {
          "output_type": "stream",
          "name": "stdout",
          "text": [
            "goindc\n",
            "5\n",
            "1\n",
            "4\n",
            "2\n",
            "3\n",
            "0\n",
            "coding\n"
          ]
        }
      ]
    },
    {
      "cell_type": "markdown",
      "source": [
        "# Square - 5"
      ],
      "metadata": {
        "id": "5rvoP4zEi00H"
      }
    },
    {
      "cell_type": "code",
      "source": [
        "s = int(input())\n",
        "n = int(input())\n",
        "row = \"\"\n",
        "\n",
        "for i in range(s , s + n):\n",
        "    row = row + str(i) + \" \"\n",
        "\n",
        "for i in range(1, n + 1):\n",
        "    print(row)\n",
        ""
      ],
      "metadata": {
        "colab": {
          "base_uri": "https://localhost:8080/"
        },
        "id": "hvtKSqoEi4Ee",
        "outputId": "3e3ff952-d991-4899-88f3-904dc2a048e9"
      },
      "execution_count": 11,
      "outputs": [
        {
          "output_type": "stream",
          "name": "stdout",
          "text": [
            "5\n",
            "3\n",
            "5 6 7 \n",
            "5 6 7 \n",
            "5 6 7 \n"
          ]
        }
      ]
    },
    {
      "cell_type": "markdown",
      "source": [
        "# Count of zeroes"
      ],
      "metadata": {
        "id": "UVvrVvf4i4un"
      }
    },
    {
      "cell_type": "code",
      "source": [
        "n = int(input())\n",
        "count = 0\n",
        "\n",
        "for i in str(n):\n",
        "    if i == \"0\":\n",
        "        count = count + 1\n",
        "\n",
        "if count > 3:\n",
        "    print(\"Count of zeroes is greater than three\")\n",
        "else:\n",
        "    print(\"Count of zeroes is not greater than three\")\n",
        ""
      ],
      "metadata": {
        "colab": {
          "base_uri": "https://localhost:8080/"
        },
        "id": "OG-tXPcWi60J",
        "outputId": "a8c01a99-7fa8-4331-9cf7-a1d44f4c6cd9"
      },
      "execution_count": 10,
      "outputs": [
        {
          "output_type": "stream",
          "name": "stdout",
          "text": [
            "1030800\n",
            "Count of zeroes is greater than three\n"
          ]
        }
      ]
    },
    {
      "cell_type": "markdown",
      "source": [
        "# Number of Even Digits"
      ],
      "metadata": {
        "id": "DM0LDcrfi7jO"
      }
    },
    {
      "cell_type": "code",
      "source": [
        "n = int(input())\n",
        "count = 0\n",
        "\n",
        "for i in str(n):\n",
        "    if int(i) % 2 == 0:\n",
        "        count = count + 1\n",
        "\n",
        "if count > 2:\n",
        "    print(\"Count of even digits is greater than two\")\n",
        "else:\n",
        "    print(\"Count of even digits is not greater than two\")"
      ],
      "metadata": {
        "colab": {
          "base_uri": "https://localhost:8080/"
        },
        "id": "c2eTu5Uci_rR",
        "outputId": "80585758-4cb3-4ba1-bd69-64dc47b40154"
      },
      "execution_count": 9,
      "outputs": [
        {
          "output_type": "stream",
          "name": "stdout",
          "text": [
            "2563408\n",
            "Count of even digits is greater than two\n"
          ]
        }
      ]
    },
    {
      "cell_type": "markdown",
      "source": [
        "# Prime Number"
      ],
      "metadata": {
        "id": "B3qCEvcFjAXW"
      }
    },
    {
      "cell_type": "code",
      "source": [
        "n = int(input())\n",
        "factors = 0\n",
        "\n",
        "for i in range(2 , n):\n",
        "    if n % i == 0:\n",
        "        factors = factors + 1\n",
        "\n",
        "if factors == 0:\n",
        "    print(\"Prime Number\")\n",
        "else:\n",
        "    print(\"Not a Prime Number\")"
      ],
      "metadata": {
        "colab": {
          "base_uri": "https://localhost:8080/"
        },
        "id": "7gxQrDfFjCcL",
        "outputId": "161d6d93-215f-4f27-8191-9496419899b9"
      },
      "execution_count": 8,
      "outputs": [
        {
          "output_type": "stream",
          "name": "stdout",
          "text": [
            "5\n",
            "Prime Number\n"
          ]
        }
      ]
    },
    {
      "cell_type": "markdown",
      "source": [
        "# Right Angled Triangle - 10"
      ],
      "metadata": {
        "id": "POGZ_dfsjDLC"
      }
    },
    {
      "cell_type": "code",
      "source": [
        "n = int(input())\n",
        "\n",
        "for i in range(1 , n + 1):\n",
        "    stars = (\"* \") * (i*2 - 1)\n",
        "    print(stars)"
      ],
      "metadata": {
        "colab": {
          "base_uri": "https://localhost:8080/"
        },
        "id": "fpAb8iPMjIAw",
        "outputId": "3fc758bc-f81c-4375-a66d-868f84b11e16"
      },
      "execution_count": 7,
      "outputs": [
        {
          "output_type": "stream",
          "name": "stdout",
          "text": [
            "5\n",
            "* \n",
            "* * * \n",
            "* * * * * \n",
            "* * * * * * * \n",
            "* * * * * * * * * \n"
          ]
        }
      ]
    },
    {
      "cell_type": "markdown",
      "source": [
        "# Inverted Right Angled Triangle - 7"
      ],
      "metadata": {
        "id": "z8IDTfHGjKd-"
      }
    },
    {
      "cell_type": "code",
      "source": [
        "n = int(input())\n",
        "\n",
        "for i in range(1 , n + 1):\n",
        "    stars = (\"* \") * (n + 1 - i)\n",
        "    print(stars)"
      ],
      "metadata": {
        "colab": {
          "base_uri": "https://localhost:8080/"
        },
        "id": "nXb_xfepjQmz",
        "outputId": "6606559a-dabc-4bd8-cec9-bfc22b80ebbc"
      },
      "execution_count": 6,
      "outputs": [
        {
          "output_type": "stream",
          "name": "stdout",
          "text": [
            "5\n",
            "* * * * * \n",
            "* * * * \n",
            "* * * \n",
            "* * \n",
            "* \n"
          ]
        }
      ]
    },
    {
      "cell_type": "markdown",
      "source": [
        "# Hollow Square - 2"
      ],
      "metadata": {
        "id": "H_x0DYEijRhs"
      }
    },
    {
      "cell_type": "code",
      "source": [
        "n = int(input())\n",
        "\n",
        "for i in range(1 , n + 3):\n",
        "    if (i==1) or (i==(n + 2)):\n",
        "        row = (\"+ \") +((\"- \") * n) + (\"+ \")\n",
        "    else:\n",
        "        row = (\"| \") + ((\" \") * (2*n)) + (\"| \")\n",
        "    print(row)"
      ],
      "metadata": {
        "colab": {
          "base_uri": "https://localhost:8080/"
        },
        "id": "2MwOPn77jWAH",
        "outputId": "826afbac-0dfe-4c14-d705-b4ca9fb60a49"
      },
      "execution_count": 5,
      "outputs": [
        {
          "output_type": "stream",
          "name": "stdout",
          "text": [
            "5\n",
            "+ - - - - - + \n",
            "|           | \n",
            "|           | \n",
            "|           | \n",
            "|           | \n",
            "|           | \n",
            "+ - - - - - + \n"
          ]
        }
      ]
    },
    {
      "cell_type": "markdown",
      "source": [
        "# Case Conversion - 3"
      ],
      "metadata": {
        "id": "EX0PMlvGjWnp"
      }
    },
    {
      "cell_type": "code",
      "source": [
        "s = input()\n",
        "\n",
        "r = s[0].lower()\n",
        "\n",
        "for i in s[1:]:\n",
        "    if i == i.upper():\n",
        "        r = r + \"-\" + i.lower()\n",
        "    else:\n",
        "        r = r + i\n",
        "\n",
        "print(r)"
      ],
      "metadata": {
        "colab": {
          "base_uri": "https://localhost:8080/"
        },
        "id": "kUMRWZ9XjZD6",
        "outputId": "06a11259-a09f-41d9-f3b8-f07415e4efd4"
      },
      "execution_count": 4,
      "outputs": [
        {
          "output_type": "stream",
          "name": "stdout",
          "text": [
            "TitleCase\n",
            "title-case\n"
          ]
        }
      ]
    },
    {
      "cell_type": "markdown",
      "source": [
        "# Numbers in Square Pattern - 1"
      ],
      "metadata": {
        "id": "1pL1thbcjZ01"
      }
    },
    {
      "cell_type": "code",
      "source": [
        "n = int(input())\n",
        "\n",
        "for i in range(1 , n + 1):\n",
        "    number = (str(i) + \" \") * n\n",
        "    print(number)"
      ],
      "metadata": {
        "colab": {
          "base_uri": "https://localhost:8080/"
        },
        "id": "wV5snhFZjhQz",
        "outputId": "dd7b9858-4c06-4bb9-f215-6443436ddc9e"
      },
      "execution_count": 3,
      "outputs": [
        {
          "output_type": "stream",
          "name": "stdout",
          "text": [
            "5\n",
            "1 1 1 1 1 \n",
            "2 2 2 2 2 \n",
            "3 3 3 3 3 \n",
            "4 4 4 4 4 \n",
            "5 5 5 5 5 \n"
          ]
        }
      ]
    },
    {
      "cell_type": "markdown",
      "source": [
        "# Numbers in Rectangular Pattern - 1"
      ],
      "metadata": {
        "id": "-LWxiaLzjh_n"
      }
    },
    {
      "cell_type": "code",
      "source": [
        "m = int(input())\n",
        "n = int(input())\n",
        "\n",
        "row = \"\"\n",
        "for i in range(1 , n + 1):\n",
        "    row = row + str(i) + \" \"\n",
        "\n",
        "for i in range(1 , m + 1):\n",
        "    print(row)"
      ],
      "metadata": {
        "colab": {
          "base_uri": "https://localhost:8080/"
        },
        "id": "vMlIpYLwjqsl",
        "outputId": "a2c39dc8-4680-4699-c767-1bab2c58c9b9"
      },
      "execution_count": 2,
      "outputs": [
        {
          "output_type": "stream",
          "name": "stdout",
          "text": [
            "4\n",
            "5\n",
            "1 2 3 4 5 \n",
            "1 2 3 4 5 \n",
            "1 2 3 4 5 \n",
            "1 2 3 4 5 \n"
          ]
        }
      ]
    },
    {
      "cell_type": "markdown",
      "source": [
        "# Pyramid"
      ],
      "metadata": {
        "id": "AUtudTrtjrZi"
      }
    },
    {
      "cell_type": "code",
      "source": [
        "n = int(input())\n",
        "\n",
        "k = n\n",
        "for i in range(1, n + 1):\n",
        " spaces = \" \" * (k - i)\n",
        " stars = \"* \" * i\n",
        " print(spaces+stars)"
      ],
      "metadata": {
        "colab": {
          "base_uri": "https://localhost:8080/"
        },
        "id": "lR2s9OYNjtHd",
        "outputId": "6e777566-be14-439a-c0ca-fb0675bfc7a5"
      },
      "execution_count": 1,
      "outputs": [
        {
          "output_type": "stream",
          "name": "stdout",
          "text": [
            "5\n",
            "    * \n",
            "   * * \n",
            "  * * * \n",
            " * * * * \n",
            "* * * * * \n"
          ]
        }
      ]
    }
  ]
}