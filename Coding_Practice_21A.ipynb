{
  "nbformat": 4,
  "nbformat_minor": 0,
  "metadata": {
    "colab": {
      "provenance": []
    },
    "kernelspec": {
      "name": "python3",
      "display_name": "Python 3"
    },
    "language_info": {
      "name": "python"
    }
  },
  "cells": [
    {
      "cell_type": "markdown",
      "source": [
        "# Split the sentence\n"
      ],
      "metadata": {
        "id": "D4W-ob7mLv4V"
      }
    },
    {
      "cell_type": "code",
      "execution_count": 9,
      "metadata": {
        "colab": {
          "base_uri": "https://localhost:8080/"
        },
        "id": "fhdzz6o5Lf9t",
        "outputId": "87c661fd-e32d-4c59-c698-a9c53be82fcc"
      },
      "outputs": [
        {
          "output_type": "stream",
          "name": "stdout",
          "text": [
            "Knowledge is power\n",
            "['Knowledge', 'is', 'power']\n"
          ]
        }
      ],
      "source": [
        "s = input()\n",
        "\n",
        "list_a = s.split()\n",
        "print(list_a)\n"
      ]
    },
    {
      "cell_type": "markdown",
      "source": [
        "# Split the sentence 2"
      ],
      "metadata": {
        "id": "Lt9WORURL39B"
      }
    },
    {
      "cell_type": "code",
      "source": [
        "s = input()\n",
        "\n",
        "list_a = s.split()\n",
        "for i in list_a:\n",
        "    print(i)"
      ],
      "metadata": {
        "colab": {
          "base_uri": "https://localhost:8080/"
        },
        "id": "RReaB5nWL70D",
        "outputId": "22848eaa-26f4-4e1a-e34a-40775e5f60fd"
      },
      "execution_count": 8,
      "outputs": [
        {
          "output_type": "stream",
          "name": "stdout",
          "text": [
            "Banana Mango Apple\n",
            "Banana\n",
            "Mango\n",
            "Apple\n"
          ]
        }
      ]
    },
    {
      "cell_type": "markdown",
      "source": [
        "# Split Numbers"
      ],
      "metadata": {
        "id": "RTrKHfCfL9Qt"
      }
    },
    {
      "cell_type": "code",
      "source": [
        "s = input()\n",
        "list_b = []\n",
        "\n",
        "list_a = s.split()\n",
        "for i in list_a:\n",
        "    list_b += [int(i)]\n",
        "\n",
        "print(list_b)"
      ],
      "metadata": {
        "colab": {
          "base_uri": "https://localhost:8080/"
        },
        "id": "U5BmZHJaMCcQ",
        "outputId": "9460b659-d9db-4a81-9041-538f8afbbf0e"
      },
      "execution_count": 7,
      "outputs": [
        {
          "output_type": "stream",
          "name": "stdout",
          "text": [
            "10 20 30 40 50\n",
            "[10, 20, 30, 40, 50]\n"
          ]
        }
      ]
    },
    {
      "cell_type": "markdown",
      "source": [
        "# Sum of list elements"
      ],
      "metadata": {
        "id": "romG3olhMDTN"
      }
    },
    {
      "cell_type": "code",
      "source": [
        "s = input()\n",
        "sum_of_number = 0\n",
        "\n",
        "list_a = s.split()\n",
        "for i in list_a:\n",
        "    sum_of_number += int(i)\n",
        "\n",
        "print(sum_of_number)"
      ],
      "metadata": {
        "colab": {
          "base_uri": "https://localhost:8080/"
        },
        "id": "0RuIUAN7MHKn",
        "outputId": "c7b19d26-9f53-4708-b5fb-e58f546605fd"
      },
      "execution_count": 6,
      "outputs": [
        {
          "output_type": "stream",
          "name": "stdout",
          "text": [
            "2 5 10 -15 3\n",
            "5\n"
          ]
        }
      ]
    },
    {
      "cell_type": "markdown",
      "source": [
        "# Divisible by 3"
      ],
      "metadata": {
        "id": "cYFw5CF6MH0s"
      }
    },
    {
      "cell_type": "code",
      "source": [
        "s = input()\n",
        "\n",
        "divisible_by_3 = []\n",
        "\n",
        "list_a = s.split()\n",
        "for i in list_a:\n",
        "    if int(i) % 3 == 0:\n",
        "        divisible_by_3 += [int(i)]\n",
        "\n",
        "print(divisible_by_3)"
      ],
      "metadata": {
        "colab": {
          "base_uri": "https://localhost:8080/"
        },
        "id": "Wzl13IrHMMwv",
        "outputId": "cc145cfe-9e23-4831-ddec-8bdaed4f1ce2"
      },
      "execution_count": 5,
      "outputs": [
        {
          "output_type": "stream",
          "name": "stdout",
          "text": [
            "3 10 11 24 54 12\n",
            "[3, 24, 54, 12]\n"
          ]
        }
      ]
    },
    {
      "cell_type": "markdown",
      "source": [
        "# Smallest number in the list"
      ],
      "metadata": {
        "id": "6RcfQasEMNt9"
      }
    },
    {
      "cell_type": "code",
      "source": [
        "s = input()\n",
        "list_b = []\n",
        "list_a = s.split()\n",
        "\n",
        "for i in list_a:\n",
        "    list_b += [int(i)]\n",
        "\n",
        "print(min(list_b))"
      ],
      "metadata": {
        "colab": {
          "base_uri": "https://localhost:8080/"
        },
        "id": "lQfhVl7pMROc",
        "outputId": "a63642aa-92d4-4f64-d932-04a65fc27fbc"
      },
      "execution_count": 4,
      "outputs": [
        {
          "output_type": "stream",
          "name": "stdout",
          "text": [
            "54 25 68 75 94 23 15\n",
            "15\n"
          ]
        }
      ]
    },
    {
      "cell_type": "markdown",
      "source": [
        "# Join words in sentence"
      ],
      "metadata": {
        "id": "aXRkE0ATMSUM"
      }
    },
    {
      "cell_type": "code",
      "source": [
        "s = input()\n",
        "list_a = s.split()\n",
        "string_a = \".\".join(list_a)\n",
        "print(string_a)"
      ],
      "metadata": {
        "colab": {
          "base_uri": "https://localhost:8080/"
        },
        "id": "sV7Fm_kmMban",
        "outputId": "b61bff40-874e-4fae-b229-dabfe096b5f2"
      },
      "execution_count": 3,
      "outputs": [
        {
          "output_type": "stream",
          "name": "stdout",
          "text": [
            "This is a program\n",
            "This.is.a.program\n"
          ]
        }
      ]
    },
    {
      "cell_type": "markdown",
      "source": [
        "# Join Numbers"
      ],
      "metadata": {
        "id": "2ujQD3byMceE"
      }
    },
    {
      "cell_type": "code",
      "source": [
        "s = input()\n",
        "\n",
        "list_a = s.split()\n",
        "string = \",\".join(list_a)\n",
        "print(string)"
      ],
      "metadata": {
        "colab": {
          "base_uri": "https://localhost:8080/"
        },
        "id": "Z7-aSuizMfA8",
        "outputId": "9ab25e52-1986-49ee-c53b-2beb9d63174b"
      },
      "execution_count": 2,
      "outputs": [
        {
          "output_type": "stream",
          "name": "stdout",
          "text": [
            "24 25 24 58 45 69 78\n",
            "24,25,24,58,45,69,78\n"
          ]
        }
      ]
    },
    {
      "cell_type": "markdown",
      "source": [
        "# Join third letter in words"
      ],
      "metadata": {
        "id": "rC8kIImsMgM2"
      }
    },
    {
      "cell_type": "code",
      "source": [
        "s = input()\n",
        "result = \"\"\n",
        "list_a = s.split()\n",
        "\n",
        "for i in list_a:\n",
        "    result += i[2] + \",\"\n",
        "result = result.strip(\",\")\n",
        "print(result)"
      ],
      "metadata": {
        "colab": {
          "base_uri": "https://localhost:8080/"
        },
        "id": "A4PmV0m2MmXf",
        "outputId": "793b5e25-3aad-421d-a457-e54b06f6d8bc"
      },
      "execution_count": 1,
      "outputs": [
        {
          "output_type": "stream",
          "name": "stdout",
          "text": [
            "Being More Productive\n",
            "i,r,o\n"
          ]
        }
      ]
    }
  ]
}