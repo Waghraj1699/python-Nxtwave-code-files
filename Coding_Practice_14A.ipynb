{
  "nbformat": 4,
  "nbformat_minor": 0,
  "metadata": {
    "colab": {
      "provenance": []
    },
    "kernelspec": {
      "name": "python3",
      "display_name": "Python 3"
    },
    "language_info": {
      "name": "python"
    }
  },
  "cells": [
    {
      "cell_type": "markdown",
      "source": [
        "# Numbers in Hollow Square"
      ],
      "metadata": {
        "id": "4NUYxiFcRkb7"
      }
    },
    {
      "cell_type": "code",
      "execution_count": 1,
      "metadata": {
        "colab": {
          "base_uri": "https://localhost:8080/"
        },
        "id": "WW_m8RegRbQs",
        "outputId": "408e6fab-2423-4135-f318-93e6667bba02"
      },
      "outputs": [
        {
          "output_type": "stream",
          "name": "stdout",
          "text": [
            "5\n",
            "1 2 3 4 5 \n",
            "1       5 \n",
            "1       5 \n",
            "1       5 \n",
            "1 2 3 4 5 \n"
          ]
        }
      ],
      "source": [
        "n = int(input())\n",
        "\n",
        "for i in range(1 , n + 1):\n",
        "    if ( i==1 or i==n):\n",
        "        row = \"\"\n",
        "        for j in range(1,n + 1):\n",
        "            row += str(j) + \" \"\n",
        "    else:\n",
        "        row = \"\"\n",
        "        middle_spaces = (\" \") * ((2*n) - 4)\n",
        "        row += \"1 \" + middle_spaces + (str(n)+\" \")\n",
        "    print(row)\n",
        ""
      ]
    },
    {
      "cell_type": "markdown",
      "source": [
        "# Numbers in Hollow Right Angled Triangle"
      ],
      "metadata": {
        "id": "eUYHkFmZSIAp"
      }
    },
    {
      "cell_type": "code",
      "source": [
        "n = int(input())\n",
        "\n",
        "for i in range(1 , n + 1):\n",
        "    if (i == 1):\n",
        "        row = str(i) + \" \"\n",
        "    elif (i == n):\n",
        "        row = \"\"\n",
        "        for j in range(1 , n + 1):\n",
        "            row += str(j) + \" \"\n",
        "    else:\n",
        "        middle_spaces = (\" \") * (2*(i - 2))\n",
        "        row = \"1 \" + middle_spaces + str(i)\n",
        "    print(row)"
      ],
      "metadata": {
        "colab": {
          "base_uri": "https://localhost:8080/"
        },
        "id": "7cXyf0C7SVcI",
        "outputId": "840fa48a-0072-4db0-f582-2840bd275683"
      },
      "execution_count": 2,
      "outputs": [
        {
          "output_type": "stream",
          "name": "stdout",
          "text": [
            "5\n",
            "1 \n",
            "1 2\n",
            "1   3\n",
            "1     4\n",
            "1 2 3 4 5 \n"
          ]
        }
      ]
    },
    {
      "cell_type": "markdown",
      "source": [
        "# Numbers in Hollow Rectangle"
      ],
      "metadata": {
        "id": "mL2bS7RiS0UQ"
      }
    },
    {
      "cell_type": "code",
      "source": [
        "m = int(input())\n",
        "n = int(input())\n",
        "\n",
        "for i in range(1, m + 1):\n",
        "    s = 7\n",
        "    if (i==1 or i==m):\n",
        "        row = \"\"\n",
        "        for j in range(1, n + 1):\n",
        "            row += str(s) + \" \"\n",
        "            s += 1\n",
        "    else:\n",
        "        middle_spaces = (\" \") * ((2*n) - 4)\n",
        "        row = (str(s) + \" \") + middle_spaces + str(s + n - 1)\n",
        "    print(row)\n"
      ],
      "metadata": {
        "colab": {
          "base_uri": "https://localhost:8080/"
        },
        "id": "fxu5IuuETleT",
        "outputId": "46ebe2da-6dd3-4a3c-dda9-9faefbb401c4"
      },
      "execution_count": 3,
      "outputs": [
        {
          "output_type": "stream",
          "name": "stdout",
          "text": [
            "5\n",
            "6\n",
            "7 8 9 10 11 12 \n",
            "7         12\n",
            "7         12\n",
            "7         12\n",
            "7 8 9 10 11 12 \n"
          ]
        }
      ]
    },
    {
      "cell_type": "markdown",
      "source": [
        "# Numbers in Hollow Pyramid"
      ],
      "metadata": {
        "id": "2OJLZavJTu_G"
      }
    },
    {
      "cell_type": "code",
      "source": [
        "n = int(input())\n",
        "\n",
        "for i in range(1 , n + 1):\n",
        "    if (i==1):\n",
        "        left_spaces = (\" \") * (n - i)\n",
        "        row = left_spaces + str(5)\n",
        "        print(row)\n",
        "    elif (i==n):\n",
        "        for j in range(5 , 5 + n):\n",
        "            print(j , end=\" \")\n",
        "        print()\n",
        "    else:\n",
        "        left_spaces = (\" \") * (n - i)\n",
        "        middle_spaces = (\" \") *(2*i - 3)\n",
        "        row = left_spaces + str(5) + middle_spaces + str(4 + i )\n",
        "        print(row)"
      ],
      "metadata": {
        "colab": {
          "base_uri": "https://localhost:8080/"
        },
        "id": "vQLQEBr4T3kz",
        "outputId": "89a19ac0-5bd9-4e61-d7d4-d56c9dadcfdd"
      },
      "execution_count": 4,
      "outputs": [
        {
          "output_type": "stream",
          "name": "stdout",
          "text": [
            "5\n",
            "    5\n",
            "   5 6\n",
            "  5   7\n",
            " 5     8\n",
            "5 6 7 8 9 \n"
          ]
        }
      ]
    },
    {
      "cell_type": "markdown",
      "source": [
        "# Numbers in Hollow Square - 2"
      ],
      "metadata": {
        "id": "E3VVox7FT9Qm"
      }
    },
    {
      "cell_type": "code",
      "source": [
        "n = int(input())\n",
        "\n",
        "for i in range(1, n + 1):\n",
        "    for j in range(1, n + 1):\n",
        "        if (i==1 or i==n or j==1 or j == n):\n",
        "            print(n + 1 - j,end=\" \")\n",
        "        else:\n",
        "            print(\" \",end=\" \")\n",
        "    print()"
      ],
      "metadata": {
        "colab": {
          "base_uri": "https://localhost:8080/"
        },
        "id": "3x-RR3rzUERw",
        "outputId": "707aab9a-e752-4d27-da7d-2e94464fe4bf"
      },
      "execution_count": 5,
      "outputs": [
        {
          "output_type": "stream",
          "name": "stdout",
          "text": [
            "5\n",
            "5 4 3 2 1 \n",
            "5       1 \n",
            "5       1 \n",
            "5       1 \n",
            "5 4 3 2 1 \n"
          ]
        }
      ]
    },
    {
      "cell_type": "markdown",
      "source": [
        "# Numbers in Hollow Right Angled Triangle - 2"
      ],
      "metadata": {
        "id": "afu4GZJMUMmX"
      }
    },
    {
      "cell_type": "code",
      "source": [
        "n = int(input())\n",
        "\n",
        "for i in range(1 , n + 1):\n",
        "    if ( i==1 ):\n",
        "        row = ((\"  \") * (n - i)) + \"1 \"\n",
        "        print(row)\n",
        "    elif (i==n):\n",
        "        for j in range(1 , n + 1):\n",
        "            print(n + 1 - j,end=\" \")\n",
        "        print()\n",
        "    else:\n",
        "        left_spaces = (\"  \") * (n - i)\n",
        "        middle_spaces = (\"  \") * (i - 2)\n",
        "        row = left_spaces + str(i) + \" \" + middle_spaces + \"1 \"\n",
        "        print(row)"
      ],
      "metadata": {
        "colab": {
          "base_uri": "https://localhost:8080/"
        },
        "id": "3dZu-bycUeFN",
        "outputId": "6726a197-77e3-455b-e8a4-bdc9bca3e305"
      },
      "execution_count": 6,
      "outputs": [
        {
          "output_type": "stream",
          "name": "stdout",
          "text": [
            "5\n",
            "        1 \n",
            "      2 1 \n",
            "    3   1 \n",
            "  4     1 \n",
            "5 4 3 2 1 \n"
          ]
        }
      ]
    },
    {
      "cell_type": "markdown",
      "source": [
        "# Numbers in Hollow Rectangle - 2"
      ],
      "metadata": {
        "id": "gG70_QDIUqkc"
      }
    },
    {
      "cell_type": "code",
      "source": [
        "m = int(input())\n",
        "n = int(input())\n",
        "k = 1\n",
        "\n",
        "for i in range(1 , m + 1):\n",
        "    for j in range(1 , n + 1):\n",
        "        if(i==1 or i==m or j==1 or j==n):\n",
        "            print(k , end=\" \")\n",
        "            k += 1\n",
        "        else:\n",
        "            print(\" \",end=\" \")\n",
        "            k += 1\n",
        "    print()"
      ],
      "metadata": {
        "colab": {
          "base_uri": "https://localhost:8080/"
        },
        "id": "uS1s688PU3FE",
        "outputId": "2e1c113d-92c9-49c3-d736-d32f1c13ef6b"
      },
      "execution_count": 7,
      "outputs": [
        {
          "output_type": "stream",
          "name": "stdout",
          "text": [
            "5\n",
            "6\n",
            "1 2 3 4 5 6 \n",
            "7         12 \n",
            "13         18 \n",
            "19         24 \n",
            "25 26 27 28 29 30 \n"
          ]
        }
      ]
    },
    {
      "cell_type": "markdown",
      "source": [
        "# Numbers in Inverted Hollow Pyramid"
      ],
      "metadata": {
        "id": "Yes0Jz2CU9A8"
      }
    },
    {
      "cell_type": "code",
      "source": [
        "n = int(input())\n",
        "s = int(input())\n",
        "\n",
        "for i in range(1 , n + 1):\n",
        "    if (i==1):\n",
        "        row = \"\"\n",
        "        for i in range(s , s + n):\n",
        "            row += str(i) + \" \"\n",
        "        print(row)\n",
        "    elif (i==n):\n",
        "        left_spaces = (\" \") * (i - 1)\n",
        "        row = left_spaces + str(s)\n",
        "        print(row)\n",
        "    else:\n",
        "        left_spaces = (\" \") * (i - 1)\n",
        "        middle_spaces = (\" \") * (2*(n + 1 - i) -3)\n",
        "        row = left_spaces + str(s) + middle_spaces + str(s + n - i)\n",
        "        print(row)"
      ],
      "metadata": {
        "colab": {
          "base_uri": "https://localhost:8080/"
        },
        "id": "vXArTvcdVYzm",
        "outputId": "2c8c796e-da3d-407a-ff67-04dacb809b51"
      },
      "execution_count": 8,
      "outputs": [
        {
          "output_type": "stream",
          "name": "stdout",
          "text": [
            "5\n",
            "6\n",
            "6 7 8 9 10 \n",
            " 6     9\n",
            "  6   8\n",
            "   6 7\n",
            "    6\n"
          ]
        }
      ]
    },
    {
      "cell_type": "markdown",
      "source": [
        "# Hollow Inverted Full Pyramid - 2"
      ],
      "metadata": {
        "id": "hdT0G_wiVbu0"
      }
    },
    {
      "cell_type": "code",
      "source": [
        "n = int(input())\n",
        "\n",
        "for i in range(1 , n + 1):\n",
        "    if (i==1):\n",
        "        row = \"\"\n",
        "        for j in range(1 , n + 1):\n",
        "            row += str(j) + \" \"\n",
        "        print(row)\n",
        "    elif (i==n):\n",
        "        left_spaces = (\" \") * (i - 1)\n",
        "        row = left_spaces + \"1 \"\n",
        "        print(row)\n",
        "    else:\n",
        "        left_spaces = (\" \") * (i - 1)\n",
        "        middle_spaces = (\" \") * (2*(n + 1 - i) - 3)\n",
        "        row = left_spaces + \"1\" + middle_spaces + str(n - i + 1)\n",
        "        print(row)"
      ],
      "metadata": {
        "colab": {
          "base_uri": "https://localhost:8080/"
        },
        "id": "01UMxX7mVo94",
        "outputId": "e96354ce-c8fc-4910-fac6-feffef8e1fa6"
      },
      "execution_count": 13,
      "outputs": [
        {
          "output_type": "stream",
          "name": "stdout",
          "text": [
            "5\n",
            "1 2 3 4 5 \n",
            " 1     4\n",
            "  1   3\n",
            "   1 2\n",
            "    1 \n"
          ]
        }
      ]
    },
    {
      "cell_type": "markdown",
      "source": [
        "# Hollow Inverted Half Pyramid - 2"
      ],
      "metadata": {
        "id": "-roE_dUKVpqD"
      }
    },
    {
      "cell_type": "code",
      "source": [
        "n = int(input())\n",
        "\n",
        "for i in range(1 , n + 1):\n",
        "    if (i==1):\n",
        "        row = \"\"\n",
        "        for j in range(1 , n + 1):\n",
        "            row += str(j) + \" \"\n",
        "        print(row)\n",
        "    elif (i==n):\n",
        "        row = \"1 \"\n",
        "        print(row)\n",
        "    else:\n",
        "        middle_spaces = (\" \") * (2*(n + 1 - i) - 3)\n",
        "        row = \"1\" + middle_spaces + str(n - i + 1)\n",
        "        print(row)"
      ],
      "metadata": {
        "colab": {
          "base_uri": "https://localhost:8080/"
        },
        "id": "tKBsSQYWVu_Y",
        "outputId": "c894b901-5d5d-4784-f5e5-dd48e4cf96f5"
      },
      "execution_count": 12,
      "outputs": [
        {
          "output_type": "stream",
          "name": "stdout",
          "text": [
            "5\n",
            "1 2 3 4 5 \n",
            "1     4\n",
            "1   3\n",
            "1 2\n",
            "1 \n"
          ]
        }
      ]
    },
    {
      "cell_type": "markdown",
      "source": [
        "# Hollow Full Pyramid - 1"
      ],
      "metadata": {
        "id": "9lc-rnP5Vv3L"
      }
    },
    {
      "cell_type": "code",
      "source": [
        "n = int(input())\n",
        "\n",
        "for i in range(1 , n + 1):\n",
        "    if (i==1):\n",
        "        left_spaces = (\" \") * (n - i)\n",
        "        row = left_spaces + \"*\"\n",
        "    elif (i==n):\n",
        "        row = (\"* \") * n\n",
        "    else:\n",
        "        left_spaces = (\" \") * (n - i)\n",
        "        middle_spaces = (\" \") * (2*i - 3)\n",
        "        row = left_spaces + \"*\" + middle_spaces + \"*\"\n",
        "    print(row)\n",
        ""
      ],
      "metadata": {
        "colab": {
          "base_uri": "https://localhost:8080/"
        },
        "id": "V7EdxmfNV1ci",
        "outputId": "28a1634e-1397-402c-83d0-d17eeb0d5e17"
      },
      "execution_count": 11,
      "outputs": [
        {
          "output_type": "stream",
          "name": "stdout",
          "text": [
            "5\n",
            "    *\n",
            "   * *\n",
            "  *   *\n",
            " *     *\n",
            "* * * * * \n"
          ]
        }
      ]
    },
    {
      "cell_type": "markdown",
      "source": [
        "# Hollow Full Pyramid - 2"
      ],
      "metadata": {
        "id": "es6bZZpKV2LM"
      }
    },
    {
      "cell_type": "code",
      "source": [
        "n = int(input())\n",
        "\n",
        "for i in range(1 , n + 1):\n",
        "    if (i==1):\n",
        "        left_spaces = (\" \") * (n - i)\n",
        "        row = left_spaces + \"1 \"\n",
        "        print(row)\n",
        "    elif (i==n):\n",
        "        row = \"\"\n",
        "        for j in range(1 , n + 1):\n",
        "            row += str(j) + \" \"\n",
        "        print(row)\n",
        "    else:\n",
        "        left_spaces = (\" \") * (n - i)\n",
        "        middle_spaces = (\" \") * (2*(i) - 3)\n",
        "        row = left_spaces + \"1\" + middle_spaces + str(i)\n",
        "        print(row)"
      ],
      "metadata": {
        "colab": {
          "base_uri": "https://localhost:8080/"
        },
        "id": "B1ayfaWbV57k",
        "outputId": "a16f2d33-2c7d-4c86-8d4f-1a33ca2c0777"
      },
      "execution_count": 10,
      "outputs": [
        {
          "output_type": "stream",
          "name": "stdout",
          "text": [
            "5\n",
            "    1 \n",
            "   1 2\n",
            "  1   3\n",
            " 1     4\n",
            "1 2 3 4 5 \n"
          ]
        }
      ]
    },
    {
      "cell_type": "markdown",
      "source": [
        "# Full Pyramid - 2"
      ],
      "metadata": {
        "id": "mJLHqnUVV6xK"
      }
    },
    {
      "cell_type": "code",
      "source": [
        "n = int(input())\n",
        "\n",
        "for i in range(1 , n + 1):\n",
        "    spaces = (\" \") * (n - i)\n",
        "    print(spaces,end=\"\")\n",
        "    for j in range(1 , i + 1):\n",
        "        print(j , end=\" \")\n",
        "    print()\n"
      ],
      "metadata": {
        "colab": {
          "base_uri": "https://localhost:8080/"
        },
        "id": "oIVrJ8lHWAAc",
        "outputId": "a330da97-50c8-467e-8091-b2d9b74bf7aa"
      },
      "execution_count": 9,
      "outputs": [
        {
          "output_type": "stream",
          "name": "stdout",
          "text": [
            "5\n",
            "    1 \n",
            "   1 2 \n",
            "  1 2 3 \n",
            " 1 2 3 4 \n",
            "1 2 3 4 5 \n"
          ]
        }
      ]
    }
  ]
}