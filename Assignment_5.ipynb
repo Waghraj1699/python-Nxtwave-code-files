{
  "nbformat": 4,
  "nbformat_minor": 0,
  "metadata": {
    "colab": {
      "provenance": []
    },
    "kernelspec": {
      "name": "python3",
      "display_name": "Python 3"
    },
    "language_info": {
      "name": "python"
    }
  },
  "cells": [
    {
      "cell_type": "code",
      "execution_count": 7,
      "metadata": {
        "colab": {
          "base_uri": "https://localhost:8080/"
        },
        "id": "ikKd2fhq5Po8",
        "outputId": "2a3ecf07-45d0-4d38-fbf9-f1f8aa637422"
      },
      "outputs": [
        {
          "output_type": "stream",
          "name": "stdout",
          "text": [
            "5\n",
            "Positive\n"
          ]
        }
      ],
      "source": [
        "# Positive or Negative\n",
        "\n",
        "n = float(input())\n",
        "\n",
        "if n > 0:\n",
        "    print(\"Positive\")\n",
        "else:\n",
        "    print(\"Negative\")"
      ]
    },
    {
      "cell_type": "code",
      "source": [
        "# profit or loss\n",
        "\n",
        "cp = int(input())\n",
        "sp = int(input())\n",
        "\n",
        "if sp > cp:\n",
        "    print(\"Profit\")\n",
        "elif sp < cp:\n",
        "    print(\"Loss\")\n",
        "elif sp == cp:\n",
        "    print(\"No Profit - No Loss\")"
      ],
      "metadata": {
        "colab": {
          "base_uri": "https://localhost:8080/"
        },
        "id": "kOb9DPEY5irZ",
        "outputId": "b9f3e145-83b2-4f84-eab2-e40df4554faf"
      },
      "execution_count": 6,
      "outputs": [
        {
          "output_type": "stream",
          "name": "stdout",
          "text": [
            "4\n",
            "5\n",
            "Profit\n"
          ]
        }
      ]
    },
    {
      "cell_type": "code",
      "source": [
        "# get season\n",
        "\n",
        "m = int(input())\n",
        "\n",
        "if (m == 11 ) or (m == 12) or (m == 1):\n",
        "    print(\"Winter\")\n",
        "elif (m == 2) or (m == 3):\n",
        "    print(\"Spring\")\n",
        "elif (m == 4) or (m == 5) or (m == 6):\n",
        "    print(\"Summer\")\n",
        "elif (m == 7) or (m == 8):\n",
        "    print(\"Rainy\")\n",
        "elif (m == 9) or (m == 10):\n",
        "    print(\"Autumn\")"
      ],
      "metadata": {
        "colab": {
          "base_uri": "https://localhost:8080/"
        },
        "id": "7Y08sTN_5leC",
        "outputId": "9f2ded6d-bba9-47c6-911e-7a1ad81f73e3"
      },
      "execution_count": 5,
      "outputs": [
        {
          "output_type": "stream",
          "name": "stdout",
          "text": [
            "5\n",
            "Summer\n"
          ]
        }
      ]
    },
    {
      "cell_type": "code",
      "source": [
        "# smallest among three numbers\n",
        "\n",
        "a = int(input())\n",
        "b = int(input())\n",
        "c = int(input())\n",
        "\n",
        "if a <= b and b <= c:\n",
        "    print(a)\n",
        "elif b <= a and b <= c:\n",
        "    print(b)\n",
        "else:\n",
        "    print(c)"
      ],
      "metadata": {
        "colab": {
          "base_uri": "https://localhost:8080/"
        },
        "id": "zW3AOeRu5pzD",
        "outputId": "dd93d0bb-2b99-41a6-a277-e87f80419ba5"
      },
      "execution_count": 3,
      "outputs": [
        {
          "output_type": "stream",
          "name": "stdout",
          "text": [
            "6\n",
            "5\n",
            "4\n",
            "4\n"
          ]
        }
      ]
    },
    {
      "cell_type": "code",
      "source": [
        "# weather condition\n",
        "\n",
        "t = float(input())\n",
        "\n",
        "if t < 0:\n",
        "    print(\"Freezing weather\")\n",
        "elif t >= 0 and t < 10:\n",
        "    print(\"Very Cold weather\")\n",
        "elif t >= 10 and t < 20:\n",
        "    print(\"Cold weather\")\n",
        "elif t >= 20 and t < 30:\n",
        "    print(\"Normal\")\n",
        "elif t >= 30 and t < 40:\n",
        "    print(\"Hot\")\n",
        "elif t >= 40:\n",
        "    print(\"Very Hot\")"
      ],
      "metadata": {
        "colab": {
          "base_uri": "https://localhost:8080/"
        },
        "id": "Jga9TG3l5sJw",
        "outputId": "ba7d2265-24a4-4f1a-be74-820c2c734d96"
      },
      "execution_count": 2,
      "outputs": [
        {
          "output_type": "stream",
          "name": "stdout",
          "text": [
            "25.35\n",
            "Normal\n"
          ]
        }
      ]
    },
    {
      "cell_type": "code",
      "source": [
        "# relation between two numbers\n",
        "\n",
        "a = int(input())\n",
        "b = int(input())\n",
        "\n",
        "if a == b:\n",
        "    print(\"A == B\")\n",
        "elif a > b:\n",
        "    print(\"A > B\")\n",
        "elif a < b:\n",
        "    print(\"A < B\")"
      ],
      "metadata": {
        "colab": {
          "base_uri": "https://localhost:8080/"
        },
        "id": "sGRipjgp5z-u",
        "outputId": "4462b361-50f1-410d-fd16-0a2de391e796"
      },
      "execution_count": 1,
      "outputs": [
        {
          "output_type": "stream",
          "name": "stdout",
          "text": [
            "5\n",
            "9\n",
            "A < B\n"
          ]
        }
      ]
    }
  ]
}