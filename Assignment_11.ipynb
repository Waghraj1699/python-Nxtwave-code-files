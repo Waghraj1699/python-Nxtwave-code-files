{
  "nbformat": 4,
  "nbformat_minor": 0,
  "metadata": {
    "colab": {
      "provenance": []
    },
    "kernelspec": {
      "name": "python3",
      "display_name": "Python 3"
    },
    "language_info": {
      "name": "python"
    }
  },
  "cells": [
    {
      "cell_type": "markdown",
      "source": [
        "# Palindrom - 3"
      ],
      "metadata": {
        "id": "HcnMLHI0SA5f"
      }
    },
    {
      "cell_type": "code",
      "execution_count": 1,
      "metadata": {
        "colab": {
          "base_uri": "https://localhost:8080/"
        },
        "id": "no76cdmMGtcR",
        "outputId": "e219598c-2b7d-4c1e-aecc-514c375b6a63"
      },
      "outputs": [
        {
          "output_type": "stream",
          "name": "stdout",
          "text": [
            "madam\n",
            "Palindrome\n"
          ]
        }
      ],
      "source": [
        "word = input()\n",
        "word = word.lower()\n",
        "\n",
        "reverse = \"\"\n",
        "for i in word:\n",
        "    reverse = i + reverse\n",
        "\n",
        "if word == reverse:\n",
        "    print(\"Palindrome\")\n",
        "else:\n",
        "    print(\"Not a Palindrome\")"
      ]
    },
    {
      "cell_type": "markdown",
      "source": [
        "# Palindrom - 4"
      ],
      "metadata": {
        "id": "fO-MHJoRSI25"
      }
    },
    {
      "cell_type": "code",
      "source": [
        "string = input()\n",
        "string = string.lower()\n",
        "new_string = \"\"\n",
        "reverse = \"\"\n",
        "\n",
        "for i in string:\n",
        "    if i==\" \" or i==\"'\":\n",
        "        new_string = new_string\n",
        "    else:\n",
        "        new_string = new_string + i\n",
        "\n",
        "for j in new_string:\n",
        "    reverse = j + reverse\n",
        "\n",
        "if new_string == reverse:\n",
        "    print(\"True\")\n",
        "else:\n",
        "    print(\"False\")"
      ],
      "metadata": {
        "colab": {
          "base_uri": "https://localhost:8080/"
        },
        "id": "hapu32n0SLwB",
        "outputId": "34826402-e023-48ef-856b-4d77347b2475"
      },
      "execution_count": 2,
      "outputs": [
        {
          "output_type": "stream",
          "name": "stdout",
          "text": [
            "no lemon no melon\n",
            "True\n"
          ]
        }
      ]
    },
    {
      "cell_type": "markdown",
      "source": [
        "# Remove Vowels in sentences"
      ],
      "metadata": {
        "id": "TmFqRRKNSRPP"
      }
    },
    {
      "cell_type": "code",
      "source": [
        "word = input()\n",
        "result = \"\"\n",
        "\n",
        "for i in word:\n",
        "    condition1 = (i==\"a\") or (i==\"e\") or (i==\"i\") or (i==\"o\") or (i==\"u\")\n",
        "    condition2 = (i==\"A\") or (i==\"E\") or (i==\"I\") or (i==\"O\") or (i==\"U\")\n",
        "    if condition1 or condition2:\n",
        "        result = result\n",
        "    else:\n",
        "        result = result + i\n",
        "\n",
        "print(result)"
      ],
      "metadata": {
        "colab": {
          "base_uri": "https://localhost:8080/"
        },
        "id": "TMd13W5cSVFQ",
        "outputId": "5f2b01d1-4d79-4d76-eb54-1e341bcde518"
      },
      "execution_count": 4,
      "outputs": [
        {
          "output_type": "stream",
          "name": "stdout",
          "text": [
            "Hello world\n",
            "Hll wrld\n"
          ]
        }
      ]
    },
    {
      "cell_type": "markdown",
      "source": [
        "# First part or last part"
      ],
      "metadata": {
        "id": "-4rBNuUsSWBJ"
      }
    },
    {
      "cell_type": "code",
      "source": [
        "s1 = input()\n",
        "s2 = input()\n",
        "\n",
        "if s1.startswith(s2) or s1.endswith(s2):\n",
        "    print(True)\n",
        "else:\n",
        "    print(False)"
      ],
      "metadata": {
        "colab": {
          "base_uri": "https://localhost:8080/"
        },
        "id": "8rNqoCkHSbwf",
        "outputId": "b600f0ef-ede8-4a79-f03b-452d5ead0be7"
      },
      "execution_count": 3,
      "outputs": [
        {
          "output_type": "stream",
          "name": "stdout",
          "text": [
            "manager\n",
            "man\n",
            "True\n"
          ]
        }
      ]
    },
    {
      "cell_type": "markdown",
      "source": [
        "# Letter,digit or special character"
      ],
      "metadata": {
        "id": "jkY5SirFScvL"
      }
    },
    {
      "cell_type": "code",
      "source": [
        "c = input()\n",
        "\n",
        "if c.isdigit():\n",
        "    print(\"Digit\")\n",
        "elif c.isupper():\n",
        "    print(\"Uppercase Letter\")\n",
        "elif c.islower():\n",
        "    print(\"Lowercase Letter\")\n",
        "else:\n",
        "    print(\"Special Character\")"
      ],
      "metadata": {
        "colab": {
          "base_uri": "https://localhost:8080/"
        },
        "id": "WoIFJwTySitY",
        "outputId": "0532458c-043d-40ba-b808-b4b5d1efd0b5"
      },
      "execution_count": 5,
      "outputs": [
        {
          "output_type": "stream",
          "name": "stdout",
          "text": [
            "9\n",
            "Digit\n"
          ]
        }
      ]
    }
  ]
}