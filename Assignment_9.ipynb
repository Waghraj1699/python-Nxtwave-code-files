{
  "nbformat": 4,
  "nbformat_minor": 0,
  "metadata": {
    "colab": {
      "provenance": []
    },
    "kernelspec": {
      "name": "python3",
      "display_name": "Python 3"
    },
    "language_info": {
      "name": "python"
    }
  },
  "cells": [
    {
      "cell_type": "code",
      "execution_count": 7,
      "metadata": {
        "colab": {
          "base_uri": "https://localhost:8080/"
        },
        "id": "q-fporG8A3wd",
        "outputId": "454c8d3a-c033-402e-dbe6-7d9276bb4a28"
      },
      "outputs": [
        {
          "output_type": "stream",
          "name": "stdout",
          "text": [
            "5\n",
            "10\n",
            "54\n"
          ]
        }
      ],
      "source": [
        "# Product of number divisible by 3 from M to N\n",
        "\n",
        "m = int(input())\n",
        "n = int(input())\n",
        "product = 1\n",
        "\n",
        "for i in range(m , n + 1):\n",
        "    if i % 3 == 0:\n",
        "        product = product * i\n",
        "\n",
        "print(product)"
      ]
    },
    {
      "cell_type": "code",
      "source": [
        "# Sum of K Powers\n",
        "\n",
        "n = int(input())\n",
        "k = int(input())\n",
        "sum = 0\n",
        "\n",
        "for i in range(1 , n + 1):\n",
        "    sum = sum + i**k\n",
        "\n",
        "print(sum)"
      ],
      "metadata": {
        "colab": {
          "base_uri": "https://localhost:8080/"
        },
        "id": "8S4jwmmuBkkC",
        "outputId": "73a8e77a-bfeb-4603-d564-566c07ad92e5"
      },
      "execution_count": 6,
      "outputs": [
        {
          "output_type": "stream",
          "name": "stdout",
          "text": [
            "5\n",
            "3\n",
            "225\n"
          ]
        }
      ]
    },
    {
      "cell_type": "code",
      "source": [
        "# Count of Numbers divisible by 6 and 8\n",
        "\n",
        "n = int(input())\n",
        "count = 0\n",
        "\n",
        "for i in range(1 , n + 1):\n",
        "    if i % 6 == 0 and i % 8 == 0:\n",
        "        count = count + 1\n",
        "\n",
        "print(count)"
      ],
      "metadata": {
        "colab": {
          "base_uri": "https://localhost:8080/"
        },
        "id": "noWsc0wGBpGp",
        "outputId": "64a52f2e-7427-4177-d2a7-581ddea72fa8"
      },
      "execution_count": 5,
      "outputs": [
        {
          "output_type": "stream",
          "name": "stdout",
          "text": [
            "5\n",
            "0\n"
          ]
        }
      ]
    },
    {
      "cell_type": "code",
      "source": [
        "# Inverted right angled triangle - 3\n",
        "\n",
        "n = int(input())\n",
        "\n",
        "print(\"* \" * n)\n",
        "for i in range(1 , n):\n",
        "    j = n - i\n",
        "    row = \"+ \" * j\n",
        "    print(row)"
      ],
      "metadata": {
        "colab": {
          "base_uri": "https://localhost:8080/"
        },
        "id": "DfDR3VxfBuYy",
        "outputId": "d61d92f7-d9aa-4e5c-e235-47d9ffd154e7"
      },
      "execution_count": 4,
      "outputs": [
        {
          "output_type": "stream",
          "name": "stdout",
          "text": [
            "5\n",
            "* * * * * \n",
            "+ + + + \n",
            "+ + + \n",
            "+ + \n",
            "+ \n"
          ]
        }
      ]
    },
    {
      "cell_type": "code",
      "source": [
        "# Two right angled triangles\n",
        "\n",
        "n = int(input())\n",
        "\n",
        "for i in range(1 , n + 1):\n",
        "    print(\"* \" * i)\n",
        "\n",
        "for j in range(1 , n + 1):\n",
        "    x = n + 1 - j\n",
        "    print(\"* \" * x)\n",
        ""
      ],
      "metadata": {
        "colab": {
          "base_uri": "https://localhost:8080/"
        },
        "id": "n_QxFR1VBz17",
        "outputId": "a682b5ad-b9b3-481c-f286-b90e5fe81cb8"
      },
      "execution_count": 3,
      "outputs": [
        {
          "output_type": "stream",
          "name": "stdout",
          "text": [
            "5\n",
            "* \n",
            "* * \n",
            "* * * \n",
            "* * * * \n",
            "* * * * * \n",
            "* * * * * \n",
            "* * * * \n",
            "* * * \n",
            "* * \n",
            "* \n"
          ]
        }
      ]
    },
    {
      "cell_type": "code",
      "source": [
        "# Find power of number\n",
        "\n",
        "n = int(input())\n",
        "m = int(input())\n",
        "\n",
        "power = 1\n",
        "for i in range(1 , m + 1):\n",
        "    power = power * n\n",
        "\n",
        "print(power)"
      ],
      "metadata": {
        "colab": {
          "base_uri": "https://localhost:8080/"
        },
        "id": "HGzlAJxCB4g6",
        "outputId": "4fc7afc4-e382-4d5b-c080-4c0976ac5af6"
      },
      "execution_count": 2,
      "outputs": [
        {
          "output_type": "stream",
          "name": "stdout",
          "text": [
            "2\n",
            "8\n",
            "256\n"
          ]
        }
      ]
    },
    {
      "cell_type": "code",
      "source": [
        "# Product of numbers from m to m\n",
        "\n",
        "m = int(input())\n",
        "n = int(input())\n",
        "\n",
        "product = 1\n",
        "\n",
        "for i in range(m , n + 1):\n",
        "    product = product * i\n",
        "\n",
        "print(product)"
      ],
      "metadata": {
        "colab": {
          "base_uri": "https://localhost:8080/"
        },
        "id": "YEm1w4eyB8ON",
        "outputId": "bf1da8ef-7a04-4fb3-a291-70ad979def01"
      },
      "execution_count": 1,
      "outputs": [
        {
          "output_type": "stream",
          "name": "stdout",
          "text": [
            "5\n",
            "6\n",
            "30\n"
          ]
        }
      ]
    }
  ]
}