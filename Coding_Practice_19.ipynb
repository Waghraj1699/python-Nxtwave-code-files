{
  "nbformat": 4,
  "nbformat_minor": 0,
  "metadata": {
    "colab": {
      "provenance": []
    },
    "kernelspec": {
      "name": "python3",
      "display_name": "Python 3"
    },
    "language_info": {
      "name": "python"
    }
  },
  "cells": [
    {
      "cell_type": "markdown",
      "source": [
        "# Division with 17"
      ],
      "metadata": {
        "id": "UjA3U0vFX1c3"
      }
    },
    {
      "cell_type": "code",
      "execution_count": 1,
      "metadata": {
        "colab": {
          "base_uri": "https://localhost:8080/"
        },
        "id": "LLMkwOGYXdHz",
        "outputId": "4cc25ba2-fe41-4830-e9ae-3410845796eb"
      },
      "outputs": [
        {
          "output_type": "stream",
          "name": "stdout",
          "text": [
            "3\n",
            "5\n",
            "98\n",
            "0\n",
            "5\n",
            "376\n",
            "22\n"
          ]
        }
      ],
      "source": [
        "n = int(input())\n",
        "\n",
        "for i in range(1 , n + 1):\n",
        "    m = int(input())\n",
        "    without_decimal = (m // 17)\n",
        "    print(without_decimal)"
      ]
    },
    {
      "cell_type": "markdown",
      "source": [
        "# Double Char"
      ],
      "metadata": {
        "id": "MGa8wKWfYqvI"
      }
    },
    {
      "cell_type": "code",
      "source": [
        "s = input()\n",
        "\n",
        "result = \"\"\n",
        "for i in s:\n",
        "    result += i*2\n",
        "\n",
        "print(result)"
      ],
      "metadata": {
        "colab": {
          "base_uri": "https://localhost:8080/"
        },
        "id": "tERIj1F3Yz15",
        "outputId": "3efe3640-aa3c-47e0-9d38-20ed75762eb4"
      },
      "execution_count": 2,
      "outputs": [
        {
          "output_type": "stream",
          "name": "stdout",
          "text": [
            "The\n",
            "TThhee\n"
          ]
        }
      ]
    },
    {
      "cell_type": "markdown",
      "source": [
        "# Separate characters with comma"
      ],
      "metadata": {
        "id": "KTw5RaOeY65q"
      }
    },
    {
      "cell_type": "code",
      "source": [
        "s = input()\n",
        "result = \"\"\n",
        "for i in s:\n",
        "    result += i + \",\"\n",
        "result = result.strip(\",\")\n",
        "print(result)\n"
      ],
      "metadata": {
        "colab": {
          "base_uri": "https://localhost:8080/"
        },
        "id": "4KF-xb9BZGJO",
        "outputId": "0471591d-2fee-4363-f588-807c42e52801"
      },
      "execution_count": 3,
      "outputs": [
        {
          "output_type": "stream",
          "name": "stdout",
          "text": [
            "wonder\n",
            "w,o,n,d,e,r\n"
          ]
        }
      ]
    },
    {
      "cell_type": "markdown",
      "source": [
        "# Cumulative sum"
      ],
      "metadata": {
        "id": "K25fJcTVZO0n"
      }
    },
    {
      "cell_type": "code",
      "source": [
        "n = int(input())\n",
        "sum = 0\n",
        "for i in range(1 , n + 1):\n",
        "    m = int(input())\n",
        "    sum += m\n",
        "    print(sum)\n",
        ""
      ],
      "metadata": {
        "colab": {
          "base_uri": "https://localhost:8080/"
        },
        "id": "lmEWMtBEZneI",
        "outputId": "98ae7e97-cf2a-4b34-ada3-aaddd3797fba"
      },
      "execution_count": 4,
      "outputs": [
        {
          "output_type": "stream",
          "name": "stdout",
          "text": [
            "5\n",
            "8\n",
            "8\n",
            "11\n",
            "19\n",
            "-96\n",
            "-77\n",
            "49\n",
            "-28\n",
            "85\n",
            "57\n"
          ]
        }
      ]
    },
    {
      "cell_type": "markdown",
      "source": [
        "# Cumulative Average"
      ],
      "metadata": {
        "id": "TUKzzLuKaGUu"
      }
    },
    {
      "cell_type": "code",
      "source": [
        "n = int(input())\n",
        "count = 1\n",
        "sum = 0\n",
        "\n",
        "for i in range(1 , n + 1):\n",
        "    m = int(input())\n",
        "    sum += m\n",
        "    avg = sum / count\n",
        "    count += 1\n",
        "    print(round(avg , 3))"
      ],
      "metadata": {
        "colab": {
          "base_uri": "https://localhost:8080/"
        },
        "id": "Atf3SZlpaRaC",
        "outputId": "a5944b3b-b9e4-4d09-8a61-02916ec736e3"
      },
      "execution_count": 5,
      "outputs": [
        {
          "output_type": "stream",
          "name": "stdout",
          "text": [
            "5\n",
            "8\n",
            "8.0\n",
            "11\n",
            "9.5\n",
            "-96\n",
            "-25.667\n",
            "49\n",
            "-7.0\n",
            "85\n",
            "11.4\n"
          ]
        }
      ]
    },
    {
      "cell_type": "markdown",
      "source": [
        "# Smallest among N inputs"
      ],
      "metadata": {
        "id": "q_O9GhdqahsN"
      }
    },
    {
      "cell_type": "code",
      "source": [
        "n = int(input())\n",
        "smallest = 9999999999\n",
        "\n",
        "for i in range(1, n + 1):\n",
        "    m = int(input())\n",
        "    if m < smallest :\n",
        "        smallest = m\n",
        "    print(smallest)\n",
        "\n",
        ""
      ],
      "metadata": {
        "colab": {
          "base_uri": "https://localhost:8080/"
        },
        "id": "dUBspMPDaqV3",
        "outputId": "14236b40-bef2-4d3c-92ad-59cd3e340865"
      },
      "execution_count": 6,
      "outputs": [
        {
          "output_type": "stream",
          "name": "stdout",
          "text": [
            "3\n",
            "32\n",
            "32\n",
            "6\n",
            "6\n",
            "23\n",
            "6\n"
          ]
        }
      ]
    },
    {
      "cell_type": "markdown",
      "source": [
        "# Hollow Pyramid 3"
      ],
      "metadata": {
        "id": "kMntky12a6De"
      }
    },
    {
      "cell_type": "code",
      "source": [
        "n = int(input())\n",
        "\n",
        "for i in range(1 , n + 1):\n",
        "    if (i==1):\n",
        "        row = \"| \"\n",
        "        print(row)\n",
        "    else:\n",
        "        middle_spaces = (\" \") * (i - 2)\n",
        "        row = \"| \" + middle_spaces + \"\\\\\"\n",
        "        print(row)\n",
        "\n",
        "for i in range(1 , n + 1):\n",
        "    if (i== n):\n",
        "        row = \"| \"\n",
        "        print(row)\n",
        "    else:\n",
        "        middle_spaces = (\" \") * (n - i - 1)\n",
        "        row = \"| \" + middle_spaces + \"/\"\n",
        "        print(row)"
      ],
      "metadata": {
        "colab": {
          "base_uri": "https://localhost:8080/"
        },
        "id": "_NLVg1h5a-bY",
        "outputId": "72b77244-8040-4b14-c574-c5c956dd725a"
      },
      "execution_count": 7,
      "outputs": [
        {
          "output_type": "stream",
          "name": "stdout",
          "text": [
            "8\n",
            "| \n",
            "| \\\n",
            "|  \\\n",
            "|   \\\n",
            "|    \\\n",
            "|     \\\n",
            "|      \\\n",
            "|       \\\n",
            "|       /\n",
            "|      /\n",
            "|     /\n",
            "|    /\n",
            "|   /\n",
            "|  /\n",
            "| /\n",
            "| \n"
          ]
        }
      ]
    },
    {
      "cell_type": "markdown",
      "source": [
        "# Subsequence"
      ],
      "metadata": {
        "id": "rAtCxHOMbIUI"
      }
    },
    {
      "cell_type": "code",
      "source": [
        "full_string = input()\n",
        "substring = input()\n",
        "sub_index = 0\n",
        "\n",
        "for i in full_string:\n",
        "    if i == substring[sub_index]:\n",
        "        sub_index += 1\n",
        "        if sub_index == len(substring):\n",
        "            break\n",
        "\n",
        "if sub_index == len(substring):\n",
        "    print(\"Yes\")\n",
        "else:\n",
        "    print(\"No\")"
      ],
      "metadata": {
        "colab": {
          "base_uri": "https://localhost:8080/"
        },
        "id": "LHI2X85lbLei",
        "outputId": "10b07046-f8df-4b98-f462-349c7e588ed0"
      },
      "execution_count": 8,
      "outputs": [
        {
          "output_type": "stream",
          "name": "stdout",
          "text": [
            "abcde\n",
            "ace\n",
            "Yes\n"
          ]
        }
      ]
    },
    {
      "cell_type": "markdown",
      "source": [
        "# Number Pyramid"
      ],
      "metadata": {
        "id": "oJnI5aMHbR2I"
      }
    },
    {
      "cell_type": "code",
      "source": [
        "n = int(input())\n",
        "for i in range(1, n+1):\n",
        "    spaces = \" \"*(n - i)\n",
        "    left_nums = \"\"\n",
        "    right_nums = \"\"\n",
        "    for j in range(1, i+1):\n",
        "        left_nums = str(j) + left_nums\n",
        "        right_nums = right_nums + str(j)\n",
        "    print(spaces + left_nums + right_nums[1:])\n"
      ],
      "metadata": {
        "colab": {
          "base_uri": "https://localhost:8080/"
        },
        "id": "pbw6GGqabZqy",
        "outputId": "357562ad-dd13-4781-c0ba-9d47bfcb4ffd"
      },
      "execution_count": 9,
      "outputs": [
        {
          "output_type": "stream",
          "name": "stdout",
          "text": [
            "8\n",
            "       1\n",
            "      212\n",
            "     32123\n",
            "    4321234\n",
            "   543212345\n",
            "  65432123456\n",
            " 7654321234567\n",
            "876543212345678\n"
          ]
        }
      ]
    },
    {
      "cell_type": "markdown",
      "source": [
        "# Cumulative Sum"
      ],
      "metadata": {
        "id": "FxLq8HHPblDu"
      }
    },
    {
      "cell_type": "code",
      "source": [
        "n = int(input())\n",
        "sum = 0\n",
        "\n",
        "for i in range(1 , n + 1):\n",
        "    m = int(input())\n",
        "    sum += m\n",
        "    print(sum)"
      ],
      "metadata": {
        "colab": {
          "base_uri": "https://localhost:8080/"
        },
        "id": "4egXslvsbodq",
        "outputId": "e22e749d-3ca9-4fd8-b26b-36d9ff78be20"
      },
      "execution_count": 10,
      "outputs": [
        {
          "output_type": "stream",
          "name": "stdout",
          "text": [
            "5\n",
            "8\n",
            "8\n",
            "11\n",
            "19\n",
            "-96\n",
            "-77\n",
            "49\n",
            "-28\n",
            "85\n",
            "57\n"
          ]
        }
      ]
    }
  ]
}