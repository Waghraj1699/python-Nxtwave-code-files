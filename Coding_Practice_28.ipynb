{
  "nbformat": 4,
  "nbformat_minor": 0,
  "metadata": {
    "colab": {
      "provenance": []
    },
    "kernelspec": {
      "name": "python3",
      "display_name": "Python 3"
    },
    "language_info": {
      "name": "python"
    }
  },
  "cells": [
    {
      "cell_type": "markdown",
      "source": [
        "# Same elements"
      ],
      "metadata": {
        "id": "e7EJaObHH8_v"
      }
    },
    {
      "cell_type": "code",
      "execution_count": 2,
      "metadata": {
        "colab": {
          "base_uri": "https://localhost:8080/"
        },
        "id": "KK0TDZmAH4if",
        "outputId": "5ecbf467-0c34-4780-e66b-a99feb1a73ea"
      },
      "outputs": [
        {
          "output_type": "stream",
          "name": "stdout",
          "text": [
            "45 20 45 45 20\n",
            "[20, 45]\n"
          ]
        }
      ],
      "source": [
        "def convert(num):\n",
        "    new_list = []\n",
        "    for i in num:\n",
        "        new_list += [int(i)]\n",
        "    return new_list\n",
        "\n",
        "str_list_num = input().split()\n",
        "str_list_num = convert(str_list_num)\n",
        "\n",
        "if len(set(str_list_num)) == 1:\n",
        "    print(\"True\")\n",
        "else:\n",
        "    list_a = list(set(str_list_num))\n",
        "    print(sorted(list_a))"
      ]
    },
    {
      "cell_type": "markdown",
      "source": [
        "# Extract Numbers"
      ],
      "metadata": {
        "id": "Xjqt39UyIDX6"
      }
    },
    {
      "cell_type": "code",
      "source": [
        "str_list_num = input().split(\",\")\n",
        "new_list = []\n",
        "\n",
        "for i in str_list_num:\n",
        "    if i.isdigit():\n",
        "        new_list += [int(i)]\n",
        "\n",
        "new_list.sort()\n",
        "print(new_list)"
      ],
      "metadata": {
        "colab": {
          "base_uri": "https://localhost:8080/"
        },
        "id": "VIPmI_MzIFMM",
        "outputId": "7319d011-7a06-48a2-c79a-ee6abd8d7207"
      },
      "execution_count": 3,
      "outputs": [
        {
          "output_type": "stream",
          "name": "stdout",
          "text": [
            "1,2,3,#,4\n",
            "[1, 2, 3, 4]\n"
          ]
        }
      ]
    },
    {
      "cell_type": "markdown",
      "source": [
        "# Missing Number"
      ],
      "metadata": {
        "id": "PqBBFNddIF1h"
      }
    },
    {
      "cell_type": "code",
      "source": [
        "str_list_num = input().split()\n",
        "n = int(str_list_num[-1])\n",
        "new_list = []\n",
        "for i in range(1 , n + 1):\n",
        "    if str(i) not in str_list_num:\n",
        "        new_list += [i]\n",
        "new_list.sort()\n",
        "print(new_list)\n",
        ""
      ],
      "metadata": {
        "colab": {
          "base_uri": "https://localhost:8080/"
        },
        "id": "QqK3blJ6IJBE",
        "outputId": "fa0d54fe-04ee-4610-d2b6-79ea4c0f82b4"
      },
      "execution_count": 4,
      "outputs": [
        {
          "output_type": "stream",
          "name": "stdout",
          "text": [
            "1 2 3 5 6 7\n",
            "[4]\n"
          ]
        }
      ]
    },
    {
      "cell_type": "markdown",
      "source": [
        "# set relation"
      ],
      "metadata": {
        "id": "j_ynhuNLIJ5Y"
      }
    },
    {
      "cell_type": "code",
      "source": [
        "def convert(num):\n",
        "    new_list = []\n",
        "    for i in num:\n",
        "        new_list += [int(i)]\n",
        "    return new_list\n",
        "\n",
        "num_set = {1, 2, 3, 4, 5, 6, 7, 8, 9}\n",
        "str_list_num = input().split()\n",
        "list_a = convert(str_list_num)\n",
        "\n",
        "set_a = set(list_a)\n",
        "if num_set.issuperset(list_a):\n",
        "    print(\"Superset\")\n",
        "elif num_set.issubset(list_a):\n",
        "    print(\"Subset\")\n",
        "elif num_set.isdisjoint(list_a):\n",
        "    print(\"Disjoint Set\")\n"
      ],
      "metadata": {
        "colab": {
          "base_uri": "https://localhost:8080/"
        },
        "id": "4JqW0JY_IMrb",
        "outputId": "461d6173-7422-46b4-b572-01c6d124b671"
      },
      "execution_count": 5,
      "outputs": [
        {
          "output_type": "stream",
          "name": "stdout",
          "text": [
            "1 2 3 4 5 6 7 8 9 10 11\n",
            "Subset\n"
          ]
        }
      ]
    },
    {
      "cell_type": "markdown",
      "source": [
        "# Common elements in three sets"
      ],
      "metadata": {
        "id": "Z2Yd3eGcINZr"
      }
    },
    {
      "cell_type": "code",
      "source": [
        "def convert(num):\n",
        "    new_list = []\n",
        "    for i in num:\n",
        "        new_list += [int(i)]\n",
        "    return new_list\n",
        "\n",
        "list_1 = input().split()\n",
        "list_2 = input().split()\n",
        "list_3 = input().split()\n",
        "\n",
        "list_1 = set(convert(list_1))\n",
        "list_2 = set(convert(list_2))\n",
        "list_3 = set(convert(list_3))\n",
        "\n",
        "result = list_3 & list_2 & list_1\n",
        "result = list(result)\n",
        "result.sort()\n",
        "print(result)\n"
      ],
      "metadata": {
        "colab": {
          "base_uri": "https://localhost:8080/"
        },
        "id": "kJFsvBpuIS3Z",
        "outputId": "0ca058b6-d46e-418f-d32a-ab775430970b"
      },
      "execution_count": 6,
      "outputs": [
        {
          "output_type": "stream",
          "name": "stdout",
          "text": [
            "2 4 6 8 10 12\n",
            "2 4 8 12 16\n",
            "2 5 10 12 15 20\n",
            "[2, 12]\n"
          ]
        }
      ]
    },
    {
      "cell_type": "markdown",
      "source": [
        "# Common elements in N sets"
      ],
      "metadata": {
        "id": "P2d5kkMYITph"
      }
    },
    {
      "cell_type": "code",
      "source": [
        "def convert(num):\n",
        "    new_list = []\n",
        "    for i in num:\n",
        "        new_list += [int(i)]\n",
        "    return new_list\n",
        "\n",
        "n = int(input())\n",
        "num_list_set = []\n",
        "for i in range(n):\n",
        "    values = input().split()\n",
        "    values = convert(values)\n",
        "    num_list_set.append(set(values))\n",
        "\n",
        "result = num_list_set[0]\n",
        "for i in num_list_set:\n",
        "    result = result & i\n",
        "\n",
        "result = list(result)\n",
        "result.sort()\n",
        "print(result)\n",
        ""
      ],
      "metadata": {
        "colab": {
          "base_uri": "https://localhost:8080/"
        },
        "id": "HfCV2AOqIXME",
        "outputId": "b5c858e4-7061-40d7-b6c8-078f8ddb1cb7"
      },
      "execution_count": 9,
      "outputs": [
        {
          "output_type": "stream",
          "name": "stdout",
          "text": [
            "4\n",
            "2 4 6 8 10 12\n",
            "2 4 8 12 16 10\n",
            "2 5 10 12 15 20 4\n",
            "12 10 4 8\n",
            "[4, 10, 12]\n"
          ]
        }
      ]
    },
    {
      "cell_type": "markdown",
      "source": [
        "# K sum pairs\n"
      ],
      "metadata": {
        "id": "ZwZmqzm9IYOZ"
      }
    },
    {
      "cell_type": "code",
      "source": [
        "def convert(num):\n",
        "    new_list = []\n",
        "    for i in num:\n",
        "        new_list.append(int(i))\n",
        "    return new_list\n",
        "\n",
        "str_num_list = input().split(\",\")\n",
        "k = int(input())\n",
        "num_list = convert(str_num_list)\n",
        "\n",
        "list_a = []\n",
        "for i in num_list:\n",
        "    for j in num_list:\n",
        "        if (i + j) == k:\n",
        "            pair = i,j\n",
        "            list_a.append(pair)\n",
        "\n",
        "result= []\n",
        "for i in list_a:\n",
        "    m = list(i)\n",
        "    m.sort()\n",
        "    result.append(tuple(m))\n",
        "\n",
        "result = set(result)\n",
        "result = list(result)\n",
        "result.sort()\n",
        "for i in result:\n",
        "    print(i)\n",
        "\n",
        ""
      ],
      "metadata": {
        "colab": {
          "base_uri": "https://localhost:8080/"
        },
        "id": "5FFOMc8RIbqf",
        "outputId": "4bd0e36e-098a-46cc-be38-05f6a15c3d39"
      },
      "execution_count": 10,
      "outputs": [
        {
          "output_type": "stream",
          "name": "stdout",
          "text": [
            "-4,-3,-2,-1,0,1,2,3,4,5,6\n",
            "-1\n",
            "(-4, 3)\n",
            "(-3, 2)\n",
            "(-2, 1)\n",
            "(-1, 0)\n"
          ]
        }
      ]
    },
    {
      "cell_type": "markdown",
      "source": [
        "# Rotate D times"
      ],
      "metadata": {
        "id": "qyUNxAILIceO"
      }
    },
    {
      "cell_type": "code",
      "source": [
        "def convert(num):\n",
        "    new_list = []\n",
        "    for i in num:\n",
        "        new_list += [int(i)]\n",
        "    return new_list\n",
        "\n",
        "str_of_num = input().split(\",\")\n",
        "num_list = convert(str_of_num)\n",
        "\n",
        "d_times = int(input())\n",
        "index = d_times % len(num_list)\n",
        "result = num_list[index:] + num_list[:index]\n",
        "print(result)\n"
      ],
      "metadata": {
        "colab": {
          "base_uri": "https://localhost:8080/"
        },
        "id": "ge19GstdIfBh",
        "outputId": "4b806c81-1fef-4854-9420-e7e7bfe07c03"
      },
      "execution_count": 8,
      "outputs": [
        {
          "output_type": "stream",
          "name": "stdout",
          "text": [
            "1,2,3,4,5\n",
            "2\n",
            "[3, 4, 5, 1, 2]\n"
          ]
        }
      ]
    },
    {
      "cell_type": "markdown",
      "source": [
        "# N greatest Numbers\n"
      ],
      "metadata": {
        "id": "OVecENqfIf3C"
      }
    },
    {
      "cell_type": "code",
      "source": [
        "list_a = [5, 20, 3, 7, 6, 8]\n",
        "list_a.sort()\n",
        "k = int(input())\n",
        "list_len = len(list_a)\n",
        "res = list_a[list_len - k:]\n",
        "for i in range(k):\n",
        "    res[i] = str(res[i])\n",
        "print(\" \".join(res))\n"
      ],
      "metadata": {
        "colab": {
          "base_uri": "https://localhost:8080/"
        },
        "id": "CRM64i5sIjE9",
        "outputId": "999689c1-5ebf-4565-de9f-a1ba1658dd4d"
      },
      "execution_count": 11,
      "outputs": [
        {
          "output_type": "stream",
          "name": "stdout",
          "text": [
            "2\n",
            "8 20\n"
          ]
        }
      ]
    }
  ]
}