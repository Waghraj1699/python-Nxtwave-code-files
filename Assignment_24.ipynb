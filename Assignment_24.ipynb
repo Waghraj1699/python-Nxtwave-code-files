{
  "nbformat": 4,
  "nbformat_minor": 0,
  "metadata": {
    "colab": {
      "provenance": []
    },
    "kernelspec": {
      "name": "python3",
      "display_name": "Python 3"
    },
    "language_info": {
      "name": "python"
    }
  },
  "cells": [
    {
      "cell_type": "markdown",
      "source": [
        "# Find Mean"
      ],
      "metadata": {
        "id": "ESg_EYu2VjEu"
      }
    },
    {
      "cell_type": "code",
      "execution_count": 1,
      "metadata": {
        "colab": {
          "base_uri": "https://localhost:8080/"
        },
        "id": "cG2JA2llVUDT",
        "outputId": "9e3cb478-5fc5-4a53-ea12-fa5653184983"
      },
      "outputs": [
        {
          "output_type": "stream",
          "name": "stdout",
          "text": [
            "2,5,10,15,25,30\n",
            "14.5\n"
          ]
        }
      ],
      "source": [
        "str_1 = input().split(\",\")\n",
        "list_of_num = []\n",
        "for i in str_1:\n",
        "    list_of_num += [int(i)]\n",
        "mean = sum(list_of_num) / len(list_of_num)\n",
        "print(mean)"
      ]
    },
    {
      "cell_type": "markdown",
      "source": [
        "# Kth smallest number"
      ],
      "metadata": {
        "id": "7HksOW30Wcwn"
      }
    },
    {
      "cell_type": "code",
      "source": [
        "str_1 = input().split(\",\")\n",
        "k = int(input())\n",
        "list_of_num = []\n",
        "for i in str_1:\n",
        "    list_of_num += [int(i)]\n",
        "list_of_num = sorted(list_of_num)\n",
        "print(list_of_num[k-1])"
      ],
      "metadata": {
        "colab": {
          "base_uri": "https://localhost:8080/"
        },
        "id": "mX3x1y3sWkZx",
        "outputId": "6da8c18d-fdc5-4586-f523-629604fa8100"
      },
      "execution_count": 2,
      "outputs": [
        {
          "output_type": "stream",
          "name": "stdout",
          "text": [
            "2,3,-1,5\n",
            "2\n",
            "2\n"
          ]
        }
      ]
    },
    {
      "cell_type": "markdown",
      "source": [
        "# Median of numbers in the list"
      ],
      "metadata": {
        "id": "R6pBP7yLWlZ2"
      }
    },
    {
      "cell_type": "code",
      "source": [
        "str_1 = input().split(\",\")\n",
        "list_of_num = []\n",
        "\n",
        "for i in str_1:\n",
        "    list_of_num += [int(i)]\n",
        "list_of_num = sorted(list_of_num)\n",
        "if len(list_of_num) % 2 != 0:\n",
        "    median = list_of_num[len(list_of_num) // 2]\n",
        "else:\n",
        "    a = list_of_num[int(len(list_of_num) / 2)]\n",
        "    b = list_of_num[int(len(list_of_num) / 2) - 1]\n",
        "    median = (a + b) / 2\n",
        "\n",
        "print(median)"
      ],
      "metadata": {
        "colab": {
          "base_uri": "https://localhost:8080/"
        },
        "id": "c-JpvSStWqHn",
        "outputId": "420515f4-3cfa-4d6d-ba88-ec75357c094e"
      },
      "execution_count": 4,
      "outputs": [
        {
          "output_type": "stream",
          "name": "stdout",
          "text": [
            "5,7,3,9,8,10\n",
            "7.5\n"
          ]
        }
      ]
    },
    {
      "cell_type": "markdown",
      "source": [
        "# Smallest number in the list - 3"
      ],
      "metadata": {
        "id": "1CM-yQ2UWrHq"
      }
    },
    {
      "cell_type": "code",
      "source": [
        "str_1 = input().split(\",\")\n",
        "k = int(input())\n",
        "\n",
        "list_of_num = []\n",
        "for i in str_1:\n",
        "    list_of_num += [int(i)]\n",
        "print(min(list_of_num[k:]))"
      ],
      "metadata": {
        "colab": {
          "base_uri": "https://localhost:8080/"
        },
        "id": "I-oXtpqdWvhV",
        "outputId": "09c55eef-30b0-4618-f3cc-959f68ce7d5c"
      },
      "execution_count": 5,
      "outputs": [
        {
          "output_type": "stream",
          "name": "stdout",
          "text": [
            "1,9,3,1,2,7,4,8\n",
            "2\n",
            "1\n"
          ]
        }
      ]
    },
    {
      "cell_type": "markdown",
      "source": [
        "# smallest sum of N elements"
      ],
      "metadata": {
        "id": "wtkCCp9SWwiJ"
      }
    },
    {
      "cell_type": "code",
      "source": [
        "str_1 = input().split(\",\")\n",
        "n = int(input())\n",
        "\n",
        "list_of_num = []\n",
        "for i in str_1:\n",
        "    list_of_num += [int(i)]\n",
        "\n",
        "list_of_num = sorted(list_of_num)\n",
        "print(sum(list_of_num[:n]))"
      ],
      "metadata": {
        "colab": {
          "base_uri": "https://localhost:8080/"
        },
        "id": "w4fKMgx5W4af",
        "outputId": "6e577a8d-7662-40c4-ca20-d8a524826877"
      },
      "execution_count": 6,
      "outputs": [
        {
          "output_type": "stream",
          "name": "stdout",
          "text": [
            "2,10,9,6,5\n",
            "3\n",
            "13\n"
          ]
        }
      ]
    }
  ]
}