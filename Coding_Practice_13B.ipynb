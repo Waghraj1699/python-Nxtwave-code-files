{
  "nbformat": 4,
  "nbformat_minor": 0,
  "metadata": {
    "colab": {
      "provenance": []
    },
    "kernelspec": {
      "name": "python3",
      "display_name": "Python 3"
    },
    "language_info": {
      "name": "python"
    }
  },
  "cells": [
    {
      "cell_type": "markdown",
      "source": [
        "# Numbers in Square - 3"
      ],
      "metadata": {
        "id": "I0t1mfKvZqQP"
      }
    },
    {
      "cell_type": "code",
      "execution_count": 10,
      "metadata": {
        "colab": {
          "base_uri": "https://localhost:8080/"
        },
        "id": "gN43QpAsZgV2",
        "outputId": "e251bb7b-db58-4dcd-ccd7-72707a705493"
      },
      "outputs": [
        {
          "output_type": "stream",
          "name": "stdout",
          "text": [
            "5\n",
            "1 2 3 4 5 \n",
            "6 7 8 9 10 \n",
            "11 12 13 14 15 \n",
            "16 17 18 19 20 \n",
            "21 22 23 24 25 \n"
          ]
        }
      ],
      "source": [
        "n = int(input())\n",
        "k = 1\n",
        "for i in range(1 , n + 1):\n",
        "    for j in range(1 , n + 1):\n",
        "        print(k , end=\" \")\n",
        "        k = k + 1\n",
        "    print()"
      ]
    },
    {
      "cell_type": "markdown",
      "source": [
        "# Numbers in Right Angled Triangle - 3"
      ],
      "metadata": {
        "id": "NuiTP-mXZwsV"
      }
    },
    {
      "cell_type": "code",
      "source": [
        "s = int(input())\n",
        "n = int(input())\n",
        "\n",
        "for i in range(1 , n + 1):\n",
        "    for j in range(1, i + 1):\n",
        "        print(s,end=\" \")\n",
        "        s = s + 1\n",
        "    print()"
      ],
      "metadata": {
        "colab": {
          "base_uri": "https://localhost:8080/"
        },
        "id": "Yc9K14smZ1vO",
        "outputId": "5815cf1f-4fe8-404e-c586-dace8343b463"
      },
      "execution_count": 9,
      "outputs": [
        {
          "output_type": "stream",
          "name": "stdout",
          "text": [
            "10\n",
            "5\n",
            "10 \n",
            "11 12 \n",
            "13 14 15 \n",
            "16 17 18 19 \n",
            "20 21 22 23 24 \n"
          ]
        }
      ]
    },
    {
      "cell_type": "markdown",
      "source": [
        "# Numbers in Right Angled Triangle - 4"
      ],
      "metadata": {
        "id": "sbqbstr1Z2fW"
      }
    },
    {
      "cell_type": "code",
      "source": [
        "s = int(input())\n",
        "n = int(input())\n",
        "\n",
        "for i in range(1 , n + 1):\n",
        "    for j in range(1 , 2*i + 1):\n",
        "        print(s,end=\" \")\n",
        "        s = s + 1\n",
        "    print()\n",
        ""
      ],
      "metadata": {
        "colab": {
          "base_uri": "https://localhost:8080/"
        },
        "id": "BrGbYqwuZ7OU",
        "outputId": "b7a135e2-fe3e-413f-c8e3-2a94384b1688"
      },
      "execution_count": 8,
      "outputs": [
        {
          "output_type": "stream",
          "name": "stdout",
          "text": [
            "2\n",
            "4\n",
            "2 3 \n",
            "4 5 6 7 \n",
            "8 9 10 11 12 13 \n",
            "14 15 16 17 18 19 20 21 \n"
          ]
        }
      ]
    },
    {
      "cell_type": "markdown",
      "source": [
        "# Numbers in Rectangle - 3"
      ],
      "metadata": {
        "id": "3vnpezXzZ7r1"
      }
    },
    {
      "cell_type": "code",
      "source": [
        "m = int(input())\n",
        "n = int(input())\n",
        "\n",
        "k = m * n\n",
        "for i in range(1 , m + 1):\n",
        "    for j in range(1 , n + 1):\n",
        "        print(k,end=\" \")\n",
        "        k = k - 1\n",
        "    print()"
      ],
      "metadata": {
        "colab": {
          "base_uri": "https://localhost:8080/"
        },
        "id": "gxGZeYQjaAdv",
        "outputId": "82b007a7-31db-4771-94be-386aa8fc85ff"
      },
      "execution_count": 7,
      "outputs": [
        {
          "output_type": "stream",
          "name": "stdout",
          "text": [
            "6\n",
            "5\n",
            "30 29 28 27 26 \n",
            "25 24 23 22 21 \n",
            "20 19 18 17 16 \n",
            "15 14 13 12 11 \n",
            "10 9 8 7 6 \n",
            "5 4 3 2 1 \n"
          ]
        }
      ]
    },
    {
      "cell_type": "markdown",
      "source": [
        "# Numbers in Inverted Right Angled Triangle - 2"
      ],
      "metadata": {
        "id": "mA2w5v5FaBL2"
      }
    },
    {
      "cell_type": "code",
      "source": [
        "n = int(input())\n",
        "k = 0\n",
        "\n",
        "for i in range(1 , n + 1):\n",
        "    k = k + i\n",
        "for i in range(1 , n + 1):\n",
        "    spaces = (\" \") * (2*(i - 1))\n",
        "    print(spaces,end=\"\")\n",
        "    for j in range(1 , n + 2 - i):\n",
        "        print(k , end=\" \")\n",
        "        k = k - 1\n",
        "    print()"
      ],
      "metadata": {
        "colab": {
          "base_uri": "https://localhost:8080/"
        },
        "id": "GbWj5ZdsaIGy",
        "outputId": "c6632a75-a105-46d6-9501-51ac958e4b6d"
      },
      "execution_count": 6,
      "outputs": [
        {
          "output_type": "stream",
          "name": "stdout",
          "text": [
            "5\n",
            "15 14 13 12 11 \n",
            "  10 9 8 7 \n",
            "    6 5 4 \n",
            "      3 2 \n",
            "        1 \n"
          ]
        }
      ]
    },
    {
      "cell_type": "markdown",
      "source": [
        "# Numbers in Right Angled Triangle - 5"
      ],
      "metadata": {
        "id": "ahMIHJz_aJiq"
      }
    },
    {
      "cell_type": "code",
      "source": [
        "s = int(input())\n",
        "n = int(input())\n",
        "\n",
        "k = 0\n",
        "for i in range(1 , n + 1):\n",
        "    k = k + i\n",
        "s = k + s - 1\n",
        "\n",
        "for i in range(1 , n + 1):\n",
        "    for j in range(1 , i + 1):\n",
        "        print(s,end=\" \")\n",
        "        s = s - 1\n",
        "    print()"
      ],
      "metadata": {
        "colab": {
          "base_uri": "https://localhost:8080/"
        },
        "id": "KaSje9BYaNmF",
        "outputId": "2a97f0d4-fd82-441e-ad79-483aa14adbe1"
      },
      "execution_count": 5,
      "outputs": [
        {
          "output_type": "stream",
          "name": "stdout",
          "text": [
            "6\n",
            "4\n",
            "15 \n",
            "14 13 \n",
            "12 11 10 \n",
            "9 8 7 6 \n"
          ]
        }
      ]
    },
    {
      "cell_type": "markdown",
      "source": [
        "# Numbers in Right Angled Triangle - 6"
      ],
      "metadata": {
        "id": "ZfqlqJ-KaOUL"
      }
    },
    {
      "cell_type": "code",
      "source": [
        "n = int(input())\n",
        "\n",
        "for i in range(1 , n + 1):\n",
        "    for j in range(1, i + 1):\n",
        "        print(j , end=\" \")\n",
        "    for k in range(1, i):\n",
        "        print(k ,end=\" \")\n",
        "    print()"
      ],
      "metadata": {
        "colab": {
          "base_uri": "https://localhost:8080/"
        },
        "id": "dc8RR-7saSMn",
        "outputId": "87076bc4-9896-416c-eed6-b447007ab3e0"
      },
      "execution_count": 4,
      "outputs": [
        {
          "output_type": "stream",
          "name": "stdout",
          "text": [
            "3\n",
            "1 \n",
            "1 2 1 \n",
            "1 2 3 1 2 \n"
          ]
        }
      ]
    },
    {
      "cell_type": "markdown",
      "source": [
        "# Pair of Numbers"
      ],
      "metadata": {
        "id": "vabVAGDsaS9I"
      }
    },
    {
      "cell_type": "code",
      "source": [
        "n = int(input())\n",
        "count = 0\n",
        "\n",
        "for i in range(1 , n + 1):\n",
        "    for j in range(i + 1 , n + 1):\n",
        "        if i + j == n:\n",
        "            count = count + 1\n",
        "\n",
        "print(count)"
      ],
      "metadata": {
        "colab": {
          "base_uri": "https://localhost:8080/"
        },
        "id": "rJ_j4fBQaX6v",
        "outputId": "ca2071a9-04a8-4ddb-cf5c-493f7139e17f"
      },
      "execution_count": 3,
      "outputs": [
        {
          "output_type": "stream",
          "name": "stdout",
          "text": [
            "7\n",
            "3\n"
          ]
        }
      ]
    },
    {
      "cell_type": "markdown",
      "source": [
        "# Triplets of Numbers"
      ],
      "metadata": {
        "id": "CNM24b9KaYxw"
      }
    },
    {
      "cell_type": "code",
      "source": [
        "n = int(input())\n",
        "count = 0\n",
        "for i in range(1 , n + 1):\n",
        "    for j in range(i + 1, n + 1):\n",
        "        for k in range(j + 1 , n + 1):\n",
        "            if i + j + k == n :\n",
        "                count = count + 1\n",
        "print(count)"
      ],
      "metadata": {
        "colab": {
          "base_uri": "https://localhost:8080/"
        },
        "id": "FYC4xXfnac8W",
        "outputId": "444d42e6-9692-4e9b-b404-19cf07d389c5"
      },
      "execution_count": 2,
      "outputs": [
        {
          "output_type": "stream",
          "name": "stdout",
          "text": [
            "10\n",
            "4\n"
          ]
        }
      ]
    },
    {
      "cell_type": "markdown",
      "source": [
        "# Inverted Half Pyramid - 2"
      ],
      "metadata": {
        "id": "nuTWpUhNadnL"
      }
    },
    {
      "cell_type": "code",
      "source": [
        "n = int(input())\n",
        "\n",
        "for row_num in range(1,n+1):\n",
        "    row_output = \"\"\n",
        "    seq_num = n + 1 - row_num\n",
        "    while seq_num > 0:\n",
        "        row_output = row_output + str(seq_num)\n",
        "        seq_num = seq_num - 1\n",
        "    print(row_output)\n"
      ],
      "metadata": {
        "colab": {
          "base_uri": "https://localhost:8080/"
        },
        "id": "py9vlmZ-aiG0",
        "outputId": "8e3e7a6c-f9d2-46eb-8622-b311151e13f0"
      },
      "execution_count": 1,
      "outputs": [
        {
          "output_type": "stream",
          "name": "stdout",
          "text": [
            "5\n",
            "54321\n",
            "4321\n",
            "321\n",
            "21\n",
            "1\n"
          ]
        }
      ]
    }
  ]
}