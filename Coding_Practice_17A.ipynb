{
  "nbformat": 4,
  "nbformat_minor": 0,
  "metadata": {
    "colab": {
      "provenance": []
    },
    "kernelspec": {
      "name": "python3",
      "display_name": "Python 3"
    },
    "language_info": {
      "name": "python"
    }
  },
  "cells": [
    {
      "cell_type": "markdown",
      "source": [
        "# Print Unicode Values"
      ],
      "metadata": {
        "id": "nDdeUX2BsNHv"
      }
    },
    {
      "cell_type": "code",
      "execution_count": 1,
      "metadata": {
        "colab": {
          "base_uri": "https://localhost:8080/"
        },
        "id": "JEBLebNjr8MY",
        "outputId": "51bd7c06-5930-4bed-ee64-4c059b2f16e4"
      },
      "outputs": [
        {
          "output_type": "stream",
          "name": "stdout",
          "text": [
            "code\n",
            "99\n",
            "111\n",
            "100\n",
            "101\n"
          ]
        }
      ],
      "source": [
        "s = input()\n",
        "\n",
        "for i in s:\n",
        "    print(ord(i))"
      ]
    },
    {
      "cell_type": "markdown",
      "source": [
        "# Count of Characters"
      ],
      "metadata": {
        "id": "v790UAvas8Up"
      }
    },
    {
      "cell_type": "code",
      "source": [
        "s = input()\n",
        "n = int(input())\n",
        "\n",
        "count = 0\n",
        "\n",
        "for i in s:\n",
        "    if ord(i) == n:\n",
        "        count += 1\n",
        "print(count)"
      ],
      "metadata": {
        "colab": {
          "base_uri": "https://localhost:8080/"
        },
        "id": "I-eb08TPvtHE",
        "outputId": "bfe1d92f-b261-4c8e-a620-6089a7a83b9d"
      },
      "execution_count": 2,
      "outputs": [
        {
          "output_type": "stream",
          "name": "stdout",
          "text": [
            "Google\n",
            "111\n",
            "2\n"
          ]
        }
      ]
    },
    {
      "cell_type": "markdown",
      "source": [
        "# Smallest Letter"
      ],
      "metadata": {
        "id": "4Q0Zo0wkv43F"
      }
    },
    {
      "cell_type": "code",
      "source": [
        "s = input()\n",
        "\n",
        "smallest_ch = s[0]\n",
        "\n",
        "for i in s:\n",
        "    if ord(i) < ord(smallest_ch):\n",
        "        smallest_ch = i\n",
        "\n",
        "print(smallest_ch)"
      ],
      "metadata": {
        "colab": {
          "base_uri": "https://localhost:8080/"
        },
        "id": "3YX_IGCLv_nD",
        "outputId": "8f789977-3283-4f37-da23-18644991478c"
      },
      "execution_count": 3,
      "outputs": [
        {
          "output_type": "stream",
          "name": "stdout",
          "text": [
            "edit\n",
            "d\n"
          ]
        }
      ]
    },
    {
      "cell_type": "markdown",
      "source": [
        "# Unicode value of First uppercase letter"
      ],
      "metadata": {
        "id": "g2RF3gRUwH6U"
      }
    },
    {
      "cell_type": "code",
      "source": [
        "s = input()\n",
        "\n",
        "for i in s:\n",
        "    if i == i.upper():\n",
        "        print(ord(i))\n",
        "        break"
      ],
      "metadata": {
        "colab": {
          "base_uri": "https://localhost:8080/"
        },
        "id": "8Ecgx0HrwTmj",
        "outputId": "1f43e3c7-2c3f-4e08-a27a-228e9a0d356e"
      },
      "execution_count": 4,
      "outputs": [
        {
          "output_type": "stream",
          "name": "stdout",
          "text": [
            "proGrammer\n",
            "71\n"
          ]
        }
      ]
    },
    {
      "cell_type": "markdown",
      "source": [
        "# Print Character - 2"
      ],
      "metadata": {
        "id": "FZoewmtkwb-w"
      }
    },
    {
      "cell_type": "code",
      "source": [
        "m = int(input())\n",
        "n = int(input())\n",
        "\n",
        "for i in range(m , n + 1):\n",
        "    print(chr(i))"
      ],
      "metadata": {
        "colab": {
          "base_uri": "https://localhost:8080/"
        },
        "id": "dlbRUe54whkD",
        "outputId": "d949e6c7-9e64-4037-fc40-f55988f1ef9a"
      },
      "execution_count": 5,
      "outputs": [
        {
          "output_type": "stream",
          "name": "stdout",
          "text": [
            "65\n",
            "71\n",
            "A\n",
            "B\n",
            "C\n",
            "D\n",
            "E\n",
            "F\n",
            "G\n"
          ]
        }
      ]
    },
    {
      "cell_type": "markdown",
      "source": [
        "# Print characters - 3"
      ],
      "metadata": {
        "id": "IGj6zG2_woWw"
      }
    },
    {
      "cell_type": "code",
      "source": [
        "n = int(input())\n",
        "result = \"\"\n",
        "for i in range(1 , n + 1):\n",
        "    m = int(input())\n",
        "    result += chr(m)\n",
        "\n",
        "print(result)"
      ],
      "metadata": {
        "colab": {
          "base_uri": "https://localhost:8080/"
        },
        "id": "gyQMyJlywq8z",
        "outputId": "d5f6a32c-bcfb-4f24-8450-08490f964343"
      },
      "execution_count": 6,
      "outputs": [
        {
          "output_type": "stream",
          "name": "stdout",
          "text": [
            "3\n",
            "67\n",
            "97\n",
            "114\n",
            "Car\n"
          ]
        }
      ]
    },
    {
      "cell_type": "markdown",
      "source": [
        "# Shape"
      ],
      "metadata": {
        "id": "nRQxgldTxDlB"
      }
    },
    {
      "cell_type": "code",
      "source": [
        "n = int(input())\n",
        "for i in range(1, n + 1):\n",
        "    row_out = \" \" * (n-i)\n",
        "    row_out = row_out + \"$\" * n\n",
        "    print(row_out)\n"
      ],
      "metadata": {
        "colab": {
          "base_uri": "https://localhost:8080/"
        },
        "id": "okVbgkmOxLKl",
        "outputId": "26d157e5-1a7d-489c-c489-b670873b363a"
      },
      "execution_count": 7,
      "outputs": [
        {
          "output_type": "stream",
          "name": "stdout",
          "text": [
            "5\n",
            "    $$$$$\n",
            "   $$$$$\n",
            "  $$$$$\n",
            " $$$$$\n",
            "$$$$$\n"
          ]
        }
      ]
    }
  ]
}