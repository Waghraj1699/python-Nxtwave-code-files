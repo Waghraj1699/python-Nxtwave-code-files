{
  "nbformat": 4,
  "nbformat_minor": 0,
  "metadata": {
    "colab": {
      "provenance": []
    },
    "kernelspec": {
      "name": "python3",
      "display_name": "Python 3"
    },
    "language_info": {
      "name": "python"
    }
  },
  "cells": [
    {
      "cell_type": "markdown",
      "source": [
        "# Evens and Odds"
      ],
      "metadata": {
        "id": "Asr6t1JOaFwJ"
      }
    },
    {
      "cell_type": "code",
      "execution_count": 8,
      "metadata": {
        "colab": {
          "base_uri": "https://localhost:8080/"
        },
        "id": "jNk-JyM7Z_De",
        "outputId": "7da7d099-b26f-4a3d-d20b-1064b246c653"
      },
      "outputs": [
        {
          "output_type": "stream",
          "name": "stdout",
          "text": [
            "2\n",
            "11\n",
            "5\n",
            "5\n"
          ]
        }
      ],
      "source": [
        "m = int(input())\n",
        "n = int(input())\n",
        "\n",
        "even_count = 0\n",
        "odd_count = 0\n",
        "\n",
        "for i in range(m , n + 1):\n",
        "    if i % 2 == 0:\n",
        "        even_count += 1\n",
        "    else:\n",
        "        odd_count += 1\n",
        "\n",
        "print(odd_count)\n",
        "print(even_count)"
      ]
    },
    {
      "cell_type": "markdown",
      "source": [
        "# Special Characters"
      ],
      "metadata": {
        "id": "68ZdvEZDaLrH"
      }
    },
    {
      "cell_type": "code",
      "source": [
        "string = input()\n",
        "vowels = 0\n",
        "consonants = 0\n",
        "\n",
        "for i in string:\n",
        "    if i in \"AEIOUaeiou\":\n",
        "        vowels += 1\n",
        "    else:\n",
        "        if i == \" \":\n",
        "            consonants += 0\n",
        "        else:\n",
        "            consonants += 1\n",
        "\n",
        "print(vowels)\n",
        "print(consonants)"
      ],
      "metadata": {
        "colab": {
          "base_uri": "https://localhost:8080/"
        },
        "id": "KqAJE6WcaOga",
        "outputId": "de36080b-712d-44ad-f4f0-02b4e9d74b4b"
      },
      "execution_count": 7,
      "outputs": [
        {
          "output_type": "stream",
          "name": "stdout",
          "text": [
            "Good Morning\n",
            "4\n",
            "7\n"
          ]
        }
      ]
    },
    {
      "cell_type": "markdown",
      "source": [
        "# One Color"
      ],
      "metadata": {
        "id": "HMuHm0HaaPYY"
      }
    },
    {
      "cell_type": "code",
      "source": [
        "string = input()\n",
        "string = string.upper()\n",
        "\n",
        "count_green = 0\n",
        "count_red = 0\n",
        "\n",
        "for i in string:\n",
        "    if i == \"G\":\n",
        "        count_green += 1\n",
        "    elif i == \"R\":\n",
        "        count_red += 1\n",
        "\n",
        "if count_red > count_green:\n",
        "    print(count_green)\n",
        "else:\n",
        "    print(count_red)\n"
      ],
      "metadata": {
        "colab": {
          "base_uri": "https://localhost:8080/"
        },
        "id": "D-PtPu0WaSdf",
        "outputId": "9ecfd8a7-da8e-45c7-fb87-c25fae8f0d42"
      },
      "execution_count": 6,
      "outputs": [
        {
          "output_type": "stream",
          "name": "stdout",
          "text": [
            "GGGGGGR\n",
            "1\n"
          ]
        }
      ]
    },
    {
      "cell_type": "markdown",
      "source": [
        "# Alphabetic Symbol"
      ],
      "metadata": {
        "id": "RFd9T4F5aTdp"
      }
    },
    {
      "cell_type": "code",
      "source": [
        "n = int(input())\n",
        "k = \"ABCDEFGHIJKLMOPQRSTUVWXYZ\"\n",
        "\n",
        "for i in range(1 , n + 1):\n",
        "    for j in range(1 , i + 1):\n",
        "        print(k[j - 1],end=\" \")\n",
        "    print()"
      ],
      "metadata": {
        "colab": {
          "base_uri": "https://localhost:8080/"
        },
        "id": "N20amle7aYML",
        "outputId": "2b9d2b05-61d5-49f3-bc81-bec06c191e75"
      },
      "execution_count": 5,
      "outputs": [
        {
          "output_type": "stream",
          "name": "stdout",
          "text": [
            "5\n",
            "A \n",
            "A B \n",
            "A B C \n",
            "A B C D \n",
            "A B C D E \n"
          ]
        }
      ]
    },
    {
      "cell_type": "markdown",
      "source": [
        "# Right Triangle"
      ],
      "metadata": {
        "id": "OdVZ_cxpaY9A"
      }
    },
    {
      "cell_type": "code",
      "source": [
        "n = int(input())\n",
        "\n",
        "for i in range(1 , n + 1):\n",
        "    for j in range(1 , i + 1):\n",
        "        print(j,end=\"\")\n",
        "    for k in range(1, i):\n",
        "        print(i - k,end=\"\")\n",
        "    print()"
      ],
      "metadata": {
        "colab": {
          "base_uri": "https://localhost:8080/"
        },
        "id": "JvZNw3SbacNm",
        "outputId": "62868571-f905-43ee-8b8b-5968f72f3e9b"
      },
      "execution_count": 4,
      "outputs": [
        {
          "output_type": "stream",
          "name": "stdout",
          "text": [
            "7\n",
            "1\n",
            "121\n",
            "12321\n",
            "1234321\n",
            "123454321\n",
            "12345654321\n",
            "1234567654321\n"
          ]
        }
      ]
    },
    {
      "cell_type": "markdown",
      "source": [
        "# Case Conversions"
      ],
      "metadata": {
        "id": "-izWYIacadRP"
      }
    },
    {
      "cell_type": "code",
      "source": [
        "string = input()\n",
        "result = string[0].lower()\n",
        "\n",
        "for i in string[1:]:\n",
        "    if i == i.upper():\n",
        "        result += \"_\" + i.lower()\n",
        "    else:\n",
        "        result += i\n",
        "\n",
        "print(result)"
      ],
      "metadata": {
        "colab": {
          "base_uri": "https://localhost:8080/"
        },
        "id": "FBgC6PAAahNr",
        "outputId": "759fec0b-bd3e-439c-da1e-1c52551b6e13"
      },
      "execution_count": 3,
      "outputs": [
        {
          "output_type": "stream",
          "name": "stdout",
          "text": [
            "PythonLearning\n",
            "python_learning\n"
          ]
        }
      ]
    },
    {
      "cell_type": "markdown",
      "source": [
        "# Sum of Non Primes"
      ],
      "metadata": {
        "id": "jl-mVHHHaiKZ"
      }
    },
    {
      "cell_type": "code",
      "source": [
        "n = int(input())\n",
        "sum = 0\n",
        "\n",
        "for i in range(1 , n + 1):\n",
        "    factors = 0\n",
        "    m = int(input())\n",
        "    if m > 1:\n",
        "        for j in range(2, m):\n",
        "            if m % j == 0:\n",
        "                factors += 1\n",
        "    if not(factors==0):\n",
        "        sum += m\n",
        "\n",
        "print(sum)"
      ],
      "metadata": {
        "colab": {
          "base_uri": "https://localhost:8080/"
        },
        "id": "mz62WMRjak2E",
        "outputId": "37767e17-65ce-4e1a-c560-6f5927a8f5cb"
      },
      "execution_count": 2,
      "outputs": [
        {
          "output_type": "stream",
          "name": "stdout",
          "text": [
            "5\n",
            "8\n",
            "11\n",
            "96\n",
            "49\n",
            "25\n",
            "178\n"
          ]
        }
      ]
    },
    {
      "cell_type": "markdown",
      "source": [
        "# SandGlass Star"
      ],
      "metadata": {
        "id": "SLkjeMbzal40"
      }
    },
    {
      "cell_type": "code",
      "source": [
        "n = int(input())\n",
        "\n",
        "for i in range(1 , n + 1):\n",
        "    space = (\" \") * ( i - 1 )\n",
        "    stars = (\"* \") * (n + 1 - i)\n",
        "    row = space + stars\n",
        "    print(row)\n",
        "for j in range(2 , n + 1):\n",
        "    space = (\" \") * (n - j)\n",
        "    stars = (\"* \") * j\n",
        "    row = space + stars\n",
        "    print(row)"
      ],
      "metadata": {
        "colab": {
          "base_uri": "https://localhost:8080/"
        },
        "id": "wK4PO4nParM1",
        "outputId": "fb071907-7b2d-4c42-8c76-af61d6f4eaf8"
      },
      "execution_count": 1,
      "outputs": [
        {
          "output_type": "stream",
          "name": "stdout",
          "text": [
            "8\n",
            "* * * * * * * * \n",
            " * * * * * * * \n",
            "  * * * * * * \n",
            "   * * * * * \n",
            "    * * * * \n",
            "     * * * \n",
            "      * * \n",
            "       * \n",
            "      * * \n",
            "     * * * \n",
            "    * * * * \n",
            "   * * * * * \n",
            "  * * * * * * \n",
            " * * * * * * * \n",
            "* * * * * * * * \n"
          ]
        }
      ]
    }
  ]
}