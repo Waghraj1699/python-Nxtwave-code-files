{
  "nbformat": 4,
  "nbformat_minor": 0,
  "metadata": {
    "colab": {
      "provenance": []
    },
    "kernelspec": {
      "name": "python3",
      "display_name": "Python 3"
    },
    "language_info": {
      "name": "python"
    }
  },
  "cells": [
    {
      "cell_type": "code",
      "execution_count": null,
      "metadata": {
        "colab": {
          "base_uri": "https://localhost:8080/"
        },
        "id": "VSQm8XdSeDP6",
        "outputId": "25d71075-744a-4fca-b3c5-76dfcd9d2239"
      },
      "outputs": [
        {
          "output_type": "stream",
          "name": "stdout",
          "text": [
            "5\n",
            "* * * * * \n",
            "* 0 0 0 * \n",
            "* 0 0 0 * \n",
            "* 0 0 0 * \n",
            "* * * * * \n"
          ]
        }
      ],
      "source": [
        "#  Square - 3\n",
        "\n",
        "n = int(input())\n",
        "\n",
        "for i in range(1 , n + 1):\n",
        "    if (i==1) or (i==n):\n",
        "        row = (\"* \") * n\n",
        "    else:\n",
        "        zeros = (\"0 \") * (n - 2)\n",
        "        row = (\"* \") + zeros + (\"* \")\n",
        "    print(row)"
      ]
    },
    {
      "cell_type": "code",
      "source": [
        "# rectangle - 4\n",
        "\n",
        "m = int(input())\n",
        "n = int(input())\n",
        "\n",
        "for i in range(1 , m + 1):\n",
        "    if (i==1) or (i==m):\n",
        "        row = (\"* \") * n\n",
        "    else:\n",
        "        zeros = (\"0 \") * (n - 2)\n",
        "        row = (\"* \") + zeros + (\"* \")\n",
        "    print(row)"
      ],
      "metadata": {
        "colab": {
          "base_uri": "https://localhost:8080/"
        },
        "id": "B-1Ljay8eaC5",
        "outputId": "ceeda96c-81b0-4ced-c0e8-b9a68fb21636"
      },
      "execution_count": null,
      "outputs": [
        {
          "output_type": "stream",
          "name": "stdout",
          "text": [
            "5\n",
            "4\n",
            "* * * * \n",
            "* 0 0 * \n",
            "* 0 0 * \n",
            "* 0 0 * \n",
            "* * * * \n"
          ]
        }
      ]
    },
    {
      "cell_type": "code",
      "source": [
        "# Right angled Triangle - 9\n",
        "\n",
        "n = int(input())\n",
        "\n",
        "for i in range(1, n + 1):\n",
        "    if (i==1):\n",
        "        row = (\". \")\n",
        "    elif (i==n):\n",
        "        row = (\". \") * n\n",
        "    else:\n",
        "        zeros = (\"0 \") * (i - 2)\n",
        "        row = (\". \") + zeros + (\". \")\n",
        "    print(row)"
      ],
      "metadata": {
        "colab": {
          "base_uri": "https://localhost:8080/"
        },
        "id": "UqpAvBXIeluV",
        "outputId": "8488f294-6d9a-44e8-cfe9-c22df2ac7624"
      },
      "execution_count": null,
      "outputs": [
        {
          "output_type": "stream",
          "name": "stdout",
          "text": [
            "5\n",
            ". \n",
            ". . \n",
            ". 0 . \n",
            ". 0 0 . \n",
            ". . . . . \n"
          ]
        }
      ]
    },
    {
      "cell_type": "code",
      "source": [
        "# Hollow Square\n",
        "\n",
        "n = int(input())\n",
        "\n",
        "for i in range(1, n + 1):\n",
        "    if (i==1) or (i==n):\n",
        "        row = (\"* \") * n\n",
        "    else:\n",
        "        spaces = (\" \") * (2*n - 4)\n",
        "        row = (\"* \") + spaces + (\"* \")\n",
        "    print(row)"
      ],
      "metadata": {
        "colab": {
          "base_uri": "https://localhost:8080/"
        },
        "id": "ReENamPQes-H",
        "outputId": "ade351db-b0e2-4913-d0cc-96e092dc2fef"
      },
      "execution_count": null,
      "outputs": [
        {
          "output_type": "stream",
          "name": "stdout",
          "text": [
            "5\n",
            "* * * * * \n",
            "*       * \n",
            "*       * \n",
            "*       * \n",
            "* * * * * \n"
          ]
        }
      ]
    },
    {
      "cell_type": "code",
      "source": [
        "# Hollow Rectangle\n",
        "\n",
        "m = int(input())\n",
        "n = int(input())\n",
        "\n",
        "for i in range(1 , m + 1):\n",
        "    if (i==1) or (i==m):\n",
        "        row = (\"* \") * n\n",
        "    else:\n",
        "        spaces = (\" \") * (2*n - 4)\n",
        "        row = (\"* \") + spaces + (\"* \")\n",
        "    print(row)"
      ],
      "metadata": {
        "colab": {
          "base_uri": "https://localhost:8080/"
        },
        "id": "q5TDMzyee1zH",
        "outputId": "d972da7b-6451-4e2d-e7cc-333677c4f89b"
      },
      "execution_count": null,
      "outputs": [
        {
          "output_type": "stream",
          "name": "stdout",
          "text": [
            "5\n",
            "4\n",
            "* * * * \n",
            "*     * \n",
            "*     * \n",
            "*     * \n",
            "* * * * \n"
          ]
        }
      ]
    },
    {
      "cell_type": "code",
      "source": [
        "# Hollow Right angled Triangle\n",
        "\n",
        "n = int(input())\n",
        "\n",
        "for i in range(1, n + 1):\n",
        "    if (i==1):\n",
        "        row = (\"* \")\n",
        "    elif (i==n):\n",
        "        row = (\"* \") * n\n",
        "    else:\n",
        "        spaces = (\" \") * (2*i - 4)\n",
        "        row = (\"* \") + spaces + (\"* \")\n",
        "    print(row)"
      ],
      "metadata": {
        "colab": {
          "base_uri": "https://localhost:8080/"
        },
        "id": "6ZTM9BdKe-B_",
        "outputId": "d368ff8e-0599-4fc4-8017-d8261d616b49"
      },
      "execution_count": null,
      "outputs": [
        {
          "output_type": "stream",
          "name": "stdout",
          "text": [
            "5\n",
            "* \n",
            "* * \n",
            "*   * \n",
            "*     * \n",
            "* * * * * \n"
          ]
        }
      ]
    },
    {
      "cell_type": "code",
      "source": [
        "#  Hollow Right angled triangle -2\n",
        "\n",
        "n = int(input())\n",
        "print(\"_\" * (n + 1))\n",
        "\n",
        "for i in range(1 , n + 1):\n",
        "    spaces = (\" \") * (n - i)\n",
        "    row = (\"|\") + spaces + (\"/\")\n",
        "    print(row)"
      ],
      "metadata": {
        "colab": {
          "base_uri": "https://localhost:8080/"
        },
        "id": "asNbwy4RfM-1",
        "outputId": "e8b0f32d-e973-4f40-88fb-bbefb387d3df"
      },
      "execution_count": null,
      "outputs": [
        {
          "output_type": "stream",
          "name": "stdout",
          "text": [
            "5\n",
            "______\n",
            "|    /\n",
            "|   /\n",
            "|  /\n",
            "| /\n",
            "|/\n"
          ]
        }
      ]
    }
  ]
}