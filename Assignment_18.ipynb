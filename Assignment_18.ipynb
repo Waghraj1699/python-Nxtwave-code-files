{
  "nbformat": 4,
  "nbformat_minor": 0,
  "metadata": {
    "colab": {
      "provenance": []
    },
    "kernelspec": {
      "name": "python3",
      "display_name": "Python 3"
    },
    "language_info": {
      "name": "python"
    }
  },
  "cells": [
    {
      "cell_type": "markdown",
      "source": [
        "# Alphabets in Hollow Diamond"
      ],
      "metadata": {
        "id": "KMC34Oy8cN2F"
      }
    },
    {
      "cell_type": "code",
      "execution_count": 1,
      "metadata": {
        "colab": {
          "base_uri": "https://localhost:8080/"
        },
        "id": "Xz5XHqmIcF8G",
        "outputId": "4233f369-3d80-4a7e-9eca-2658c5f66aea"
      },
      "outputs": [
        {
          "output_type": "stream",
          "name": "stdout",
          "text": [
            "7\n",
            "      A\n",
            "     B C\n",
            "    D   E\n",
            "   F     G\n",
            "  H       I\n",
            " J         K\n",
            "L           M\n",
            " J         K\n",
            "  H       I\n",
            "   F     G\n",
            "    D   E\n",
            "     B C\n",
            "      A\n"
          ]
        }
      ],
      "source": [
        "n = int(input())\n",
        "alpha = 65\n",
        "\n",
        "for i in range(1 , n + 1):\n",
        "    if (i==1):\n",
        "        left_spaces = (\" \") * (n - i)\n",
        "        row = left_spaces + chr(alpha)\n",
        "        alpha += 1\n",
        "        print(row)\n",
        "    else:\n",
        "        left_spaces = (\" \") * (n - i)\n",
        "        row = left_spaces + chr(alpha)\n",
        "        hollow_spaces = (\" \") * (2*i - 3)\n",
        "        row += hollow_spaces\n",
        "        alpha += 1\n",
        "        row += chr(alpha)\n",
        "        print(row)\n",
        "        alpha += 1\n",
        "\n",
        "alpha -= 4\n",
        "\n",
        "for i in range(1 , n):\n",
        "    if (i==n - 1):\n",
        "        alpha += 1\n",
        "        left_spaces = (\" \") * (i)\n",
        "        row = left_spaces + chr(alpha)\n",
        "        print(row)\n",
        "    else:\n",
        "        left_spaces = (\" \") * i\n",
        "        row = left_spaces + chr(alpha)\n",
        "        hollow_spaces = (\" \") * (2*(n - i) - 3)\n",
        "        row += hollow_spaces\n",
        "        alpha += 1\n",
        "        row += chr(alpha)\n",
        "        print(row)\n",
        "        alpha -= 3\n",
        "\n",
        "\n",
        ""
      ]
    },
    {
      "cell_type": "markdown",
      "source": [
        "# Temperatures Conversions"
      ],
      "metadata": {
        "id": "OM5JH00WcdUi"
      }
    },
    {
      "cell_type": "code",
      "source": [
        "t = input()\n",
        "\n",
        "if t.endswith(\"C\"):\n",
        "    length = len(t)\n",
        "    t = t[:length - 1]\n",
        "\n",
        "    c = float(t)\n",
        "    print(str(c) + \"C\")\n",
        "\n",
        "    f = ((9/5) * c) + 32\n",
        "    print(str(f) + \"F\")\n",
        "\n",
        "    k = c + 273\n",
        "    print(str(k) + \"K\")\n",
        "elif t.endswith(\"F\"):\n",
        "    length = len(t)\n",
        "    t = t[:length - 1]\n",
        "    f = float(t)\n",
        "\n",
        "    c = (f - 32) * (5 / 9)\n",
        "    c = round(c , 2)\n",
        "    print(str(c) + \"C\")\n",
        "\n",
        "    print(str(f) + \"F\")\n",
        "\n",
        "    k = c + 273\n",
        "    k = round(k , 2)\n",
        "    print(str(k) + \"K\")\n",
        "elif t.endswith(\"K\"):\n",
        "    length = len(t)\n",
        "    t = t[:length - 1]\n",
        "    k = float(t)\n",
        "\n",
        "    c = k - 273\n",
        "    c = round(c , 2)\n",
        "    print(str(c) + \"C\")\n",
        "\n",
        "    f = ((9/5) * c) + 32\n",
        "    f = round(f , 2)\n",
        "    print(str(f) + \"F\")\n",
        "\n",
        "    print(str(k) + \"K\")\n",
        "\n",
        "\n",
        "\n",
        ""
      ],
      "metadata": {
        "colab": {
          "base_uri": "https://localhost:8080/"
        },
        "id": "TW0zJ8H0cko1",
        "outputId": "8362f075-8a06-4ebb-828a-a9f89a6fd94f"
      },
      "execution_count": 2,
      "outputs": [
        {
          "output_type": "stream",
          "name": "stdout",
          "text": [
            "25C\n",
            "25.0C\n",
            "77.0F\n",
            "298.0K\n"
          ]
        }
      ]
    },
    {
      "cell_type": "markdown",
      "source": [
        "# Sum of N terms in Hormonic series"
      ],
      "metadata": {
        "id": "aQHZUUEvcsUR"
      }
    },
    {
      "cell_type": "code",
      "source": [
        "n = int(input())\n",
        "sum = 0\n",
        "for i in range(1 , n + 1):\n",
        "    sum += 1 / i\n",
        "\n",
        "print(round(sum,2))\n",
        ""
      ],
      "metadata": {
        "colab": {
          "base_uri": "https://localhost:8080/"
        },
        "id": "F1Jd-0okc4rF",
        "outputId": "b3067ab3-81ba-4420-c11c-a95cff2e8035"
      },
      "execution_count": 3,
      "outputs": [
        {
          "output_type": "stream",
          "name": "stdout",
          "text": [
            "5\n",
            "2.28\n"
          ]
        }
      ]
    },
    {
      "cell_type": "markdown",
      "source": [
        "# Roots of Quadratic Equation"
      ],
      "metadata": {
        "id": "ws-Zo04Hc9yD"
      }
    },
    {
      "cell_type": "code",
      "source": [
        "a = int(input())\n",
        "b = int(input())\n",
        "c = int(input())\n",
        "\n",
        "r1 = ((-b) + ((b ** 2 - 4 * a * c) ** 0.5) ) / (2 * a)\n",
        "r2 = ((- b) - ((b ** 2 - 4 * a * c) ** 0.5) ) / (2 * a)\n",
        "\n",
        "print(round(r1,2))\n",
        "print(round(r2,2))"
      ],
      "metadata": {
        "colab": {
          "base_uri": "https://localhost:8080/"
        },
        "id": "6Ak8oDjpdGPp",
        "outputId": "51ca1431-8f37-497c-890e-31114b761bb9"
      },
      "execution_count": 4,
      "outputs": [
        {
          "output_type": "stream",
          "name": "stdout",
          "text": [
            "1\n",
            "-5\n",
            "6\n",
            "3.0\n",
            "2.0\n"
          ]
        }
      ]
    }
  ]
}