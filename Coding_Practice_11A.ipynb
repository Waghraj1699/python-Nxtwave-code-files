{
  "nbformat": 4,
  "nbformat_minor": 0,
  "metadata": {
    "colab": {
      "provenance": []
    },
    "kernelspec": {
      "name": "python3",
      "display_name": "Python 3"
    },
    "language_info": {
      "name": "python"
    }
  },
  "cells": [
    {
      "cell_type": "code",
      "execution_count": 8,
      "metadata": {
        "colab": {
          "base_uri": "https://localhost:8080/"
        },
        "id": "NRbVAhURXPFM",
        "outputId": "f6786568-3003-484d-d053-fa866d0c1db4"
      },
      "outputs": [
        {
          "output_type": "stream",
          "name": "stdout",
          "text": [
            "--c--a--t--\n",
            "cat\n"
          ]
        }
      ],
      "source": [
        "# Print Word\n",
        "\n",
        "word = input()\n",
        "\n",
        "word = word[2::3]\n",
        "print(word)"
      ]
    },
    {
      "cell_type": "code",
      "source": [
        "# Pin number\n",
        "\n",
        "number = input()\n",
        "\n",
        "is_digit = number.isdigit()\n",
        "print(is_digit)"
      ],
      "metadata": {
        "colab": {
          "base_uri": "https://localhost:8080/"
        },
        "id": "Hih4rETZXeDY",
        "outputId": "a0a043b6-3de2-49ac-c863-d141b7b094b2"
      },
      "execution_count": 7,
      "outputs": [
        {
          "output_type": "stream",
          "name": "stdout",
          "text": [
            "12345\n",
            "True\n"
          ]
        }
      ]
    },
    {
      "cell_type": "code",
      "source": [
        "# Strip cases\n",
        "\n",
        "word = input()\n",
        "word = word.strip(\" \")\n",
        "print(word)"
      ],
      "metadata": {
        "colab": {
          "base_uri": "https://localhost:8080/"
        },
        "id": "V_S74bePXf4k",
        "outputId": "b12c240e-611d-4107-c15b-c3f3a642d205"
      },
      "execution_count": 6,
      "outputs": [
        {
          "output_type": "stream",
          "name": "stdout",
          "text": [
            "        practices\n",
            "practices\n"
          ]
        }
      ]
    },
    {
      "cell_type": "code",
      "source": [
        "# Lowe case\n",
        "\n",
        "string = input()\n",
        "string = string.lower()\n",
        "print(string)"
      ],
      "metadata": {
        "colab": {
          "base_uri": "https://localhost:8080/"
        },
        "id": "5H0DnyV5Xj4n",
        "outputId": "d6b7e9f7-79fd-4d0f-cf10-e4941a02160f"
      },
      "execution_count": 5,
      "outputs": [
        {
          "output_type": "stream",
          "name": "stdout",
          "text": [
            "NOVEMBER\n",
            "november\n"
          ]
        }
      ]
    },
    {
      "cell_type": "code",
      "source": [
        "# Upper case\n",
        "\n",
        "string = input()\n",
        "string1 = string.upper()\n",
        "\n",
        "if string == string1:\n",
        "    print(True)\n",
        "else:\n",
        "    print(False)\n"
      ],
      "metadata": {
        "colab": {
          "base_uri": "https://localhost:8080/"
        },
        "id": "RFLW5WMpXm8V",
        "outputId": "702fa198-72ed-4fce-eb26-0a589f8fb32a"
      },
      "execution_count": 4,
      "outputs": [
        {
          "output_type": "stream",
          "name": "stdout",
          "text": [
            "IEEE\n",
            "True\n"
          ]
        }
      ]
    },
    {
      "cell_type": "code",
      "source": [
        "# Date Format\n",
        "\n",
        "date = input()\n",
        "new_date = date.replace(\"-\",\"/\")\n",
        "print(new_date)"
      ],
      "metadata": {
        "colab": {
          "base_uri": "https://localhost:8080/"
        },
        "id": "zs6N43u2Xohc",
        "outputId": "6d8fef17-88e0-4ff3-84c6-48d8e0493da3"
      },
      "execution_count": 3,
      "outputs": [
        {
          "output_type": "stream",
          "name": "stdout",
          "text": [
            "07-11-2020\n",
            "07/11/2020\n"
          ]
        }
      ]
    },
    {
      "cell_type": "code",
      "source": [
        "# Lowercase and Upeercase\n",
        "\n",
        "s = input()\n",
        "\n",
        "lower_s = s.lower()\n",
        "upper_s = s.upper()\n",
        "\n",
        "print(lower_s)\n",
        "print(upper_s)"
      ],
      "metadata": {
        "colab": {
          "base_uri": "https://localhost:8080/"
        },
        "id": "cBRcIlwRXswI",
        "outputId": "d4fbf58a-abf0-4635-bc99-5cf851ff71f0"
      },
      "execution_count": 2,
      "outputs": [
        {
          "output_type": "stream",
          "name": "stdout",
          "text": [
            "Learning\n",
            "learning\n",
            "LEARNING\n"
          ]
        }
      ]
    },
    {
      "cell_type": "code",
      "source": [
        "#  Upper case Letters\n",
        "\n",
        "word = input()\n",
        "result = \"\"\n",
        "\n",
        "for i in word:\n",
        "    if i == i.upper():\n",
        "        result = result + i\n",
        "\n",
        "print(result)"
      ],
      "metadata": {
        "colab": {
          "base_uri": "https://localhost:8080/"
        },
        "id": "aqkPBM_lXvA1",
        "outputId": "9d27aa0a-15ae-49cd-d86a-1132eebc058f"
      },
      "execution_count": 1,
      "outputs": [
        {
          "output_type": "stream",
          "name": "stdout",
          "text": [
            "SofTwArE\n",
            "STAE\n"
          ]
        }
      ]
    }
  ]
}