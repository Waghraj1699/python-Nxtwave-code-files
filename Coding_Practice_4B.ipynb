{
  "nbformat": 4,
  "nbformat_minor": 0,
  "metadata": {
    "colab": {
      "provenance": []
    },
    "kernelspec": {
      "name": "python3",
      "display_name": "Python 3"
    },
    "language_info": {
      "name": "python"
    }
  },
  "cells": [
    {
      "cell_type": "code",
      "execution_count": 7,
      "metadata": {
        "colab": {
          "base_uri": "https://localhost:8080/"
        },
        "id": "aakMdjEsAgfV",
        "outputId": "c0bc23f1-34c5-4ce1-9d01-d3e7cd68467c"
      },
      "outputs": [
        {
          "output_type": "stream",
          "name": "stdout",
          "text": [
            "54\n",
            "142\n"
          ]
        }
      ],
      "source": [
        "# print the score\n",
        "\n",
        "d = int(input())\n",
        "\n",
        "if d <= 10:\n",
        "    print(d)\n",
        "else:\n",
        "    d = 10 + (d - 10) * 3\n",
        "    print(d)"
      ]
    },
    {
      "cell_type": "code",
      "source": [
        "# cube of number\n",
        "\n",
        "n = int(input())\n",
        "\n",
        "print(n**3)"
      ],
      "metadata": {
        "colab": {
          "base_uri": "https://localhost:8080/"
        },
        "id": "HMaAEPu6AwD5",
        "outputId": "7c1a92c6-3a71-450e-8070-f032f21f7e21"
      },
      "execution_count": 6,
      "outputs": [
        {
          "output_type": "stream",
          "name": "stdout",
          "text": [
            "3\n",
            "27\n"
          ]
        }
      ]
    },
    {
      "cell_type": "code",
      "source": [
        "# exponent of number\n",
        "\n",
        "n = int(input())\n",
        "e = int(input())\n",
        "\n",
        "print(n**e)"
      ],
      "metadata": {
        "colab": {
          "base_uri": "https://localhost:8080/"
        },
        "id": "fd9MO4UrA0gz",
        "outputId": "d32f82fd-1a2f-42fd-98fa-7e3eee3a9c47"
      },
      "execution_count": 8,
      "outputs": [
        {
          "output_type": "stream",
          "name": "stdout",
          "text": [
            "5\n",
            "6\n",
            "15625\n"
          ]
        }
      ]
    },
    {
      "cell_type": "code",
      "source": [
        "# square root of number\n",
        "\n",
        "a = int(input())\n",
        "b = int(input())\n",
        "\n",
        "x = ((a**2) + (b**2)) >= 60\n",
        "\n",
        "if x:\n",
        "    print(\"Greater than or Equal to 60\")\n",
        "else:\n",
        "    print(\"Less than 60\")"
      ],
      "metadata": {
        "colab": {
          "base_uri": "https://localhost:8080/"
        },
        "id": "8pRaxeucA2Zu",
        "outputId": "0123a166-fc48-449e-be4e-e09d2bcfbe60"
      },
      "execution_count": 5,
      "outputs": [
        {
          "output_type": "stream",
          "name": "stdout",
          "text": [
            "4\n",
            "5\n",
            "Less than 60\n"
          ]
        }
      ]
    },
    {
      "cell_type": "code",
      "source": [
        "# greatest among the exponents\n",
        "\n",
        "a = int(input())\n",
        "b = int(input())\n",
        "\n",
        "a_power_b = a**b\n",
        "b_power_a = b**a\n",
        "\n",
        "if a_power_b > b_power_a:\n",
        "    print(a_power_b)\n",
        "else:\n",
        "    print(b_power_a)"
      ],
      "metadata": {
        "colab": {
          "base_uri": "https://localhost:8080/"
        },
        "id": "rFxxBYs-A5sg",
        "outputId": "cac0c341-024f-4bdb-a4d2-01c6b912fb6e"
      },
      "execution_count": 4,
      "outputs": [
        {
          "output_type": "stream",
          "name": "stdout",
          "text": [
            "5\n",
            "6\n",
            "15625\n"
          ]
        }
      ]
    },
    {
      "cell_type": "code",
      "source": [
        "# Last digit of a square\n",
        "\n",
        "number = int(input())\n",
        "\n",
        "string_of_number = str(number)\n",
        "last_digit_of_number = int(string_of_number[len(string_of_number)-1])\n",
        "\n",
        "square_of_number = number**2\n",
        "string_of_square = str(square_of_number)\n",
        "last_digit_of_square = int(string_of_square[len(string_of_square)-1])\n",
        "\n",
        "if last_digit_of_number == last_digit_of_square:\n",
        "    print(\"Equal\")\n",
        "else:\n",
        "    print(\"Not Equal\")"
      ],
      "metadata": {
        "colab": {
          "base_uri": "https://localhost:8080/"
        },
        "id": "Wj2235V1A--m",
        "outputId": "9167a059-aa7c-45f8-8685-4148d662b547"
      },
      "execution_count": 3,
      "outputs": [
        {
          "output_type": "stream",
          "name": "stdout",
          "text": [
            "5\n",
            "Equal\n"
          ]
        }
      ]
    },
    {
      "cell_type": "code",
      "source": [
        "#  Armstrong number\n",
        "\n",
        "number = int(input())\n",
        "\n",
        "digit = str(number)\n",
        "\n",
        "a = int(digit[0])\n",
        "b = int(digit[1])\n",
        "c = int(digit[2])\n",
        "\n",
        "condition = ((a**3) + (b**3) + (c**3)) == number\n",
        "\n",
        "if condition:\n",
        "    print(\"True\")\n",
        "else:\n",
        "    print(\"False\")"
      ],
      "metadata": {
        "colab": {
          "base_uri": "https://localhost:8080/"
        },
        "id": "WtV9V-P8BDVV",
        "outputId": "f4034149-849b-4561-9916-00249a9c1763"
      },
      "execution_count": 2,
      "outputs": [
        {
          "output_type": "stream",
          "name": "stdout",
          "text": [
            "153\n",
            "True\n"
          ]
        }
      ]
    },
    {
      "cell_type": "code",
      "source": [
        "# divisible by number - 2\n",
        "\n",
        "n = int(input())\n",
        "\n",
        "triple = n * 3\n",
        "is_dividible_6 = (triple % 6 == 0)\n",
        "\n",
        "if is_dividible_6:\n",
        "    print(triple)\n",
        "else:\n",
        "    print(n)\n"
      ],
      "metadata": {
        "colab": {
          "base_uri": "https://localhost:8080/"
        },
        "id": "CKBEQ16yBIct",
        "outputId": "fccfa936-49db-4cc5-ec80-9b09beabb769"
      },
      "execution_count": 1,
      "outputs": [
        {
          "output_type": "stream",
          "name": "stdout",
          "text": [
            "8\n",
            "24\n"
          ]
        }
      ]
    }
  ]
}