{
  "nbformat": 4,
  "nbformat_minor": 0,
  "metadata": {
    "colab": {
      "provenance": []
    },
    "kernelspec": {
      "name": "python3",
      "display_name": "Python 3"
    },
    "language_info": {
      "name": "python"
    }
  },
  "cells": [
    {
      "cell_type": "markdown",
      "source": [
        "# Next Characters"
      ],
      "metadata": {
        "id": "Yj5u5h-gpo-n"
      }
    },
    {
      "cell_type": "code",
      "execution_count": 1,
      "metadata": {
        "colab": {
          "base_uri": "https://localhost:8080/"
        },
        "id": "u3i9m0tBpbKa",
        "outputId": "39575a98-afe2-4f5e-bc6a-04b7254175c1"
      },
      "outputs": [
        {
          "output_type": "stream",
          "name": "stdout",
          "text": [
            "coding\n",
            "d\n",
            "p\n",
            "e\n",
            "j\n",
            "o\n",
            "h\n"
          ]
        }
      ],
      "source": [
        "s = input()\n",
        "\n",
        "for i in s:\n",
        "    i = ord(i)\n",
        "    for j in range(i + 1,i + 2):\n",
        "        print(chr(j))"
      ]
    },
    {
      "cell_type": "markdown",
      "source": [
        "# Previous Characters"
      ],
      "metadata": {
        "id": "LTUgUzJsp4yv"
      }
    },
    {
      "cell_type": "code",
      "source": [
        "s = input()\n",
        "\n",
        "for i in s:\n",
        "    if i ==\" \":\n",
        "        continue\n",
        "    else:\n",
        "        i = ord(i)\n",
        "        for j in range(i - 1 , i):\n",
        "            print(chr(j))"
      ],
      "metadata": {
        "colab": {
          "base_uri": "https://localhost:8080/"
        },
        "id": "apONgYBaqUmx",
        "outputId": "eb3e2175-0222-425b-bb5e-8b9d2c9269e5"
      },
      "execution_count": 2,
      "outputs": [
        {
          "output_type": "stream",
          "name": "stdout",
          "text": [
            "big dog\n",
            "a\n",
            "h\n",
            "f\n",
            "c\n",
            "n\n",
            "f\n"
          ]
        }
      ]
    },
    {
      "cell_type": "markdown",
      "source": [
        "# First word in Dictionary order"
      ],
      "metadata": {
        "id": "2tSlxxcgqpl2"
      }
    },
    {
      "cell_type": "code",
      "source": [
        "s = input()\n",
        "first_word = s\n",
        "word = \"\"\n",
        "for i in range(len(s)):\n",
        "    char = s[i]\n",
        "    word += char\n",
        "    if (char == \" \") or (i == (len(s) - 1)) :\n",
        "        if word.lower() < first_word.lower():\n",
        "            first_word = word\n",
        "        word = \"\"\n",
        "print(first_word)"
      ],
      "metadata": {
        "colab": {
          "base_uri": "https://localhost:8080/"
        },
        "id": "5UNEAV4wq0b6",
        "outputId": "018725ec-6349-44a8-e880-ef59a24b376e"
      },
      "execution_count": 3,
      "outputs": [
        {
          "output_type": "stream",
          "name": "stdout",
          "text": [
            "He is bit slow\n",
            "bit \n"
          ]
        }
      ]
    },
    {
      "cell_type": "markdown",
      "source": [
        "# Print words in Dictionary order"
      ],
      "metadata": {
        "id": "1mwgc5JIrA7T"
      }
    },
    {
      "cell_type": "code",
      "source": [
        "s = input()\n",
        "word = \"\"\n",
        "first = \"z\"\n",
        "last = \"a\"\n",
        "\n",
        "for i in range(len(s)):\n",
        "    char = s[i]\n",
        "    if char != \" \":\n",
        "        word += char\n",
        "    if (char==\" \") or (i == (len(s) - 1)):\n",
        "        if word.lower() < first.lower():\n",
        "            first = word\n",
        "        if word.lower() > last.lower():\n",
        "            last = word\n",
        "        word = \"\"\n",
        "\n",
        "print(first + \" \" + last)"
      ],
      "metadata": {
        "colab": {
          "base_uri": "https://localhost:8080/"
        },
        "id": "LbHx_nPfrGWK",
        "outputId": "94db7a8d-6ed0-4c5c-cdaf-cdbffc1cec19"
      },
      "execution_count": 4,
      "outputs": [
        {
          "output_type": "stream",
          "name": "stdout",
          "text": [
            "to get the ball rolling\n",
            "ball to\n"
          ]
        }
      ]
    },
    {
      "cell_type": "markdown",
      "source": [
        "# Valid Variable Name"
      ],
      "metadata": {
        "id": "56SZ6e2xrS7x"
      }
    },
    {
      "cell_type": "code",
      "source": [
        "s = input()\n",
        "is_valid = True\n",
        "for i in s:\n",
        "    if (i.isupper() or i.islower() or i.isdigit()):\n",
        "        is_valid = True\n",
        "    else:\n",
        "        is_valid = False\n",
        "        break\n",
        "\n",
        "print(is_valid)"
      ],
      "metadata": {
        "colab": {
          "base_uri": "https://localhost:8080/"
        },
        "id": "bI5nKkhSrZk3",
        "outputId": "ac46c9c8-62f1-4d0c-e301-d1fe8db2ac7b"
      },
      "execution_count": 5,
      "outputs": [
        {
          "output_type": "stream",
          "name": "stdout",
          "text": [
            "eachNumber\n",
            "True\n"
          ]
        }
      ]
    },
    {
      "cell_type": "markdown",
      "source": [
        "# Valid Variable Name - 2"
      ],
      "metadata": {
        "id": "7DYm9XAdrgsM"
      }
    },
    {
      "cell_type": "code",
      "source": [
        "s = input()\n",
        "\n",
        "first_ch = ord(s[0])\n",
        "\n",
        "if ord(s[0]) == 95 or (65 <= ord(s[0]) <= 90) or (97 <= ord(s[0]) <= 122):\n",
        "    is_valid = True\n",
        "else:\n",
        "    is_valid = False\n",
        "\n",
        "print(is_valid)\n",
        "\n"
      ],
      "metadata": {
        "colab": {
          "base_uri": "https://localhost:8080/"
        },
        "id": "Sz9GgRlkroZz",
        "outputId": "6c069213-1242-49be-f973-6d3f86506926"
      },
      "execution_count": 6,
      "outputs": [
        {
          "output_type": "stream",
          "name": "stdout",
          "text": [
            "_number\n",
            "True\n"
          ]
        }
      ]
    }
  ]
}